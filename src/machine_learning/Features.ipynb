{
 "cells": [
  {
   "cell_type": "markdown",
   "metadata": {},
   "source": [
    "# Exploring features"
   ]
  },
  {
   "cell_type": "code",
   "execution_count": 113,
   "metadata": {},
   "outputs": [
    {
     "name": "stdout",
     "output_type": "stream",
     "text": [
      "        f0     f1     f2     f3     f4     f5     f6     f7\n",
      "0.0  11809  14693  11994  14545  13128  14557  14702  10173\n",
      "1.0   2894     10   2709    158   1575    146      1   4530\n"
     ]
    }
   ],
   "source": [
    "%matplotlib inline\n",
    "import pandas as pd\n",
    "import matplotlib.pyplot as plt\n",
    "gt = pd.read_csv('../dumps/2020.03.11-17.39.csv')\n",
    "labels = ['f0','f1','f2','f3','f4','f5','f6','f7']\n",
    "f = gt[labels]\n",
    "\n",
    "arr = f.apply(pd.Series.value_counts)\n",
    "print(arr)"
   ]
  },
  {
   "cell_type": "code",
   "execution_count": 114,
   "metadata": {},
   "outputs": [
    {
     "data": {
      "image/png": "[encoded data removed]",
      "text/plain": [
       "<Figure size 432x288 with 1 Axes>"
      ]
     },
     "metadata": {
      "needs_background": "light"
     },
     "output_type": "display_data"
    }
   ],
   "source": [
    "x_false = arr.iloc[0].tolist()\n",
    "x_true = arr.iloc[1].tolist()\n",
    "total = x_false[0] + x_true[0]\n",
    "x_false = list(map(lambda x: x/total, x_false))\n",
    "x_true = list(map(lambda x: x/total, x_true))\n",
    "plt.bar(labels, x_true, color=\"#bada55\", label=\"False\")\n",
    "plt.bar(labels, x_false, bottom=x_true, color=\"#f6546a\", label=\"True\")\n",
    "plt.xlabel(\"Features\")\n",
    "plt.ylabel(\"Percentage\")\n",
    "plt.legend()\n",
    "plt.show()"
   ]
  },
  {
   "cell_type": "code",
   "execution_count": null,
   "metadata": {},
   "outputs": [],
   "source": []
  }
 ],
 "metadata": {
  "kernelspec": {
   "display_name": "Python 3",
   "language": "python",
   "name": "python3"
  },
  "language_info": {
   "codemirror_mode": {
    "name": "ipython",
    "version": 3
   },
   "file_extension": ".py",
   "mimetype": "text/x-python",
   "name": "python",
   "nbconvert_exporter": "python",
   "pygments_lexer": "ipython3",
   "version": "3.6.9"
  }
 },
 "nbformat": 4,
 "nbformat_minor": 4
}
