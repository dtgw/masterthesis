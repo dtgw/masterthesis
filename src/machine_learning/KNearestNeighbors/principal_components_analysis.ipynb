{
 "cells": [
  {
   "cell_type": "markdown",
   "metadata": {},
   "source": [
    "# Principal Component Analysis (PCA)\n"
   ]
  },
  {
   "cell_type": "code",
   "execution_count": 2,
   "metadata": {},
   "outputs": [],
   "source": [
    "%load_ext autoreload\n",
    "%autoreload\n",
    "\n",
    "# Imports\n",
    "import time\n",
    "import pandas as pd\n",
    "import numpy as np\n",
    "import matplotlib.pyplot as plt\n",
    "from tabulate import tabulate\n",
    "from sklearn.model_selection import train_test_split\n",
    "from sklearn.neighbors import KNeighborsClassifier\n",
    "from sklearn.preprocessing import StandardScaler, Normalizer\n",
    "from sklearn.decomposition import PCA\n",
    "\n",
    "import sys\n",
    "sys.path.append(\"../utils\")\n",
    "from utils import PCA_reduction, PCA_components, PCA_snapshot"
   ]
  },
  {
   "cell_type": "markdown",
   "metadata": {},
   "source": [
    "Let's prepare the data for PCA. PCA is effected by scale so we need to scale the features in the data before applying PCA. We can transform the data onto unit scale (mean = 0 and variance = 1) which is a requirement for the optimal performance of many machine learning algorithms. StandardScaler helps standardize the dataset’s features.\n",
    "Notice the code below has .95 for the number of components parameter. It means that scikit-learn choose the minimum number of principal components such that 95% of the variance is retained."
   ]
  },
  {
   "cell_type": "code",
   "execution_count": 3,
   "metadata": {},
   "outputs": [
    {
     "name": "stdout",
     "output_type": "stream",
     "text": [
      "Variance      Training acc    Test acc  Components      Time (s)\n",
      "----------  --------------  ----------  ------------  ----------\n",
      "no pca            0.980355    0.979738  all            0.0816874\n",
      "1                 0.99314     0.99283   119            0.0958887\n",
      "0.99              0.99314     0.993454  102            0.0810365\n",
      "0.95              0.993296    0.993454  82             0.0633606\n",
      "0.9               0.99314     0.993454  64             0.0591346\n",
      "0.85              0.99314     0.993454  52             0.0395839\n"
     ]
    }
   ],
   "source": [
    "PCA_reduction('../../dumps/various_sizes/16K.csv','neigh')"
   ]
  },
  {
   "cell_type": "markdown",
   "metadata": {},
   "source": [
    "It's interesting to notice that we can improve the accuracies while gathering our features from a set of 119 to 52 and  improve the timing. Here we're using quite a small dataset (16k), but it makes no doubt that the saved time is significant with even more samples."
   ]
  },
  {
   "cell_type": "code",
   "execution_count": 4,
   "metadata": {
    "scrolled": false
   },
   "outputs": [
    {
     "data": {
      "image/png": "[encoded data removed]",
      "text/plain": [
       "<Figure size 432x288 with 1 Axes>"
      ]
     },
     "metadata": {
      "needs_background": "light"
     },
     "output_type": "display_data"
    },
    {
     "name": "stdout",
     "output_type": "stream",
     "text": [
      "Top 5 combinations of features : \n",
      "\n",
      "# components      Test accuracy    Time (s)    Fixed cost (s)\n",
      "--------------  ---------------  ----------  ----------------\n",
      "no PCA                 0.979738   0.116638\n",
      "71                     0.994389   0.0780669          0.255371\n",
      "22                     0.994077   0.0237149          0.079543\n",
      "45                     0.994077   0.04452            0.172345\n",
      "51                     0.994077   0.0453082          0.172489\n",
      "81                     0.994077   0.083229           0.293805\n"
     ]
    },
    {
     "data": {
      "text/plain": [
       "71"
      ]
     },
     "execution_count": 4,
     "metadata": {},
     "output_type": "execute_result"
    }
   ],
   "source": [
    "PCA_components('../../dumps/various_sizes/16K.csv','neigh')"
   ]
  },
  {
   "cell_type": "code",
   "execution_count": 4,
   "metadata": {},
   "outputs": [
    {
     "data": {
      "image/png": "[encoded data removed]",
      "text/plain": [
       "<Figure size 432x288 with 1 Axes>"
      ]
     },
     "metadata": {
      "needs_background": "light"
     },
     "output_type": "display_data"
    },
    {
     "name": "stdout",
     "output_type": "stream",
     "text": [
      "Top 5 combinations of features : \n",
      "\n",
      "# components      Test accuracy    Time (s)    Fixed cost (s)\n",
      "--------------  ---------------  ----------  ----------------\n",
      "no PCA                 0.973226   0.315086\n",
      "27                     0.985645   0.0670233          0.210888\n",
      "28                     0.985645   0.0647931          0.218169\n",
      "37                     0.985645   0.0771091          0.252586\n",
      "24                     0.985484   0.0513533          0.190763\n",
      "26                     0.985484   0.0602244          0.202537\n",
      "Accuracy on training set: 0.976\n",
      "Accuracy on test set: 0.951\n"
     ]
    }
   ],
   "source": [
    "PCA_snapshot('../../dumps/time_analysis/threshold_3/3_20190615_31000.csv','neigh','../')"
   ]
  },
  {
   "cell_type": "code",
   "execution_count": null,
   "metadata": {},
   "outputs": [],
   "source": []
  }
 ],
 "metadata": {
  "kernelspec": {
   "display_name": "Python 3",
   "language": "python",
   "name": "python3"
  },
  "language_info": {
   "codemirror_mode": {
    "name": "ipython",
    "version": 3
   },
   "file_extension": ".py",
   "mimetype": "text/x-python",
   "name": "python",
   "nbconvert_exporter": "python",
   "pygments_lexer": "ipython3",
   "version": "3.7.7"
  }
 },
 "nbformat": 4,
 "nbformat_minor": 2
}
