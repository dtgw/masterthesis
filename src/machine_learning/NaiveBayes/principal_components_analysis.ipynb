{
 "cells": [
  {
   "cell_type": "markdown",
   "metadata": {},
   "source": [
    "# Principal Component Analysis (PCA)"
   ]
  },
  {
   "cell_type": "code",
   "execution_count": 1,
   "metadata": {},
   "outputs": [],
   "source": [
    "# Imports\n",
    "import sys\n",
    "sys.path.append(\"../utils\")\n",
    "from utils import PCA_reduction"
   ]
  },
  {
   "cell_type": "code",
   "execution_count": 2,
   "metadata": {},
   "outputs": [
    {
     "name": "stdout",
     "output_type": "stream",
     "text": [
      "  Variance    Training acc    Test acc    Components    Time (s)\n",
      "----------  --------------  ----------  ------------  ----------\n",
      "      1           0.620596    0.622818           119    0.179495\n",
      "      0.99        0.714141    0.712905           102    0.139322\n",
      "      0.95        0.920175    0.918329            82    0.134962\n",
      "      0.9         0.933583    0.927993            64    0.139635\n",
      "      0.85        0.929373    0.927057            52    0.130586\n"
     ]
    }
   ],
   "source": [
    "PCA_reduction('../../dumps/various_sizes/16K.csv','gaussian')"
   ]
  },
  {
   "cell_type": "markdown",
   "metadata": {},
   "source": [
    "Gathering features here crazily improves the accuracies from 62 to 93% in nearly the same time, even faster !"
   ]
  },
  {
   "cell_type": "code",
   "execution_count": 3,
   "metadata": {},
   "outputs": [
    {
     "name": "stdout",
     "output_type": "stream",
     "text": [
      "  Variance    Training acc    Test acc    Components    Time (s)\n",
      "----------  --------------  ----------  ------------  ----------\n",
      "      1           0.952838    0.950748           119    0.156326\n",
      "      0.99        0.944185    0.946696           102    0.167945\n",
      "      0.95        0.944029    0.944202            82    0.15117\n",
      "      0.9         0.950811    0.951372            64    0.143599\n",
      "      0.85        0.944808    0.945449            52    0.146118\n"
     ]
    }
   ],
   "source": [
    "PCA_reduction('../../dumps/various_sizes/16K.csv','bernoulli')"
   ]
  },
  {
   "cell_type": "markdown",
   "metadata": {},
   "source": [
    "Here feature clustering improves the time but slightly decreases the accuracies."
   ]
  },
  {
   "cell_type": "code",
   "execution_count": null,
   "metadata": {},
   "outputs": [],
   "source": []
  }
 ],
 "metadata": {
  "kernelspec": {
   "display_name": "Python 3",
   "language": "python",
   "name": "python3"
  },
  "language_info": {
   "codemirror_mode": {
    "name": "ipython",
    "version": 3
   },
   "file_extension": ".py",
   "mimetype": "text/x-python",
   "name": "python",
   "nbconvert_exporter": "python",
   "pygments_lexer": "ipython3",
   "version": "3.7.7"
  }
 },
 "nbformat": 4,
 "nbformat_minor": 2
}
