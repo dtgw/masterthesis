{
 "cells": [
  {
   "cell_type": "markdown",
   "metadata": {},
   "source": [
    "# Principal Component Analysis (PCA)"
   ]
  },
  {
   "cell_type": "code",
   "execution_count": 1,
   "metadata": {},
   "outputs": [],
   "source": [
    "# Imports\n",
    "import sys\n",
    "sys.path.append(\"../utils\")\n",
    "from utils import PCA_reduction"
   ]
  },
  {
   "cell_type": "code",
   "execution_count": 3,
   "metadata": {},
   "outputs": [
    {
     "name": "stdout",
     "output_type": "stream",
     "text": [
      "  Variance    Training acc    Test acc    Components    Time (s)\n",
      "----------  --------------  ----------  ------------  ----------\n",
      "      1           0.698011    0.702142           119    0.145496\n",
      "      0.99        0.823499    0.815369            98    0.130713\n",
      "      0.95        0.95596     0.953077            77    0.126944\n",
      "      0.9         0.958085    0.955117            60    0.143666\n",
      "      0.85        0.952729    0.948657            47    0.129692\n"
     ]
    }
   ],
   "source": [
    "PCA_reduction('../../dumps/2020.03.11-17.39.csv','gaussian')"
   ]
  },
  {
   "cell_type": "markdown",
   "metadata": {},
   "source": [
    "Gathering features here crazily improves the accuracies from 70 to 95% in nearly the same, even slightly faster !"
   ]
  },
  {
   "cell_type": "code",
   "execution_count": 5,
   "metadata": {},
   "outputs": [
    {
     "name": "stdout",
     "output_type": "stream",
     "text": [
      "  Variance    Training acc    Test acc    Components    Time (s)\n",
      "----------  --------------  ----------  ------------  ----------\n",
      "      1           0.920847    0.920095           119    0.163906\n",
      "      0.99        0.919912    0.915675            98    0.149607\n",
      "      0.95        0.922207    0.914655            77    0.140297\n",
      "      0.9         0.916851    0.910575            60    0.128274\n",
      "      0.85        0.918466    0.913635            47    0.144443\n"
     ]
    }
   ],
   "source": [
    "PCA_reduction('../../dumps/2020.03.11-17.39.csv','bernoulli')"
   ]
  },
  {
   "cell_type": "markdown",
   "metadata": {},
   "source": [
    "Here feature clustering improves the time but slightly decreases the accuracies."
   ]
  },
  {
   "cell_type": "code",
   "execution_count": null,
   "metadata": {},
   "outputs": [],
   "source": []
  }
 ],
 "metadata": {
  "kernelspec": {
   "display_name": "Python 3",
   "language": "python",
   "name": "python3"
  },
  "language_info": {
   "codemirror_mode": {
    "name": "ipython",
    "version": 3
   },
   "file_extension": ".py",
   "mimetype": "text/x-python",
   "name": "python",
   "nbconvert_exporter": "python",
   "pygments_lexer": "ipython3",
   "version": "3.7.7"
  }
 },
 "nbformat": 4,
 "nbformat_minor": 2
}
