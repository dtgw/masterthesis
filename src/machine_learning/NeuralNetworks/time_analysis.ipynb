{
 "cells": [
  {
   "cell_type": "markdown",
   "metadata": {},
   "source": [
    "# Time analysis"
   ]
  },
  {
   "cell_type": "code",
   "execution_count": 2,
   "metadata": {},
   "outputs": [],
   "source": [
    "# Imports\n",
    "import sys\n",
    "import pandas as pd\n",
    "from sklearn.preprocessing import Normalizer\n",
    "from sklearn.neural_network import MLPClassifier\n",
    "from joblib import dump, load\n",
    "\n",
    "sys.path.append(\"../utils\")\n",
    "from utils import feature_selection, time_comparison"
   ]
  },
  {
   "cell_type": "code",
   "execution_count": 2,
   "metadata": {},
   "outputs": [
    {
     "data": {
      "text/plain": [
       "['snapshots/mlp_3_20190615_6000.joblib']"
      ]
     },
     "execution_count": 2,
     "metadata": {},
     "output_type": "execute_result"
    }
   ],
   "source": [
    "gt = pd.read_csv(\"../../dumps/time_analysis/threshold_3/3_20190615_6000.csv\")\n",
    "cols = [col for col in gt.columns if col not in ['label']]\n",
    "data_train = gt[cols]\n",
    "target_train = gt['label']\n",
    "\n",
    "scaler = Normalizer()\n",
    "scaler.fit(data_train)\n",
    "data_train = scaler.transform(data_train)\n",
    "\n",
    "clf = MLPClassifier(solver='adam',hidden_layer_sizes=(100, 100, 100),max_iter=10000)\n",
    "clf.fit(data_train, target_train)\n",
    "dump(clf,\"snapshots/mlp_3_20190615_6000.joblib\")"
   ]
  },
  {
   "cell_type": "code",
   "execution_count": 3,
   "metadata": {},
   "outputs": [
    {
     "name": "stdout",
     "output_type": "stream",
     "text": [
      "Accuracy on training set: 0.978\n",
      "Accuracy on test set: 0.933\n"
     ]
    }
   ],
   "source": [
    "clf = load(\"snapshots/mlp_3_20190615_6000.joblib\")\n",
    "\n",
    "gt = pd.read_csv(\"../../dumps/time_analysis/threshold_3/3_20190808_1000.csv\")\n",
    "cols = [col for col in gt.columns if col not in ['label']]\n",
    "data_test = gt[cols]\n",
    "target_test = gt['label']\n",
    "\n",
    "data_test = scaler.transform(data_test)\n",
    "\n",
    "print(\"Accuracy on training set: {:.3f}\".format(clf.score(data_train, target_train))) \n",
    "print(\"Accuracy on test set: {:.3f}\".format(clf.score(data_test, target_test)))"
   ]
  },
  {
   "cell_type": "markdown",
   "metadata": {},
   "source": [
    "Conclusion : we can assess that performances are kept in a reasonable range over time."
   ]
  },
  {
   "cell_type": "markdown",
   "metadata": {},
   "source": [
    "#### Long run"
   ]
  },
  {
   "cell_type": "code",
   "execution_count": null,
   "metadata": {},
   "outputs": [
    {
     "name": "stdout",
     "output_type": "stream",
     "text": [
      "Acceptation threshold : 1/5 \n",
      "\n",
      "  # malwares in training set    Approx. period in weeks    Training acc    Test acc\n",
      "----------------------------  -------------------------  --------------  ----------\n",
      "                        6000                   0.857143        0.9995         0.964\n",
      "                       14000                   2               0.997786       0.766\n",
      "                       21000                   3               0.994429       0.98\n",
      "                       31000                   4.42857         0.97271        0.902\n",
      "Acceptation threshold : 2/5 \n",
      "\n",
      "  # malwares in training set    Approx. period in weeks    Training acc    Test acc\n",
      "----------------------------  -------------------------  --------------  ----------\n",
      "                        6000                   0.857143        0.998167       0.986\n",
      "                       14000                   2               0.998286       0.986\n",
      "                       21000                   3               0.992857       0.988\n",
      "                       31000                   4.42857         0.968452       0.983\n",
      "Acceptation threshold : 3/5 \n",
      "\n",
      "  # malwares in training set    Approx. period in weeks    Training acc    Test acc\n",
      "----------------------------  -------------------------  --------------  ----------\n",
      "                        6000                   0.857143        0.999          0.98\n",
      "                       14000                   2               0.998857       0.983\n",
      "                       21000                   3               0.998429       0.983\n",
      "                       31000                   4.42857         0.994          0.988\n",
      "Acceptation threshold : 4/5 \n",
      "\n"
     ]
    }
   ],
   "source": [
    "time_comparison('mlp1','../')"
   ]
  },
  {
   "cell_type": "code",
   "execution_count": 5,
   "metadata": {},
   "outputs": [
    {
     "name": "stdout",
     "output_type": "stream",
     "text": [
      "Acceptation threshold : 1/5 \n",
      "\n",
      "  # malwares in training set    Approx. period in weeks    Training acc    Test acc\n",
      "----------------------------  -------------------------  --------------  ----------\n",
      "                        6000                   0.857143        0.821833       0.721\n",
      "                       14000                   2               0.801071       0.721\n",
      "                       21000                   3               0.793952       0.791\n",
      "                       31000                   4.42857         0.756129       0.804\n",
      "Acceptation threshold : 2/5 \n",
      "\n",
      "  # malwares in training set    Approx. period in weeks    Training acc    Test acc\n",
      "----------------------------  -------------------------  --------------  ----------\n",
      "                        6000                   0.857143        0.878833       0.858\n",
      "                       14000                   2               0.862          0.856\n",
      "                       21000                   3               0.842667       0.869\n",
      "                       31000                   4.42857         0.795          0.872\n",
      "Acceptation threshold : 3/5 \n",
      "\n",
      "  # malwares in training set    Approx. period in weeks    Training acc    Test acc\n",
      "----------------------------  -------------------------  --------------  ----------\n",
      "                        6000                   0.857143        0.916833       0.897\n",
      "                       14000                   2               0.907929       0.896\n",
      "                       21000                   3               0.897286       0.897\n",
      "                       31000                   4.42857         0.884645       0.888\n",
      "Acceptation threshold : 4/5 \n",
      "\n",
      "  # malwares in training set    Approx. period in weeks    Training acc    Test acc\n",
      "----------------------------  -------------------------  --------------  ----------\n",
      "                        6000                   0.857143        0.953167        0.94\n",
      "                       14000                   2               0.947786        0.94\n",
      "                       21000                   3               0.938381        0.94\n",
      "                       31000                   4.42857         0.938839        0.94\n",
      "Acceptation threshold : 5/5 \n",
      "\n",
      "  # malwares in training set    Approx. period in weeks    Training acc    Test acc\n",
      "----------------------------  -------------------------  --------------  ----------\n",
      "                        6000                   0.857143        0.953167        0.94\n",
      "                       14000                   2               0.947786        0.94\n",
      "                       21000                   3               0.938238        0.94\n",
      "                       31000                   4.42857         0.938742        0.94\n"
     ]
    }
   ],
   "source": [
    "time_comparison('mlp2','../')"
   ]
  },
  {
   "cell_type": "markdown",
   "metadata": {},
   "source": [
    "Same conclusion as linear models, by increasing the training set, the performances on the test set do not necessarily improve, it's quite constant."
   ]
  },
  {
   "cell_type": "code",
   "execution_count": null,
   "metadata": {},
   "outputs": [],
   "source": []
  }
 ],
 "metadata": {
  "kernelspec": {
   "display_name": "Python 3",
   "language": "python",
   "name": "python3"
  },
  "language_info": {
   "codemirror_mode": {
    "name": "ipython",
    "version": 3
   },
   "file_extension": ".py",
   "mimetype": "text/x-python",
   "name": "python",
   "nbconvert_exporter": "python",
   "pygments_lexer": "ipython3",
   "version": "3.7.7"
  }
 },
 "nbformat": 4,
 "nbformat_minor": 2
}
