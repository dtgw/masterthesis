{
 "cells": [
  {
   "cell_type": "markdown",
   "metadata": {},
   "source": [
    "# Principal Component Analysis (PCA)"
   ]
  },
  {
   "cell_type": "code",
   "execution_count": 1,
   "metadata": {},
   "outputs": [],
   "source": [
    "# Imports\n",
    "import sys\n",
    "sys.path.append(\"../utils\")\n",
    "from utils import PCA_reduction"
   ]
  },
  {
   "cell_type": "code",
   "execution_count": 2,
   "metadata": {},
   "outputs": [
    {
     "name": "stdout",
     "output_type": "stream",
     "text": [
      "  Variance    Training acc    Test acc    Components    Time (s)\n",
      "----------  --------------  ----------  ------------  ----------\n",
      "      1           0.858357    0.857531           119     8.05849\n",
      "      0.99        0.858357    0.857531            98     9.52322\n",
      "      0.95        0.858357    0.857531            77     8.49671\n",
      "      0.9         0.858357    0.857531            60     9.85203\n",
      "      0.85        0.858357    0.857531            47     8.95506\n"
     ]
    }
   ],
   "source": [
    "PCA_reduction('../../dumps/2020.03.11-17.39.csv','mlp1')"
   ]
  },
  {
   "cell_type": "markdown",
   "metadata": {},
   "source": [
    "This test was conducted with the following caracteristics:\n",
    "- MLPClassifier(solver='adam',activation='tanh',alpha=100,hidden_layer_sizes=(50, 50, 100))\n",
    "\n",
    "which were obtained by selecting the best results from the previous tests before normalization. As we can see, overall accuracies are not really satisfying. We can also observe what we can observe for nearly every PCA, pretty same accuracies with less components in half the time."
   ]
  },
  {
   "cell_type": "code",
   "execution_count": 3,
   "metadata": {},
   "outputs": [
    {
     "name": "stdout",
     "output_type": "stream",
     "text": [
      "  Variance    Training acc    Test acc    Components    Time (s)\n",
      "----------  --------------  ----------  ------------  ----------\n",
      "      1           0.991838    0.979599           119     46.2139\n",
      "      0.99        0.991073    0.978579            98     36.2804\n",
      "      0.95        0.991753    0.978579            77     33.8016\n",
      "      0.9         0.991753    0.979939            60     46.4998\n",
      "      0.85        0.991583    0.979599            47     42.7568\n"
     ]
    }
   ],
   "source": [
    "PCA_reduction('../../dumps/2020.03.11-17.39.csv','mlp2')"
   ]
  },
  {
   "cell_type": "markdown",
   "metadata": {},
   "source": [
    "The parameters here were chosen after normalization leading to this configuration : \n",
    "- MLPClassifier(solver='sgd',activation='tanh',alpha=0.1,hidden_layer_sizes=(100,50,50),max_iter=1000)\n",
    "\n",
    "which offer really good performance and the training set for less components and half computation time."
   ]
  },
  {
   "cell_type": "code",
   "execution_count": null,
   "metadata": {},
   "outputs": [],
   "source": []
  }
 ],
 "metadata": {
  "kernelspec": {
   "display_name": "Python 3",
   "language": "python",
   "name": "python3"
  },
  "language_info": {
   "codemirror_mode": {
    "name": "ipython",
    "version": 3
   },
   "file_extension": ".py",
   "mimetype": "text/x-python",
   "name": "python",
   "nbconvert_exporter": "python",
   "pygments_lexer": "ipython3",
   "version": "3.7.7"
  }
 },
 "nbformat": 4,
 "nbformat_minor": 2
}
