{
 "cells": [
  {
   "cell_type": "markdown",
   "metadata": {},
   "source": [
    "# Parameters tuning"
   ]
  },
  {
   "cell_type": "code",
   "execution_count": 1,
   "metadata": {},
   "outputs": [],
   "source": [
    "%load_ext autoreload\n",
    "%autoreload\n",
    "\n",
    "# Imports\n",
    "import pandas as pd\n",
    "import matplotlib.pyplot as plt\n",
    "from sklearn.preprocessing import Normalizer, StandardScaler\n",
    "from sklearn.neural_network import MLPClassifier\n",
    "from sklearn.model_selection import train_test_split\n",
    "\n",
    "\n",
    "import sys\n",
    "sys.path.append('../utils')\n",
    "from utils import perf, thomas_parser, layers_generator"
   ]
  },
  {
   "cell_type": "code",
   "execution_count": 3,
   "metadata": {},
   "outputs": [],
   "source": [
    "gt = pd.read_csv('../../dumps/various_sizes/8K.csv')\n",
    "cols = [col for col in gt.columns if col not in ['label']]\n",
    "data = gt[cols]\n",
    "target = gt['label']\n",
    "\n",
    "data_train, data_test, target_train, target_test = train_test_split(data,target, test_size = 0.20, random_state = 0)\n",
    "scaler = StandardScaler()\n",
    "scaler.fit(data_train)\n",
    "data_train = scaler.transform(data_train)\n",
    "data_test = scaler.transform(data_test)"
   ]
  },
  {
   "cell_type": "markdown",
   "metadata": {},
   "source": [
    "#### Solver"
   ]
  },
  {
   "cell_type": "markdown",
   "metadata": {},
   "source": [
    "The solver for weight optimization.\n",
    "- ‘lbfgs’ is an optimizer in the family of quasi-Newton methods.\n",
    "- ‘sgd’ refers to stochastic gradient descent.\n",
    "- ‘adam’ refers to a stochastic gradient-based optimizer proposed by Kingma, Diederik, and Jimmy Ba\n",
    "\n",
    "Note: The default solver ‘adam’ works pretty well on relatively large datasets (with thousands of training samples or more) in terms of both training time and validation score. For small datasets, however, ‘lbfgs’ can converge faster and perform better."
   ]
  },
  {
   "cell_type": "code",
   "execution_count": 16,
   "metadata": {},
   "outputs": [
    {
     "name": "stdout",
     "output_type": "stream",
     "text": [
      "Solver : lbfgs\n",
      "Accuracy on training set: 0.999\n",
      "Accuracy on test set: 0.991\n",
      "Solver : sgd\n",
      "Accuracy on training set: 0.996\n",
      "Accuracy on test set: 0.994\n",
      "Solver : adam\n",
      "Accuracy on training set: 0.999\n",
      "Accuracy on test set: 0.995\n"
     ]
    }
   ],
   "source": [
    "solver = ['lbfgs','sgd', 'adam']\n",
    "for i in solver:\n",
    "    print(\"Solver : %s\" % i)\n",
    "    mlp = MLPClassifier(solver=i, random_state=0) \n",
    "    mlp.fit(data_train, target_train)\n",
    "    print(\"Accuracy on training set: {:.3f}\".format(mlp.score(data_train, target_train))) \n",
    "    print(\"Accuracy on test set: {:.3f}\".format(mlp.score(data_test, target_test)))"
   ]
  },
  {
   "cell_type": "markdown",
   "metadata": {},
   "source": [
    "As we could expect, the 'adam' algorithm performs quite well on our dataset. Still, the performance on the test set might be improved by tuning other parameters."
   ]
  },
  {
   "cell_type": "markdown",
   "metadata": {},
   "source": [
    "#### Activation"
   ]
  },
  {
   "cell_type": "markdown",
   "metadata": {},
   "source": [
    "Activation function for the hidden layer.\n",
    "- ‘identity’, no-op activation, useful to implement linear bottleneck, returns f(x) = x\n",
    "- ‘logistic’, the logistic sigmoid function, returns f(x) = 1 / (1 + exp(-x)).\n",
    "- ‘tanh’, the hyperbolic tan function, returns f(x) = tanh(x).\n",
    "- ‘relu’, the rectified linear unit function, returns f(x) = max(0, x)"
   ]
  },
  {
   "cell_type": "code",
   "execution_count": 17,
   "metadata": {},
   "outputs": [
    {
     "name": "stdout",
     "output_type": "stream",
     "text": [
      "function : identity\n",
      "Accuracy on training set: 0.996\n",
      "Accuracy on test set: 0.992\n",
      "function : logistic\n",
      "Accuracy on training set: 0.999\n",
      "Accuracy on test set: 0.993\n",
      "function : tanh\n",
      "Accuracy on training set: 0.999\n",
      "Accuracy on test set: 0.993\n",
      "function : relu\n",
      "Accuracy on training set: 0.999\n",
      "Accuracy on test set: 0.995\n"
     ]
    }
   ],
   "source": [
    "act = ['identity','logistic', 'tanh', 'relu']\n",
    "for i in act:\n",
    "    print(\"function : %s\" % i)\n",
    "    mlp = MLPClassifier(activation=i, random_state=0) \n",
    "    mlp.fit(data_train, target_train)\n",
    "    print(\"Accuracy on training set: {:.3f}\".format(mlp.score(data_train, target_train))) \n",
    "    print(\"Accuracy on test set: {:.3f}\".format(mlp.score(data_test, target_test)))"
   ]
  },
  {
   "cell_type": "markdown",
   "metadata": {},
   "source": [
    "The 'relu' activation performed better on our training and test set, which is the default activation function."
   ]
  },
  {
   "cell_type": "markdown",
   "metadata": {},
   "source": [
    "#### Learning rate"
   ]
  },
  {
   "cell_type": "markdown",
   "metadata": {},
   "source": [
    "Learning rate schedule for weight updates (only for 'sgd' solver).\n",
    "- ‘constant’ is a constant learning rate given by ‘learning_rate_init’.\n",
    "- ‘invscaling’ gradually decreases the learning rate at each time step ‘t’ using an inverse scaling exponent of ‘power_t’. effective_learning_rate = learning_rate_init / pow(t, power_t)\n",
    "- ‘adaptive’ keeps the learning rate constant to ‘learning_rate_init’ as long as training loss keeps decreasing. Each time two consecutive epochs fail to decrease training loss by at least tol, or fail to increase validation score by at least tol if ‘early_stopping’ is on, the current learning rate is divided by 5."
   ]
  },
  {
   "cell_type": "code",
   "execution_count": 18,
   "metadata": {},
   "outputs": [
    {
     "name": "stdout",
     "output_type": "stream",
     "text": [
      "function : constant\n",
      "Accuracy on training set: 0.996\n",
      "Accuracy on test set: 0.994\n",
      "function : invscaling\n",
      "Accuracy on training set: 0.901\n",
      "Accuracy on test set: 0.899\n",
      "function : adaptive\n",
      "Accuracy on training set: 0.996\n",
      "Accuracy on test set: 0.994\n"
     ]
    },
    {
     "name": "stderr",
     "output_type": "stream",
     "text": [
      "/usr/local/lib/python3.7/site-packages/sklearn/neural_network/_multilayer_perceptron.py:571: ConvergenceWarning: Stochastic Optimizer: Maximum iterations (200) reached and the optimization hasn't converged yet.\n",
      "  % self.max_iter, ConvergenceWarning)\n"
     ]
    }
   ],
   "source": [
    "learning_rate = ['constant','invscaling', 'adaptive']\n",
    "for i in learning_rate:\n",
    "    print(\"function : %s\" % i)\n",
    "    mlp = MLPClassifier(solver='sgd', learning_rate=i, random_state=0) \n",
    "    mlp.fit(data_train, target_train)\n",
    "    print(\"Accuracy on training set: {:.3f}\".format(mlp.score(data_train, target_train))) \n",
    "    print(\"Accuracy on test set: {:.3f}\".format(mlp.score(data_test, target_test)))"
   ]
  },
  {
   "cell_type": "markdown",
   "metadata": {},
   "source": [
    "For the 'sgd' solver, the learning rate doesn't really matter."
   ]
  },
  {
   "cell_type": "markdown",
   "metadata": {},
   "source": [
    "#### Alpha"
   ]
  },
  {
   "cell_type": "markdown",
   "metadata": {},
   "source": [
    "L2 penalty (regularization term) parameter (default is 0.0001)."
   ]
  },
  {
   "cell_type": "code",
   "execution_count": 4,
   "metadata": {},
   "outputs": [
    {
     "name": "stdout",
     "output_type": "stream",
     "text": [
      "alpha : 0.0001\n",
      "Accuracy on training set: 0.999\n",
      "Accuracy on test set: 0.995\n",
      "alpha : 0.001\n",
      "Accuracy on training set: 0.999\n",
      "Accuracy on test set: 0.995\n",
      "alpha : 0.1\n",
      "Accuracy on training set: 0.999\n",
      "Accuracy on test set: 0.997\n",
      "alpha : 1\n",
      "Accuracy on training set: 0.994\n",
      "Accuracy on test set: 0.993\n",
      "alpha : 10\n",
      "Accuracy on training set: 0.986\n",
      "Accuracy on test set: 0.986\n",
      "alpha : 100\n",
      "Accuracy on training set: 0.899\n",
      "Accuracy on test set: 0.902\n",
      "alpha : 1000\n",
      "Accuracy on training set: 0.899\n",
      "Accuracy on test set: 0.902\n"
     ]
    }
   ],
   "source": [
    "alpha = [0.0001,0.001,0.1,1,10,100,1000]\n",
    "for i in alpha:\n",
    "    print(\"alpha : %s\" % i)\n",
    "    mlp = MLPClassifier(alpha=i, random_state=0) \n",
    "    mlp.fit(data_train, target_train)\n",
    "    print(\"Accuracy on training set: {:.3f}\".format(mlp.score(data_train, target_train))) \n",
    "    print(\"Accuracy on test set: {:.3f}\".format(mlp.score(data_test, target_test)))"
   ]
  },
  {
   "cell_type": "markdown",
   "metadata": {},
   "source": [
    "The default value seems to provide the best result."
   ]
  },
  {
   "cell_type": "markdown",
   "metadata": {},
   "source": [
    "#### Hidden layers"
   ]
  },
  {
   "cell_type": "markdown",
   "metadata": {},
   "source": [
    "This parameter allows us to set the number of layers and the number of nodes we wish to have in the Neural Network Classifier. Each element in the tuple represents the number of nodes at the ith position where i is the index of the tuple."
   ]
  },
  {
   "cell_type": "code",
   "execution_count": 20,
   "metadata": {},
   "outputs": [
    {
     "name": "stdout",
     "output_type": "stream",
     "text": [
      "layer size : (50, 50, 50)\n",
      "Accuracy on training set: 0.999\n",
      "Accuracy on test set: 0.996\n",
      "layer size : (100, 100, 100)\n",
      "Accuracy on training set: 0.999\n",
      "Accuracy on test set: 0.994\n",
      "layer size : (50, 100, 50)\n",
      "Accuracy on training set: 0.999\n",
      "Accuracy on test set: 0.993\n",
      "layer size : (100, 50, 50)\n",
      "Accuracy on training set: 0.999\n",
      "Accuracy on test set: 0.995\n",
      "layer size : (50, 50, 100)\n",
      "Accuracy on training set: 0.999\n",
      "Accuracy on test set: 0.994\n",
      "layer size : (100,)\n",
      "Accuracy on training set: 0.999\n",
      "Accuracy on test set: 0.995\n"
     ]
    }
   ],
   "source": [
    "hidden_layers_size = [(50,50,50), (100,100,100), (50,100,50), (100,50,50), (50,50,100), (100,)]\n",
    "for i in hidden_layers_size:\n",
    "    print(\"layer size : %s\" % (i,))\n",
    "    mlp = MLPClassifier(hidden_layer_sizes=i, random_state=0, max_iter=10000) \n",
    "    mlp.fit(data_train, target_train)\n",
    "    print(\"Accuracy on training set: {:.3f}\".format(mlp.score(data_train, target_train))) \n",
    "    print(\"Accuracy on test set: {:.3f}\".format(mlp.score(data_test, target_test)))"
   ]
  },
  {
   "cell_type": "code",
   "execution_count": 4,
   "metadata": {},
   "outputs": [
    {
     "name": "stdout",
     "output_type": "stream",
     "text": [
      "[(25, 50, 75, 100), (25, 50, 100, 75), (25, 75, 50, 100), (25, 75, 100, 50), (25, 100, 50, 75), (25, 100, 75, 50), (50, 25, 75, 100), (50, 25, 100, 75), (50, 75, 25, 100), (50, 75, 100, 25), (50, 100, 25, 75), (50, 100, 75, 25), (75, 25, 50, 100), (75, 25, 100, 50), (75, 50, 25, 100), (75, 50, 100, 25), (75, 100, 25, 50), (75, 100, 50, 25), (100, 25, 50, 75), (100, 25, 75, 50), (100, 50, 25, 75), (100, 50, 75, 25), (100, 75, 25, 50), (100, 75, 50, 25)]\n",
      "[(25, 50, 75), (25, 75, 50), (50, 25, 75), (50, 75, 25), (75, 25, 50), (75, 50, 25)]\n",
      "[(50, 75, 100), (50, 100, 75), (75, 50, 100), (75, 100, 50), (100, 50, 75), (100, 75, 50)]\n",
      "[(25, 75, 100), (25, 100, 75), (75, 25, 100), (75, 100, 25), (100, 25, 75), (100, 75, 25)]\n",
      "[(25, 50, 100), (25, 100, 50), (50, 25, 100), (50, 100, 25), (100, 25, 50), (100, 50, 25)]\n",
      "[(25, 50), (50, 25)]\n",
      "[(25, 75), (75, 25)]\n",
      "[(25, 100), (100, 25)]\n",
      "[(50, 75), (75, 50)]\n",
      "[(50, 100), (100, 50)]\n",
      "[(75, 100), (100, 75)]\n",
      "[25]\n",
      "[50]\n",
      "[75]\n",
      "[100]\n",
      "layer size : (25, 50, 75, 100)\n",
      "layer size : (25, 50, 100, 75)\n",
      "layer size : (25, 75, 50, 100)\n",
      "layer size : (25, 75, 100, 50)\n",
      "layer size : (25, 100, 50, 75)\n",
      "layer size : (25, 100, 75, 50)\n",
      "layer size : (50, 25, 75, 100)\n",
      "layer size : (50, 25, 100, 75)\n",
      "layer size : (50, 75, 25, 100)\n",
      "layer size : (50, 75, 100, 25)\n",
      "layer size : (50, 100, 25, 75)\n",
      "layer size : (50, 100, 75, 25)\n",
      "layer size : (75, 25, 50, 100)\n",
      "layer size : (75, 25, 100, 50)\n",
      "layer size : (75, 50, 25, 100)\n",
      "layer size : (75, 50, 100, 25)\n",
      "layer size : (75, 100, 25, 50)\n",
      "layer size : (75, 100, 50, 25)\n",
      "layer size : (100, 25, 50, 75)\n",
      "layer size : (100, 25, 75, 50)\n",
      "layer size : (100, 50, 25, 75)\n",
      "layer size : (100, 50, 75, 25)\n",
      "layer size : (100, 75, 25, 50)\n",
      "layer size : (100, 75, 50, 25)\n",
      "layer size : (25, 50, 75)\n",
      "layer size : (25, 75, 50)\n",
      "layer size : (50, 25, 75)\n",
      "layer size : (50, 75, 25)\n",
      "layer size : (75, 25, 50)\n",
      "layer size : (75, 50, 25)\n",
      "layer size : (50, 75, 100)\n",
      "layer size : (50, 100, 75)\n",
      "layer size : (75, 50, 100)\n",
      "layer size : (75, 100, 50)\n",
      "layer size : (100, 50, 75)\n",
      "layer size : (100, 75, 50)\n",
      "layer size : (25, 75, 100)\n",
      "layer size : (25, 100, 75)\n",
      "layer size : (75, 25, 100)\n",
      "layer size : (75, 100, 25)\n",
      "layer size : (100, 25, 75)\n",
      "layer size : (100, 75, 25)\n",
      "layer size : (25, 50, 100)\n",
      "layer size : (25, 100, 50)\n",
      "layer size : (50, 25, 100)\n",
      "layer size : (50, 100, 25)\n",
      "layer size : (100, 25, 50)\n",
      "layer size : (100, 50, 25)\n",
      "layer size : (25, 50)\n",
      "layer size : (50, 25)\n",
      "layer size : (25, 75)\n",
      "layer size : (75, 25)\n",
      "layer size : (25, 100)\n",
      "layer size : (100, 25)\n",
      "layer size : (50, 75)\n",
      "layer size : (75, 50)\n",
      "layer size : (50, 100)\n",
      "layer size : (100, 50)\n",
      "layer size : (75, 100)\n",
      "layer size : (100, 75)\n",
      "layer size : 25\n",
      "layer size : 50\n",
      "layer size : 75\n",
      "layer size : 100\n"
     ]
    },
    {
     "data": {
      "text/plain": [
       "<matplotlib.legend.Legend at 0x11ec3bad0>"
      ]
     },
     "execution_count": 4,
     "metadata": {},
     "output_type": "execute_result"
    },
    {
     "data": {
      "image/png": "[encoded data removed]",
      "text/plain": [
       "<Figure size 432x288 with 1 Axes>"
      ]
     },
     "metadata": {
      "needs_background": "light"
     },
     "output_type": "display_data"
    }
   ],
   "source": [
    "training_accuracy = [] \n",
    "test_accuracy = []\n",
    "hidden_layers_size = layers_generator()\n",
    "for i in hidden_layers_size:\n",
    "    print(\"layer size : %s\" % (i,))\n",
    "    mlp = MLPClassifier(hidden_layer_sizes=i, random_state=0) \n",
    "    mlp.fit(data_train, target_train)\n",
    "    training_accuracy.append(mlp.score(data_train, target_train))\n",
    "    test_accuracy.append(mlp.score(data_test, target_test))\n",
    "'''\n",
    "plt.plot(degrees, training_accuracy, label=\"training accuracy\") \n",
    "plt.plot(degrees, test_accuracy, label=\"test accuracy\") \n",
    "plt.ylabel(\"Accuracy\")\n",
    "plt.xlabel(\"degree\")\n",
    "plt.legend()'''\n",
    "\n",
    "plt.plot(range(len(hidden_layers_size)), training_accuracy, label=\"training accuracy\")\n",
    "plt.plot(range(len(hidden_layers_size)), test_accuracy, label=\"test accuracy\")\n",
    "plt.xticks(range(len(hidden_layers_size)),hidden_layers_size)\n",
    "plt.xticks(rotation=90)\n",
    "plt.ylabel(\"Accuracy\")\n",
    "plt.xlabel(\"C value\")\n",
    "plt.legend()"
   ]
  },
  {
   "cell_type": "markdown",
   "metadata": {},
   "source": [
    "#### Final choice"
   ]
  },
  {
   "cell_type": "code",
   "execution_count": 5,
   "metadata": {},
   "outputs": [],
   "source": [
    "gt = pd.read_csv('../../dumps/various_sizes/8K.csv')\n",
    "cols = [col for col in gt.columns if col not in ['label']]\n",
    "data = gt[cols]\n",
    "target = gt['label']\n",
    "data_train, data_test, target_train, target_test = train_test_split(data,target, test_size = 0.20, random_state = 0)\n",
    "scaler = StandardScaler()\n",
    "scaler.fit(data_train)\n",
    "data_train = scaler.transform(data_train)\n",
    "data_test = scaler.transform(data_test)"
   ]
  },
  {
   "cell_type": "code",
   "execution_count": 8,
   "metadata": {},
   "outputs": [
    {
     "name": "stdout",
     "output_type": "stream",
     "text": [
      "Accuracy on training set: 0.999\n",
      "Accuracy on test set: 0.997\n"
     ]
    }
   ],
   "source": [
    "mlp = MLPClassifier(hidden_layer_sizes=(75,100),random_state=0)\n",
    "mlp.fit(data_train, target_train)\n",
    "print(\"Accuracy on training set: {:.3f}\".format(mlp.score(data_train, target_train))) \n",
    "print(\"Accuracy on test set: {:.3f}\".format(mlp.score(data_test, target_test)))"
   ]
  },
  {
   "cell_type": "code",
   "execution_count": null,
   "metadata": {},
   "outputs": [],
   "source": []
  }
 ],
 "metadata": {
  "kernelspec": {
   "display_name": "Python 3",
   "language": "python",
   "name": "python3"
  },
  "language_info": {
   "codemirror_mode": {
    "name": "ipython",
    "version": 3
   },
   "file_extension": ".py",
   "mimetype": "text/x-python",
   "name": "python",
   "nbconvert_exporter": "python",
   "pygments_lexer": "ipython3",
   "version": "3.7.7"
  }
 },
 "nbformat": 4,
 "nbformat_minor": 2
}
