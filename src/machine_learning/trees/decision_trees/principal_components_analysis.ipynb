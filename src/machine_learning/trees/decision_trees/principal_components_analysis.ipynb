{
 "cells": [
  {
   "cell_type": "code",
   "execution_count": 1,
   "metadata": {},
   "outputs": [],
   "source": [
    "%load_ext autoreload\n",
    "%autoreload\n",
    "\n",
    "import sys\n",
    "\n",
    "sys.path.append('../../utils')\n",
    "from utils import PCA_reduction, PCA_components, PCA_snapshot"
   ]
  },
  {
   "cell_type": "markdown",
   "metadata": {},
   "source": [
    "### PCA"
   ]
  },
  {
   "cell_type": "code",
   "execution_count": 2,
   "metadata": {},
   "outputs": [
    {
     "name": "stdout",
     "output_type": "stream",
     "text": [
      "Variance      Training acc    Test acc  Components      Time (s)\n",
      "----------  --------------  ----------  ------------  ----------\n",
      "no pca            0.992049    0.988155  all             0.220902\n",
      "1                 0.991971    0.983791  119             0.910116\n",
      "0.99              0.991113    0.984726  102             0.789119\n",
      "0.95              0.991113    0.984102  82              0.624101\n",
      "0.9               0.991035    0.983791  64              0.487005\n",
      "0.85              0.991113    0.985349  52              0.397983\n"
     ]
    }
   ],
   "source": [
    "PCA_reduction('../../../dumps/various_sizes/16K.csv','tree')"
   ]
  },
  {
   "cell_type": "markdown",
   "metadata": {},
   "source": [
    "In this case the accuracies are really similar, even slightly better, but we managed to reduced the number of features from 119 to 42, so more than 60%. The time as also be improved by half !"
   ]
  },
  {
   "cell_type": "code",
   "execution_count": 3,
   "metadata": {},
   "outputs": [
    {
     "data": {
      "image/png": "[encoded data removed]",
      "text/plain": [
       "<Figure size 432x288 with 1 Axes>"
      ]
     },
     "metadata": {
      "needs_background": "light"
     },
     "output_type": "display_data"
    },
    {
     "name": "stdout",
     "output_type": "stream",
     "text": [
      "Top 5 combinations of features : \n",
      "\n",
      "# components      Test accuracy    Time (s)    Fixed cost (s)\n",
      "--------------  ---------------  ----------  ----------------\n",
      "no PCA                 0.983871    0.463463\n",
      "29                     0.983226    0.447682          0.217974\n",
      "28                     0.982742    0.433116          0.217694\n",
      "22                     0.982097    0.337468          0.179866\n",
      "21                     0.981935    0.323398          0.173124\n",
      "18                     0.981452    0.287112          0.150049\n",
      "Accuracy on training set: 0.968\n",
      "Accuracy on test set: 0.969\n"
     ]
    }
   ],
   "source": [
    "PCA_snapshot('../../../dumps/time_analysis/threshold_3/3_20190615_31000.csv','tree','../../')"
   ]
  },
  {
   "cell_type": "code",
   "execution_count": null,
   "metadata": {},
   "outputs": [],
   "source": []
  }
 ],
 "metadata": {
  "kernelspec": {
   "display_name": "Python 3",
   "language": "python",
   "name": "python3"
  },
  "language_info": {
   "codemirror_mode": {
    "name": "ipython",
    "version": 3
   },
   "file_extension": ".py",
   "mimetype": "text/x-python",
   "name": "python",
   "nbconvert_exporter": "python",
   "pygments_lexer": "ipython3",
   "version": "3.7.7"
  }
 },
 "nbformat": 4,
 "nbformat_minor": 2
}
