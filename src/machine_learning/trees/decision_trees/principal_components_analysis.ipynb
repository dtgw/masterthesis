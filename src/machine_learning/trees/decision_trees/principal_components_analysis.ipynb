{
 "cells": [
  {
   "cell_type": "code",
   "execution_count": 1,
   "metadata": {},
   "outputs": [],
   "source": [
    "%load_ext autoreload\n",
    "%autoreload\n",
    "\n",
    "import sys\n",
    "\n",
    "sys.path.append('../../utils')\n",
    "from utils import PCA_reduction, PCA_components, PCA_snapshot"
   ]
  },
  {
   "cell_type": "markdown",
   "metadata": {},
   "source": [
    "### PCA"
   ]
  },
  {
   "cell_type": "code",
   "execution_count": 2,
   "metadata": {},
   "outputs": [
    {
     "name": "stdout",
     "output_type": "stream",
     "text": [
      "Variance      Training acc    Test acc  Components      Time (s)\n",
      "----------  --------------  ----------  ------------  ----------\n",
      "no pca            0.992049    0.988155  all             0.237223\n",
      "1                 0.991971    0.983791  119             1.17098\n",
      "0.99              0.991113    0.984726  102             0.97206\n",
      "0.95              0.991113    0.984102  82              0.799969\n",
      "0.9               0.991035    0.983791  64              0.682058\n",
      "0.85              0.991113    0.985349  52              0.568896\n"
     ]
    }
   ],
   "source": [
    "PCA_reduction('../../../dumps/various_sizes/16K.csv','tree')"
   ]
  },
  {
   "cell_type": "markdown",
   "metadata": {},
   "source": [
    "In this case the accuracies are really similar, even slightly better, but we managed to reduced the number of features from 119 to 42, so more than 60%. The time as also be improved by half !"
   ]
  },
  {
   "cell_type": "code",
   "execution_count": 70,
   "metadata": {
    "scrolled": false
   },
   "outputs": [
    {
     "data": {
      "image/png": "[encoded data removed]",
      "text/plain": [
       "<Figure size 432x288 with 1 Axes>"
      ]
     },
     "metadata": {
      "needs_background": "light"
     },
     "output_type": "display_data"
    },
    {
     "name": "stdout",
     "output_type": "stream",
     "text": [
      "Top 5 features combinations with times <= than default case : \n",
      "\n",
      "# components         Acc      Time\n",
      "--------------  --------  --------\n",
      "no PCA          0.988155  0.231028\n",
      "18              0.983479  0.22232\n",
      "14              0.981608  0.175381\n",
      "15              0.981297  0.190252\n",
      "17              0.981297  0.201155\n",
      "16              0.980985  0.194333\n"
     ]
    },
    {
     "data": {
      "text/plain": [
       "'no PCA'"
      ]
     },
     "execution_count": 70,
     "metadata": {},
     "output_type": "execute_result"
    }
   ],
   "source": [
    "PCA_components('../../../dumps/various_sizes/16K.csv','tree')"
   ]
  },
  {
   "cell_type": "code",
   "execution_count": 74,
   "metadata": {},
   "outputs": [
    {
     "name": "stdout",
     "output_type": "stream",
     "text": [
      "Accuracy on training set: 0.982\n",
      "Accuracy on test set: 0.896\n"
     ]
    }
   ],
   "source": [
    "PCA_snapshot('../../../dumps/time_analysis/threshold_3/3_20190615_6000.csv','tree')"
   ]
  },
  {
   "cell_type": "code",
   "execution_count": null,
   "metadata": {},
   "outputs": [],
   "source": []
  }
 ],
 "metadata": {
  "kernelspec": {
   "display_name": "Python 3",
   "language": "python",
   "name": "python3"
  },
  "language_info": {
   "codemirror_mode": {
    "name": "ipython",
    "version": 3
   },
   "file_extension": ".py",
   "mimetype": "text/x-python",
   "name": "python",
   "nbconvert_exporter": "python",
   "pygments_lexer": "ipython3",
   "version": "3.7.7"
  }
 },
 "nbformat": 4,
 "nbformat_minor": 2
}
