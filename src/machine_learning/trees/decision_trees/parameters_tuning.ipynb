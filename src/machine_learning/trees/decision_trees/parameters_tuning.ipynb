{
 "cells": [
  {
   "cell_type": "code",
   "execution_count": 1,
   "metadata": {},
   "outputs": [],
   "source": [
    "%load_ext autoreload\n",
    "%autoreload\n",
    "\n",
    "import sys\n",
    "\n",
    "import pandas as pd\n",
    "import numpy as np\n",
    "import matplotlib.pyplot as plt\n",
    "\n",
    "from sklearn.model_selection import train_test_split\n",
    "from sklearn.tree import DecisionTreeClassifier"
   ]
  },
  {
   "cell_type": "markdown",
   "metadata": {},
   "source": [
    "# Parameters tuning"
   ]
  },
  {
   "cell_type": "code",
   "execution_count": 2,
   "metadata": {},
   "outputs": [],
   "source": [
    "gt = pd.read_csv('../../../dumps/various_sizes/8K.csv')\n",
    "cols = [col for col in gt.columns if col not in ['label']]\n",
    "data = gt[cols]\n",
    "target = gt['label']\n",
    "\n",
    "data_train, data_test, target_train, target_test = train_test_split(data,target, test_size = 0.20, random_state = 0)"
   ]
  },
  {
   "cell_type": "markdown",
   "metadata": {},
   "source": [
    "### Criterion"
   ]
  },
  {
   "cell_type": "markdown",
   "metadata": {},
   "source": [
    "Measures the quality of a split. Two techniques are available : \"*gini*\" for the Gini impurty (default) and \"*entropy*\" for information gain."
   ]
  },
  {
   "cell_type": "code",
   "execution_count": 3,
   "metadata": {},
   "outputs": [
    {
     "name": "stdout",
     "output_type": "stream",
     "text": [
      "Criterion : gini\n",
      "Accuracy on training set: 0.999\n",
      "Accuracy on test set: 0.995\n",
      "Criterion : entropy\n",
      "Accuracy on training set: 0.999\n",
      "Accuracy on test set: 0.989\n"
     ]
    }
   ],
   "source": [
    "for i in [\"gini\",\"entropy\"]:\n",
    "    print(\"Criterion : %s\" % i)\n",
    "    tree = DecisionTreeClassifier(criterion=i, random_state=0) \n",
    "    tree.fit(data_train, target_train)\n",
    "    print(\"Accuracy on training set: {:.3f}\".format(tree.score(data_train, target_train))) \n",
    "    print(\"Accuracy on test set: {:.3f}\".format(tree.score(data_test, target_test)))"
   ]
  },
  {
   "cell_type": "markdown",
   "metadata": {},
   "source": [
    "We're clearly overfitting, nevertheless the *entropy* criteria seems to give slightly better results. Overfitting can be solved by limiting the depth of the tree (explained more deeply in a following section)."
   ]
  },
  {
   "cell_type": "code",
   "execution_count": 4,
   "metadata": {},
   "outputs": [
    {
     "name": "stdout",
     "output_type": "stream",
     "text": [
      "Criterion : gini\n",
      "Accuracy on training set: 0.987\n",
      "Accuracy on test set: 0.991\n",
      "Criterion : entropy\n",
      "Accuracy on training set: 0.991\n",
      "Accuracy on test set: 0.991\n"
     ]
    }
   ],
   "source": [
    "for i in [\"gini\",\"entropy\"]:\n",
    "    print(\"Criterion : %s\" % i)\n",
    "    tree = DecisionTreeClassifier(max_depth=4,criterion=i, random_state=0) \n",
    "    tree.fit(data_train, target_train)\n",
    "    print(\"Accuracy on training set: {:.3f}\".format(tree.score(data_train, target_train))) \n",
    "    print(\"Accuracy on test set: {:.3f}\".format(tree.score(data_test, target_test)))"
   ]
  },
  {
   "cell_type": "markdown",
   "metadata": {},
   "source": [
    "In this case, the bith configuration give same results for the test set."
   ]
  },
  {
   "cell_type": "markdown",
   "metadata": {},
   "source": [
    "#### Splitter"
   ]
  },
  {
   "cell_type": "markdown",
   "metadata": {},
   "source": [
    "The strategy used to choose the split at each node. Supported strategies are “*best*” to choose the best split (default) and “*random*” to choose the best random split. (N.B: we also apply depth limitation to avoid overfitting)"
   ]
  },
  {
   "cell_type": "code",
   "execution_count": 5,
   "metadata": {},
   "outputs": [
    {
     "name": "stdout",
     "output_type": "stream",
     "text": [
      "Split strategy : best\n",
      "Accuracy on training set: 0.987\n",
      "Accuracy on test set: 0.991\n",
      "Split strategy : random\n",
      "Accuracy on training set: 0.977\n",
      "Accuracy on test set: 0.975\n"
     ]
    }
   ],
   "source": [
    "for i in [\"best\",\"random\"]:\n",
    "    print(\"Split strategy : %s\" % i)\n",
    "    tree = DecisionTreeClassifier(max_depth=4,splitter=i, random_state=0) \n",
    "    tree.fit(data_train, target_train)\n",
    "    print(\"Accuracy on training set: {:.3f}\".format(tree.score(data_train, target_train))) \n",
    "    print(\"Accuracy on test set: {:.3f}\".format(tree.score(data_test, target_test)))"
   ]
  },
  {
   "cell_type": "markdown",
   "metadata": {},
   "source": [
    "Looks like keeping the default splitter is also better in the case of this dataset."
   ]
  },
  {
   "cell_type": "markdown",
   "metadata": {},
   "source": [
    "#### Depth"
   ]
  },
  {
   "cell_type": "markdown",
   "metadata": {},
   "source": [
    "Limiting the depth of the tree decreases overfitting. This leads to a lower accuracy on the training set, but an improvement on the test set:"
   ]
  },
  {
   "cell_type": "code",
   "execution_count": 6,
   "metadata": {},
   "outputs": [
    {
     "name": "stdout",
     "output_type": "stream",
     "text": [
      "Depth set to 1\n",
      "Accuracy on training set: 0.934\n",
      "Accuracy on test set: 0.936\n",
      "Depth set to 2\n",
      "Accuracy on training set: 0.956\n",
      "Accuracy on test set: 0.964\n",
      "Depth set to 3\n",
      "Accuracy on training set: 0.976\n",
      "Accuracy on test set: 0.975\n",
      "Depth set to 4\n",
      "Accuracy on training set: 0.987\n",
      "Accuracy on test set: 0.991\n",
      "Depth set to 5\n",
      "Accuracy on training set: 0.991\n",
      "Accuracy on test set: 0.992\n",
      "Depth set to 6\n",
      "Accuracy on training set: 0.994\n",
      "Accuracy on test set: 0.994\n",
      "Depth set to 7\n",
      "Accuracy on training set: 0.996\n",
      "Accuracy on test set: 0.996\n",
      "Depth set to 8\n",
      "Accuracy on training set: 0.998\n",
      "Accuracy on test set: 0.996\n",
      "Depth set to 9\n",
      "Accuracy on training set: 0.999\n",
      "Accuracy on test set: 0.996\n"
     ]
    }
   ],
   "source": [
    "for i in range(1,10):\n",
    "    print(\"Depth set to %s\" % i)\n",
    "    tree = DecisionTreeClassifier(max_depth=i, random_state=0) \n",
    "    tree.fit(data_train, target_train)\n",
    "    print(\"Accuracy on training set: {:.3f}\".format(tree.score(data_train, target_train))) \n",
    "    print(\"Accuracy on test set: {:.3f}\".format(tree.score(data_test, target_test)))"
   ]
  },
  {
   "cell_type": "code",
   "execution_count": 7,
   "metadata": {},
   "outputs": [
    {
     "data": {
      "text/plain": [
       "<matplotlib.legend.Legend at 0x10edc2cd0>"
      ]
     },
     "execution_count": 7,
     "metadata": {},
     "output_type": "execute_result"
    },
    {
     "data": {
      "image/png": "[encoded data removed]",
      "text/plain": [
       "<Figure size 432x288 with 1 Axes>"
      ]
     },
     "metadata": {
      "needs_background": "light"
     },
     "output_type": "display_data"
    }
   ],
   "source": [
    "training_accuracy = [] \n",
    "test_accuracy = []\n",
    "settings = range(1, 10)\n",
    "for v in settings:\n",
    "    clf = DecisionTreeClassifier(max_depth=v, random_state=0) \n",
    "    clf.fit(data_train, target_train)\n",
    "    training_accuracy.append(clf.score(data_train, target_train))\n",
    "    test_accuracy.append(clf.score(data_test, target_test))\n",
    "plt.plot(settings, training_accuracy, label=\"training accuracy\") \n",
    "plt.plot(settings, test_accuracy, label=\"test accuracy\") \n",
    "plt.ylabel(\"Accuracy\")\n",
    "plt.xlabel(\"depth\")\n",
    "plt.legend()"
   ]
  },
  {
   "cell_type": "markdown",
   "metadata": {},
   "source": [
    "As we can see, increasing the depth value improves both accuracies until a certain point where the test results are constant. The best result we get starts at depth 7, which offers a good compromise between the two accuracies."
   ]
  },
  {
   "cell_type": "markdown",
   "metadata": {},
   "source": [
    "#### Minimum number of samples (split)"
   ]
  },
  {
   "cell_type": "markdown",
   "metadata": {},
   "source": [
    "*min_samples_split* represents the minimum number of samples required to split an internal node. This can vary between considering at least one sample at each node to considering all of the samples at each node. When we increase this parameter, the tree becomes more constrained as it has to consider more samples at each node."
   ]
  },
  {
   "cell_type": "code",
   "execution_count": 8,
   "metadata": {},
   "outputs": [
    {
     "name": "stdout",
     "output_type": "stream",
     "text": [
      "min_samples_split set to 0.1\n",
      "Accuracy on training set: 0.938\n",
      "Accuracy on test set: 0.949\n",
      "min_samples_split set to 0.2\n",
      "Accuracy on training set: 0.938\n",
      "Accuracy on test set: 0.949\n",
      "min_samples_split set to 0.3\n",
      "Accuracy on training set: 0.938\n",
      "Accuracy on test set: 0.949\n",
      "min_samples_split set to 0.4\n",
      "Accuracy on training set: 0.938\n",
      "Accuracy on test set: 0.949\n",
      "min_samples_split set to 0.5\n",
      "Accuracy on training set: 0.938\n",
      "Accuracy on test set: 0.949\n",
      "min_samples_split set to 0.6\n",
      "Accuracy on training set: 0.938\n",
      "Accuracy on test set: 0.949\n",
      "min_samples_split set to 0.7\n",
      "Accuracy on training set: 0.938\n",
      "Accuracy on test set: 0.949\n",
      "min_samples_split set to 0.8\n",
      "Accuracy on training set: 0.938\n",
      "Accuracy on test set: 0.949\n",
      "min_samples_split set to 0.9\n",
      "Accuracy on training set: 0.936\n",
      "Accuracy on test set: 0.944\n",
      "min_samples_split set to 1.0\n",
      "Accuracy on training set: 0.934\n",
      "Accuracy on test set: 0.936\n"
     ]
    }
   ],
   "source": [
    "for i in range(1,11):\n",
    "    n_samples = i/10\n",
    "    print(\"min_samples_split set to %s\" % n_samples)\n",
    "    tree = DecisionTreeClassifier(min_samples_split=n_samples, random_state=0) \n",
    "    tree.fit(data_train, target_train)\n",
    "    print(\"Accuracy on training set: {:.3f}\".format(tree.score(data_train, target_train))) \n",
    "    print(\"Accuracy on test set: {:.3f}\".format(tree.score(data_test, target_test)))"
   ]
  },
  {
   "cell_type": "code",
   "execution_count": 10,
   "metadata": {},
   "outputs": [
    {
     "name": "stdout",
     "output_type": "stream",
     "text": [
      "min_samples_split set to 2\n",
      "Accuracy on training set: 0.999\n",
      "Accuracy on test set: 0.995\n",
      "min_samples_split set to 3\n",
      "Accuracy on training set: 0.999\n",
      "Accuracy on test set: 0.995\n",
      "min_samples_split set to 4\n",
      "Accuracy on training set: 0.999\n",
      "Accuracy on test set: 0.995\n",
      "min_samples_split set to 5\n",
      "Accuracy on training set: 0.999\n",
      "Accuracy on test set: 0.994\n",
      "min_samples_split set to 6\n",
      "Accuracy on training set: 0.999\n",
      "Accuracy on test set: 0.995\n",
      "min_samples_split set to 7\n",
      "Accuracy on training set: 0.999\n",
      "Accuracy on test set: 0.995\n",
      "min_samples_split set to 8\n",
      "Accuracy on training set: 0.998\n",
      "Accuracy on test set: 0.994\n",
      "min_samples_split set to 9\n",
      "Accuracy on training set: 0.998\n",
      "Accuracy on test set: 0.995\n",
      "min_samples_split set to 10\n",
      "Accuracy on training set: 0.998\n",
      "Accuracy on test set: 0.996\n"
     ]
    }
   ],
   "source": [
    "for i in range(2,11):\n",
    "    print(\"min_samples_split set to %s\" % i)\n",
    "    tree = DecisionTreeClassifier(min_samples_split=i, random_state=0) \n",
    "    tree.fit(data_train, target_train)\n",
    "    print(\"Accuracy on training set: {:.3f}\".format(tree.score(data_train, target_train))) \n",
    "    print(\"Accuracy on test set: {:.3f}\".format(tree.score(data_test, target_test)))"
   ]
  },
  {
   "cell_type": "markdown",
   "metadata": {},
   "source": [
    "#### Minimum number of samples (leaf)"
   ]
  },
  {
   "cell_type": "markdown",
   "metadata": {},
   "source": [
    "*min_samples_leaf* is the minimum number of samples required to be at a leaf node. This parameter is similar to min_samples_splits, however, this describe the minimum number of samples at the leafs, the base of the tree."
   ]
  },
  {
   "cell_type": "code",
   "execution_count": 11,
   "metadata": {},
   "outputs": [
    {
     "name": "stdout",
     "output_type": "stream",
     "text": [
      "min_samples_split set to 2\n",
      "Accuracy on training set: 0.997\n",
      "Accuracy on test set: 0.996\n",
      "min_samples_split set to 3\n",
      "Accuracy on training set: 0.997\n",
      "Accuracy on test set: 0.996\n",
      "min_samples_split set to 4\n",
      "Accuracy on training set: 0.996\n",
      "Accuracy on test set: 0.996\n",
      "min_samples_split set to 5\n",
      "Accuracy on training set: 0.995\n",
      "Accuracy on test set: 0.995\n",
      "min_samples_split set to 6\n",
      "Accuracy on training set: 0.995\n",
      "Accuracy on test set: 0.997\n",
      "min_samples_split set to 7\n",
      "Accuracy on training set: 0.995\n",
      "Accuracy on test set: 0.997\n",
      "min_samples_split set to 8\n",
      "Accuracy on training set: 0.993\n",
      "Accuracy on test set: 0.994\n",
      "min_samples_split set to 9\n",
      "Accuracy on training set: 0.992\n",
      "Accuracy on test set: 0.996\n",
      "min_samples_split set to 10\n",
      "Accuracy on training set: 0.991\n",
      "Accuracy on test set: 0.994\n"
     ]
    }
   ],
   "source": [
    "for i in range(2,11):\n",
    "    print(\"min_samples_split set to %s\" % i)\n",
    "    tree = DecisionTreeClassifier(min_samples_leaf=i, random_state=0) \n",
    "    tree.fit(data_train, target_train)\n",
    "    print(\"Accuracy on training set: {:.3f}\".format(tree.score(data_train, target_train))) \n",
    "    print(\"Accuracy on test set: {:.3f}\".format(tree.score(data_test, target_test)))"
   ]
  },
  {
   "cell_type": "markdown",
   "metadata": {},
   "source": [
    "#### Number of features"
   ]
  },
  {
   "cell_type": "markdown",
   "metadata": {},
   "source": [
    "*max_features* represents the number of features to consider when looking for the best split. Since we're working with 119 different features, let's try all the values and see how relevant they are."
   ]
  },
  {
   "cell_type": "code",
   "execution_count": 12,
   "metadata": {},
   "outputs": [
    {
     "data": {
      "text/plain": [
       "<matplotlib.legend.Legend at 0x11921cb10>"
      ]
     },
     "execution_count": 12,
     "metadata": {},
     "output_type": "execute_result"
    },
    {
     "data": {
      "image/png": "[encoded data removed]",
      "text/plain": [
       "<Figure size 432x288 with 1 Axes>"
      ]
     },
     "metadata": {
      "needs_background": "light"
     },
     "output_type": "display_data"
    }
   ],
   "source": [
    "training_accuracy = [] \n",
    "test_accuracy = []\n",
    "settings = range(1, 120)\n",
    "for f in settings:\n",
    "    clf = DecisionTreeClassifier(max_features=f, random_state=0) #n_jobs means that we use all processors\n",
    "    clf.fit(data_train, target_train)\n",
    "    training_accuracy.append(clf.score(data_train, target_train))\n",
    "    test_accuracy.append(clf.score(data_test, target_test))\n",
    "plt.plot(settings, training_accuracy, label=\"training accuracy\") \n",
    "plt.plot(settings, test_accuracy, label=\"test accuracy\") \n",
    "plt.ylabel(\"Accuracy\")\n",
    "plt.xlabel(\"n_features\")\n",
    "plt.legend()"
   ]
  },
  {
   "cell_type": "markdown",
   "metadata": {},
   "source": [
    "As we can see from the graph, not all features are important in making the classification. Further selection on relevant features will be made."
   ]
  },
  {
   "cell_type": "markdown",
   "metadata": {},
   "source": [
    "### Final choice"
   ]
  },
  {
   "cell_type": "code",
   "execution_count": 14,
   "metadata": {},
   "outputs": [
    {
     "name": "stdout",
     "output_type": "stream",
     "text": [
      "Accuracy on training set: 0.994\n",
      "Accuracy on test set: 0.997\n"
     ]
    }
   ],
   "source": [
    "tree = DecisionTreeClassifier(max_depth=7,min_samples_split=10,min_samples_leaf=7,random_state=0)\n",
    "tree.fit(data_train, target_train)\n",
    "print(\"Accuracy on training set: {:.3f}\".format(tree.score(data_train, target_train))) \n",
    "print(\"Accuracy on test set: {:.3f}\".format(tree.score(data_test, target_test)))"
   ]
  },
  {
   "cell_type": "code",
   "execution_count": null,
   "metadata": {},
   "outputs": [],
   "source": []
  }
 ],
 "metadata": {
  "kernelspec": {
   "display_name": "Python 3",
   "language": "python",
   "name": "python3"
  },
  "language_info": {
   "codemirror_mode": {
    "name": "ipython",
    "version": 3
   },
   "file_extension": ".py",
   "mimetype": "text/x-python",
   "name": "python",
   "nbconvert_exporter": "python",
   "pygments_lexer": "ipython3",
   "version": "3.7.7"
  }
 },
 "nbformat": 4,
 "nbformat_minor": 2
}
