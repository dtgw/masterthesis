{
 "cells": [
  {
   "cell_type": "code",
   "execution_count": 47,
   "metadata": {},
   "outputs": [
    {
     "name": "stdout",
     "output_type": "stream",
     "text": [
      "The autoreload extension is already loaded. To reload it, use:\n",
      "  %reload_ext autoreload\n"
     ]
    }
   ],
   "source": [
    "%load_ext autoreload\n",
    "%autoreload\n",
    "\n",
    "import sys\n",
    "\n",
    "import pandas as pd\n",
    "import numpy as np\n",
    "import matplotlib.pyplot as plt\n",
    "\n",
    "from sklearn.model_selection import train_test_split\n",
    "from sklearn.tree import DecisionTreeClassifier\n",
    "\n",
    "sys.path.append('../../utils/')\n",
    "from utils import feature_selection"
   ]
  },
  {
   "cell_type": "markdown",
   "metadata": {},
   "source": [
    "### Features relevance"
   ]
  },
  {
   "cell_type": "code",
   "execution_count": 8,
   "metadata": {},
   "outputs": [
    {
     "data": {
      "text/plain": [
       "DecisionTreeClassifier(ccp_alpha=0.0, class_weight=None, criterion='gini',\n",
       "                       max_depth=4, max_features=None, max_leaf_nodes=None,\n",
       "                       min_impurity_decrease=0.0, min_impurity_split=None,\n",
       "                       min_samples_leaf=10, min_samples_split=0.1,\n",
       "                       min_weight_fraction_leaf=0.0, presort='deprecated',\n",
       "                       random_state=0, splitter='best')"
      ]
     },
     "execution_count": 8,
     "metadata": {},
     "output_type": "execute_result"
    }
   ],
   "source": [
    "gt = pd.read_csv('../../../dumps/various_sizes/8K.csv')\n",
    "cols = [col for col in gt.columns if col not in ['label']]\n",
    "data = gt[cols]\n",
    "target = gt['label']\n",
    "\n",
    "data_train, data_test, target_train, target_test = train_test_split(data,target, test_size = 0.20, random_state = 0)\n",
    "\n",
    "tree = DecisionTreeClassifier(max_depth=4,min_samples_split=0.1,min_samples_leaf=10,random_state=0)\n",
    "tree.fit(data_train, target_train)"
   ]
  },
  {
   "cell_type": "markdown",
   "metadata": {},
   "source": [
    "The following commands allow us to see how important each feature is in the decision process."
   ]
  },
  {
   "cell_type": "code",
   "execution_count": 9,
   "metadata": {},
   "outputs": [
    {
     "name": "stdout",
     "output_type": "stream",
     "text": [
      "Feature importances:\n",
      "[0.         0.         0.         0.         0.         0.\n",
      " 0.         0.         0.         0.         0.         0.\n",
      " 0.         0.         0.         0.         0.         0.\n",
      " 0.         0.         0.         0.03212446 0.         0.\n",
      " 0.         0.         0.         0.         0.         0.\n",
      " 0.         0.         0.         0.         0.         0.\n",
      " 0.         0.         0.         0.27084986 0.         0.\n",
      " 0.0290191  0.         0.         0.         0.         0.66800658\n",
      " 0.         0.         0.         0.         0.         0.\n",
      " 0.         0.         0.         0.         0.         0.\n",
      " 0.         0.         0.         0.         0.         0.\n",
      " 0.         0.         0.         0.         0.         0.\n",
      " 0.         0.         0.         0.         0.         0.\n",
      " 0.         0.         0.         0.         0.         0.\n",
      " 0.         0.         0.         0.         0.         0.\n",
      " 0.         0.         0.         0.         0.         0.\n",
      " 0.         0.         0.         0.         0.         0.\n",
      " 0.         0.         0.         0.         0.         0.\n",
      " 0.         0.         0.         0.         0.         0.\n",
      " 0.         0.         0.         0.         0.        ]\n"
     ]
    }
   ],
   "source": [
    "print(\"Feature importances:\\n{}\".format(tree.feature_importances_))"
   ]
  },
  {
   "cell_type": "code",
   "execution_count": 10,
   "metadata": {},
   "outputs": [
    {
     "data": {
      "text/plain": [
       "Text(0, 0.5, 'Feature')"
      ]
     },
     "execution_count": 10,
     "metadata": {},
     "output_type": "execute_result"
    },
    {
     "data": {
      "image/png": "[encoded data removed]",
      "text/plain": [
       "<Figure size 576x576 with 1 Axes>"
      ]
     },
     "metadata": {
      "needs_background": "light"
     },
     "output_type": "display_data"
    }
   ],
   "source": [
    "n_features = data.shape[1]\n",
    "plt.rcParams[\"figure.figsize\"] = (8,8)\n",
    "plt.barh(range(n_features), tree.feature_importances_, align='center') \n",
    "plt.yticks(np.arange(n_features), np.arange(1,120)) \n",
    "plt.xlabel(\"Feature importance\")\n",
    "plt.ylabel(\"Feature\")"
   ]
  },
  {
   "cell_type": "markdown",
   "metadata": {},
   "source": [
    "As we can see, out of 119 features only a very few are actually used by the learning algorithm. Let's apply some pruning on the features to see if it improves the accuracies (or even the speed of the process)."
   ]
  },
  {
   "cell_type": "code",
   "execution_count": 48,
   "metadata": {
    "scrolled": false
   },
   "outputs": [
    {
     "name": "stdout",
     "output_type": "stream",
     "text": [
      "['f40', 'f43', 'f48']\n",
      "['f40', 'f43', 'f48']\n",
      "--------\n",
      "['f40', 'f48']\n",
      "['f40', 'f48']\n",
      "--------\n",
      "['f40', 'f48']\n",
      "['f40', 'f48']\n",
      "--------\n",
      "['f40', 'f48']\n",
      "['f40', 'f48']\n",
      "--------\n",
      "['f40', 'f48']\n",
      "['f40', 'f48']\n",
      "--------\n",
      "Execution          Features selected            Training set acc    Test acc    Time (s)\n",
      "-----------------  -------------------------  ------------------  ----------  ----------\n",
      "Classic            ['f1',...,'f119']                    0.938406    0.94896     0.198879\n",
      "K best features    ['f22' 'f40' 'f43' 'f48']            0.938406    0.94896     0.112753\n",
      "Iterative process  ['f40', 'f48']                       0.936043    0.943919    0.495032\n"
     ]
    }
   ],
   "source": [
    "feature_selection('../../../dumps/various_sizes/8K.csv',0.15,\"tree\")"
   ]
  },
  {
   "cell_type": "markdown",
   "metadata": {},
   "source": [
    "Let's see if the performance can be improved when using a larger dataset which is around twice the size of the previous one (16000 entries)."
   ]
  },
  {
   "cell_type": "code",
   "execution_count": 50,
   "metadata": {},
   "outputs": [
    {
     "name": "stdout",
     "output_type": "stream",
     "text": [
      "['f22', 'f40', 'f43', 'f48']\n",
      "['f22', 'f40', 'f43', 'f48']\n",
      "--------\n",
      "['f22', 'f40', 'f43', 'f48']\n",
      "['f22', 'f40', 'f43', 'f48']\n",
      "--------\n",
      "['f22', 'f40', 'f43', 'f48']\n",
      "['f22', 'f40', 'f43', 'f48']\n",
      "--------\n",
      "['f40', 'f43', 'f48']\n",
      "['f40', 'f43', 'f48']\n",
      "--------\n",
      "['f40', 'f43', 'f48']\n",
      "['f40', 'f43', 'f48']\n",
      "--------\n",
      "Execution          Features selected            Training set acc    Test acc    Time (s)\n",
      "-----------------  -------------------------  ------------------  ----------  ----------\n",
      "Classic            ['f1',...,'f119']                    0.927191    0.922693    0.391371\n",
      "K best features    ['f29' 'f40' 'f43' 'f48']            0.927191    0.922693    0.238297\n",
      "Iterative process  ['f40', 'f43', 'f48']                0.926957    0.923317    0.995682\n"
     ]
    }
   ],
   "source": [
    "feature_selection('../../../dumps/various_sizes/16K.csv',0.15,\"tree\")"
   ]
  },
  {
   "cell_type": "markdown",
   "metadata": {},
   "source": [
    "We can notice that there's no difference between the results we get with and without the feature extraction in terms of accuracies, which mean that the model could definittely be simplified to a few features. The performances we get when applying our iterative process are also quite close, even slighly better but we suffer from time explosion while the K best features extraction decreases the overall time."
   ]
  },
  {
   "cell_type": "code",
   "execution_count": null,
   "metadata": {},
   "outputs": [],
   "source": []
  }
 ],
 "metadata": {
  "kernelspec": {
   "display_name": "Python 3",
   "language": "python",
   "name": "python3"
  },
  "language_info": {
   "codemirror_mode": {
    "name": "ipython",
    "version": 3
   },
   "file_extension": ".py",
   "mimetype": "text/x-python",
   "name": "python",
   "nbconvert_exporter": "python",
   "pygments_lexer": "ipython3",
   "version": "3.7.7"
  }
 },
 "nbformat": 4,
 "nbformat_minor": 2
}
