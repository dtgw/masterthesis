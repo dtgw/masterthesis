{
 "cells": [
  {
   "cell_type": "code",
   "execution_count": 11,
   "metadata": {},
   "outputs": [
    {
     "name": "stdout",
     "output_type": "stream",
     "text": [
      "The autoreload extension is already loaded. To reload it, use:\n",
      "  %reload_ext autoreload\n"
     ]
    }
   ],
   "source": [
    "%load_ext autoreload\n",
    "%autoreload\n",
    "\n",
    "import sys\n",
    "\n",
    "import pandas as pd\n",
    "import numpy as np\n",
    "import matplotlib.pyplot as plt\n",
    "\n",
    "from sklearn.model_selection import train_test_split\n",
    "from sklearn.tree import DecisionTreeClassifier\n",
    "\n",
    "sys.path.append('../../utils/')\n",
    "from utils import feature_selection, fs_driver, feature_snapshot"
   ]
  },
  {
   "cell_type": "markdown",
   "metadata": {},
   "source": [
    "### Features relevance"
   ]
  },
  {
   "cell_type": "code",
   "execution_count": 5,
   "metadata": {},
   "outputs": [
    {
     "data": {
      "text/plain": [
       "DecisionTreeClassifier(ccp_alpha=0.0, class_weight=None, criterion='gini',\n",
       "                       max_depth=7, max_features=None, max_leaf_nodes=None,\n",
       "                       min_impurity_decrease=0.0, min_impurity_split=None,\n",
       "                       min_samples_leaf=7, min_samples_split=10,\n",
       "                       min_weight_fraction_leaf=0.0, presort='deprecated',\n",
       "                       random_state=0, splitter='best')"
      ]
     },
     "execution_count": 5,
     "metadata": {},
     "output_type": "execute_result"
    }
   ],
   "source": [
    "gt = pd.read_csv('../../../dumps/various_sizes/16K.csv')\n",
    "cols = [col for col in gt.columns if col not in ['label']]\n",
    "data = gt[cols]\n",
    "target = gt['label']\n",
    "\n",
    "data_train, data_test, target_train, target_test = train_test_split(data,target, test_size = 0.20, random_state = 0)\n",
    "\n",
    "tree = DecisionTreeClassifier(max_depth=7,min_samples_split=10,min_samples_leaf=7,random_state=0)\n",
    "tree.fit(data_train, target_train)"
   ]
  },
  {
   "cell_type": "markdown",
   "metadata": {},
   "source": [
    "The following commands allow us to see how important each feature is in the decision process."
   ]
  },
  {
   "cell_type": "code",
   "execution_count": 6,
   "metadata": {},
   "outputs": [
    {
     "name": "stdout",
     "output_type": "stream",
     "text": [
      "Feature importances:\n",
      "[0.00000000e+00 0.00000000e+00 0.00000000e+00 0.00000000e+00\n",
      " 0.00000000e+00 0.00000000e+00 0.00000000e+00 0.00000000e+00\n",
      " 0.00000000e+00 0.00000000e+00 5.03707831e-03 0.00000000e+00\n",
      " 0.00000000e+00 0.00000000e+00 4.46989059e-03 0.00000000e+00\n",
      " 4.62687258e-03 7.60069086e-05 0.00000000e+00 0.00000000e+00\n",
      " 0.00000000e+00 1.48979849e-02 0.00000000e+00 0.00000000e+00\n",
      " 0.00000000e+00 0.00000000e+00 1.39528490e-01 9.02582040e-05\n",
      " 1.19825282e-02 0.00000000e+00 0.00000000e+00 0.00000000e+00\n",
      " 0.00000000e+00 0.00000000e+00 0.00000000e+00 0.00000000e+00\n",
      " 0.00000000e+00 0.00000000e+00 0.00000000e+00 1.60733977e-01\n",
      " 0.00000000e+00 0.00000000e+00 1.78152304e-02 0.00000000e+00\n",
      " 0.00000000e+00 1.09158236e-03 1.81149053e-03 3.67537643e-01\n",
      " 0.00000000e+00 0.00000000e+00 0.00000000e+00 8.02295146e-05\n",
      " 0.00000000e+00 0.00000000e+00 0.00000000e+00 0.00000000e+00\n",
      " 0.00000000e+00 5.69651169e-02 0.00000000e+00 0.00000000e+00\n",
      " 0.00000000e+00 0.00000000e+00 0.00000000e+00 0.00000000e+00\n",
      " 0.00000000e+00 1.90017272e-03 0.00000000e+00 7.24179963e-03\n",
      " 0.00000000e+00 0.00000000e+00 2.32924397e-03 0.00000000e+00\n",
      " 0.00000000e+00 0.00000000e+00 5.79741807e-03 1.64680282e-02\n",
      " 0.00000000e+00 0.00000000e+00 0.00000000e+00 0.00000000e+00\n",
      " 0.00000000e+00 2.31734268e-04 1.75496619e-02 1.16891328e-02\n",
      " 1.17205790e-01 0.00000000e+00 0.00000000e+00 0.00000000e+00\n",
      " 0.00000000e+00 0.00000000e+00 0.00000000e+00 0.00000000e+00\n",
      " 0.00000000e+00 0.00000000e+00 0.00000000e+00 9.52289456e-03\n",
      " 9.50513120e-03 0.00000000e+00 0.00000000e+00 0.00000000e+00\n",
      " 0.00000000e+00 0.00000000e+00 0.00000000e+00 0.00000000e+00\n",
      " 0.00000000e+00 1.16208665e-03 0.00000000e+00 0.00000000e+00\n",
      " 0.00000000e+00 0.00000000e+00 4.25186931e-04 0.00000000e+00\n",
      " 0.00000000e+00 0.00000000e+00 0.00000000e+00 1.20200479e-02\n",
      " 0.00000000e+00 0.00000000e+00 2.07291569e-04]\n"
     ]
    }
   ],
   "source": [
    "print(\"Feature importances:\\n{}\".format(tree.feature_importances_))"
   ]
  },
  {
   "cell_type": "code",
   "execution_count": 10,
   "metadata": {},
   "outputs": [
    {
     "data": {
      "text/plain": [
       "Text(0, 0.5, 'Feature index')"
      ]
     },
     "execution_count": 10,
     "metadata": {},
     "output_type": "execute_result"
    },
    {
     "data": {
      "image/png": "[encoded data removed]",
      "text/plain": [
       "<Figure size 720x720 with 1 Axes>"
      ]
     },
     "metadata": {
      "needs_background": "light"
     },
     "output_type": "display_data"
    }
   ],
   "source": [
    "n_features = data.shape[1]\n",
    "plt.rcParams[\"figure.figsize\"] = (10,10)\n",
    "plt.barh(range(n_features), tree.feature_importances_, align='center') \n",
    "plt.yticks(np.arange(5,125,10), np.arange(5,125,10)) \n",
    "plt.xlabel(\"Feature importance\")\n",
    "plt.ylabel(\"Feature index\")"
   ]
  },
  {
   "cell_type": "markdown",
   "metadata": {},
   "source": [
    "As we can see, out of 119 features only a very few are actually used by the learning algorithm. Let's apply some pruning on the features to see if it improves the accuracies (or even the speed of the process)."
   ]
  },
  {
   "cell_type": "code",
   "execution_count": 21,
   "metadata": {
    "scrolled": false
   },
   "outputs": [
    {
     "name": "stdout",
     "output_type": "stream",
     "text": [
      "Execution            # features  Features selected      Training set acc    Test acc    Time (s)    Fixed cost (s)\n",
      "-----------------  ------------  -------------------  ------------------  ----------  ----------  ----------------\n",
      "Classic                     119  ['f1',...,'f119']              0.994171    0.996849    0.275114          0\n",
      "K best features              13  ['f22','f26','f30',            0.992124    0.994959    0.128377          0.25784\n",
      "                                 'f40','f43','f48',\n",
      "                                 'f54','f58','f71',\n",
      "                                 'f77','f85','f103',\n",
      "                                 'f116']\n",
      "Iterative process             2  ['f40','f48']                  0.983302    0.981727    0.117733          0.578491\n"
     ]
    }
   ],
   "source": [
    "feature_selection('../../../dumps/various_sizes/8K.csv','tree')"
   ]
  },
  {
   "cell_type": "markdown",
   "metadata": {},
   "source": [
    "Let's see if the performance can be improved when using a larger dataset which is around twice the size of the previous one (16000 entries)."
   ]
  },
  {
   "cell_type": "code",
   "execution_count": 22,
   "metadata": {},
   "outputs": [
    {
     "name": "stdout",
     "output_type": "stream",
     "text": [
      "Execution            # features  Features selected      Training set acc    Test acc    Time (s)    Fixed cost (s)\n",
      "-----------------  ------------  -------------------  ------------------  ----------  ----------  ----------------\n",
      "Classic                     119  ['f1',...,'f119']              0.992049    0.988155    0.506215          0\n",
      "K best features              17  ['f11','f22','f27',            0.991737    0.986596    0.251494          0.457815\n",
      "                                 'f29','f40','f43',\n",
      "                                 'f48','f58','f68',\n",
      "                                 'f75','f76','f83',\n",
      "                                 'f84','f85','f96',\n",
      "                                 'f97','f116']\n",
      "Iterative process             5  ['f40','f43','f48',            0.98667     0.98005     0.253218          1.16491\n",
      "                                 'f58','f76']\n"
     ]
    }
   ],
   "source": [
    "feature_selection('../../../dumps/various_sizes/16K.csv','tree')"
   ]
  },
  {
   "cell_type": "markdown",
   "metadata": {},
   "source": [
    "We can notice that the results we get with the first feature extraction are really close to the classical ones but faster, which means that the model could definitely be simplified to a few features without loosing to much accuracy. The performances we get when applying our iterative process are also quite close, just slighly worse but we suffer from time explosion while the K best features extraction decreases the overall time."
   ]
  },
  {
   "cell_type": "markdown",
   "metadata": {},
   "source": [
    "Let's see how it goes when modifying the threshold for feature importance (default value is 0.5%) :"
   ]
  },
  {
   "cell_type": "code",
   "execution_count": 14,
   "metadata": {},
   "outputs": [
    {
     "name": "stdout",
     "output_type": "stream",
     "text": [
      "Threshold : 0.005000\n",
      "Execution            # features  Features selected      Training set acc    Test acc    Time (s)    Fixed cost (s)\n",
      "-----------------  ------------  -------------------  ------------------  ----------  ----------  ----------------\n",
      "Classic                     119  ['f1',...,'f119']              0.992049    0.988155    0.52422           0\n",
      "K best features              17  ['f11','f22','f27',            0.991737    0.986596    0.28173           0.478526\n",
      "                                 'f29','f40','f43',\n",
      "                                 'f48','f58','f68',\n",
      "                                 'f75','f76','f83',\n",
      "                                 'f84','f85','f96',\n",
      "                                 'f97','f116']\n",
      "Iterative process             5  ['f40','f43','f48',            0.98667     0.98005     0.237272          1.13358\n",
      "                                 'f58','f76']\n",
      "\n",
      "\n",
      "Threshold : 0.010000\n",
      "Execution            # features  Features selected      Training set acc    Test acc    Time (s)    Fixed cost (s)\n",
      "-----------------  ------------  -------------------  ------------------  ----------  ----------  ----------------\n",
      "Classic                     119  ['f1',...,'f119']              0.992049    0.988155    0.46143           0\n",
      "K best features              12  ['f22','f27','f29',            0.989086    0.983167    0.246549          0.470246\n",
      "                                 'f40','f43','f48',\n",
      "                                 'f58','f76','f83',\n",
      "                                 'f84','f85','f116']\n",
      "Iterative process             5  ['f40','f43','f48',            0.98667     0.98005     0.231383          1.13284\n",
      "                                 'f58','f76']\n",
      "\n",
      "\n",
      "Threshold : 0.050000\n",
      "Execution            # features  Features selected      Training set acc    Test acc    Time (s)    Fixed cost (s)\n",
      "-----------------  ------------  -------------------  ------------------  ----------  ----------  ----------------\n",
      "Classic                     119  ['f1',...,'f119']              0.992049    0.988155    0.470937          0\n",
      "K best features               5  ['f27','f40','f48',            0.986514    0.983791    0.320454          0.467876\n",
      "                                 'f58','f85']\n",
      "Iterative process             3  ['f40','f48','f58']            0.981447    0.975998    0.22839           1.19496\n",
      "\n",
      "\n",
      "Threshold : 0.100000\n",
      "Execution            # features  Features selected      Training set acc    Test acc    Time (s)    Fixed cost (s)\n",
      "-----------------  ------------  -------------------  ------------------  ----------  ----------  ----------------\n",
      "Classic                     119  ['f1',...,'f119']              0.992049    0.988155    0.484624          0\n",
      "K best features               4  ['f27','f40','f48',            0.986046    0.984102    0.244845          0.469416\n",
      "                                 'f85']\n",
      "Iterative process             1  ['f48']                        0.950577    0.943579    0.234409          1.1375\n",
      "\n",
      "\n",
      "Threshold : 0.200000\n",
      "Execution            # features  Features selected      Training set acc    Test acc    Time (s)    Fixed cost (s)\n",
      "-----------------  ------------  -------------------  ------------------  ----------  ----------  ----------------\n",
      "Classic                     119  ['f1',...,'f119']              0.992049    0.988155    0.476242          0\n",
      "K best features               1  ['f48']                        0.950577    0.943579    0.223231          0.463092\n",
      "Iterative process             1  ['f48']                        0.950577    0.943579    0.222074          1.15376\n",
      "\n",
      "\n"
     ]
    },
    {
     "data": {
      "text/plain": [
       "[['K best features',\n",
       "  array(['f11', 'f22', 'f27', 'f29', 'f40', 'f43', 'f48', 'f58', 'f68',\n",
       "         'f75', 'f76', 'f83', 'f84', 'f85', 'f96', 'f97', 'f116'],\n",
       "        dtype=object),\n",
       "  293.27118494819007],\n",
       " ['Iterative process', ['f40', 'f43', 'f48', 'f58', 'f76'], 66.73846556627699]]"
      ]
     },
     "execution_count": 14,
     "metadata": {},
     "output_type": "execute_result"
    }
   ],
   "source": [
    "fs_driver('../../../dumps/various_sizes/16K.csv','tree',[0.005,0.01,0.05,0.1,0.2])"
   ]
  },
  {
   "cell_type": "markdown",
   "metadata": {},
   "source": [
    "We could reduce our model to only feature 48 in order to save twice the amount of time while accepting a degradation of 4-5% in terms of accuracy."
   ]
  },
  {
   "cell_type": "code",
   "execution_count": 6,
   "metadata": {},
   "outputs": [
    {
     "name": "stderr",
     "output_type": "stream",
     "text": [
      "/usr/local/lib/python3.7/site-packages/sklearn/feature_selection/_base.py:81: UserWarning: No features were selected: either the data is too noisy or the selection test too strict.\n",
      "  UserWarning)\n",
      "/usr/local/lib/python3.7/site-packages/sklearn/feature_selection/_base.py:81: UserWarning: No features were selected: either the data is too noisy or the selection test too strict.\n",
      "  UserWarning)\n",
      "/usr/local/lib/python3.7/site-packages/sklearn/feature_selection/_base.py:81: UserWarning: No features were selected: either the data is too noisy or the selection test too strict.\n",
      "  UserWarning)\n",
      "/usr/local/lib/python3.7/site-packages/sklearn/feature_selection/_base.py:81: UserWarning: No features were selected: either the data is too noisy or the selection test too strict.\n",
      "  UserWarning)\n",
      "/usr/local/lib/python3.7/site-packages/sklearn/feature_selection/_base.py:81: UserWarning: No features were selected: either the data is too noisy or the selection test too strict.\n",
      "  UserWarning)\n",
      "/usr/local/lib/python3.7/site-packages/sklearn/feature_selection/_base.py:81: UserWarning: No features were selected: either the data is too noisy or the selection test too strict.\n",
      "  UserWarning)\n",
      "/usr/local/lib/python3.7/site-packages/sklearn/feature_selection/_base.py:81: UserWarning: No features were selected: either the data is too noisy or the selection test too strict.\n",
      "  UserWarning)\n"
     ]
    },
    {
     "name": "stdout",
     "output_type": "stream",
     "text": [
      "K best features : \n",
      "\n",
      "Accuracy on training set: 0.984\n",
      "Accuracy on test set: 0.985\n",
      "------------------------------ \n",
      "\n",
      "Iterative process : \n",
      "\n",
      "Accuracy on training set: 0.970\n",
      "Accuracy on test set: 0.970\n"
     ]
    }
   ],
   "source": [
    "feature_snapshot('../../../dumps/time_analysis/threshold_3/3_20190615_31000.csv','tree')"
   ]
  },
  {
   "cell_type": "code",
   "execution_count": null,
   "metadata": {},
   "outputs": [],
   "source": []
  }
 ],
 "metadata": {
  "kernelspec": {
   "display_name": "Python 3",
   "language": "python",
   "name": "python3"
  },
  "language_info": {
   "codemirror_mode": {
    "name": "ipython",
    "version": 3
   },
   "file_extension": ".py",
   "mimetype": "text/x-python",
   "name": "python",
   "nbconvert_exporter": "python",
   "pygments_lexer": "ipython3",
   "version": "3.7.7"
  }
 },
 "nbformat": 4,
 "nbformat_minor": 2
}
