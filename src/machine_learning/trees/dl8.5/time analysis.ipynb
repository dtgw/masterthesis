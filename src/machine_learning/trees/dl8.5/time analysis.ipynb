{
 "cells": [
  {
   "cell_type": "code",
   "execution_count": 17,
   "metadata": {},
   "outputs": [
    {
     "name": "stdout",
     "output_type": "stream",
     "text": [
      "The autoreload extension is already loaded. To reload it, use:\n",
      "  %reload_ext autoreload\n"
     ]
    }
   ],
   "source": [
    "%load_ext autoreload\n",
    "%autoreload\n",
    "\n",
    "import sys\n",
    "import time\n",
    "\n",
    "import pandas as pd\n",
    "import numpy as np\n",
    "from tabulate import tabulate\n",
    "import matplotlib.pyplot as plt\n",
    "from joblib import dump, load\n",
    "\n",
    "from dl85 import DL85Classifier\n",
    "from sklearn.model_selection import train_test_split\n",
    "\n",
    "sys.path.append('../../utils')\n",
    "from toBoolean import convert"
   ]
  },
  {
   "cell_type": "code",
   "execution_count": 18,
   "metadata": {},
   "outputs": [
    {
     "name": "stdout",
     "output_type": "stream",
     "text": [
      "Acceptation threshold : 1/5 \n",
      "\n",
      "DL8.5 fitting: Solution found\n",
      "DL8.5 fitting: Solution found\n",
      "DL8.5 fitting: Solution found\n",
      "DL8.5 fitting: Timeout reached but solution found\n",
      "  # malwares in training set    Approx. period in weeks    Training acc    Test acc\n",
      "----------------------------  -------------------------  --------------  ----------\n",
      "                        6000                   0.857143        0.949667       0.279\n",
      "                       14000                   2               0.950357       0.333\n",
      "                       21000                   3               0.936524       0.657\n",
      "                       31000                   4.42857         0.890194       0.657\n",
      "Acceptation threshold : 2/5 \n",
      "\n",
      "DL8.5 fitting: Solution found\n",
      "DL8.5 fitting: Solution found\n",
      "DL8.5 fitting: Solution found\n",
      "DL8.5 fitting: Timeout reached but solution found\n",
      "  # malwares in training set    Approx. period in weeks    Training acc    Test acc\n",
      "----------------------------  -------------------------  --------------  ----------\n",
      "                        6000                   0.857143        0.972167       0.749\n",
      "                       14000                   2               0.971357       0.749\n",
      "                       21000                   3               0.955952       0.626\n",
      "                       31000                   4.42857         0.901097       0.629\n",
      "Acceptation threshold : 3/5 \n",
      "\n",
      "DL8.5 fitting: Solution found\n",
      "DL8.5 fitting: Solution found\n",
      "DL8.5 fitting: Solution found\n",
      "DL8.5 fitting: Timeout reached but solution found\n",
      "  # malwares in training set    Approx. period in weeks    Training acc    Test acc\n",
      "----------------------------  -------------------------  --------------  ----------\n",
      "                        6000                   0.857143        0.982167       0.873\n",
      "                       14000                   2               0.981214       0.698\n",
      "                       21000                   3               0.97581        0.698\n",
      "                       31000                   4.42857         0.963323       0.699\n",
      "Acceptation threshold : 4/5 \n",
      "\n",
      "DL8.5 fitting: Solution found\n",
      "DL8.5 fitting: Solution found\n",
      "DL8.5 fitting: Solution found\n",
      "DL8.5 fitting: Timeout reached but solution found\n",
      "  # malwares in training set    Approx. period in weeks    Training acc    Test acc\n",
      "----------------------------  -------------------------  --------------  ----------\n",
      "                        6000                   0.857143        0.983667       0.829\n",
      "                       14000                   2               0.982214       0.892\n",
      "                       21000                   3               0.977238       0.822\n",
      "                       31000                   4.42857         0.969226       0.809\n",
      "Acceptation threshold : 5/5 \n",
      "\n",
      "DL8.5 fitting: Solution found\n",
      "DL8.5 fitting: Solution found\n",
      "DL8.5 fitting: Solution found\n",
      "DL8.5 fitting: Timeout reached but solution found\n",
      "  # malwares in training set    Approx. period in weeks    Training acc    Test acc\n",
      "----------------------------  -------------------------  --------------  ----------\n",
      "                        6000                   0.857143        0.983667       0.829\n",
      "                       14000                   2               0.982214       0.892\n",
      "                       21000                   3               0.977238       0.822\n",
      "                       31000                   4.42857         0.969226       0.809\n"
     ]
    }
   ],
   "source": [
    "kind = \"dl8.5\"\n",
    "clf = DL85Classifier(max_depth=3, time_limit=120)\n",
    "file_path = \"_20190615_\"\n",
    "path_to_parent = \"../\"\n",
    "csv_path = path_to_parent+\"../../dumps/time_analysis/threshold_\"\n",
    "snap_path = \"snapshots/\"\n",
    "size = [\"6000\",\"14000\",\"21000\",\"31000\"]\n",
    "thresholds = [\"1\",\"2\",\"3\",\"4\",\"5\"]\n",
    "for t in thresholds:\n",
    "    print(\"Acceptation threshold : %s/5 \\n\" % t)\n",
    "    cell_text = []\n",
    "    for i in size:\n",
    "        row = []\n",
    "        row.append(i)\n",
    "        row.append(float(i)/7000)\n",
    "\n",
    "        folder = csv_path+t+\"/\"\n",
    "        file = t+file_path+i+\".csv\"\n",
    "        csv_file = folder+file\n",
    "        gt = pd.read_csv(csv_file)\n",
    "        data_train = convert(gt,True)\n",
    "        target_train = gt['label']\n",
    "\n",
    "        clf.fit(data_train, target_train)\n",
    "\n",
    "        snap_file = snap_path+kind+\"_\"+t+file_path+i+\".joblib\"\n",
    "        dump(clf,snap_file)\n",
    "        clf = load(snap_file)\n",
    "\n",
    "        gt = pd.read_csv(folder+t+\"_20190808_1000.csv\")\n",
    "        data_test = convert(gt,True)\n",
    "        target_test = gt['label']\n",
    "\n",
    "        row.append(clf.score(data_train, target_train))\n",
    "        row.append(clf.score(data_test, target_test))\n",
    "        cell_text.append(row)\n",
    "    print(tabulate(cell_text, headers = ['# malwares in training set','Approx. period in weeks','Training acc','Test acc']))"
   ]
  },
  {
   "cell_type": "code",
   "execution_count": null,
   "metadata": {},
   "outputs": [],
   "source": []
  }
 ],
 "metadata": {
  "kernelspec": {
   "display_name": "Python 3",
   "language": "python",
   "name": "python3"
  },
  "language_info": {
   "codemirror_mode": {
    "name": "ipython",
    "version": 3
   },
   "file_extension": ".py",
   "mimetype": "text/x-python",
   "name": "python",
   "nbconvert_exporter": "python",
   "pygments_lexer": "ipython3",
   "version": "3.7.7"
  }
 },
 "nbformat": 4,
 "nbformat_minor": 2
}
