{
 "cells": [
  {
   "cell_type": "markdown",
   "metadata": {},
   "source": [
    "# Dataset variations"
   ]
  },
  {
   "cell_type": "code",
   "execution_count": 19,
   "metadata": {},
   "outputs": [
    {
     "name": "stdout",
     "output_type": "stream",
     "text": [
      "The autoreload extension is already loaded. To reload it, use:\n",
      "  %reload_ext autoreload\n"
     ]
    }
   ],
   "source": [
    "%load_ext autoreload\n",
    "%autoreload\n",
    "\n",
    "# Imports\n",
    "import pandas as pd\n",
    "from sklearn.model_selection import train_test_split\n",
    "from dl85 import DL85Classifier\n",
    "\n",
    "import sys\n",
    "sys.path.append(\"../../utils\")\n",
    "from utils import perf, thomas_parser\n",
    "from toBoolean import convert"
   ]
  },
  {
   "cell_type": "code",
   "execution_count": 20,
   "metadata": {},
   "outputs": [
    {
     "name": "stdout",
     "output_type": "stream",
     "text": [
      "DL8.5 fitting: Solution found\n",
      "Most important : \n",
      "\n",
      "Accuracy on training set: 0.977\n",
      "Accuracy on test set: 0.979\n",
      "DL8.5 fitting: Solution found\n",
      "---------------\n",
      "\n",
      "All features : \n",
      "\n",
      "Accuracy on training set: 0.992\n",
      "Accuracy on test set: 0.992\n"
     ]
    }
   ],
   "source": [
    "perf('../../../dumps/dataset_variations/16K-19-05-T3.csv','dl8.5',True)"
   ]
  },
  {
   "cell_type": "markdown",
   "metadata": {},
   "source": [
    "## Different thresholds"
   ]
  },
  {
   "cell_type": "code",
   "execution_count": 21,
   "metadata": {},
   "outputs": [
    {
     "name": "stdout",
     "output_type": "stream",
     "text": [
      "DL8.5 fitting: Solution found\n",
      "Most important : \n",
      "\n",
      "Accuracy on training set: 0.950\n",
      "Accuracy on test set: 0.954\n",
      "DL8.5 fitting: Solution found\n",
      "---------------\n",
      "\n",
      "All features : \n",
      "\n",
      "Accuracy on training set: 0.950\n",
      "Accuracy on test set: 0.954\n"
     ]
    }
   ],
   "source": [
    "perf('../../../dumps/dataset_variations/16K-19-05-T1.csv','dl8.5',True)"
   ]
  },
  {
   "cell_type": "code",
   "execution_count": 22,
   "metadata": {},
   "outputs": [
    {
     "name": "stdout",
     "output_type": "stream",
     "text": [
      "DL8.5 fitting: Solution found\n",
      "Most important : \n",
      "\n",
      "Accuracy on training set: 0.980\n",
      "Accuracy on test set: 0.983\n",
      "DL8.5 fitting: Solution found\n",
      "---------------\n",
      "\n",
      "All features : \n",
      "\n",
      "Accuracy on training set: 0.985\n",
      "Accuracy on test set: 0.985\n"
     ]
    }
   ],
   "source": [
    "perf('../../../dumps/dataset_variations/16K-19-05-T2.csv','dl8.5',True)"
   ]
  },
  {
   "cell_type": "code",
   "execution_count": 23,
   "metadata": {},
   "outputs": [
    {
     "name": "stdout",
     "output_type": "stream",
     "text": [
      "DL8.5 fitting: Solution found\n",
      "Most important : \n",
      "\n",
      "Accuracy on training set: 0.989\n",
      "Accuracy on test set: 0.989\n",
      "DL8.5 fitting: Solution found\n",
      "---------------\n",
      "\n",
      "All features : \n",
      "\n",
      "Accuracy on training set: 0.994\n",
      "Accuracy on test set: 0.994\n"
     ]
    }
   ],
   "source": [
    "perf('../../../dumps/dataset_variations/16K-19-05-T4.csv','dl8.5',True)"
   ]
  },
  {
   "cell_type": "code",
   "execution_count": 24,
   "metadata": {},
   "outputs": [
    {
     "name": "stdout",
     "output_type": "stream",
     "text": [
      "DL8.5 fitting: Solution found\n",
      "Most important : \n",
      "\n",
      "Accuracy on training set: 0.986\n",
      "Accuracy on test set: 0.986\n",
      "DL8.5 fitting: Solution found\n",
      "---------------\n",
      "\n",
      "All features : \n",
      "\n",
      "Accuracy on training set: 0.994\n",
      "Accuracy on test set: 0.993\n"
     ]
    }
   ],
   "source": [
    "perf('../../../dumps/dataset_variations/16K-19-05-T5.csv','dl8.5',True)"
   ]
  },
  {
   "cell_type": "markdown",
   "metadata": {},
   "source": [
    "## Errors considered as positive result from detector"
   ]
  },
  {
   "cell_type": "code",
   "execution_count": 25,
   "metadata": {},
   "outputs": [
    {
     "name": "stdout",
     "output_type": "stream",
     "text": [
      "DL8.5 fitting: Solution found\n",
      "Most important : \n",
      "\n",
      "Accuracy on training set: 0.977\n",
      "Accuracy on test set: 0.979\n",
      "DL8.5 fitting: Solution found\n",
      "---------------\n",
      "\n",
      "All features : \n",
      "\n",
      "Accuracy on training set: 0.992\n",
      "Accuracy on test set: 0.991\n"
     ]
    }
   ],
   "source": [
    "perf('../../../dumps/dataset_variations/16K-22-05-error.csv','dl8.5',True)"
   ]
  },
  {
   "cell_type": "markdown",
   "metadata": {},
   "source": [
    "## Check influence of each detector"
   ]
  },
  {
   "cell_type": "code",
   "execution_count": 26,
   "metadata": {},
   "outputs": [
    {
     "name": "stdout",
     "output_type": "stream",
     "text": [
      "DL8.5 fitting: Solution found\n",
      "Most important : \n",
      "\n",
      "Accuracy on training set: 0.977\n",
      "Accuracy on test set: 0.978\n",
      "DL8.5 fitting: Solution found\n",
      "---------------\n",
      "\n",
      "All features : \n",
      "\n",
      "Accuracy on training set: 0.991\n",
      "Accuracy on test set: 0.988\n"
     ]
    }
   ],
   "source": [
    "perf('../../../dumps/dataset_variations/16K-22-05-DIE.csv','dl8.5',True)"
   ]
  },
  {
   "cell_type": "code",
   "execution_count": 27,
   "metadata": {},
   "outputs": [
    {
     "name": "stdout",
     "output_type": "stream",
     "text": [
      "DL8.5 fitting: Solution found\n",
      "Most important : \n",
      "\n",
      "Accuracy on training set: 0.990\n",
      "Accuracy on test set: 0.988\n",
      "DL8.5 fitting: Solution found\n",
      "---------------\n",
      "\n",
      "All features : \n",
      "\n",
      "Accuracy on training set: 0.995\n",
      "Accuracy on test set: 0.994\n"
     ]
    }
   ],
   "source": [
    "perf('../../../dumps/dataset_variations/16K-22-05-CISCO.csv','dl8.5',True)"
   ]
  },
  {
   "cell_type": "code",
   "execution_count": 28,
   "metadata": {},
   "outputs": [
    {
     "name": "stdout",
     "output_type": "stream",
     "text": [
      "DL8.5 fitting: Solution found\n",
      "Most important : \n",
      "\n",
      "Accuracy on training set: 0.976\n",
      "Accuracy on test set: 0.972\n",
      "DL8.5 fitting: Solution found\n",
      "---------------\n",
      "\n",
      "All features : \n",
      "\n",
      "Accuracy on training set: 0.990\n",
      "Accuracy on test set: 0.991\n"
     ]
    }
   ],
   "source": [
    "perf('../../../dumps/dataset_variations/16K-22-05-MANALYZE.csv','dl8.5',True)"
   ]
  },
  {
   "cell_type": "code",
   "execution_count": 29,
   "metadata": {},
   "outputs": [
    {
     "name": "stdout",
     "output_type": "stream",
     "text": [
      "DL8.5 fitting: Solution found\n",
      "Most important : \n",
      "\n",
      "Accuracy on training set: 0.990\n",
      "Accuracy on test set: 0.988\n",
      "DL8.5 fitting: Solution found\n",
      "---------------\n",
      "\n",
      "All features : \n",
      "\n",
      "Accuracy on training set: 0.994\n",
      "Accuracy on test set: 0.992\n"
     ]
    }
   ],
   "source": [
    "perf('../../../dumps/dataset_variations/16K-22-05-PEID.csv','dl8.5',True)"
   ]
  },
  {
   "cell_type": "code",
   "execution_count": 30,
   "metadata": {},
   "outputs": [
    {
     "name": "stdout",
     "output_type": "stream",
     "text": [
      "DL8.5 fitting: Solution found\n",
      "Most important : \n",
      "\n",
      "Accuracy on training set: 0.993\n",
      "Accuracy on test set: 0.991\n",
      "DL8.5 fitting: Solution found\n",
      "---------------\n",
      "\n",
      "All features : \n",
      "\n",
      "Accuracy on training set: 0.996\n",
      "Accuracy on test set: 0.994\n"
     ]
    }
   ],
   "source": [
    "perf('../../../dumps/dataset_variations/16K-22-05-PEFRAME.csv','dl8.5',True)"
   ]
  },
  {
   "cell_type": "markdown",
   "metadata": {},
   "source": [
    "## Only boolean values"
   ]
  },
  {
   "cell_type": "code",
   "execution_count": 31,
   "metadata": {},
   "outputs": [
    {
     "name": "stdout",
     "output_type": "stream",
     "text": [
      "DL8.5 fitting: Solution found\n",
      "Most important : \n",
      "\n",
      "Accuracy on training set: 0.977\n",
      "Accuracy on test set: 0.979\n",
      "DL8.5 fitting: Solution found\n",
      "---------------\n",
      "\n",
      "All features : \n",
      "\n",
      "Accuracy on training set: 0.992\n",
      "Accuracy on test set: 0.992\n"
     ]
    }
   ],
   "source": [
    "perf('../../../dumps/dataset_variations/16K-19-05-T3.csv','dl8.5',True)"
   ]
  },
  {
   "cell_type": "markdown",
   "metadata": {},
   "source": [
    "## Agreement on same packer"
   ]
  },
  {
   "cell_type": "code",
   "execution_count": 32,
   "metadata": {},
   "outputs": [
    {
     "name": "stdout",
     "output_type": "stream",
     "text": [
      "DL8.5 fitting: Solution found\n",
      "Most important : \n",
      "\n",
      "Accuracy on training set: 0.979\n",
      "Accuracy on test set: 0.981\n",
      "DL8.5 fitting: Solution found\n",
      "---------------\n",
      "\n",
      "All features : \n",
      "\n",
      "Accuracy on training set: 0.992\n",
      "Accuracy on test set: 0.990\n"
     ]
    }
   ],
   "source": [
    "perf('../../../dumps/dataset_variations/16K-22-05-agreement.csv','dl8.5',True)"
   ]
  },
  {
   "cell_type": "markdown",
   "metadata": {},
   "source": [
    "## Test with Thomas datasets"
   ]
  },
  {
   "cell_type": "code",
   "execution_count": 33,
   "metadata": {},
   "outputs": [
    {
     "ename": "NameError",
     "evalue": "name 'data_train' is not defined",
     "output_type": "error",
     "traceback": [
      "\u001b[0;31m---------------------------------------------------------------------------\u001b[0m",
      "\u001b[0;31mNameError\u001b[0m                                 Traceback (most recent call last)",
      "\u001b[0;32m<ipython-input-33-89966ea3e75d>\u001b[0m in \u001b[0;36m<module>\u001b[0;34m\u001b[0m\n\u001b[0;32m----> 1\u001b[0;31m \u001b[0mgt\u001b[0m \u001b[0;34m=\u001b[0m \u001b[0mpd\u001b[0m\u001b[0;34m.\u001b[0m\u001b[0mread_csv\u001b[0m\u001b[0;34m(\u001b[0m\u001b[0mthomas_parser\u001b[0m\u001b[0;34m(\u001b[0m\u001b[0;34m\"../../../dumps/thomas_datasets/2019-08.Merged\"\u001b[0m\u001b[0;34m)\u001b[0m\u001b[0;34m)\u001b[0m\u001b[0;34m\u001b[0m\u001b[0;34m\u001b[0m\u001b[0m\n\u001b[0m\u001b[1;32m      2\u001b[0m \u001b[0mdata\u001b[0m \u001b[0;34m=\u001b[0m \u001b[0mconvert\u001b[0m\u001b[0;34m(\u001b[0m\u001b[0mgt\u001b[0m\u001b[0;34m)\u001b[0m\u001b[0;34m\u001b[0m\u001b[0;34m\u001b[0m\u001b[0m\n\u001b[1;32m      3\u001b[0m \u001b[0mtarget\u001b[0m \u001b[0;34m=\u001b[0m \u001b[0mgt\u001b[0m\u001b[0;34m[\u001b[0m\u001b[0;34m'label'\u001b[0m\u001b[0;34m]\u001b[0m\u001b[0;34m\u001b[0m\u001b[0;34m\u001b[0m\u001b[0m\n\u001b[1;32m      4\u001b[0m \u001b[0;34m\u001b[0m\u001b[0m\n\u001b[1;32m      5\u001b[0m \u001b[0mdata_train\u001b[0m\u001b[0;34m,\u001b[0m \u001b[0mdata_test\u001b[0m\u001b[0;34m,\u001b[0m \u001b[0mtarget_train\u001b[0m\u001b[0;34m,\u001b[0m \u001b[0mtarget_test\u001b[0m \u001b[0;34m=\u001b[0m \u001b[0mtrain_test_split\u001b[0m\u001b[0;34m(\u001b[0m\u001b[0mdata\u001b[0m\u001b[0;34m,\u001b[0m\u001b[0mtarget\u001b[0m\u001b[0;34m,\u001b[0m \u001b[0mtest_size\u001b[0m \u001b[0;34m=\u001b[0m \u001b[0;36m0.20\u001b[0m\u001b[0;34m,\u001b[0m \u001b[0mrandom_state\u001b[0m \u001b[0;34m=\u001b[0m \u001b[0;36m0\u001b[0m\u001b[0;34m)\u001b[0m\u001b[0;34m\u001b[0m\u001b[0;34m\u001b[0m\u001b[0m\n",
      "\u001b[0;32m~/Documents/UCL/Memoire/masterthesis/src/machine_learning/utils/utils.py\u001b[0m in \u001b[0;36mthomas_parser\u001b[0;34m(csv_path)\u001b[0m\n\u001b[1;32m    423\u001b[0m \tdf1 = pd.DataFrame(data=data[0:,0:],\n\u001b[1;32m    424\u001b[0m                             \u001b[0mindex\u001b[0m\u001b[0;34m=\u001b[0m\u001b[0;34m[\u001b[0m\u001b[0mi\u001b[0m \u001b[0;32mfor\u001b[0m \u001b[0mi\u001b[0m \u001b[0;32min\u001b[0m \u001b[0mrange\u001b[0m\u001b[0;34m(\u001b[0m\u001b[0mdata\u001b[0m\u001b[0;34m.\u001b[0m\u001b[0mshape\u001b[0m\u001b[0;34m[\u001b[0m\u001b[0;36m0\u001b[0m\u001b[0;34m]\u001b[0m\u001b[0;34m)\u001b[0m\u001b[0;34m]\u001b[0m\u001b[0;34m,\u001b[0m\u001b[0;34m\u001b[0m\u001b[0;34m\u001b[0m\u001b[0m\n\u001b[0;32m--> 425\u001b[0;31m \t                    columns=['f'+str(i) for i in range(1, data_train.shape[1]+1)])\n\u001b[0m\u001b[1;32m    426\u001b[0m         \u001b[0mtarget\u001b[0m \u001b[0;34m=\u001b[0m \u001b[0mnp\u001b[0m\u001b[0;34m.\u001b[0m\u001b[0marray\u001b[0m\u001b[0;34m(\u001b[0m\u001b[0mtarget_filter\u001b[0m\u001b[0;34m)\u001b[0m\u001b[0;34m\u001b[0m\u001b[0;34m\u001b[0m\u001b[0m\n\u001b[1;32m    427\u001b[0m         \u001b[0mdf2\u001b[0m \u001b[0;34m=\u001b[0m \u001b[0mpd\u001b[0m\u001b[0;34m.\u001b[0m\u001b[0mDataFrame\u001b[0m\u001b[0;34m(\u001b[0m\u001b[0;34m{\u001b[0m\u001b[0;34m'label'\u001b[0m\u001b[0;34m:\u001b[0m\u001b[0mtarget\u001b[0m\u001b[0;34m}\u001b[0m\u001b[0;34m)\u001b[0m\u001b[0;34m\u001b[0m\u001b[0;34m\u001b[0m\u001b[0m\n",
      "\u001b[0;31mNameError\u001b[0m: name 'data_train' is not defined"
     ]
    }
   ],
   "source": [
    "gt = pd.read_csv(thomas_parser(\"../../../dumps/thomas_datasets/2019-08.Merged\"))\n",
    "data = convert(gt)\n",
    "target = gt['label']\n",
    "\n",
    "data_train, data_test, target_train, target_test = train_test_split(data,target, test_size = 0.20, random_state = 0)\n",
    "\n",
    "tree = DL85Classifier(max_depth=4, time_limit=180)\n",
    "tree.fit(data_train, target_train)\n",
    "print(\"Accuracy on training set: {:.3f}\".format(tree.score(data_train, target_train))) \n",
    "print(\"Accuracy on test set: {:.3f}\".format(tree.score(data_test, target_test)))"
   ]
  },
  {
   "cell_type": "code",
   "execution_count": null,
   "metadata": {},
   "outputs": [],
   "source": [
    "gt = pd.read_csv(thomas_parser(\"../../../dumps/thomas_datasets/2019-09.Merged\"))\n",
    "data = convert(gt)\n",
    "target = gt['label']\n",
    "\n",
    "data_train, data_test, target_train, target_test = train_test_split(data,target, test_size = 0.20, random_state = 0)\n",
    "\n",
    "tree = DL85Classifier(max_depth=4, time_limit=180)\n",
    "tree.fit(data_train, target_train)\n",
    "print(\"Accuracy on training set: {:.3f}\".format(tree.score(data_train, target_train))) \n",
    "print(\"Accuracy on test set: {:.3f}\".format(tree.score(data_test, target_test)))"
   ]
  },
  {
   "cell_type": "code",
   "execution_count": null,
   "metadata": {},
   "outputs": [],
   "source": []
  },
  {
   "cell_type": "code",
   "execution_count": null,
   "metadata": {},
   "outputs": [],
   "source": []
  },
  {
   "cell_type": "code",
   "execution_count": null,
   "metadata": {},
   "outputs": [],
   "source": []
  }
 ],
 "metadata": {
  "kernelspec": {
   "display_name": "Python 3",
   "language": "python",
   "name": "python3"
  },
  "language_info": {
   "codemirror_mode": {
    "name": "ipython",
    "version": 3
   },
   "file_extension": ".py",
   "mimetype": "text/x-python",
   "name": "python",
   "nbconvert_exporter": "python",
   "pygments_lexer": "ipython3",
   "version": "3.7.7"
  }
 },
 "nbformat": 4,
 "nbformat_minor": 4
}
