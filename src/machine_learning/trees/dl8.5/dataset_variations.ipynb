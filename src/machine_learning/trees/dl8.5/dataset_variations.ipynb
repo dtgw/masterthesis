{
 "cells": [
  {
   "cell_type": "markdown",
   "metadata": {},
   "source": [
    "# Dataset variations"
   ]
  },
  {
   "cell_type": "code",
   "execution_count": 1,
   "metadata": {},
   "outputs": [],
   "source": [
    "# Imports\n",
    "import pandas as pd\n",
    "from sklearn.model_selection import train_test_split\n",
    "from sklearn.ensemble import GradientBoostingClassifier\n",
    "from dl85 import DL85Classifier\n",
    "\n",
    "import sys\n",
    "sys.path.append(\"../../utils\")\n",
    "from utils import perf, thomas_parser\n",
    "from toBoolean import convert"
   ]
  },
  {
   "cell_type": "code",
   "execution_count": 2,
   "metadata": {},
   "outputs": [
    {
     "name": "stdout",
     "output_type": "stream",
     "text": [
      "DL8.5 fitting: Solution found\n",
      "Most important : \n",
      "\n",
      "Accuracy on training set: 0.900\n",
      "Accuracy on test set: 0.897\n",
      "DL8.5 fitting: Solution found\n",
      "---------------\n",
      "\n",
      "All features : \n",
      "\n",
      "Accuracy on training set: 0.900\n",
      "Accuracy on test set: 0.897\n"
     ]
    }
   ],
   "source": [
    "perf('../../../dumps/dataset_variations/control_8000_false_3.csv','dl8.5',True)"
   ]
  },
  {
   "cell_type": "markdown",
   "metadata": {},
   "source": [
    "## Different thresholds"
   ]
  },
  {
   "cell_type": "code",
   "execution_count": 3,
   "metadata": {},
   "outputs": [
    {
     "name": "stdout",
     "output_type": "stream",
     "text": [
      "DL8.5 fitting: Solution found\n",
      "Most important : \n",
      "\n",
      "Accuracy on training set: 0.783\n",
      "Accuracy on test set: 0.771\n",
      "DL8.5 fitting: Solution found\n",
      "---------------\n",
      "\n",
      "All features : \n",
      "\n",
      "Accuracy on training set: 0.783\n",
      "Accuracy on test set: 0.771\n"
     ]
    }
   ],
   "source": [
    "perf('../../../dumps/dataset_variations/default_1.csv','dl8.5',True)"
   ]
  },
  {
   "cell_type": "code",
   "execution_count": 4,
   "metadata": {},
   "outputs": [
    {
     "name": "stdout",
     "output_type": "stream",
     "text": [
      "DL8.5 fitting: Solution found\n",
      "Most important : \n",
      "\n",
      "Accuracy on training set: 0.854\n",
      "Accuracy on test set: 0.843\n",
      "DL8.5 fitting: Solution found\n",
      "---------------\n",
      "\n",
      "All features : \n",
      "\n",
      "Accuracy on training set: 0.854\n",
      "Accuracy on test set: 0.843\n"
     ]
    }
   ],
   "source": [
    "perf('../../../dumps/dataset_variations/default_2.csv','dl8.5',True)"
   ]
  },
  {
   "cell_type": "code",
   "execution_count": 5,
   "metadata": {},
   "outputs": [
    {
     "name": "stdout",
     "output_type": "stream",
     "text": [
      "DL8.5 fitting: Solution found\n",
      "Most important : \n",
      "\n",
      "Accuracy on training set: 0.943\n",
      "Accuracy on test set: 0.948\n",
      "DL8.5 fitting: Solution found\n",
      "---------------\n",
      "\n",
      "All features : \n",
      "\n",
      "Accuracy on training set: 0.943\n",
      "Accuracy on test set: 0.948\n"
     ]
    }
   ],
   "source": [
    "perf('../../../dumps/dataset_variations/default_4.csv','dl8.5',True)"
   ]
  },
  {
   "cell_type": "code",
   "execution_count": 6,
   "metadata": {},
   "outputs": [
    {
     "name": "stdout",
     "output_type": "stream",
     "text": [
      "DL8.5 fitting: Solution found\n",
      "Most important : \n",
      "\n",
      "Accuracy on training set: 0.943\n",
      "Accuracy on test set: 0.948\n",
      "DL8.5 fitting: Solution found\n",
      "---------------\n",
      "\n",
      "All features : \n",
      "\n",
      "Accuracy on training set: 0.943\n",
      "Accuracy on test set: 0.948\n"
     ]
    }
   ],
   "source": [
    "perf('../../../dumps/dataset_variations/default_5.csv','dl8.5',True)"
   ]
  },
  {
   "cell_type": "markdown",
   "metadata": {},
   "source": [
    "## Errors considered as positive result from detector"
   ]
  },
  {
   "cell_type": "code",
   "execution_count": 7,
   "metadata": {},
   "outputs": [
    {
     "name": "stdout",
     "output_type": "stream",
     "text": [
      "DL8.5 fitting: Solution found\n",
      "Most important : \n",
      "\n",
      "Accuracy on training set: 0.853\n",
      "Accuracy on test set: 0.843\n",
      "DL8.5 fitting: Solution found\n",
      "---------------\n",
      "\n",
      "All features : \n",
      "\n",
      "Accuracy on training set: 0.853\n",
      "Accuracy on test set: 0.843\n"
     ]
    }
   ],
   "source": [
    "perf('../../../dumps/dataset_variations/error_as_packed.csv','dl8.5',True)"
   ]
  },
  {
   "cell_type": "markdown",
   "metadata": {},
   "source": [
    "## Check influence of each detector"
   ]
  },
  {
   "cell_type": "code",
   "execution_count": 8,
   "metadata": {},
   "outputs": [
    {
     "name": "stdout",
     "output_type": "stream",
     "text": [
      "DL8.5 fitting: Solution found\n",
      "Most important : \n",
      "\n",
      "Accuracy on training set: 0.928\n",
      "Accuracy on test set: 0.929\n",
      "DL8.5 fitting: Solution found\n",
      "---------------\n",
      "\n",
      "All features : \n",
      "\n",
      "Accuracy on training set: 0.928\n",
      "Accuracy on test set: 0.929\n"
     ]
    }
   ],
   "source": [
    "perf('../../../dumps/dataset_variations/not_die.csv','dl8.5',True)"
   ]
  },
  {
   "cell_type": "code",
   "execution_count": 9,
   "metadata": {},
   "outputs": [
    {
     "name": "stdout",
     "output_type": "stream",
     "text": [
      "DL8.5 fitting: Solution found\n",
      "Most important : \n",
      "\n",
      "Accuracy on training set: 0.918\n",
      "Accuracy on test set: 0.918\n",
      "DL8.5 fitting: Solution found\n",
      "---------------\n",
      "\n",
      "All features : \n",
      "\n",
      "Accuracy on training set: 0.918\n",
      "Accuracy on test set: 0.918\n"
     ]
    }
   ],
   "source": [
    "perf('../../../dumps/dataset_variations/not_cisco.csv','dl8.5',True)"
   ]
  },
  {
   "cell_type": "code",
   "execution_count": 10,
   "metadata": {},
   "outputs": [
    {
     "name": "stdout",
     "output_type": "stream",
     "text": [
      "DL8.5 fitting: Solution found\n",
      "Most important : \n",
      "\n",
      "Accuracy on training set: 0.941\n",
      "Accuracy on test set: 0.946\n",
      "DL8.5 fitting: Solution found\n",
      "---------------\n",
      "\n",
      "All features : \n",
      "\n",
      "Accuracy on training set: 0.941\n",
      "Accuracy on test set: 0.946\n"
     ]
    }
   ],
   "source": [
    "perf('../../../dumps/dataset_variations/not_manalyze.csv','dl8.5',True)"
   ]
  },
  {
   "cell_type": "code",
   "execution_count": 11,
   "metadata": {},
   "outputs": [
    {
     "name": "stdout",
     "output_type": "stream",
     "text": [
      "DL8.5 fitting: Solution found\n",
      "Most important : \n",
      "\n",
      "Accuracy on training set: 0.943\n",
      "Accuracy on test set: 0.948\n",
      "DL8.5 fitting: Solution found\n",
      "---------------\n",
      "\n",
      "All features : \n",
      "\n",
      "Accuracy on training set: 0.943\n",
      "Accuracy on test set: 0.948\n"
     ]
    }
   ],
   "source": [
    "perf('../../../dumps/dataset_variations/not_peid.csv','dl8.5',True)"
   ]
  },
  {
   "cell_type": "code",
   "execution_count": 12,
   "metadata": {},
   "outputs": [
    {
     "name": "stdout",
     "output_type": "stream",
     "text": [
      "DL8.5 fitting: Solution found\n",
      "Most important : \n",
      "\n",
      "Accuracy on training set: 0.943\n",
      "Accuracy on test set: 0.947\n",
      "DL8.5 fitting: Solution found\n",
      "---------------\n",
      "\n",
      "All features : \n",
      "\n",
      "Accuracy on training set: 0.943\n",
      "Accuracy on test set: 0.947\n"
     ]
    }
   ],
   "source": [
    "perf('../../../dumps/dataset_variations/not_peframe.csv','dl8.5',True)"
   ]
  },
  {
   "cell_type": "markdown",
   "metadata": {},
   "source": [
    "## Only boolean values"
   ]
  },
  {
   "cell_type": "code",
   "execution_count": 13,
   "metadata": {},
   "outputs": [
    {
     "name": "stdout",
     "output_type": "stream",
     "text": [
      "DL8.5 fitting: Solution found\n",
      "Most important : \n",
      "\n",
      "Accuracy on training set: 0.900\n",
      "Accuracy on test set: 0.897\n",
      "DL8.5 fitting: Solution found\n",
      "---------------\n",
      "\n",
      "All features : \n",
      "\n",
      "Accuracy on training set: 0.900\n",
      "Accuracy on test set: 0.897\n"
     ]
    }
   ],
   "source": [
    "perf('../../../dumps/dataset_variations/control_8000_false_3.csv','dl8.5',True)"
   ]
  },
  {
   "cell_type": "markdown",
   "metadata": {},
   "source": [
    "## Test with Thomas datasets"
   ]
  },
  {
   "cell_type": "code",
   "execution_count": 14,
   "metadata": {},
   "outputs": [
    {
     "name": "stdout",
     "output_type": "stream",
     "text": [
      "DL8.5 fitting: Timeout reached but solution found\n",
      "Accuracy on training set: 0.910\n",
      "Accuracy on test set: 0.906\n"
     ]
    }
   ],
   "source": [
    "gt = pd.read_csv(thomas_parser(\"../../../dumps/thomas_datasets/2019-08.Merged\"))\n",
    "data = convert(gt)\n",
    "target = gt['label']\n",
    "\n",
    "data_train, data_test, target_train, target_test = train_test_split(data,target, test_size = 0.20, random_state = 0)\n",
    "\n",
    "tree = DL85Classifier(max_depth=4, time_limit=180)\n",
    "tree.fit(data_train, target_train)\n",
    "print(\"Accuracy on training set: {:.3f}\".format(tree.score(data_train, target_train))) \n",
    "print(\"Accuracy on test set: {:.3f}\".format(tree.score(data_test, target_test)))"
   ]
  },
  {
   "cell_type": "code",
   "execution_count": 15,
   "metadata": {},
   "outputs": [
    {
     "name": "stdout",
     "output_type": "stream",
     "text": [
      "DL8.5 fitting: Timeout reached but solution found\n",
      "Accuracy on training set: 0.917\n",
      "Accuracy on test set: 0.915\n"
     ]
    }
   ],
   "source": [
    "gt = pd.read_csv(thomas_parser(\"../../../dumps/thomas_datasets/2019-09.Merged\"))\n",
    "data = convert(gt)\n",
    "target = gt['label']\n",
    "\n",
    "data_train, data_test, target_train, target_test = train_test_split(data,target, test_size = 0.20, random_state = 0)\n",
    "\n",
    "tree = DL85Classifier(max_depth=4, time_limit=180)\n",
    "tree.fit(data_train, target_train)\n",
    "print(\"Accuracy on training set: {:.3f}\".format(tree.score(data_train, target_train))) \n",
    "print(\"Accuracy on test set: {:.3f}\".format(tree.score(data_test, target_test)))"
   ]
  },
  {
   "cell_type": "code",
   "execution_count": null,
   "metadata": {},
   "outputs": [],
   "source": []
  }
 ],
 "metadata": {
  "kernelspec": {
   "display_name": "Python 3",
   "language": "python",
   "name": "python3"
  },
  "language_info": {
   "codemirror_mode": {
    "name": "ipython",
    "version": 3
   },
   "file_extension": ".py",
   "mimetype": "text/x-python",
   "name": "python",
   "nbconvert_exporter": "python",
   "pygments_lexer": "ipython3",
   "version": "3.6.9"
  }
 },
 "nbformat": 4,
 "nbformat_minor": 4
}
