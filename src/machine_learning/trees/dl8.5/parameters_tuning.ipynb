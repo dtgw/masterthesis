{
 "cells": [
  {
   "cell_type": "markdown",
   "metadata": {},
   "source": [
    "# Parameters tuning"
   ]
  },
  {
   "cell_type": "code",
   "execution_count": 1,
   "metadata": {},
   "outputs": [],
   "source": [
    "%load_ext autoreload\n",
    "%autoreload\n",
    "\n",
    "import sys\n",
    "import time\n",
    "\n",
    "import pandas as pd\n",
    "import numpy as np\n",
    "import matplotlib.pyplot as plt\n",
    "\n",
    "from dl85 import DL85Classifier\n",
    "from sklearn.model_selection import train_test_split\n",
    "\n",
    "sys.path.append('../../utils')\n",
    "from toBoolean import convert"
   ]
  },
  {
   "cell_type": "code",
   "execution_count": 2,
   "metadata": {},
   "outputs": [],
   "source": [
    "gt = pd.read_csv('../../../dumps/various_sizes/8K.csv')\n",
    "data = convert(gt)\n",
    "target = gt['label']\n",
    "\n",
    "data_train, data_test, target_train, target_test = train_test_split(data,target, test_size = 0.20, random_state = 0)"
   ]
  },
  {
   "cell_type": "markdown",
   "metadata": {},
   "source": [
    "## Depth"
   ]
  },
  {
   "cell_type": "markdown",
   "metadata": {},
   "source": [
    "Maximum depth of the tree to be found"
   ]
  },
  {
   "cell_type": "code",
   "execution_count": 3,
   "metadata": {},
   "outputs": [
    {
     "name": "stdout",
     "output_type": "stream",
     "text": [
      "DL8.5 fitting: Solution found\n",
      "\n",
      "=== Depth 1 ===\n",
      "Duration: 0.01s\n",
      "Accuracy on training set: 0.918\n",
      "Accuracy on test set: 0.923\n",
      "DL8.5 fitting: Solution found\n",
      "\n",
      "=== Depth 2 ===\n",
      "Duration: 0.05s\n",
      "Accuracy on training set: 0.943\n",
      "Accuracy on test set: 0.938\n",
      "DL8.5 fitting: Solution found\n",
      "\n",
      "=== Depth 3 ===\n",
      "Duration: 3.31s\n",
      "Accuracy on training set: 0.974\n",
      "Accuracy on test set: 0.970\n"
     ]
    },
    {
     "ename": "KeyboardInterrupt",
     "evalue": "",
     "output_type": "error",
     "traceback": [
      "\u001b[0;31m---------------------------------------------------------------------------\u001b[0m",
      "\u001b[0;31mKeyboardInterrupt\u001b[0m                         Traceback (most recent call last)",
      "\u001b[0;32m<ipython-input-3-a68d608b4012>\u001b[0m in \u001b[0;36m<module>\u001b[0;34m\u001b[0m\n\u001b[1;32m      7\u001b[0m     \u001b[0mstart\u001b[0m \u001b[0;34m=\u001b[0m \u001b[0mtime\u001b[0m\u001b[0;34m.\u001b[0m\u001b[0mperf_counter\u001b[0m\u001b[0;34m(\u001b[0m\u001b[0;34m)\u001b[0m\u001b[0;34m\u001b[0m\u001b[0;34m\u001b[0m\u001b[0m\n\u001b[1;32m      8\u001b[0m     \u001b[0mtree\u001b[0m \u001b[0;34m=\u001b[0m \u001b[0mDL85Classifier\u001b[0m\u001b[0;34m(\u001b[0m\u001b[0mmax_depth\u001b[0m\u001b[0;34m=\u001b[0m\u001b[0mi\u001b[0m\u001b[0;34m)\u001b[0m\u001b[0;34m\u001b[0m\u001b[0;34m\u001b[0m\u001b[0m\n\u001b[0;32m----> 9\u001b[0;31m     \u001b[0mtree\u001b[0m\u001b[0;34m.\u001b[0m\u001b[0mfit\u001b[0m\u001b[0;34m(\u001b[0m\u001b[0mdata_train\u001b[0m\u001b[0;34m,\u001b[0m \u001b[0mtarget_train\u001b[0m\u001b[0;34m)\u001b[0m\u001b[0;34m\u001b[0m\u001b[0;34m\u001b[0m\u001b[0m\n\u001b[0m\u001b[1;32m     10\u001b[0m     \u001b[0mduration\u001b[0m \u001b[0;34m=\u001b[0m \u001b[0mtime\u001b[0m\u001b[0;34m.\u001b[0m\u001b[0mperf_counter\u001b[0m\u001b[0;34m(\u001b[0m\u001b[0;34m)\u001b[0m \u001b[0;34m-\u001b[0m \u001b[0mstart\u001b[0m\u001b[0;34m\u001b[0m\u001b[0;34m\u001b[0m\u001b[0m\n\u001b[1;32m     11\u001b[0m     \u001b[0mprint\u001b[0m\u001b[0;34m(\u001b[0m\u001b[0;34m\"\\n=== Depth {} ===\"\u001b[0m\u001b[0;34m.\u001b[0m\u001b[0mformat\u001b[0m\u001b[0;34m(\u001b[0m\u001b[0mi\u001b[0m\u001b[0;34m)\u001b[0m\u001b[0;34m)\u001b[0m\u001b[0;34m\u001b[0m\u001b[0;34m\u001b[0m\u001b[0m\n",
      "\u001b[0;32m~/.local/lib/python3.6/site-packages/dl85/supervised/classifiers/classifier.py\u001b[0m in \u001b[0;36mfit\u001b[0;34m(self, X, y)\u001b[0m\n\u001b[1;32m    131\u001b[0m                                        \u001b[0mrepeat_sort\u001b[0m\u001b[0;34m=\u001b[0m\u001b[0mself\u001b[0m\u001b[0;34m.\u001b[0m\u001b[0mrepeat_sort\u001b[0m\u001b[0;34m,\u001b[0m\u001b[0;34m\u001b[0m\u001b[0;34m\u001b[0m\u001b[0m\n\u001b[1;32m    132\u001b[0m                                        \u001b[0mbin_save\u001b[0m\u001b[0;34m=\u001b[0m\u001b[0;32mFalse\u001b[0m\u001b[0;34m,\u001b[0m\u001b[0;34m\u001b[0m\u001b[0;34m\u001b[0m\u001b[0m\n\u001b[0;32m--> 133\u001b[0;31m                                        nps=self.nps)\n\u001b[0m\u001b[1;32m    134\u001b[0m \u001b[0;34m\u001b[0m\u001b[0m\n\u001b[1;32m    135\u001b[0m         \u001b[0;31m# print(solution)\u001b[0m\u001b[0;34m\u001b[0m\u001b[0;34m\u001b[0m\u001b[0;34m\u001b[0m\u001b[0m\n",
      "\u001b[0;31mKeyboardInterrupt\u001b[0m: "
     ]
    }
   ],
   "source": [
    "x_labels = []\n",
    "y_training_set = []\n",
    "y_test_set = []\n",
    "y_time = []\n",
    "\n",
    "for i in range(1,5):\n",
    "    start = time.perf_counter()\n",
    "    tree = DL85Classifier(max_depth=i)\n",
    "    tree.fit(data_train, target_train)\n",
    "    duration = time.perf_counter() - start\n",
    "    print(\"\\n=== Depth {} ===\".format(i))\n",
    "    print(\"Duration: {:.2f}s\".format(duration))\n",
    "    print(\"Accuracy on training set: {:.3f}\".format(tree.score(data_train, target_train))) \n",
    "    print(\"Accuracy on test set: {:.3f}\".format(tree.score(data_test, target_test)))\n",
    "    x_labels.append(i)\n",
    "    y_training_set.append(tree.score(data_train, target_train))\n",
    "    y_test_set.append(tree.score(data_test, target_test))\n",
    "    y_time.append(duration)\n",
    "    \n",
    "plt.plot(x_labels, y_training_set, label=\"Training set\")\n",
    "plt.plot(x_labels, y_test_set, label=\"Test set\")\n",
    "plt.plot(x_labels, y_time, label=\"Time\")\n",
    "plt.legend()\n",
    "plt.show()"
   ]
  },
  {
   "cell_type": "markdown",
   "metadata": {},
   "source": [
    "## Iterative"
   ]
  },
  {
   "cell_type": "code",
   "execution_count": null,
   "metadata": {},
   "outputs": [],
   "source": [
    "x_labels = []\n",
    "y_training_set = []\n",
    "y_test_set = []\n",
    "y_time = []\n",
    "\n",
    "for i in range(1,5):\n",
    "    start = time.perf_counter()\n",
    "    tree = DL85Classifier(max_depth=i, iterative=True)\n",
    "    tree.fit(data_train, target_train)\n",
    "    duration = time.perf_counter() - start\n",
    "    print(\"\\n=== Depth {} ===\".format(i))\n",
    "    print(\"Duration: {:.2f}s\".format(duration))\n",
    "    print(\"Accuracy on training set: {:.3f}\".format(tree.score(data_train, target_train))) \n",
    "    print(\"Accuracy on test set: {:.3f}\".format(tree.score(data_test, target_test)))\n",
    "    x_labels.append(i)\n",
    "    y_training_set.append(tree.score(data_train, target_train))\n",
    "    y_test_set.append(tree.score(data_test, target_test))\n",
    "    y_time.append(duration)\n",
    "    \n",
    "plt.plot(x_labels, y_training_set, label=\"Training set\")\n",
    "plt.plot(x_labels, y_test_set, label=\"Test set\")\n",
    "plt.plot(x_labels, y_time, label=\"Time\")\n",
    "plt.legend()\n",
    "plt.show()"
   ]
  },
  {
   "cell_type": "markdown",
   "metadata": {},
   "source": [
    "## Min sup"
   ]
  },
  {
   "cell_type": "code",
   "execution_count": null,
   "metadata": {},
   "outputs": [],
   "source": [
    "start = time.perf_counter()\n",
    "tree = DL85Classifier(max_depth=2, min_sup=2)\n",
    "tree.fit(data_train, target_train)\n",
    "duration = time.perf_counter() - start\n",
    "print(\"Duration: {:.2f}s\".format(duration))\n",
    "print(\"Accuracy on training set: {:.3f}\".format(tree.score(data_train, target_train))) \n",
    "print(\"Accuracy on test set: {:.3f}\".format(tree.score(data_test, target_test)))"
   ]
  },
  {
   "cell_type": "markdown",
   "metadata": {},
   "source": [
    "## Time limit\n",
    "We can use a limit of time instead of a depth limit"
   ]
  },
  {
   "cell_type": "code",
   "execution_count": null,
   "metadata": {},
   "outputs": [],
   "source": [
    "start = time.perf_counter()\n",
    "tree = DL85Classifier(max_depth=4, time_limit=300)\n",
    "tree.fit(data_train, target_train)\n",
    "duration = time.perf_counter() - start\n",
    "print(\"Duration: {:.2f}s\".format(duration))\n",
    "print(\"Accuracy on training set: {:.3f}\".format(tree.score(data_train, target_train))) \n",
    "print(\"Accuracy on test set: {:.3f}\".format(tree.score(data_test, target_test)))"
   ]
  },
  {
   "cell_type": "code",
   "execution_count": null,
   "metadata": {},
   "outputs": [],
   "source": [
    "start = time.perf_counter()\n",
    "tree = DL85Classifier(max_depth=4, time_limit=300, iterative=True)\n",
    "tree.fit(data_train, target_train)\n",
    "duration = time.perf_counter() - start\n",
    "print(\"Duration: {:.2f}s\".format(duration))\n",
    "print(\"Accuracy on training set: {:.3f}\".format(tree.score(data_train, target_train))) \n",
    "print(\"Accuracy on test set: {:.3f}\".format(tree.score(data_test, target_test)))"
   ]
  },
  {
   "cell_type": "code",
   "execution_count": null,
   "metadata": {},
   "outputs": [],
   "source": []
  }
 ],
 "metadata": {
  "kernelspec": {
   "display_name": "Python 3",
   "language": "python",
   "name": "python3"
  },
  "language_info": {
   "codemirror_mode": {
    "name": "ipython",
    "version": 3
   },
   "file_extension": ".py",
   "mimetype": "text/x-python",
   "name": "python",
   "nbconvert_exporter": "python",
   "pygments_lexer": "ipython3",
   "version": "3.6.9"
  }
 },
 "nbformat": 4,
 "nbformat_minor": 2
}
