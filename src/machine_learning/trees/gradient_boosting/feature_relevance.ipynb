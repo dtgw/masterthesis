{
 "cells": [
  {
   "cell_type": "markdown",
   "metadata": {},
   "source": [
    "# Feature analysis\n",
    "Let's first see the importance of the different features before any computation."
   ]
  },
  {
   "cell_type": "code",
   "execution_count": 36,
   "metadata": {},
   "outputs": [
    {
     "name": "stdout",
     "output_type": "stream",
     "text": [
      "The autoreload extension is already loaded. To reload it, use:\n",
      "  %reload_ext autoreload\n"
     ]
    }
   ],
   "source": [
    "%load_ext autoreload\n",
    "%autoreload\n",
    "\n",
    "# Imports\n",
    "import pandas as pd\n",
    "import numpy as np\n",
    "import matplotlib.pyplot as plt\n",
    "from sklearn.model_selection import train_test_split\n",
    "from sklearn.ensemble import GradientBoostingClassifier\n",
    "\n",
    "import sys\n",
    "sys.path.append('../../utils')\n",
    "from utils import feature_selection, fs_driver, feature_snapshot"
   ]
  },
  {
   "cell_type": "code",
   "execution_count": 11,
   "metadata": {},
   "outputs": [
    {
     "data": {
      "text/plain": [
       "Text(0, 0.5, 'Feature')"
      ]
     },
     "execution_count": 11,
     "metadata": {},
     "output_type": "execute_result"
    },
    {
     "data": {
      "image/png": "[encoded data removed]",
      "text/plain": [
       "<Figure size 576x576 with 1 Axes>"
      ]
     },
     "metadata": {
      "needs_background": "light"
     },
     "output_type": "display_data"
    }
   ],
   "source": [
    "gt = pd.read_csv('../../../dumps/various_sizes/8K.csv')\n",
    "cols = [col for col in gt.columns if col not in ['label']]\n",
    "data = gt[cols]\n",
    "target = gt['label']\n",
    "\n",
    "data_train, data_test, target_train, target_test = train_test_split(data,target, test_size = 0.20, random_state = 0)\n",
    "\n",
    "tree = GradientBoostingClassifier(n_estimators=10,max_depth=5,random_state=0) \n",
    "tree.fit(data_train, target_train)\n",
    "n_features = data.shape[1]\n",
    "plt.rcParams[\"figure.figsize\"] = (8,8)\n",
    "plt.barh(range(n_features), tree.feature_importances_, align='center') \n",
    "plt.yticks(np.arange(n_features), np.arange(1,120)) \n",
    "plt.xlabel(\"Feature importance\")\n",
    "plt.ylabel(\"Feature\")"
   ]
  },
  {
   "cell_type": "markdown",
   "metadata": {},
   "source": [
    "Here we can see that many features have an impact on the decision but a few of them seem to have way more importance. Let's see what we get from selecting the best features for different dataset sizes."
   ]
  },
  {
   "cell_type": "code",
   "execution_count": 7,
   "metadata": {
    "scrolled": false
   },
   "outputs": [
    {
     "name": "stdout",
     "output_type": "stream",
     "text": [
      "Execution            # features  Features selected        Training set acc    Test acc    Time (s)    Fixed cost (s)\n",
      "-----------------  ------------  ---------------------  ------------------  ----------  ----------  ----------------\n",
      "Classic                     119  ['f1',...,'f119']                0.995117    0.993699    0.960483          0\n",
      "K best features              18  ['f10','f22','f26',              0.994959    0.993069    0.254647          0.940705\n",
      "                                 'f27','f29','f30',\n",
      "                                 'f40','f43','f48',\n",
      "                                 'f49','f58','f68',\n",
      "                                 'f75','f85','f112',\n",
      "                                 'f115','f116','f117']\n",
      "Iterative process             6  ['f22','f26','f29',              0.989603    0.989918    0.174478          3.11404\n",
      "                                 'f40','f43','f48']\n"
     ]
    }
   ],
   "source": [
    "feature_selection('../../../dumps/various_sizes/8K.csv', 'gradient')"
   ]
  },
  {
   "cell_type": "markdown",
   "metadata": {},
   "source": [
    "The performances for the two first situations are quite similar even though a bit better for the second one in general. We can therefore conclude that in this case it's better to keep the best features, since it is even 75% faster.\n",
    "\n",
    "What happens when applying the same procedure on a bigger dataset of around 16K samples ?"
   ]
  },
  {
   "cell_type": "code",
   "execution_count": 9,
   "metadata": {
    "scrolled": false
   },
   "outputs": [
    {
     "name": "stdout",
     "output_type": "stream",
     "text": [
      "Execution            # features  Features selected      Training set acc    Test acc    Time (s)    Fixed cost (s)\n",
      "-----------------  ------------  -------------------  ------------------  ----------  ----------  ----------------\n",
      "Classic                     119  ['f1',...,'f119']              0.991815    0.987843    1.93357            0\n",
      "K best features              16  ['f22','f26','f27',            0.989086    0.984726    0.487728           1.89083\n",
      "                                 'f29','f30','f40',\n",
      "                                 'f43','f48','f49',\n",
      "                                 'f58','f68','f70',\n",
      "                                 'f76','f85','f92',\n",
      "                                 'f116']\n",
      "Iterative process             8  ['f27','f30','f40',            0.984721    0.981297    0.375944           6.35056\n",
      "                                 'f43','f48','f58',\n",
      "                                 'f76','f116']\n"
     ]
    }
   ],
   "source": [
    "feature_selection('../../../dumps/various_sizes/16K.csv','gradient')"
   ]
  },
  {
   "cell_type": "markdown",
   "metadata": {},
   "source": [
    "Here we have a slight decrease of performances but the time savings are enormous ! The loss of precision is therefore acceptable for the time we save (around 4 times faster)."
   ]
  },
  {
   "cell_type": "code",
   "execution_count": 32,
   "metadata": {},
   "outputs": [
    {
     "name": "stdout",
     "output_type": "stream",
     "text": [
      "Threshold : 0.005000\n",
      "Execution            # features  Features selected      Training set acc    Test acc    Time (s)    Fixed cost (s)\n",
      "-----------------  ------------  -------------------  ------------------  ----------  ----------  ----------------\n",
      "Classic                     119  ['f1',...,'f119']              0.991815    0.987843    1.99249            0\n",
      "K best features              16  ['f22','f26','f27',            0.989086    0.984726    0.560715           1.92905\n",
      "                                 'f29','f30','f40',\n",
      "                                 'f43','f48','f49',\n",
      "                                 'f58','f68','f70',\n",
      "                                 'f76','f85','f92',\n",
      "                                 'f116']\n",
      "Iterative process             8  ['f27','f30','f40',            0.984721    0.981297    0.408146           6.5466\n",
      "                                 'f43','f48','f58',\n",
      "                                 'f76','f116']\n",
      "\n",
      "\n",
      "Threshold : 0.010000\n",
      "Execution            # features  Features selected      Training set acc    Test acc    Time (s)    Fixed cost (s)\n",
      "-----------------  ------------  -------------------  ------------------  ----------  ----------  ----------------\n",
      "Classic                     119  ['f1',...,'f119']              0.991815    0.987843    1.9805             0\n",
      "K best features              12  ['f22','f27','f29',            0.988619    0.983791    0.438581           1.94935\n",
      "                                 'f30','f40','f43',\n",
      "                                 'f48','f58','f70',\n",
      "                                 'f76','f85','f116']\n",
      "Iterative process             6  ['f27','f30','f40',            0.980433    0.976309    0.341772           6.48138\n",
      "                                 'f43','f48','f58']\n",
      "\n",
      "\n",
      "Threshold : 0.050000\n",
      "Execution            # features  Features selected      Training set acc    Test acc    Time (s)    Fixed cost (s)\n",
      "-----------------  ------------  -------------------  ------------------  ----------  ----------  ----------------\n",
      "Classic                     119  ['f1',...,'f119']              0.991815    0.987843    1.93192            0\n",
      "K best features               4  ['f27','f40','f48',            0.980433    0.980673    0.326048           1.93164\n",
      "                                 'f85']\n",
      "Iterative process             2  ['f40','f48']                  0.967415    0.963529    0.301498           6.45754\n",
      "\n",
      "\n",
      "Threshold : 0.100000\n",
      "Execution            # features  Features selected      Training set acc    Test acc    Time (s)    Fixed cost (s)\n",
      "-----------------  ------------  -------------------  ------------------  ----------  ----------  ----------------\n",
      "Classic                     119  ['f1',...,'f119']              0.991815    0.987843    1.92583            0\n",
      "K best features               3  ['f27','f40','f48']            0.97256     0.973815    0.309589           1.92801\n",
      "Iterative process             1  ['f48']                        0.948082    0.942955    0.309012           6.46107\n",
      "\n",
      "\n",
      "Threshold : 0.200000\n",
      "Execution            # features  Features selected      Training set acc    Test acc    Time (s)    Fixed cost (s)\n",
      "-----------------  ------------  -------------------  ------------------  ----------  ----------  ----------------\n",
      "Classic                     119  ['f1',...,'f119']              0.991815    0.987843    1.91644            0\n",
      "K best features               1  ['f48']                        0.948082    0.942955    0.295257           1.93121\n",
      "Iterative process             1  ['f48']                        0.948082    0.942955    0.29954            6.45848\n",
      "\n",
      "\n",
      "['K best features', array(['f22', 'f26', 'f27', 'f29', 'f30', 'f40', 'f43', 'f48', 'f49',\n",
      "       'f58', 'f68', 'f70', 'f76', 'f85', 'f92', 'f116'], dtype=object), 261.2161502608065]\n",
      "['Iterative process', ['f27', 'f30', 'f40', 'f43', 'f48', 'f58', 'f76', 'f116'], 111.17349631273737]\n"
     ]
    }
   ],
   "source": [
    "fs_driver('../../../dumps/various_sizes/16K.csv','gradient',[0.005,0.01,0.05,0.1,0.2], False)"
   ]
  },
  {
   "cell_type": "markdown",
   "metadata": {},
   "source": [
    "We could reduce our model to only feature 48 while loosing only 4-5% precision but using only 17% of the initial time !"
   ]
  },
  {
   "cell_type": "code",
   "execution_count": 37,
   "metadata": {},
   "outputs": [
    {
     "name": "stderr",
     "output_type": "stream",
     "text": [
      "/usr/local/lib/python3.7/site-packages/sklearn/feature_selection/_base.py:81: UserWarning: No features were selected: either the data is too noisy or the selection test too strict.\n",
      "  UserWarning)\n",
      "/usr/local/lib/python3.7/site-packages/sklearn/feature_selection/_base.py:81: UserWarning: No features were selected: either the data is too noisy or the selection test too strict.\n",
      "  UserWarning)\n",
      "/usr/local/lib/python3.7/site-packages/sklearn/feature_selection/_base.py:81: UserWarning: No features were selected: either the data is too noisy or the selection test too strict.\n",
      "  UserWarning)\n",
      "/usr/local/lib/python3.7/site-packages/sklearn/feature_selection/_base.py:81: UserWarning: No features were selected: either the data is too noisy or the selection test too strict.\n",
      "  UserWarning)\n",
      "/usr/local/lib/python3.7/site-packages/sklearn/feature_selection/_base.py:81: UserWarning: No features were selected: either the data is too noisy or the selection test too strict.\n",
      "  UserWarning)\n",
      "/usr/local/lib/python3.7/site-packages/sklearn/feature_selection/_base.py:81: UserWarning: No features were selected: either the data is too noisy or the selection test too strict.\n",
      "  UserWarning)\n",
      "/usr/local/lib/python3.7/site-packages/sklearn/feature_selection/_base.py:81: UserWarning: No features were selected: either the data is too noisy or the selection test too strict.\n",
      "  UserWarning)\n"
     ]
    },
    {
     "name": "stdout",
     "output_type": "stream",
     "text": [
      "K best features : \n",
      "\n",
      "Accuracy on training set: 0.984\n",
      "Accuracy on test set: 0.984\n",
      "Iterative process : \n",
      "\n",
      "Accuracy on training set: 0.984\n",
      "Accuracy on test set: 0.984\n"
     ]
    }
   ],
   "source": [
    "feature_snapshot('../../../dumps/time_analysis/threshold_3/3_20190615_31000.csv','gradient')"
   ]
  },
  {
   "cell_type": "code",
   "execution_count": null,
   "metadata": {},
   "outputs": [],
   "source": []
  }
 ],
 "metadata": {
  "kernelspec": {
   "display_name": "Python 3",
   "language": "python",
   "name": "python3"
  },
  "language_info": {
   "codemirror_mode": {
    "name": "ipython",
    "version": 3
   },
   "file_extension": ".py",
   "mimetype": "text/x-python",
   "name": "python",
   "nbconvert_exporter": "python",
   "pygments_lexer": "ipython3",
   "version": "3.7.7"
  }
 },
 "nbformat": 4,
 "nbformat_minor": 4
}
