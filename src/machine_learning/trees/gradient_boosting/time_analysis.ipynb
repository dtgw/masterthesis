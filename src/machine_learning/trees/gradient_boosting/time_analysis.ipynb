{
 "cells": [
  {
   "cell_type": "markdown",
   "metadata": {},
   "source": [
    "# Time analysis"
   ]
  },
  {
   "cell_type": "code",
   "execution_count": 1,
   "metadata": {},
   "outputs": [
    {
     "name": "stdout",
     "output_type": "stream",
     "text": [
      "Accuracy on training set: 0.992\n",
      "Accuracy on test set: 0.956\n"
     ]
    }
   ],
   "source": [
    "# Imports\n",
    "import pandas as pd\n",
    "from joblib import dump, load\n",
    "from sklearn.model_selection import train_test_split\n",
    "from sklearn.ensemble import GradientBoostingClassifier\n",
    "\n",
    "import sys\n",
    "sys.path.append('../../utils')\n",
    "from utils import time_comparison\n",
    "\n",
    "gt = pd.read_csv(\"../../../dumps/time_analysis/threshold_3/3_20190615_6000.csv\")\n",
    "cols = [col for col in gt.columns if col not in ['label']]\n",
    "data_train = gt[cols]\n",
    "target_train = gt['label']\n",
    "\n",
    "clf = GradientBoostingClassifier(n_estimators=10,max_depth=5,random_state=0)\n",
    "clf.fit(data_train, target_train)\n",
    "dump(clf,\"snapshots/gradient_3_20190615_6000.joblib\")\n",
    "clf = load(\"snapshots/gradient_3_20190615_6000.joblib\")\n",
    "\n",
    "gt = pd.read_csv(\"../../../dumps/time_analysis/threshold_3/3_20190808_1000.csv\")\n",
    "cols = [col for col in gt.columns if col not in ['label']]\n",
    "data_test = gt[cols]\n",
    "target_test = gt['label']\n",
    "print(\"Accuracy on training set: {:.3f}\".format(clf.score(data_train, target_train))) \n",
    "print(\"Accuracy on test set: {:.3f}\".format(clf.score(data_test, target_test)))"
   ]
  },
  {
   "cell_type": "markdown",
   "metadata": {},
   "source": [
    "Conclusion : compared to the simple decision tree, the forests behave way better on the long run. Although we loose of bit of precision (from around 0.99 to 0.975), this small deviation is completely reasonable when learning over a completely new dataset. Such good performances are probably due to the fact that these classifiers develop many different trees, therefore reducing the overfit of a single one.\n",
    "## Long run"
   ]
  },
  {
   "cell_type": "code",
   "execution_count": 2,
   "metadata": {},
   "outputs": [
    {
     "name": "stdout",
     "output_type": "stream",
     "text": [
      "Acceptation threshold : 1/5 \n",
      "\n",
      "  # malwares in training set    Approx. period in weeks    Training acc    Test acc\n",
      "----------------------------  -------------------------  --------------  ----------\n",
      "                        6000                   0.857143        0.993833       0.959\n",
      "                       14000                   2               0.990286       0.977\n",
      "                       21000                   3               0.978857       0.981\n",
      "                       31000                   4.42857         0.932129       0.964\n",
      "Acceptation threshold : 2/5 \n",
      "\n",
      "  # malwares in training set    Approx. period in weeks    Training acc    Test acc\n",
      "----------------------------  -------------------------  --------------  ----------\n",
      "                        6000                   0.857143        0.996167       0.981\n",
      "                       14000                   2               0.996214       0.99\n",
      "                       21000                   3               0.984238       0.992\n",
      "                       31000                   4.42857         0.931387       0.989\n",
      "Acceptation threshold : 3/5 \n",
      "\n",
      "  # malwares in training set    Approx. period in weeks    Training acc    Test acc\n",
      "----------------------------  -------------------------  --------------  ----------\n",
      "                        6000                   0.857143        0.998833       0.978\n",
      "                       14000                   2               0.9985         0.986\n",
      "                       21000                   3               0.997524       0.988\n",
      "                       31000                   4.42857         0.990484       0.988\n",
      "Acceptation threshold : 4/5 \n",
      "\n",
      "  # malwares in training set    Approx. period in weeks    Training acc    Test acc\n",
      "----------------------------  -------------------------  --------------  ----------\n",
      "                        6000                   0.857143        0.995667       0.919\n",
      "                       14000                   2               0.994286       0.973\n",
      "                       21000                   3               0.992048       0.972\n",
      "                       31000                   4.42857         0.987903       0.969\n",
      "Acceptation threshold : 5/5 \n",
      "\n",
      "  # malwares in training set    Approx. period in weeks    Training acc    Test acc\n",
      "----------------------------  -------------------------  --------------  ----------\n",
      "                        6000                   0.857143        0.995667       0.919\n",
      "                       14000                   2               0.994286       0.973\n",
      "                       21000                   3               0.992048       0.972\n",
      "                       31000                   4.42857         0.987903       0.969\n"
     ]
    }
   ],
   "source": [
    "time_comparison(\"gradient\", '../../')"
   ]
  },
  {
   "cell_type": "markdown",
   "metadata": {},
   "source": [
    "Except for the first case, greater training sets improves accuracies.\n",
    "We can observe a loss of performances over time but it's completely acceptable as soon as we choose a sufficient training size and a good threshold.\n",
    "Also intersting to see that once again, performances for the two last thresholds are exactly the same."
   ]
  },
  {
   "cell_type": "code",
   "execution_count": null,
   "metadata": {},
   "outputs": [],
   "source": []
  }
 ],
 "metadata": {
  "kernelspec": {
   "display_name": "Python 3",
   "language": "python",
   "name": "python3"
  },
  "language_info": {
   "codemirror_mode": {
    "name": "ipython",
    "version": 3
   },
   "file_extension": ".py",
   "mimetype": "text/x-python",
   "name": "python",
   "nbconvert_exporter": "python",
   "pygments_lexer": "ipython3",
   "version": "3.7.7"
  }
 },
 "nbformat": 4,
 "nbformat_minor": 4
}
