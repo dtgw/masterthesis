{
 "cells": [
  {
   "cell_type": "markdown",
   "metadata": {},
   "source": [
    "# Time analysis"
   ]
  },
  {
   "cell_type": "code",
   "execution_count": 1,
   "metadata": {},
   "outputs": [
    {
     "name": "stdout",
     "output_type": "stream",
     "text": [
      "Accuracy on training set: 0.996\n",
      "Accuracy on test set: 0.982\n"
     ]
    }
   ],
   "source": [
    "# Imports\n",
    "import pandas as pd\n",
    "from joblib import dump, load\n",
    "from sklearn.model_selection import train_test_split\n",
    "from sklearn.ensemble import RandomForestClassifier\n",
    "\n",
    "import sys\n",
    "sys.path.append('../../utils')\n",
    "from utils import time_comparison\n",
    "\n",
    "gt = pd.read_csv(\"../../../dumps/time_analysis/threshold_3/3_20190615_6000.csv\")\n",
    "cols = [col for col in gt.columns if col not in ['label']]\n",
    "data_train = gt[cols]\n",
    "target_train = gt['label']\n",
    "\n",
    "clf = RandomForestClassifier(n_estimators=10,max_depth=10,min_samples_leaf=5,random_state=0)\n",
    "clf.fit(data_train, target_train)\n",
    "dump(clf,\"snapshots/forest_3_20190615_6000.joblib\")\n",
    "clf = load(\"snapshots/forest_3_20190615_6000.joblib\")\n",
    "\n",
    "gt = pd.read_csv(\"../../../dumps/time_analysis/threshold_3/3_20190808_1000.csv\")\n",
    "cols = [col for col in gt.columns if col not in ['label']]\n",
    "data_test = gt[cols]\n",
    "target_test = gt['label']\n",
    "print(\"Accuracy on training set: {:.3f}\".format(clf.score(data_train, target_train))) \n",
    "print(\"Accuracy on test set: {:.3f}\".format(clf.score(data_test, target_test)))"
   ]
  },
  {
   "cell_type": "markdown",
   "metadata": {},
   "source": [
    "Conclusion : compared to the simple decision tree, the forests behave way better on the long run. Although we loose of bit of precision (from around 0.99 to 0.975), this small deviation is completely reasonable when learning over a completely new dataset. Such good performances are probably due to the fact that these classifiers develop many different trees, therefore reducing the overfit of a single one.\n",
    "## Long run"
   ]
  },
  {
   "cell_type": "code",
   "execution_count": 2,
   "metadata": {},
   "outputs": [
    {
     "name": "stdout",
     "output_type": "stream",
     "text": [
      "Acceptation threshold : 1/5 \n",
      "\n",
      "  # malwares in training set    Approx. period in weeks    Training acc    Test acc\n",
      "----------------------------  -------------------------  --------------  ----------\n",
      "                        6000                   0.857143        0.970667       0.724\n",
      "                       14000                   2               0.976          0.719\n",
      "                       21000                   3               0.962476       0.716\n",
      "                       31000                   4.42857         0.912065       0.73\n",
      "Acceptation threshold : 2/5 \n",
      "\n",
      "  # malwares in training set    Approx. period in weeks    Training acc    Test acc\n",
      "----------------------------  -------------------------  --------------  ----------\n",
      "                        6000                   0.857143        0.9865         0.969\n",
      "                       14000                   2               0.986857       0.986\n",
      "                       21000                   3               0.976524       0.989\n",
      "                       31000                   4.42857         0.92429        0.782\n",
      "Acceptation threshold : 3/5 \n",
      "\n",
      "  # malwares in training set    Approx. period in weeks    Training acc    Test acc\n",
      "----------------------------  -------------------------  --------------  ----------\n",
      "                        6000                   0.857143        0.989          0.981\n",
      "                       14000                   2               0.994071       0.98\n",
      "                       21000                   3               0.991714       0.981\n",
      "                       31000                   4.42857         0.982387       0.98\n",
      "Acceptation threshold : 4/5 \n",
      "\n",
      "  # malwares in training set    Approx. period in weeks    Training acc    Test acc\n",
      "----------------------------  -------------------------  --------------  ----------\n",
      "                        6000                   0.857143        0.9905         0.976\n",
      "                       14000                   2               0.988929       0.977\n",
      "                       21000                   3               0.983524       0.977\n",
      "                       31000                   4.42857         0.980645       0.969\n",
      "Acceptation threshold : 5/5 \n",
      "\n",
      "  # malwares in training set    Approx. period in weeks    Training acc    Test acc\n",
      "----------------------------  -------------------------  --------------  ----------\n",
      "                        6000                   0.857143        0.9905         0.976\n",
      "                       14000                   2               0.988929       0.977\n",
      "                       21000                   3               0.983524       0.977\n",
      "                       31000                   4.42857         0.980645       0.969\n"
     ]
    }
   ],
   "source": [
    "time_comparison('forest', '../../')"
   ]
  },
  {
   "cell_type": "code",
   "execution_count": null,
   "metadata": {},
   "outputs": [],
   "source": []
  }
 ],
 "metadata": {
  "kernelspec": {
   "display_name": "Python 3",
   "language": "python",
   "name": "python3"
  },
  "language_info": {
   "codemirror_mode": {
    "name": "ipython",
    "version": 3
   },
   "file_extension": ".py",
   "mimetype": "text/x-python",
   "name": "python",
   "nbconvert_exporter": "python",
   "pygments_lexer": "ipython3",
   "version": "3.7.7"
  }
 },
 "nbformat": 4,
 "nbformat_minor": 4
}
