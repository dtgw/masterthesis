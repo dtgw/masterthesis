{
 "cells": [
  {
   "cell_type": "markdown",
   "metadata": {},
   "source": [
    "# Feature analysis\n",
    "Let's first see the importance of the different features before any computation."
   ]
  },
  {
   "cell_type": "code",
   "execution_count": 4,
   "metadata": {},
   "outputs": [
    {
     "name": "stdout",
     "output_type": "stream",
     "text": [
      "The autoreload extension is already loaded. To reload it, use:\n",
      "  %reload_ext autoreload\n"
     ]
    },
    {
     "data": {
      "text/plain": [
       "Text(0, 0.5, 'Feature index')"
      ]
     },
     "execution_count": 4,
     "metadata": {},
     "output_type": "execute_result"
    },
    {
     "data": {
      "image/png": "[encoded data removed]",
      "text/plain": [
       "<Figure size 720x720 with 1 Axes>"
      ]
     },
     "metadata": {
      "needs_background": "light"
     },
     "output_type": "display_data"
    }
   ],
   "source": [
    "%load_ext autoreload\n",
    "%autoreload\n",
    "\n",
    "# Imports\n",
    "import pandas as pd\n",
    "import numpy as np\n",
    "import matplotlib.pyplot as plt\n",
    "from sklearn.model_selection import train_test_split\n",
    "from sklearn.ensemble import RandomForestClassifier\n",
    "\n",
    "import sys\n",
    "sys.path.append('../../utils')\n",
    "from utils import feature_selection, fs_driver, feature_snapshot\n",
    "\n",
    "gt = pd.read_csv('../../../dumps/various_sizes/16K.csv')\n",
    "cols = [col for col in gt.columns if col not in ['label']]\n",
    "data = gt[cols]\n",
    "target = gt['label']\n",
    "\n",
    "data_train, data_test, target_train, target_test = train_test_split(data,target, test_size = 0.20, random_state = 0)\n",
    "\n",
    "tree = RandomForestClassifier(n_estimators=10,max_depth=10,min_samples_leaf=5,random_state=0) \n",
    "tree.fit(data_train, target_train)\n",
    "n_features = data.shape[1]\n",
    "plt.rcParams[\"figure.figsize\"] = (10,10)\n",
    "plt.barh(range(n_features), tree.feature_importances_, align='center') \n",
    "plt.yticks(np.arange(5,125,10), np.arange(5,125,10)) \n",
    "plt.xlabel(\"Feature importance\")\n",
    "plt.ylabel(\"Feature index\")"
   ]
  },
  {
   "cell_type": "markdown",
   "metadata": {},
   "source": [
    "The output we get is quite different from the one we got with the simple Decision Tree. Here, way more features get credit in the decision process. In the future feature selection process, we should then get more features remaining at each step."
   ]
  },
  {
   "cell_type": "code",
   "execution_count": 3,
   "metadata": {
    "scrolled": false
   },
   "outputs": [
    {
     "name": "stdout",
     "output_type": "stream",
     "text": [
      "Execution            # features  Features selected        Training set acc    Test acc    Time (s)    Fixed cost (s)\n",
      "-----------------  ------------  ---------------------  ------------------  ----------  ----------  ----------------\n",
      "Classic                     119  ['f1',...,'f119']                0.988463    0.987843    0.421236          0\n",
      "K best features              41  ['f18','f24','f26',              0.987839    0.984726    0.367822          0.434399\n",
      "                                 'f27','f28','f29',\n",
      "                                 'f30','f35','f37',\n",
      "                                 'f39','f40','f41',\n",
      "                                 'f43','f47','f48',\n",
      "                                 'f51','f53','f54',\n",
      "                                 'f55','f56','f59',\n",
      "                                 'f60','f61','f63',\n",
      "                                 'f64','f70','f71',\n",
      "                                 'f73','f74','f82',\n",
      "                                 'f83','f86','f89',\n",
      "                                 'f96','f101','f108',\n",
      "                                 'f112','f113','f114',\n",
      "                                 'f115','f116']\n",
      "Iterative process            15  ['f26','f27','f29',              0.986904    0.984726    0.276792          0.846077\n",
      "                                 'f30','f39','f40',\n",
      "                                 'f41','f43','f48',\n",
      "                                 'f56','f60','f114',\n",
      "                                 'f115','f116','f119']\n"
     ]
    }
   ],
   "source": [
    "feature_selection('../../../dumps/various_sizes/16K.csv','forest')"
   ]
  },
  {
   "cell_type": "markdown",
   "metadata": {},
   "source": [
    "Same conclusion as before : small loss of precision but around 33% of time saved for the first case and same precision but time overhead for the latter."
   ]
  },
  {
   "cell_type": "code",
   "execution_count": 9,
   "metadata": {
    "scrolled": false
   },
   "outputs": [
    {
     "name": "stdout",
     "output_type": "stream",
     "text": [
      "Threshold : 0.001000\n",
      "Execution            # features  Features selected        Training set acc    Test acc    Time (s)    Fixed cost (s)\n",
      "-----------------  ------------  ---------------------  ------------------  ----------  ----------  ----------------\n",
      "Classic                     119  ['f1',...,'f119']                0.990723    0.989713    0.7745            0\n",
      "K best features              85  ['f11','f14','f15',              0.99353     0.993142    0.628167          0.661769\n",
      "                                 'f18','f20','f22',\n",
      "                                 'f23','f24','f25',\n",
      "                                 'f26','f27','f28',\n",
      "                                 'f29','f30','f32',\n",
      "                                 'f34','f35','f36',\n",
      "                                 'f37','f38','f39',\n",
      "                                 'f40','f41','f43',\n",
      "                                 'f44','f45','f46',\n",
      "                                 'f47','f48','f49',\n",
      "                                 'f50','f51','f52',\n",
      "                                 'f53','f54','f55',\n",
      "                                 'f56','f57','f59',\n",
      "                                 'f60','f61','f62',\n",
      "                                 'f63','f64','f65',\n",
      "                                 'f66','f67','f68',\n",
      "                                 'f69','f70','f71',\n",
      "                                 'f72','f73','f74',\n",
      "                                 'f75','f76','f77',\n",
      "                                 'f78','f79','f80',\n",
      "                                 'f81','f83','f84',\n",
      "                                 'f86','f87','f88',\n",
      "                                 'f89','f90','f96',\n",
      "                                 'f97','f99','f101',\n",
      "                                 'f102','f104','f105',\n",
      "                                 'f108','f109','f111',\n",
      "                                 'f112','f113','f114',\n",
      "                                 'f115','f116','f117',\n",
      "                                 'f119']\n",
      "Iterative process            56  ['f11','f15','f22',              0.993842    0.991895    0.623067          1.91359\n",
      "                                 'f23','f24','f25',\n",
      "                                 'f26','f27','f28',\n",
      "                                 'f29','f30','f32',\n",
      "                                 'f35','f36','f37',\n",
      "                                 'f38','f39','f40',\n",
      "                                 'f41','f43','f44',\n",
      "                                 'f48','f49','f50',\n",
      "                                 'f51','f52','f54',\n",
      "                                 'f55','f56','f60',\n",
      "                                 'f62','f63','f64',\n",
      "                                 'f66','f67','f72',\n",
      "                                 'f73','f74','f76',\n",
      "                                 'f80','f81','f85',\n",
      "                                 'f87','f88','f89',\n",
      "                                 'f96','f102','f109',\n",
      "                                 'f110','f111','f112',\n",
      "                                 'f114','f115','f116',\n",
      "                                 'f117','f119']\n",
      "\n",
      "\n",
      "Threshold : 0.005000\n",
      "Execution            # features  Features selected        Training set acc    Test acc    Time (s)    Fixed cost (s)\n",
      "-----------------  ------------  ---------------------  ------------------  ----------  ----------  ----------------\n",
      "Classic                     119  ['f1',...,'f119']                0.990723    0.989713    0.729298          0\n",
      "K best features              49  ['f11','f15','f18',              0.991035    0.988155    0.604644          0.756157\n",
      "                                 'f23','f24','f26',\n",
      "                                 'f27','f28','f29',\n",
      "                                 'f30','f35','f37',\n",
      "                                 'f39','f40','f41',\n",
      "                                 'f43','f44','f47',\n",
      "                                 'f48','f49','f50',\n",
      "                                 'f51','f52','f54',\n",
      "                                 'f55','f56','f57',\n",
      "                                 'f59','f60','f61',\n",
      "                                 'f63','f67','f68',\n",
      "                                 'f70','f72','f73',\n",
      "                                 'f74','f75','f79',\n",
      "                                 'f80','f90','f97',\n",
      "                                 'f101','f111','f112',\n",
      "                                 'f114','f115','f116',\n",
      "                                 'f117']\n",
      "Iterative process            23  ['f23','f24','f26',              0.98971     0.988466    0.493746          2.25861\n",
      "                                 'f27','f28','f29',\n",
      "                                 'f30','f37','f39',\n",
      "                                 'f40','f41','f43',\n",
      "                                 'f44','f48','f51',\n",
      "                                 'f54','f56','f60',\n",
      "                                 'f66','f112','f114',\n",
      "                                 'f116','f117']\n",
      "\n",
      "\n",
      "Threshold : 0.010000\n",
      "Execution            # features  Features selected        Training set acc    Test acc    Time (s)    Fixed cost (s)\n",
      "-----------------  ------------  ---------------------  ------------------  ----------  ----------  ----------------\n",
      "Classic                     119  ['f1',...,'f119']                0.990723    0.989713    0.636501          0\n",
      "K best features              25  ['f18','f26','f27',              0.991113    0.989713    0.548595          0.669673\n",
      "                                 'f28','f29','f30',\n",
      "                                 'f37','f39','f40',\n",
      "                                 'f41','f43','f48',\n",
      "                                 'f51','f54','f55',\n",
      "                                 'f56','f60','f63',\n",
      "                                 'f72','f80','f112',\n",
      "                                 'f114','f115','f116',\n",
      "                                 'f117']\n",
      "Iterative process            15  ['f26','f27','f28',              0.989632    0.987531    0.41907           2.22088\n",
      "                                 'f30','f37','f39',\n",
      "                                 'f40','f41','f43',\n",
      "                                 'f48','f54','f60',\n",
      "                                 'f114','f116','f117']\n",
      "\n",
      "\n",
      "Threshold : 0.050000\n",
      "Execution            # features  Features selected       Training set acc    Test acc    Time (s)    Fixed cost (s)\n",
      "-----------------  ------------  --------------------  ------------------  ----------  ----------  ----------------\n",
      "Classic                     119  ['f1',...,'f119']               0.990723    0.989713    0.649839          0\n",
      "K best features               3  ['f48','f54','f116']            0.980433    0.98005     0.366476          0.652444\n",
      "Iterative process             2  ['f48','f116']                  0.962816    0.955424    0.395529          1.93891\n",
      "\n",
      "\n"
     ]
    },
    {
     "data": {
      "text/plain": [
       "[['K best features',\n",
       "  array(['f11', 'f15', 'f18', 'f23', 'f24', 'f26', 'f27', 'f28', 'f29',\n",
       "         'f30', 'f35', 'f37', 'f39', 'f40', 'f41', 'f43', 'f44', 'f47',\n",
       "         'f48', 'f49', 'f50', 'f51', 'f52', 'f54', 'f55', 'f56', 'f57',\n",
       "         'f59', 'f60', 'f61', 'f63', 'f67', 'f68', 'f70', 'f72', 'f73',\n",
       "         'f74', 'f75', 'f79', 'f80', 'f90', 'f97', 'f101', 'f111', 'f112',\n",
       "         'f114', 'f115', 'f116', 'f117'], dtype=object),\n",
       "  108.53576291862221],\n",
       " ['Iterative process',\n",
       "  ['f23',\n",
       "   'f24',\n",
       "   'f26',\n",
       "   'f27',\n",
       "   'f28',\n",
       "   'f29',\n",
       "   'f30',\n",
       "   'f37',\n",
       "   'f39',\n",
       "   'f40',\n",
       "   'f41',\n",
       "   'f43',\n",
       "   'f44',\n",
       "   'f48',\n",
       "   'f51',\n",
       "   'f54',\n",
       "   'f56',\n",
       "   'f60',\n",
       "   'f66',\n",
       "   'f112',\n",
       "   'f114',\n",
       "   'f116',\n",
       "   'f117'],\n",
       "  256.36920705365105]]"
      ]
     },
     "execution_count": 9,
     "metadata": {},
     "output_type": "execute_result"
    }
   ],
   "source": [
    "fs_driver('../../../dumps/various_sizes/16K.csv','forest',[0.001, 0.005,0.01,0.05])"
   ]
  },
  {
   "cell_type": "markdown",
   "metadata": {},
   "source": [
    "It's interesting to see that the program crashes for threshold values starting from 0.20 which means that no feature can be intersected.\n",
    "We can also observe that we could go from 119 to only 4 features while lossing only 0.4% precision but saving once again 1/3 of time. On the other side, reducing the features set to only the 48th feature decreases precision by 5% while saving the same amount of time."
   ]
  },
  {
   "cell_type": "code",
   "execution_count": 16,
   "metadata": {},
   "outputs": [
    {
     "name": "stderr",
     "output_type": "stream",
     "text": [
      "/usr/local/lib/python3.7/site-packages/sklearn/feature_selection/_base.py:81: UserWarning: No features were selected: either the data is too noisy or the selection test too strict.\n",
      "  UserWarning)\n",
      "/usr/local/lib/python3.7/site-packages/sklearn/feature_selection/_base.py:81: UserWarning: No features were selected: either the data is too noisy or the selection test too strict.\n",
      "  UserWarning)\n",
      "/usr/local/lib/python3.7/site-packages/sklearn/feature_selection/_base.py:81: UserWarning: No features were selected: either the data is too noisy or the selection test too strict.\n",
      "  UserWarning)\n",
      "/usr/local/lib/python3.7/site-packages/sklearn/feature_selection/_base.py:81: UserWarning: No features were selected: either the data is too noisy or the selection test too strict.\n",
      "  UserWarning)\n",
      "/usr/local/lib/python3.7/site-packages/sklearn/feature_selection/_base.py:81: UserWarning: No features were selected: either the data is too noisy or the selection test too strict.\n",
      "  UserWarning)\n",
      "/usr/local/lib/python3.7/site-packages/sklearn/feature_selection/_base.py:81: UserWarning: No features were selected: either the data is too noisy or the selection test too strict.\n",
      "  UserWarning)\n",
      "/usr/local/lib/python3.7/site-packages/sklearn/feature_selection/_base.py:81: UserWarning: No features were selected: either the data is too noisy or the selection test too strict.\n",
      "  UserWarning)\n",
      "/usr/local/lib/python3.7/site-packages/sklearn/feature_selection/_base.py:81: UserWarning: No features were selected: either the data is too noisy or the selection test too strict.\n",
      "  UserWarning)\n",
      "/usr/local/lib/python3.7/site-packages/sklearn/feature_selection/_base.py:81: UserWarning: No features were selected: either the data is too noisy or the selection test too strict.\n",
      "  UserWarning)\n",
      "/usr/local/lib/python3.7/site-packages/sklearn/feature_selection/_base.py:81: UserWarning: No features were selected: either the data is too noisy or the selection test too strict.\n",
      "  UserWarning)\n",
      "/usr/local/lib/python3.7/site-packages/sklearn/feature_selection/_base.py:81: UserWarning: No features were selected: either the data is too noisy or the selection test too strict.\n",
      "  UserWarning)\n",
      "/usr/local/lib/python3.7/site-packages/sklearn/feature_selection/_base.py:81: UserWarning: No features were selected: either the data is too noisy or the selection test too strict.\n",
      "  UserWarning)\n",
      "/usr/local/lib/python3.7/site-packages/sklearn/feature_selection/_base.py:81: UserWarning: No features were selected: either the data is too noisy or the selection test too strict.\n",
      "  UserWarning)\n",
      "/usr/local/lib/python3.7/site-packages/sklearn/feature_selection/_base.py:81: UserWarning: No features were selected: either the data is too noisy or the selection test too strict.\n",
      "  UserWarning)\n",
      "/usr/local/lib/python3.7/site-packages/sklearn/feature_selection/_base.py:81: UserWarning: No features were selected: either the data is too noisy or the selection test too strict.\n",
      "  UserWarning)\n",
      "/usr/local/lib/python3.7/site-packages/sklearn/feature_selection/_base.py:81: UserWarning: No features were selected: either the data is too noisy or the selection test too strict.\n",
      "  UserWarning)\n"
     ]
    },
    {
     "name": "stdout",
     "output_type": "stream",
     "text": [
      "K best features : \n",
      "\n",
      "Accuracy on training set: 0.975\n",
      "Accuracy on test set: 0.965\n",
      "------------------------------ \n",
      "\n",
      "Iterative process : \n",
      "\n",
      "Accuracy on training set: 0.980\n",
      "Accuracy on test set: 0.980\n"
     ]
    }
   ],
   "source": [
    "feature_snapshot('../../../dumps/time_analysis/threshold_3/3_20190615_31000.csv','forest')"
   ]
  },
  {
   "cell_type": "code",
   "execution_count": null,
   "metadata": {},
   "outputs": [],
   "source": []
  }
 ],
 "metadata": {
  "kernelspec": {
   "display_name": "Python 3",
   "language": "python",
   "name": "python3"
  },
  "language_info": {
   "codemirror_mode": {
    "name": "ipython",
    "version": 3
   },
   "file_extension": ".py",
   "mimetype": "text/x-python",
   "name": "python",
   "nbconvert_exporter": "python",
   "pygments_lexer": "ipython3",
   "version": "3.7.7"
  }
 },
 "nbformat": 4,
 "nbformat_minor": 4
}
