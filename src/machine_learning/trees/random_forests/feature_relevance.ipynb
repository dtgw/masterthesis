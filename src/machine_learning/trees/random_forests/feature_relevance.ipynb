{
 "cells": [
  {
   "cell_type": "markdown",
   "metadata": {},
   "source": [
    "# Feature analysis\n",
    "Let's first see the importance of the different features before any computation."
   ]
  },
  {
   "cell_type": "code",
   "execution_count": 8,
   "metadata": {},
   "outputs": [
    {
     "name": "stdout",
     "output_type": "stream",
     "text": [
      "The autoreload extension is already loaded. To reload it, use:\n",
      "  %reload_ext autoreload\n"
     ]
    },
    {
     "data": {
      "text/plain": [
       "Text(0, 0.5, 'Feature')"
      ]
     },
     "execution_count": 8,
     "metadata": {},
     "output_type": "execute_result"
    },
    {
     "data": {
      "image/png": "[encoded data removed]",
      "text/plain": [
       "<Figure size 576x576 with 1 Axes>"
      ]
     },
     "metadata": {
      "needs_background": "light"
     },
     "output_type": "display_data"
    }
   ],
   "source": [
    "%load_ext autoreload\n",
    "%autoreload\n",
    "\n",
    "# Imports\n",
    "import pandas as pd\n",
    "import numpy as np\n",
    "import matplotlib.pyplot as plt\n",
    "from sklearn.model_selection import train_test_split\n",
    "from sklearn.ensemble import RandomForestClassifier\n",
    "\n",
    "import sys\n",
    "sys.path.append('../../utils')\n",
    "from utils import feature_selection, fs_driver\n",
    "\n",
    "gt = pd.read_csv('../../../dumps/various_sizes/8K.csv')\n",
    "cols = [col for col in gt.columns if col not in ['label']]\n",
    "data = gt[cols]\n",
    "target = gt['label']\n",
    "\n",
    "data_train, data_test, target_train, target_test = train_test_split(data,target, test_size = 0.20, random_state = 0)\n",
    "\n",
    "tree = RandomForestClassifier(n_estimators=10,max_depth=10,min_samples_leaf=5,random_state=0) \n",
    "tree.fit(data_train, target_train)\n",
    "n_features = data.shape[1]\n",
    "plt.rcParams[\"figure.figsize\"] = (8,8)\n",
    "plt.barh(range(n_features), tree.feature_importances_, align='center') \n",
    "plt.yticks(np.arange(n_features), np.arange(1,120)) \n",
    "plt.xlabel(\"Feature importance\")\n",
    "plt.ylabel(\"Feature\")"
   ]
  },
  {
   "cell_type": "markdown",
   "metadata": {},
   "source": [
    "The output we get is quite different from the one we got with the simple Decision Tree. Here, way more features get credit in the decision process. In the future feature selection process, we should then get more features remaining at each step."
   ]
  },
  {
   "cell_type": "code",
   "execution_count": 5,
   "metadata": {
    "scrolled": false
   },
   "outputs": [
    {
     "name": "stdout",
     "output_type": "stream",
     "text": [
      "Execution            # features  Features selected                      Training set acc    Test acc    Time (s)\n",
      "-----------------  ------------  -----------------------------------  ------------------  ----------  ----------\n",
      "Classic                     119  ['f1',...,'f119']                              0.992596    0.992439    0.205462\n",
      "K best features              31  ['f11','f18','f23','f26','f27',                0.990548    0.989288    0.192151\n",
      "                                 'f29','f30','f32','f37','f39',\n",
      "                                 'f40','f41','f43','f48','f51',\n",
      "                                 'f54','f56','f57','f60','f65',\n",
      "                                 'f66','f73','f74','f75','f92',\n",
      "                                 'f105','f114','f115','f116','f117',\n",
      "                                 'f119']\n",
      "Iterative process             9  ['f27','f29','f30','f32','f39',                0.98535     0.988028    0.534814\n",
      "                                 'f40','f43','f48','f116']\n"
     ]
    }
   ],
   "source": [
    "feature_selection('../../../dumps/various_sizes/8K.csv','forest')"
   ]
  },
  {
   "cell_type": "markdown",
   "metadata": {},
   "source": [
    "All cases are quite similar, which is quite unintuitive since we saw that a lot of features had impact and at the end we went from 49 to respectively 31 and 9features.\n",
    "We can also notice that using the intersection set slightly decreases the test accuracy but logically takes way more time because of the number of iterations required to get the final features set.\n",
    "\n",
    "As we did with the Decision Trees, let's observe how the performance are impacted when doubling the size of the dataset."
   ]
  },
  {
   "cell_type": "code",
   "execution_count": 6,
   "metadata": {
    "scrolled": false
   },
   "outputs": [
    {
     "name": "stdout",
     "output_type": "stream",
     "text": [
      "Execution            # features  Features selected                      Training set acc    Test acc    Time (s)\n",
      "-----------------  ------------  -----------------------------------  ------------------  ----------  ----------\n",
      "Classic                     119  ['f1',...,'f119']                              0.988463    0.987843    0.399862\n",
      "K best features              41  ['f18','f24','f26','f27','f28',                0.987839    0.984726    0.295142\n",
      "                                 'f29','f30','f35','f37','f39',\n",
      "                                 'f40','f41','f43','f47','f48',\n",
      "                                 'f51','f53','f54','f55','f56',\n",
      "                                 'f59','f60','f61','f63','f64',\n",
      "                                 'f70','f71','f73','f74','f82',\n",
      "                                 'f83','f86','f89','f96','f101',\n",
      "                                 'f108','f112','f113','f114','f115',\n",
      "                                 'f116']\n",
      "Iterative process            15  ['f26','f27','f29','f30','f39',                0.986904    0.984726    0.978899\n",
      "                                 'f40','f41','f43','f48','f56',\n",
      "                                 'f60','f114','f115','f116','f119']\n"
     ]
    }
   ],
   "source": [
    "feature_selection('../../../dumps/various_sizes/16K.csv','forest')"
   ]
  },
  {
   "cell_type": "markdown",
   "metadata": {},
   "source": [
    "Same conclusion as before : small loss of precision but around 33% of time saved for the first case and same precision but time overhead for the latter."
   ]
  },
  {
   "cell_type": "code",
   "execution_count": 11,
   "metadata": {},
   "outputs": [
    {
     "name": "stdout",
     "output_type": "stream",
     "text": [
      "Threshold : 0.005000\n",
      "Execution            # features  Features selected                      Training set acc    Test acc    Time (s)\n",
      "-----------------  ------------  -----------------------------------  ------------------  ----------  ----------\n",
      "Classic                     119  ['f1',...,'f119']                              0.988463    0.987843    0.382756\n",
      "K best features              41  ['f18','f24','f26','f27','f28',                0.987839    0.984726    0.293189\n",
      "                                 'f29','f30','f35','f37','f39',\n",
      "                                 'f40','f41','f43','f47','f48',\n",
      "                                 'f51','f53','f54','f55','f56',\n",
      "                                 'f59','f60','f61','f63','f64',\n",
      "                                 'f70','f71','f73','f74','f82',\n",
      "                                 'f83','f86','f89','f96','f101',\n",
      "                                 'f108','f112','f113','f114','f115',\n",
      "                                 'f116']\n",
      "Iterative process            15  ['f26','f27','f29','f30','f39',                0.986904    0.984726    1.05075\n",
      "                                 'f40','f41','f43','f48','f56',\n",
      "                                 'f60','f114','f115','f116','f119']\n",
      "\n",
      "\n",
      "Threshold : 0.050000\n",
      "Execution            # features  Features selected             Training set acc    Test acc    Time (s)\n",
      "-----------------  ------------  --------------------------  ------------------  ----------  ----------\n",
      "Classic                     119  ['f1',...,'f119']                     0.988463    0.987843    0.345572\n",
      "K best features               4  ['f39','f48','f54','f116']            0.985578    0.983791    0.253607\n",
      "Iterative process             1  ['f48']                               0.944574    0.939838    1.03012\n",
      "\n",
      "\n",
      "Threshold : 0.100000\n",
      "Execution            # features  Features selected      Training set acc    Test acc    Time (s)\n",
      "-----------------  ------------  -------------------  ------------------  ----------  ----------\n",
      "Classic                     119  ['f1',...,'f119']              0.988463    0.987843    0.345032\n",
      "K best features               1  ['f48']                        0.944574    0.939838    0.251202\n",
      "Iterative process             1  ['f48']                        0.944574    0.939838    1.04978\n",
      "\n",
      "\n",
      "Threshold : 0.200000\n"
     ]
    },
    {
     "name": "stderr",
     "output_type": "stream",
     "text": [
      "/usr/local/lib/python3.7/site-packages/sklearn/feature_selection/_base.py:81: UserWarning: No features were selected: either the data is too noisy or the selection test too strict.\n",
      "  UserWarning)\n"
     ]
    },
    {
     "ename": "ValueError",
     "evalue": "at least one array or dtype is required",
     "output_type": "error",
     "traceback": [
      "\u001b[0;31m---------------------------------------------------------------------------\u001b[0m",
      "\u001b[0;31mValueError\u001b[0m                                Traceback (most recent call last)",
      "\u001b[0;32m<ipython-input-11-6ebfdfd1557f>\u001b[0m in \u001b[0;36m<module>\u001b[0;34m\u001b[0m\n\u001b[0;32m----> 1\u001b[0;31m \u001b[0mfs_driver\u001b[0m\u001b[0;34m(\u001b[0m\u001b[0;34m'../../../dumps/various_sizes/16K.csv'\u001b[0m\u001b[0;34m,\u001b[0m\u001b[0;34m'forest'\u001b[0m\u001b[0;34m,\u001b[0m\u001b[0;34m[\u001b[0m\u001b[0;36m0.005\u001b[0m\u001b[0;34m,\u001b[0m\u001b[0;36m0.05\u001b[0m\u001b[0;34m,\u001b[0m\u001b[0;36m0.10\u001b[0m\u001b[0;34m,\u001b[0m\u001b[0;36m0.20\u001b[0m\u001b[0;34m]\u001b[0m\u001b[0;34m)\u001b[0m\u001b[0;34m\u001b[0m\u001b[0;34m\u001b[0m\u001b[0m\n\u001b[0m",
      "\u001b[0;32m~/Documents/UCL/Memoire/masterthesis/src/machine_learning/utils/utils.py\u001b[0m in \u001b[0;36mfs_driver\u001b[0;34m(csv, kind, thresholds)\u001b[0m\n\u001b[1;32m    164\u001b[0m         \u001b[0;32mfor\u001b[0m \u001b[0mi\u001b[0m \u001b[0;32min\u001b[0m \u001b[0mthresholds\u001b[0m\u001b[0;34m:\u001b[0m\u001b[0;34m\u001b[0m\u001b[0;34m\u001b[0m\u001b[0m\n\u001b[1;32m    165\u001b[0m                 \u001b[0mprint\u001b[0m\u001b[0;34m(\u001b[0m\u001b[0;34m\"Threshold : %f\"\u001b[0m \u001b[0;34m%\u001b[0m \u001b[0mi\u001b[0m\u001b[0;34m)\u001b[0m\u001b[0;34m\u001b[0m\u001b[0;34m\u001b[0m\u001b[0m\n\u001b[0;32m--> 166\u001b[0;31m                 \u001b[0mfeature_selection\u001b[0m\u001b[0;34m(\u001b[0m\u001b[0mcsv\u001b[0m\u001b[0;34m,\u001b[0m \u001b[0mkind\u001b[0m\u001b[0;34m,\u001b[0m \u001b[0mi\u001b[0m\u001b[0;34m)\u001b[0m\u001b[0;34m\u001b[0m\u001b[0;34m\u001b[0m\u001b[0m\n\u001b[0m\u001b[1;32m    167\u001b[0m                 \u001b[0mprint\u001b[0m\u001b[0;34m(\u001b[0m\u001b[0;34m\"\\n\"\u001b[0m\u001b[0;34m)\u001b[0m\u001b[0;34m\u001b[0m\u001b[0;34m\u001b[0m\u001b[0m\n\u001b[1;32m    168\u001b[0m \u001b[0;34m\u001b[0m\u001b[0m\n",
      "\u001b[0;32m~/Documents/UCL/Memoire/masterthesis/src/machine_learning/utils/utils.py\u001b[0m in \u001b[0;36mfeature_selection\u001b[0;34m(csv, kind, threshold)\u001b[0m\n\u001b[1;32m    128\u001b[0m         \u001b[0mdata_train\u001b[0m\u001b[0;34m,\u001b[0m \u001b[0mdata_test\u001b[0m\u001b[0;34m,\u001b[0m \u001b[0mtarget_train\u001b[0m\u001b[0;34m,\u001b[0m \u001b[0mtarget_test\u001b[0m \u001b[0;34m=\u001b[0m \u001b[0mtrain_test_split\u001b[0m\u001b[0;34m(\u001b[0m\u001b[0mdata\u001b[0m\u001b[0;34m,\u001b[0m\u001b[0mtarget\u001b[0m\u001b[0;34m,\u001b[0m \u001b[0mtest_size\u001b[0m \u001b[0;34m=\u001b[0m \u001b[0;36m0.20\u001b[0m\u001b[0;34m,\u001b[0m \u001b[0mrandom_state\u001b[0m \u001b[0;34m=\u001b[0m \u001b[0;36m0\u001b[0m\u001b[0;34m)\u001b[0m\u001b[0;34m\u001b[0m\u001b[0;34m\u001b[0m\u001b[0m\n\u001b[1;32m    129\u001b[0m \u001b[0;34m\u001b[0m\u001b[0m\n\u001b[0;32m--> 130\u001b[0;31m         \u001b[0mclf\u001b[0m\u001b[0;34m.\u001b[0m\u001b[0mfit\u001b[0m\u001b[0;34m(\u001b[0m\u001b[0mdata_train\u001b[0m\u001b[0;34m,\u001b[0m \u001b[0mtarget_train\u001b[0m\u001b[0;34m)\u001b[0m\u001b[0;34m\u001b[0m\u001b[0;34m\u001b[0m\u001b[0m\n\u001b[0m\u001b[1;32m    131\u001b[0m         \u001b[0mrow\u001b[0m\u001b[0;34m.\u001b[0m\u001b[0mappend\u001b[0m\u001b[0;34m(\u001b[0m\u001b[0;34m\"K best features\"\u001b[0m\u001b[0;34m)\u001b[0m\u001b[0;34m\u001b[0m\u001b[0;34m\u001b[0m\u001b[0m\n\u001b[1;32m    132\u001b[0m         \u001b[0mrow\u001b[0m\u001b[0;34m.\u001b[0m\u001b[0mappend\u001b[0m\u001b[0;34m(\u001b[0m\u001b[0mlen\u001b[0m\u001b[0;34m(\u001b[0m\u001b[0mnew_current_set\u001b[0m\u001b[0;34m.\u001b[0m\u001b[0mvalues\u001b[0m\u001b[0;34m)\u001b[0m\u001b[0;34m)\u001b[0m\u001b[0;34m\u001b[0m\u001b[0;34m\u001b[0m\u001b[0m\n",
      "\u001b[0;32m/usr/local/lib/python3.7/site-packages/sklearn/ensemble/_forest.py\u001b[0m in \u001b[0;36mfit\u001b[0;34m(self, X, y, sample_weight)\u001b[0m\n\u001b[1;32m    293\u001b[0m         \"\"\"\n\u001b[1;32m    294\u001b[0m         \u001b[0;31m# Validate or convert input data\u001b[0m\u001b[0;34m\u001b[0m\u001b[0;34m\u001b[0m\u001b[0;34m\u001b[0m\u001b[0m\n\u001b[0;32m--> 295\u001b[0;31m         \u001b[0mX\u001b[0m \u001b[0;34m=\u001b[0m \u001b[0mcheck_array\u001b[0m\u001b[0;34m(\u001b[0m\u001b[0mX\u001b[0m\u001b[0;34m,\u001b[0m \u001b[0maccept_sparse\u001b[0m\u001b[0;34m=\u001b[0m\u001b[0;34m\"csc\"\u001b[0m\u001b[0;34m,\u001b[0m \u001b[0mdtype\u001b[0m\u001b[0;34m=\u001b[0m\u001b[0mDTYPE\u001b[0m\u001b[0;34m)\u001b[0m\u001b[0;34m\u001b[0m\u001b[0;34m\u001b[0m\u001b[0m\n\u001b[0m\u001b[1;32m    296\u001b[0m         \u001b[0my\u001b[0m \u001b[0;34m=\u001b[0m \u001b[0mcheck_array\u001b[0m\u001b[0;34m(\u001b[0m\u001b[0my\u001b[0m\u001b[0;34m,\u001b[0m \u001b[0maccept_sparse\u001b[0m\u001b[0;34m=\u001b[0m\u001b[0;34m'csc'\u001b[0m\u001b[0;34m,\u001b[0m \u001b[0mensure_2d\u001b[0m\u001b[0;34m=\u001b[0m\u001b[0;32mFalse\u001b[0m\u001b[0;34m,\u001b[0m \u001b[0mdtype\u001b[0m\u001b[0;34m=\u001b[0m\u001b[0;32mNone\u001b[0m\u001b[0;34m)\u001b[0m\u001b[0;34m\u001b[0m\u001b[0;34m\u001b[0m\u001b[0m\n\u001b[1;32m    297\u001b[0m         \u001b[0;32mif\u001b[0m \u001b[0msample_weight\u001b[0m \u001b[0;32mis\u001b[0m \u001b[0;32mnot\u001b[0m \u001b[0;32mNone\u001b[0m\u001b[0;34m:\u001b[0m\u001b[0;34m\u001b[0m\u001b[0;34m\u001b[0m\u001b[0m\n",
      "\u001b[0;32m/usr/local/lib/python3.7/site-packages/sklearn/utils/validation.py\u001b[0m in \u001b[0;36mcheck_array\u001b[0;34m(array, accept_sparse, accept_large_sparse, dtype, order, copy, force_all_finite, ensure_2d, allow_nd, ensure_min_samples, ensure_min_features, warn_on_dtype, estimator)\u001b[0m\n\u001b[1;32m    473\u001b[0m \u001b[0;34m\u001b[0m\u001b[0m\n\u001b[1;32m    474\u001b[0m         \u001b[0;32mif\u001b[0m \u001b[0mall\u001b[0m\u001b[0;34m(\u001b[0m\u001b[0misinstance\u001b[0m\u001b[0;34m(\u001b[0m\u001b[0mdtype\u001b[0m\u001b[0;34m,\u001b[0m \u001b[0mnp\u001b[0m\u001b[0;34m.\u001b[0m\u001b[0mdtype\u001b[0m\u001b[0;34m)\u001b[0m \u001b[0;32mfor\u001b[0m \u001b[0mdtype\u001b[0m \u001b[0;32min\u001b[0m \u001b[0mdtypes_orig\u001b[0m\u001b[0;34m)\u001b[0m\u001b[0;34m:\u001b[0m\u001b[0;34m\u001b[0m\u001b[0;34m\u001b[0m\u001b[0m\n\u001b[0;32m--> 475\u001b[0;31m             \u001b[0mdtype_orig\u001b[0m \u001b[0;34m=\u001b[0m \u001b[0mnp\u001b[0m\u001b[0;34m.\u001b[0m\u001b[0mresult_type\u001b[0m\u001b[0;34m(\u001b[0m\u001b[0;34m*\u001b[0m\u001b[0mdtypes_orig\u001b[0m\u001b[0;34m)\u001b[0m\u001b[0;34m\u001b[0m\u001b[0;34m\u001b[0m\u001b[0m\n\u001b[0m\u001b[1;32m    476\u001b[0m \u001b[0;34m\u001b[0m\u001b[0m\n\u001b[1;32m    477\u001b[0m     \u001b[0;32mif\u001b[0m \u001b[0mdtype_numeric\u001b[0m\u001b[0;34m:\u001b[0m\u001b[0;34m\u001b[0m\u001b[0;34m\u001b[0m\u001b[0m\n",
      "\u001b[0;32m<__array_function__ internals>\u001b[0m in \u001b[0;36mresult_type\u001b[0;34m(*args, **kwargs)\u001b[0m\n",
      "\u001b[0;31mValueError\u001b[0m: at least one array or dtype is required"
     ]
    }
   ],
   "source": [
    "fs_driver('../../../dumps/various_sizes/16K.csv','forest',[0.005,0.05,0.10,0.20])"
   ]
  },
  {
   "cell_type": "markdown",
   "metadata": {},
   "source": [
    "It's interesting to see that the program crashes for threshold values starting from 0.20 which means that no feature can be intersected.\n",
    "We can also observe that we could go from 119 to only 4 features while lossing only 0.4% precision but saving once again 1/3 of time. On the other side, reducing the features set to only the 48th feature decreases precision by 5% while saving the same amount of time."
   ]
  },
  {
   "cell_type": "code",
   "execution_count": null,
   "metadata": {},
   "outputs": [],
   "source": []
  }
 ],
 "metadata": {
  "kernelspec": {
   "display_name": "Python 3",
   "language": "python",
   "name": "python3"
  },
  "language_info": {
   "codemirror_mode": {
    "name": "ipython",
    "version": 3
   },
   "file_extension": ".py",
   "mimetype": "text/x-python",
   "name": "python",
   "nbconvert_exporter": "python",
   "pygments_lexer": "ipython3",
   "version": "3.7.7"
  }
 },
 "nbformat": 4,
 "nbformat_minor": 4
}
