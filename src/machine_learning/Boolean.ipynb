{
 "cells": [
  {
   "cell_type": "markdown",
   "metadata": {},
   "source": [
    "# Convert all values to Booleans\n",
    "Theses values are already in boolean format"
   ]
  },
  {
   "cell_type": "markdown",
   "metadata": {},
   "source": [
    "- [1:8]\n",
    "- [31:36]\n",
    "- 42\n",
    "- 118"
   ]
  },
  {
   "cell_type": "code",
   "execution_count": 1,
   "metadata": {},
   "outputs": [],
   "source": [
    "# Imports\n",
    "\n",
    "# Plots\n",
    "%matplotlib inline\n",
    "import mpld3\n",
    "import matplotlib.pyplot as plt\n",
    "mpld3.enable_notebook()\n",
    "\n",
    "import pandas as pd\n",
    "df = pd.read_csv('../dumps/16K.csv')\n",
    "from toBoolean import *"
   ]
  },
  {
   "cell_type": "markdown",
   "metadata": {},
   "source": [
    "## Feature 9 : the Checksum\n",
    "10958 rows have value 0 <br>\n",
    "=> 68% <br>\n",
    "`0 if x == 0 else 1`"
   ]
  },
  {
   "cell_type": "code",
   "execution_count": 2,
   "metadata": {},
   "outputs": [
    {
     "data": {
      "text/plain": [
       "0        1\n",
       "1        1\n",
       "2        0\n",
       "3        0\n",
       "4        0\n",
       "        ..\n",
       "16031    0\n",
       "16032    1\n",
       "16033    0\n",
       "16034    1\n",
       "16035    0\n",
       "Name: f9, Length: 16036, dtype: int64"
      ]
     },
     "execution_count": 2,
     "metadata": {},
     "output_type": "execute_result"
    }
   ],
   "source": [
    "convert_f9(df['f9'])"
   ]
  },
  {
   "cell_type": "markdown",
   "metadata": {},
   "source": [
    "## Feature 10 : the Image Base\n",
    "14 263 rows have value 4 194 304 <br>\n",
    "=> 89% <br>\n",
    "`1 if x == 4_194_304 else 0`"
   ]
  },
  {
   "cell_type": "code",
   "execution_count": 3,
   "metadata": {},
   "outputs": [
    {
     "data": {
      "text/plain": [
       "0        1\n",
       "1        1\n",
       "2        1\n",
       "3        1\n",
       "4        1\n",
       "        ..\n",
       "16031    1\n",
       "16032    1\n",
       "16033    1\n",
       "16034    1\n",
       "16035    0\n",
       "Name: f10, Length: 16036, dtype: int64"
      ]
     },
     "execution_count": 3,
     "metadata": {},
     "output_type": "execute_result"
    }
   ],
   "source": [
    "convert_f10(df['f10'])"
   ]
  },
  {
   "cell_type": "markdown",
   "metadata": {},
   "source": [
    "## Feature 11 : the Base of Code\n",
    "13084 rows have value 4096 (82%) <br>\n",
    "1022  rows have value 8192 (6%)"
   ]
  },
  {
   "cell_type": "code",
   "execution_count": 4,
   "metadata": {},
   "outputs": [
    {
     "data": {
      "text/plain": [
       "0        1\n",
       "1        1\n",
       "2        2\n",
       "3        0\n",
       "4        2\n",
       "        ..\n",
       "16031    1\n",
       "16032    1\n",
       "16033    1\n",
       "16034    1\n",
       "16035    1\n",
       "Name: f11, Length: 16036, dtype: int64"
      ]
     },
     "execution_count": 4,
     "metadata": {},
     "output_type": "execute_result"
    }
   ],
   "source": [
    "convert_f11(df['f11'])"
   ]
  },
  {
   "cell_type": "markdown",
   "metadata": {},
   "source": [
    "## Feature 12 : the OS Major version\n",
    "10786 rows have value 4 (67%) <br>\n",
    "3898 rows have value 5 (24%)"
   ]
  },
  {
   "cell_type": "code",
   "execution_count": 5,
   "metadata": {},
   "outputs": [
    {
     "data": {
      "text/plain": [
       "0        1\n",
       "1        2\n",
       "2        1\n",
       "3        1\n",
       "4        1\n",
       "        ..\n",
       "16031    1\n",
       "16032    1\n",
       "16033    1\n",
       "16034    1\n",
       "16035    2\n",
       "Name: f12, Length: 16036, dtype: int64"
      ]
     },
     "execution_count": 5,
     "metadata": {},
     "output_type": "execute_result"
    }
   ],
   "source": [
    "convert_f12(df['f12'])"
   ]
  },
  {
   "cell_type": "markdown",
   "metadata": {},
   "source": [
    "## Feature 13 : the OS Minor version\n",
    "13235 rows have value 0 (83%)"
   ]
  },
  {
   "cell_type": "code",
   "execution_count": 6,
   "metadata": {},
   "outputs": [
    {
     "data": {
      "text/plain": [
       "0        1\n",
       "1        1\n",
       "2        1\n",
       "3        1\n",
       "4        1\n",
       "        ..\n",
       "16031    1\n",
       "16032    1\n",
       "16033    1\n",
       "16034    1\n",
       "16035    0\n",
       "Name: f13, Length: 16036, dtype: int64"
      ]
     },
     "execution_count": 6,
     "metadata": {},
     "output_type": "execute_result"
    }
   ],
   "source": [
    "convert_f13(df['f13'])"
   ]
  },
  {
   "cell_type": "markdown",
   "metadata": {},
   "source": [
    "## Feature 14 : the Size of Image\n",
    "Random"
   ]
  },
  {
   "cell_type": "code",
   "execution_count": 7,
   "metadata": {},
   "outputs": [
    {
     "data": {
      "text/plain": [
       "0        1\n",
       "1        1\n",
       "2        0\n",
       "3        1\n",
       "4        0\n",
       "        ..\n",
       "16031    1\n",
       "16032    1\n",
       "16033    0\n",
       "16034    1\n",
       "16035    0\n",
       "Name: f14, Length: 16036, dtype: int64"
      ]
     },
     "execution_count": 7,
     "metadata": {},
     "output_type": "execute_result"
    }
   ],
   "source": [
    "convert_f14(df['f14'])"
   ]
  },
  {
   "cell_type": "markdown",
   "metadata": {},
   "source": [
    "## Feature 15 : the Size of Code"
   ]
  },
  {
   "cell_type": "code",
   "execution_count": 8,
   "metadata": {
    "scrolled": true
   },
   "outputs": [
    {
     "data": {
      "text/plain": [
       "0        1\n",
       "1        1\n",
       "2        0\n",
       "3        0\n",
       "4        0\n",
       "        ..\n",
       "16031    1\n",
       "16032    0\n",
       "16033    0\n",
       "16034    0\n",
       "16035    0\n",
       "Name: f15, Length: 16036, dtype: int64"
      ]
     },
     "execution_count": 8,
     "metadata": {},
     "output_type": "execute_result"
    }
   ],
   "source": [
    "convert_f15(df['f15'])"
   ]
  },
  {
   "cell_type": "markdown",
   "metadata": {},
   "source": [
    "## Feature 16 : the Headers\n",
    "6777 rows have value 1024 (42%) <br>\n",
    "5502 rows have value 4096 (34%) <br>\n",
    "2577 rows have value 512 (16%) <br>\n",
    "1135 rows have value 1536 (7%)"
   ]
  },
  {
   "cell_type": "code",
   "execution_count": 9,
   "metadata": {},
   "outputs": [
    {
     "data": {
      "text/plain": [
       "0        2\n",
       "1        1\n",
       "2        2\n",
       "3        1\n",
       "4        2\n",
       "        ..\n",
       "16031    1\n",
       "16032    1\n",
       "16033    2\n",
       "16034    1\n",
       "16035    4\n",
       "Name: f16, Length: 16036, dtype: int64"
      ]
     },
     "execution_count": 9,
     "metadata": {},
     "output_type": "execute_result"
    }
   ],
   "source": [
    "convert_f16(df['f16'])"
   ]
  },
  {
   "cell_type": "markdown",
   "metadata": {},
   "source": [
    "## Feature 17 : the Size Of InitializedData"
   ]
  },
  {
   "cell_type": "code",
   "execution_count": 10,
   "metadata": {},
   "outputs": [
    {
     "ename": "SyntaxError",
     "evalue": "invalid syntax (<ipython-input-10-2675bf4da70d>, line 2)",
     "output_type": "error",
     "traceback": [
      "\u001b[0;36m  File \u001b[0;32m\"<ipython-input-10-2675bf4da70d>\"\u001b[0;36m, line \u001b[0;32m2\u001b[0m\n\u001b[0;31m    print(Feature 20 : the Size of Stack Commit)\u001b[0m\n\u001b[0m                   ^\u001b[0m\n\u001b[0;31mSyntaxError\u001b[0m\u001b[0;31m:\u001b[0m invalid syntax\n"
     ]
    }
   ],
   "source": [
    "with pd.option_context('display.max_rows', None, 'display.max_columns', None):\n",
    "    print(Feature 20 : the Size of Stack Commit)"
   ]
  },
  {
   "cell_type": "markdown",
   "metadata": {},
   "source": [
    "# Feature 18 : the Size Of UninitializedData\n",
    "13446 rows have value 0 (84%)<br>"
   ]
  },
  {
   "cell_type": "code",
   "execution_count": 12,
   "metadata": {},
   "outputs": [
    {
     "data": {
      "text/plain": [
       "0        1\n",
       "1        1\n",
       "2        1\n",
       "3        0\n",
       "4        1\n",
       "        ..\n",
       "16031    1\n",
       "16032    1\n",
       "16033    1\n",
       "16034    1\n",
       "16035    1\n",
       "Name: f18, Length: 16036, dtype: int64"
      ]
     },
     "execution_count": 12,
     "metadata": {},
     "output_type": "execute_result"
    }
   ],
   "source": [
    "convert_f18(df['f18'])"
   ]
  },
  {
   "cell_type": "markdown",
   "metadata": {},
   "source": [
    "## Feature 19 : the Size Of StackReserve\n",
    "13520 rows have value 1048576 (84%)"
   ]
  },
  {
   "cell_type": "code",
   "execution_count": 14,
   "metadata": {},
   "outputs": [
    {
     "data": {
      "text/plain": [
       "0        1\n",
       "1        1\n",
       "2        1\n",
       "3        1\n",
       "4        1\n",
       "        ..\n",
       "16031    1\n",
       "16032    1\n",
       "16033    1\n",
       "16034    1\n",
       "16035    0\n",
       "Name: f19, Length: 16036, dtype: int64"
      ]
     },
     "execution_count": 14,
     "metadata": {},
     "output_type": "execute_result"
    }
   ],
   "source": [
    "convert_f19(df['f19'])"
   ]
  },
  {
   "cell_type": "markdown",
   "metadata": {},
   "source": [
    "## Feature 20 : the Size of Stack Commit\n",
    "13948 rows have value 4096 (87%) <br>\n",
    "1570 rows have value 16384 (10%) <br>\n",
    "229 rows have value 8192 (1%) <br>\n",
    "93 rows have value 65536 (0.6%)"
   ]
  },
  {
   "cell_type": "code",
   "execution_count": 15,
   "metadata": {},
   "outputs": [
    {
     "data": {
      "text/plain": [
       "0        1\n",
       "1        1\n",
       "2        1\n",
       "3        1\n",
       "4        1\n",
       "        ..\n",
       "16031    1\n",
       "16032    1\n",
       "16033    1\n",
       "16034    1\n",
       "16035    4\n",
       "Name: f20, Length: 16036, dtype: int64"
      ]
     },
     "execution_count": 15,
     "metadata": {},
     "output_type": "execute_result"
    }
   ],
   "source": [
    "convert_f20(df['f20'])"
   ]
  },
  {
   "cell_type": "markdown",
   "metadata": {},
   "source": [
    "## Feature 21 : the Section Alignment\n",
    "15005 rows have value 4096 (94%) <br>\n",
    "996 rows have value 8192 (6%)"
   ]
  },
  {
   "cell_type": "code",
   "execution_count": 16,
   "metadata": {},
   "outputs": [
    {
     "data": {
      "text/plain": [
       "0        1\n",
       "1        1\n",
       "2        2\n",
       "3        1\n",
       "4        2\n",
       "        ..\n",
       "16031    1\n",
       "16032    1\n",
       "16033    1\n",
       "16034    1\n",
       "16035    1\n",
       "Name: f21, Length: 16036, dtype: int64"
      ]
     },
     "execution_count": 16,
     "metadata": {},
     "output_type": "execute_result"
    }
   ],
   "source": [
    "convert_f21(df['f21'])"
   ]
  },
  {
   "cell_type": "markdown",
   "metadata": {},
   "source": [
    "## Feature 22 : the number of standards sections the PE holds\n",
    "4170 rows have value 4 (26%) <br>\n",
    "3271 rows have value 3 (20%) <br>\n",
    "2675 rows have value 2 (17%) <br>\n",
    "2200 rows have value 5 (14%) <br>\n",
    "1703 rows have value 1 (11%) <br>\n",
    "... <br>\n",
    "` x if x < 9 else 9`"
   ]
  },
  {
   "cell_type": "code",
   "execution_count": 17,
   "metadata": {},
   "outputs": [
    {
     "data": {
      "text/plain": [
       "0        3.0\n",
       "1        5.0\n",
       "2        3.0\n",
       "3        1.0\n",
       "4        3.0\n",
       "        ... \n",
       "16031    4.0\n",
       "16032    2.0\n",
       "16033    4.0\n",
       "16034    2.0\n",
       "16035    3.0\n",
       "Name: f22, Length: 16036, dtype: float64"
      ]
     },
     "execution_count": 17,
     "metadata": {},
     "output_type": "execute_result"
    }
   ],
   "source": [
    "convert_f22(df['f22'])"
   ]
  },
  {
   "cell_type": "markdown",
   "metadata": {},
   "source": [
    "## Feature 23 : the number of non-standards sections the PE holds\n",
    "10272 rows have value 0 (64%) <br>\n",
    "1939 rows have value 2 (12%) <br>\n",
    "1571 rows have value 1 (10%) <br>\n",
    "1557 rows have value 3 (10%) <br>\n",
    "` x if x < 4 else 4`"
   ]
  },
  {
   "cell_type": "code",
   "execution_count": 18,
   "metadata": {},
   "outputs": [
    {
     "data": {
      "text/plain": [
       "0.0     10272\n",
       "2.0      1939\n",
       "1.0      1571\n",
       "3.0      1557\n",
       "4.0       322\n",
       "5.0       174\n",
       "8.0        81\n",
       "6.0        54\n",
       "9.0        27\n",
       "10.0        8\n",
       "12.0        7\n",
       "11.0        6\n",
       "7.0         4\n",
       "14.0        2\n",
       "18.0        2\n",
       "28.0        1\n",
       "39.0        1\n",
       "50.0        1\n",
       "61.0        1\n",
       "21.0        1\n",
       "36.0        1\n",
       "13.0        1\n",
       "37.0        1\n",
       "46.0        1\n",
       "47.0        1\n",
       "Name: f23, dtype: int64"
      ]
     },
     "execution_count": 18,
     "metadata": {},
     "output_type": "execute_result"
    }
   ],
   "source": [
    "convert_23(df['f23'])"
   ]
  },
  {
   "cell_type": "markdown",
   "metadata": {},
   "source": [
    "## Feature 24 : the ratio between the number of standards sections found and the number of all sections found in the PE under analysis\n",
    "10272 rows have value 1 (64%)"
   ]
  },
  {
   "cell_type": "code",
   "execution_count": 19,
   "metadata": {},
   "outputs": [
    {
     "data": {
      "text/plain": [
       "1.000    10272\n",
       "0.333     1067\n",
       "0.000      805\n",
       "0.625      700\n",
       "0.800      678\n",
       "         ...  \n",
       "0.944        1\n",
       "0.368        1\n",
       "0.080        1\n",
       "0.067        1\n",
       "0.027        1\n",
       "Name: f24, Length: 61, dtype: int64"
      ]
     },
     "execution_count": 19,
     "metadata": {},
     "output_type": "execute_result"
    }
   ],
   "source": [
    "convert_f24(df['f24'])"
   ]
  },
  {
   "cell_type": "markdown",
   "metadata": {},
   "source": [
    "## Feature 25 : the number of Executable sections the PE holds\n",
    "9420 rows have value 1 (59%) <br>\n",
    "4743 rows have value 2 (30%) <br>\n",
    "1113 rows have value 0 (7%)"
   ]
  },
  {
   "cell_type": "code",
   "execution_count": 20,
   "metadata": {},
   "outputs": [
    {
     "data": {
      "text/plain": [
       "1.0     9420\n",
       "2.0     4743\n",
       "0.0     1113\n",
       "3.0      333\n",
       "4.0      272\n",
       "6.0       98\n",
       "5.0       15\n",
       "7.0       12\n",
       "8.0        9\n",
       "11.0       4\n",
       "9.0        2\n",
       "14.0       2\n",
       "10.0       2\n",
       "12.0       2\n",
       "39.0       1\n",
       "38.0       1\n",
       "50.0       1\n",
       "46.0       1\n",
       "62.0       1\n",
       "13.0       1\n",
       "22.0       1\n",
       "37.0       1\n",
       "48.0       1\n",
       "Name: f25, dtype: int64"
      ]
     },
     "execution_count": 20,
     "metadata": {},
     "output_type": "execute_result"
    }
   ],
   "source": [
    "convert_f25(df['f25'])"
   ]
  },
  {
   "cell_type": "markdown",
   "metadata": {},
   "source": [
    "## Feature 26 : the number of Writable sections the PE holds"
   ]
  },
  {
   "cell_type": "code",
   "execution_count": null,
   "metadata": {},
   "outputs": [],
   "source": []
  }
 ],
 "metadata": {
  "kernelspec": {
   "display_name": "Python 3",
   "language": "python",
   "name": "python3"
  },
  "language_info": {
   "codemirror_mode": {
    "name": "ipython",
    "version": 3
   },
   "file_extension": ".py",
   "mimetype": "text/x-python",
   "name": "python",
   "nbconvert_exporter": "python",
   "pygments_lexer": "ipython3",
   "version": "3.6.9"
  }
 },
 "nbformat": 4,
 "nbformat_minor": 4
}
