{
 "cells": [
  {
   "cell_type": "markdown",
   "metadata": {},
   "source": [
    "# Comparison between different kind of datasets"
   ]
  },
  {
   "cell_type": "code",
   "execution_count": 1,
   "metadata": {},
   "outputs": [],
   "source": [
    "%load_ext autoreload\n",
    "%autoreload\n",
    "\n",
    "import sys\n",
    "import pandas as pd\n",
    "from sklearn.model_selection import train_test_split\n",
    "from sklearn.svm import SVC\n",
    "from sklearn.preprocessing import Normalizer\n",
    "sys.path.append('../utils')\n",
    "from utils import perf"
   ]
  },
  {
   "cell_type": "code",
   "execution_count": 2,
   "metadata": {},
   "outputs": [
    {
     "name": "stdout",
     "output_type": "stream",
     "text": [
      "Most important : \n",
      "\n",
      "Accuracy on training set: 0.997\n",
      "Accuracy on test set: 0.996\n"
     ]
    }
   ],
   "source": [
    "perf('../../dumps/dataset_variations/16K-19-05-T3.csv','svm',False)"
   ]
  },
  {
   "cell_type": "markdown",
   "metadata": {},
   "source": [
    "## Different thresholds"
   ]
  },
  {
   "cell_type": "code",
   "execution_count": 3,
   "metadata": {},
   "outputs": [
    {
     "name": "stdout",
     "output_type": "stream",
     "text": [
      "Most important : \n",
      "\n",
      "Accuracy on training set: 0.982\n",
      "Accuracy on test set: 0.978\n"
     ]
    }
   ],
   "source": [
    "perf('../../dumps/dataset_variations/16K-19-05-T1.csv','svm',False)"
   ]
  },
  {
   "cell_type": "code",
   "execution_count": 4,
   "metadata": {},
   "outputs": [
    {
     "name": "stdout",
     "output_type": "stream",
     "text": [
      "Most important : \n",
      "\n",
      "Accuracy on training set: 0.997\n",
      "Accuracy on test set: 0.995\n"
     ]
    }
   ],
   "source": [
    "perf('../../dumps/dataset_variations/16K-19-05-T2.csv','svm',False)"
   ]
  },
  {
   "cell_type": "code",
   "execution_count": 5,
   "metadata": {},
   "outputs": [
    {
     "name": "stdout",
     "output_type": "stream",
     "text": [
      "Most important : \n",
      "\n",
      "Accuracy on training set: 0.999\n",
      "Accuracy on test set: 0.997\n"
     ]
    }
   ],
   "source": [
    "perf('../../dumps/dataset_variations/16K-19-05-T4.csv','svm',False)"
   ]
  },
  {
   "cell_type": "code",
   "execution_count": 6,
   "metadata": {},
   "outputs": [
    {
     "name": "stdout",
     "output_type": "stream",
     "text": [
      "Most important : \n",
      "\n",
      "Accuracy on training set: 0.998\n",
      "Accuracy on test set: 0.997\n"
     ]
    }
   ],
   "source": [
    "perf('../../dumps/dataset_variations/16K-19-05-T5.csv','svm',False)"
   ]
  },
  {
   "cell_type": "markdown",
   "metadata": {},
   "source": [
    "## Errors considered as positive result from detector"
   ]
  },
  {
   "cell_type": "code",
   "execution_count": 7,
   "metadata": {},
   "outputs": [
    {
     "name": "stdout",
     "output_type": "stream",
     "text": [
      "Most important : \n",
      "\n",
      "Accuracy on training set: 0.997\n",
      "Accuracy on test set: 0.996\n"
     ]
    }
   ],
   "source": [
    "perf('../../dumps/dataset_variations/16K-22-05-error.csv','svm',False)"
   ]
  },
  {
   "cell_type": "markdown",
   "metadata": {},
   "source": [
    "## Check influence of each detector"
   ]
  },
  {
   "cell_type": "code",
   "execution_count": 8,
   "metadata": {},
   "outputs": [
    {
     "name": "stdout",
     "output_type": "stream",
     "text": [
      "Most important : \n",
      "\n",
      "Accuracy on training set: 0.998\n",
      "Accuracy on test set: 0.995\n"
     ]
    }
   ],
   "source": [
    "perf('../../dumps/dataset_variations/16K-22-05-DIE.csv','svm',False)"
   ]
  },
  {
   "cell_type": "code",
   "execution_count": 9,
   "metadata": {},
   "outputs": [
    {
     "name": "stdout",
     "output_type": "stream",
     "text": [
      "Most important : \n",
      "\n",
      "Accuracy on training set: 0.998\n",
      "Accuracy on test set: 0.997\n"
     ]
    }
   ],
   "source": [
    "perf('../../dumps/dataset_variations/16K-22-05-CISCO.csv','svm',False)"
   ]
  },
  {
   "cell_type": "code",
   "execution_count": 10,
   "metadata": {},
   "outputs": [
    {
     "name": "stdout",
     "output_type": "stream",
     "text": [
      "Most important : \n",
      "\n",
      "Accuracy on training set: 0.997\n",
      "Accuracy on test set: 0.996\n"
     ]
    }
   ],
   "source": [
    "perf('../../dumps/dataset_variations/16K-22-05-MANALYZE.csv','svm',False)"
   ]
  },
  {
   "cell_type": "code",
   "execution_count": 11,
   "metadata": {},
   "outputs": [
    {
     "name": "stdout",
     "output_type": "stream",
     "text": [
      "Most important : \n",
      "\n",
      "Accuracy on training set: 0.999\n",
      "Accuracy on test set: 0.998\n"
     ]
    }
   ],
   "source": [
    "perf('../../dumps/dataset_variations/16K-22-05-PEID.csv','svm',False)"
   ]
  },
  {
   "cell_type": "code",
   "execution_count": 12,
   "metadata": {},
   "outputs": [
    {
     "name": "stdout",
     "output_type": "stream",
     "text": [
      "Most important : \n",
      "\n",
      "Accuracy on training set: 0.999\n",
      "Accuracy on test set: 0.999\n"
     ]
    }
   ],
   "source": [
    "perf('../../dumps/dataset_variations/16K-22-05-PEFRAME.csv','svm',False)"
   ]
  },
  {
   "cell_type": "markdown",
   "metadata": {},
   "source": [
    "## Only boolean values"
   ]
  },
  {
   "cell_type": "code",
   "execution_count": 13,
   "metadata": {},
   "outputs": [
    {
     "name": "stdout",
     "output_type": "stream",
     "text": [
      "Most important : \n",
      "\n",
      "Accuracy on training set: 0.990\n",
      "Accuracy on test set: 0.989\n",
      "---------------\n",
      "\n",
      "All features : \n",
      "\n",
      "Accuracy on training set: 0.996\n",
      "Accuracy on test set: 0.995\n"
     ]
    }
   ],
   "source": [
    "perf('../../dumps/dataset_variations/16K-19-05-T3.csv','svm',True)"
   ]
  },
  {
   "cell_type": "markdown",
   "metadata": {},
   "source": [
    "## Agreement on same packer"
   ]
  },
  {
   "cell_type": "code",
   "execution_count": 14,
   "metadata": {},
   "outputs": [
    {
     "name": "stdout",
     "output_type": "stream",
     "text": [
      "Most important : \n",
      "\n",
      "Accuracy on training set: 0.997\n",
      "Accuracy on test set: 0.996\n"
     ]
    }
   ],
   "source": [
    "perf('../../dumps/dataset_variations/16K-22-05-agreement.csv','svm',False)"
   ]
  },
  {
   "cell_type": "markdown",
   "metadata": {},
   "source": [
    "## Thomas datasets"
   ]
  },
  {
   "cell_type": "code",
   "execution_count": null,
   "metadata": {},
   "outputs": [],
   "source": [
    "gt = pd.read_csv(\"../../dumps/thomas_datasets/2019-08.Merged_thomas.csv\")\n",
    "cols = [col for col in gt.columns if col not in ['label']]\n",
    "data = gt[cols]\n",
    "target = gt['label']\n",
    "\n",
    "data_train, data_test, target_train, target_test = train_test_split(data,target, test_size = 0.20, random_state = 0)\n",
    "scaler = Normalizer()\n",
    "scaler.fit(data_train)\n",
    "data_train = scaler.transform(data_train)\n",
    "data_test = scaler.transform(data_test)\n",
    "\n",
    "tree = SVC(kernel='poly',C=1000,gamma=100,degree=15)\n",
    "tree.fit(data_train, target_train)\n",
    "print(\"Accuracy on training set: {:.3f}\".format(tree.score(data_train, target_train))) \n",
    "print(\"Accuracy on test set: {:.3f}\".format(tree.score(data_test, target_test)))"
   ]
  },
  {
   "cell_type": "code",
   "execution_count": null,
   "metadata": {},
   "outputs": [],
   "source": [
    "gt = pd.read_csv(\"../../dumps/thomas_datasets/2019-09.Merged_thomas.csv\")\n",
    "cols = [col for col in gt.columns if col not in ['label']]\n",
    "data = gt[cols]\n",
    "target = gt['label']\n",
    "\n",
    "data_train, data_test, target_train, target_test = train_test_split(data,target, test_size = 0.20, random_state = 0)\n",
    "scaler = Normalizer()\n",
    "scaler.fit(data_train)\n",
    "data_train = scaler.transform(data_train)\n",
    "data_test = scaler.transform(data_test)\n",
    "\n",
    "tree = SVC(kernel='poly',C=1000,gamma=100,degree=15)\n",
    "tree.fit(data_train, target_train)\n",
    "print(\"Accuracy on training set: {:.3f}\".format(tree.score(data_train, target_train))) \n",
    "print(\"Accuracy on test set: {:.3f}\".format(tree.score(data_test, target_test)))"
   ]
  },
  {
   "cell_type": "code",
   "execution_count": null,
   "metadata": {},
   "outputs": [],
   "source": []
  }
 ],
 "metadata": {
  "kernelspec": {
   "display_name": "Python 3",
   "language": "python",
   "name": "python3"
  },
  "language_info": {
   "codemirror_mode": {
    "name": "ipython",
    "version": 3
   },
   "file_extension": ".py",
   "mimetype": "text/x-python",
   "name": "python",
   "nbconvert_exporter": "python",
   "pygments_lexer": "ipython3",
   "version": "3.7.7"
  }
 },
 "nbformat": 4,
 "nbformat_minor": 4
}
