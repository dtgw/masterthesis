{
 "cells": [
  {
   "cell_type": "markdown",
   "metadata": {},
   "source": [
    "# Principal Component Analysis"
   ]
  },
  {
   "cell_type": "markdown",
   "metadata": {},
   "source": [
    "One has to know that running a SVM algorithm is pretty time and resource-consuming, therefore computing the PCA on a dataset with 14K samples didn't give any result for days after being launched. That's why we're gonna do it iteratively to see when we cross a reasonably fair threshold."
   ]
  },
  {
   "cell_type": "code",
   "execution_count": 1,
   "metadata": {},
   "outputs": [],
   "source": [
    "import sys, time\n",
    "sys.path.append('../utils')\n",
    "from utils import PCA_reduction, PCA_components"
   ]
  },
  {
   "cell_type": "code",
   "execution_count": null,
   "metadata": {},
   "outputs": [
    {
     "name": "stdout",
     "output_type": "stream",
     "text": [
      "Size of dataset : 2K\n",
      "Variance      Training acc    Test acc  Components      Time (s)\n",
      "----------  --------------  ----------  ------------  ----------\n",
      "no pca           1              0.9775  all            7.95294\n",
      "1                0.0913071      0.0675  119            0.0509328\n",
      "0.99             0.0913071      0.0675  97             0.0426856\n",
      "0.95             0.0913071      0.0675  74             0.0419489\n",
      "0.9              0.0913071      0.0675  58             0.0409068\n",
      "0.85             0.0913071      0.0675  46             0.0387309\n",
      "Time in seconds : 8.360937\n",
      "--------------------------\n",
      "Size of dataset : 3.7K\n"
     ]
    }
   ],
   "source": [
    "path = \"../../dumps/various_sizes/\"\n",
    "datasets = [\"2K.csv\",\"3.7K.csv\",\"5.7K.csv\",\"7.2K.csv\",\"8.7K.csv\",\"10.4K.csv\",\"12.4K.csv\",\"14.3K.csv\",\"16K.csv\"]\n",
    "for i in datasets:\n",
    "    print(\"Size of dataset : %s\" % i.replace('.csv',''))\n",
    "    start = time.time()\n",
    "    PCA_reduction(path+i,'svm')\n",
    "    end = time.time() - start\n",
    "    print(\"Time in seconds : %f\" % end)\n",
    "    print(\"--------------------------\")"
   ]
  },
  {
   "cell_type": "markdown",
   "metadata": {},
   "source": [
    "REALLY BAD PERFORMANCES !!!\n",
    "Since SVM is already a process of gathering features in clusters, doesn't really make sense to do a PCA for SVM."
   ]
  },
  {
   "cell_type": "code",
   "execution_count": 2,
   "metadata": {},
   "outputs": [
    {
     "data": {
      "image/png": "[encoded data removed]",
      "text/plain": [
       "<Figure size 432x288 with 1 Axes>"
      ]
     },
     "metadata": {
      "needs_background": "light"
     },
     "output_type": "display_data"
    },
    {
     "name": "stdout",
     "output_type": "stream",
     "text": [
      "Top 5 combinations of features : \n",
      "\n",
      "# components      Test accuracy    Time (s)    Fixed cost (s)\n",
      "--------------  ---------------  ----------  ----------------\n",
      "no PCA                 0.995324     1.58697\n",
      "104                    0.995324     1.39707          0.124477\n",
      "105                    0.995324     1.3696           0.122505\n",
      "106                    0.995324     1.40251          0.12267\n",
      "107                    0.995324     1.40605          0.130664\n",
      "108                    0.995324     1.40732          0.121673\n"
     ]
    },
    {
     "data": {
      "text/plain": [
       "104"
      ]
     },
     "execution_count": 2,
     "metadata": {},
     "output_type": "execute_result"
    }
   ],
   "source": [
    "PCA_components('../../dumps/various_sizes/16K.csv','svm')"
   ]
  },
  {
   "cell_type": "code",
   "execution_count": null,
   "metadata": {},
   "outputs": [],
   "source": []
  }
 ],
 "metadata": {
  "kernelspec": {
   "display_name": "Python 3",
   "language": "python",
   "name": "python3"
  },
  "language_info": {
   "codemirror_mode": {
    "name": "ipython",
    "version": 3
   },
   "file_extension": ".py",
   "mimetype": "text/x-python",
   "name": "python",
   "nbconvert_exporter": "python",
   "pygments_lexer": "ipython3",
   "version": "3.7.7"
  }
 },
 "nbformat": 4,
 "nbformat_minor": 4
}
