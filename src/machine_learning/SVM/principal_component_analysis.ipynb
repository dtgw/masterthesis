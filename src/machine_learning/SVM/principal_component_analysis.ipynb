{
 "cells": [
  {
   "cell_type": "markdown",
   "metadata": {},
   "source": [
    "# Principal Component Analysis"
   ]
  },
  {
   "cell_type": "markdown",
   "metadata": {},
   "source": [
    "One has to know that running a SVM algorithm is pretty time and resource-consuming, therefore computing the PCA on a dataset with 14K samples didn't give any result for days after being launched. That's why we're gonna do it iteratively to see when we cross a reasonably fair threshold."
   ]
  },
  {
   "cell_type": "code",
   "execution_count": 8,
   "metadata": {},
   "outputs": [],
   "source": [
    "import sys, time\n",
    "sys.path.append('../utils')\n",
    "from utils import PCA_reduction"
   ]
  },
  {
   "cell_type": "code",
   "execution_count": 9,
   "metadata": {},
   "outputs": [
    {
     "name": "stdout",
     "output_type": "stream",
     "text": [
      "Size of dataset : 2K\n",
      "  Variance    Training acc    Test acc    Components    Time (s)\n",
      "----------  --------------  ----------  ------------  ----------\n",
      "      1          0.0913071      0.0675           119   0.0317058\n",
      "      0.99       0.0913071      0.0675            97   0.0283647\n",
      "      0.95       0.0913071      0.0675            74   0.0286037\n",
      "      0.9        0.0913071      0.0675            58   0.0271725\n",
      "      0.85       0.0913071      0.0675            46   0.0289988\n",
      "Time in seconds : 0.241798\n",
      "--------------------------\n",
      "Size of dataset : 3.7K\n",
      "  Variance    Training acc    Test acc    Components    Time (s)\n",
      "----------  --------------  ----------  ------------  ----------\n",
      "      1          0.0953981   0.0993289           119   0.0577444\n",
      "      0.99       0.0953981   0.0993289           100   0.0493213\n",
      "      0.95       0.0953981   0.0993289            78   0.0517251\n",
      "      0.9        0.0953981   0.0993289            60   0.040915\n",
      "      0.85       0.0953981   0.0993289            48   0.0419976\n",
      "Time in seconds : 0.392961\n",
      "--------------------------\n",
      "Size of dataset : 5.7K\n",
      "  Variance    Training acc    Test acc    Components    Time (s)\n",
      "----------  --------------  ----------  ------------  ----------\n",
      "      1          0.0930741     0.10917           119   0.0790525\n",
      "      0.99       0.0930741     0.10917           101   0.0803433\n",
      "      0.95       0.0930741     0.10917            80   0.0846941\n",
      "      0.9        0.0930741     0.10917            63   0.0869636\n",
      "      0.85       0.0930741     0.10917            50   0.0934111\n",
      "Time in seconds : 0.656297\n",
      "--------------------------\n",
      "Size of dataset : 7.2K\n",
      "  Variance    Training acc    Test acc    Components    Time (s)\n",
      "----------  --------------  ----------  ------------  ----------\n",
      "      1          0.0999828    0.103022           119    0.121705\n",
      "      0.99       0.0999828    0.103022           102    0.136976\n",
      "      0.95       0.0999828    0.103022            80    0.100779\n",
      "      0.9        0.0999828    0.103022            63    0.100339\n",
      "      0.85       0.0999828    0.103022            50    0.102307\n",
      "Time in seconds : 0.872234\n",
      "--------------------------\n",
      "Size of dataset : 8.7K\n",
      "  Variance    Training acc    Test acc    Components    Time (s)\n",
      "----------  --------------  ----------  ------------  ----------\n",
      "      1          0.0993283         0.1           119    0.128795\n",
      "      0.99       0.0993283         0.1           102    0.132949\n",
      "      0.95       0.0993283         0.1            81    0.130955\n",
      "      0.9        0.0993283         0.1            63    0.179596\n",
      "      0.85       0.0993283         0.1            51    0.118746\n",
      "Time in seconds : 1.102311\n",
      "--------------------------\n",
      "Size of dataset : 10.4K\n",
      "  Variance    Training acc    Test acc    Components    Time (s)\n",
      "----------  --------------  ----------  ------------  ----------\n",
      "      1           0.103465    0.106068           119    0.148972\n",
      "      0.99        0.103465    0.106068           103    0.147258\n",
      "      0.95        0.103465    0.106068            82    0.147709\n",
      "      0.9         0.103465    0.106068            65    0.140295\n",
      "      0.85        0.103465    0.106068            53    0.154957\n",
      "Time in seconds : 1.179909\n",
      "--------------------------\n",
      "Size of dataset : 12.4K\n",
      "  Variance    Training acc    Test acc    Components    Time (s)\n",
      "----------  --------------  ----------  ------------  ----------\n",
      "      1           0.109027    0.101484           119    0.18148\n",
      "      0.99        0.109027    0.101484           100    0.182391\n",
      "      0.95        0.109027    0.101484            80    0.172146\n",
      "      0.9         0.109027    0.101484            63    0.16804\n",
      "      0.85        0.109027    0.101484            50    0.168734\n",
      "Time in seconds : 1.425530\n",
      "--------------------------\n",
      "Size of dataset : 14.3K\n",
      "  Variance    Training acc    Test acc    Components    Time (s)\n",
      "----------  --------------  ----------  ------------  ----------\n",
      "      1           0.112167    0.112661           119    0.207008\n",
      "      0.99        0.112167    0.112661           104    0.204328\n",
      "      0.95        0.112167    0.112661            84    0.200077\n",
      "      0.9         0.112167    0.112661            66    0.198031\n",
      "      0.85        0.112167    0.112661            54    0.211678\n",
      "Time in seconds : 1.608591\n",
      "--------------------------\n",
      "Size of dataset : 16K\n",
      "  Variance    Training acc    Test acc    Components    Time (s)\n",
      "----------  --------------  ----------  ------------  ----------\n",
      "      1           0.111865     0.11409           119    0.243589\n",
      "      0.99        0.111865     0.11409           102    0.258685\n",
      "      0.95        0.111865     0.11409            82    0.222929\n",
      "      0.9         0.111865     0.11409            64    0.288785\n",
      "      0.85        0.111865     0.11409            52    0.326739\n",
      "Time in seconds : 2.064157\n",
      "--------------------------\n"
     ]
    }
   ],
   "source": [
    "path = \"../../dumps/various_sizes/\"\n",
    "datasets = [\"2K.csv\",\"3.7K.csv\",\"5.7K.csv\",\"7.2K.csv\",\"8.7K.csv\",\"10.4K.csv\",\"12.4K.csv\",\"14.3K.csv\",\"16K.csv\"]\n",
    "for i in datasets:\n",
    "    print(\"Size of dataset : %s\" % i.replace('.csv',''))\n",
    "    start = time.time()\n",
    "    PCA_reduction(path+i,'svm')\n",
    "    end = time.time() - start\n",
    "    print(\"Time in seconds : %f\" % end)\n",
    "    print(\"--------------------------\")"
   ]
  },
  {
   "cell_type": "markdown",
   "metadata": {},
   "source": [
    "REALLY BAD PERFORMANCES !!!\n",
    "Since SVM is already a process of gathering features in clusters, doesn't really make sense to do a PCA for SVM."
   ]
  },
  {
   "cell_type": "code",
   "execution_count": null,
   "metadata": {},
   "outputs": [],
   "source": []
  }
 ],
 "metadata": {
  "kernelspec": {
   "display_name": "Python 3",
   "language": "python",
   "name": "python3"
  },
  "language_info": {
   "codemirror_mode": {
    "name": "ipython",
    "version": 3
   },
   "file_extension": ".py",
   "mimetype": "text/x-python",
   "name": "python",
   "nbconvert_exporter": "python",
   "pygments_lexer": "ipython3",
   "version": "3.7.7"
  }
 },
 "nbformat": 4,
 "nbformat_minor": 4
}
