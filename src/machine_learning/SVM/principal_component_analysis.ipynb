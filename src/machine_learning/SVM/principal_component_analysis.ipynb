{
 "cells": [
  {
   "cell_type": "markdown",
   "metadata": {},
   "source": [
    "# Principal Component Analysis"
   ]
  },
  {
   "cell_type": "markdown",
   "metadata": {},
   "source": [
    "One has to know that running a SVM algorithm is pretty time and resource-consuming, therefore computing the PCA on a dataset with 14K samples didn't give any result for days after being launched. That's why we're gonna do it iteratively to see when we cross a reasonably fair threshold."
   ]
  },
  {
   "cell_type": "code",
   "execution_count": 3,
   "metadata": {},
   "outputs": [],
   "source": [
    "import sys, time\n",
    "sys.path.append('../utils')\n",
    "from utils import PCA_reduction"
   ]
  },
  {
   "cell_type": "code",
   "execution_count": null,
   "metadata": {},
   "outputs": [
    {
     "name": "stdout",
     "output_type": "stream",
     "text": [
      "Size of dataset : 2K\n",
      "  Variance    Training acc    Test acc    Components    Time (s)\n",
      "----------  --------------  ----------  ------------  ----------\n",
      "      1                  1      0.995            119   0.154763\n",
      "      0.99               1      0.995             97   0.126048\n",
      "      0.95               1      0.995             74   0.106402\n",
      "      0.9                1      0.9975            58   0.0834396\n",
      "      0.85               1      0.995             46   0.0669165\n",
      "Time in seconds : 0.891214\n",
      "--------------------------\n",
      "Size of dataset : 3.7K\n",
      "  Variance    Training acc    Test acc    Components    Time (s)\n",
      "----------  --------------  ----------  ------------  ----------\n",
      "      1           0.988579    0.975839           119   0.109197\n",
      "      0.99        0.980517    0.963758           100   0.147805\n",
      "      0.95        0.97783     0.962416            78   0.0974901\n",
      "      0.9         0.97951     0.971812            60   0.0826159\n",
      "      0.85        0.989923    0.974497            48   0.0845394\n",
      "Time in seconds : 0.702324\n",
      "--------------------------\n",
      "Size of dataset : 5.7K\n",
      "  Variance    Training acc    Test acc    Components    Time (s)\n",
      "----------  --------------  ----------  ------------  ----------\n",
      "      1           0.982084    0.973799           119    0.597121\n",
      "      0.99        0.980773    0.968559           101    0.575749\n",
      "      0.95        0.980555    0.970306            80    0.437803\n",
      "      0.9         0.975967    0.964192            63    0.163496\n",
      "      0.85        0.98842     0.984279            50    0.111056\n",
      "Time in seconds : 2.209626\n",
      "--------------------------\n",
      "Size of dataset : 7.2K\n",
      "  Variance    Training acc    Test acc    Components    Time (s)\n",
      "----------  --------------  ----------  ------------  ----------\n",
      "      1           0.978354    0.964973           119    0.280708\n",
      "      0.99        0.979041    0.96772            102    0.249365\n",
      "      0.95        0.985398    0.972527            80    0.543475\n",
      "      0.9         0.990036    0.980769            63    0.158172\n",
      "      0.85        0.99038     0.98283             50    0.150984\n",
      "Time in seconds : 1.828812\n",
      "--------------------------\n",
      "Size of dataset : 8.7K\n"
     ]
    }
   ],
   "source": [
    "path = \"../../dumps/\"\n",
    "datasets = [\"2K.csv\",\"3.7K.csv\",\"5.7K.csv\",\"7.2K.csv\",\"8.7K.csv\",\"10.4K.csv\",\"12.4K.csv\",\"14.3K.csv\",\"16K.csv\"]\n",
    "for i in datasets:\n",
    "    print(\"Size of dataset : %s\" % i.replace('.csv',''))\n",
    "    start = time.time()\n",
    "    PCA_reduction(path+i,'svm')\n",
    "    end = time.time() - start\n",
    "    print(\"Time in seconds : %f\" % end)\n",
    "    print(\"--------------------------\")"
   ]
  },
  {
   "cell_type": "code",
   "execution_count": null,
   "metadata": {},
   "outputs": [],
   "source": []
  }
 ],
 "metadata": {
  "kernelspec": {
   "display_name": "Python 3",
   "language": "python",
   "name": "python3"
  },
  "language_info": {
   "codemirror_mode": {
    "name": "ipython",
    "version": 3
   },
   "file_extension": ".py",
   "mimetype": "text/x-python",
   "name": "python",
   "nbconvert_exporter": "python",
   "pygments_lexer": "ipython3",
   "version": "3.6.9"
  }
 },
 "nbformat": 4,
 "nbformat_minor": 4
}
