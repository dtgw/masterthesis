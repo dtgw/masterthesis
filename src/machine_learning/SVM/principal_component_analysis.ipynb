{
 "cells": [
  {
   "cell_type": "markdown",
   "metadata": {},
   "source": [
    "# Principal Component Analysis"
   ]
  },
  {
   "cell_type": "markdown",
   "metadata": {},
   "source": [
    "One has to know that running a SVM algorithm is pretty time and resource-consuming, therefore computing the PCA on a dataset with 14K samples didn't give any result for days after being launched. That's why we're gonna do it iteratively to see when we cross a reasonably fair threshold."
   ]
  },
  {
   "cell_type": "code",
   "execution_count": 1,
   "metadata": {},
   "outputs": [],
   "source": [
    "import sys, time\n",
    "sys.path.append('../utils')\n",
    "from utils import PCA_reduction"
   ]
  },
  {
   "cell_type": "code",
   "execution_count": 2,
   "metadata": {},
   "outputs": [
    {
     "name": "stdout",
     "output_type": "stream",
     "text": [
      "Size of dataset : 2K\n",
      "  Variance    Training acc    Test acc    Components    Time (s)\n",
      "----------  --------------  ----------  ------------  ----------\n",
      "      1          0.0913071      0.0675           119   0.0639374\n",
      "      0.99       0.0913071      0.0675            97   0.0679881\n",
      "      0.95       0.0913071      0.0675            74   0.0236785\n",
      "      0.9        0.0913071      0.0675            58   0.0358364\n",
      "      0.85       0.0913071      0.0675            46   0.0310592\n",
      "Time in seconds : 0.277176\n",
      "--------------------------\n",
      "Size of dataset : 3.7K\n",
      "  Variance    Training acc    Test acc    Components    Time (s)\n",
      "----------  --------------  ----------  ------------  ----------\n",
      "      1          0.0953981   0.0993289           119   0.0524253\n",
      "      0.99       0.0953981   0.0993289           100   0.0421843\n",
      "      0.95       0.0953981   0.0993289            78   0.0537141\n",
      "      0.9        0.0953981   0.0993289            60   0.0593559\n",
      "      0.85       0.0953981   0.0993289            48   0.0386441\n",
      "Time in seconds : 0.358852\n",
      "--------------------------\n",
      "Size of dataset : 5.7K\n",
      "  Variance    Training acc    Test acc    Components    Time (s)\n",
      "----------  --------------  ----------  ------------  ----------\n",
      "      1          0.0930741     0.10917           119   0.0561881\n",
      "      0.99       0.0930741     0.10917           101   0.0703321\n",
      "      0.95       0.0930741     0.10917            80   0.0617072\n",
      "      0.9        0.0930741     0.10917            63   0.0702252\n",
      "      0.85       0.0930741     0.10917            50   0.052002\n",
      "Time in seconds : 0.480997\n",
      "--------------------------\n",
      "Size of dataset : 7.2K\n",
      "  Variance    Training acc    Test acc    Components    Time (s)\n",
      "----------  --------------  ----------  ------------  ----------\n",
      "      1          0.0999828    0.103022           119   0.0652004\n",
      "      0.99       0.0999828    0.103022           102   0.0845409\n",
      "      0.95       0.0999828    0.103022            80   0.0782119\n",
      "      0.9        0.0999828    0.103022            63   0.0801136\n",
      "      0.85       0.0999828    0.103022            50   0.084766\n",
      "Time in seconds : 0.601789\n",
      "--------------------------\n",
      "Size of dataset : 8.7K\n",
      "  Variance    Training acc    Test acc    Components    Time (s)\n",
      "----------  --------------  ----------  ------------  ----------\n",
      "      1          0.0993283         0.1           119   0.0827965\n",
      "      0.99       0.0993283         0.1           102   0.099118\n",
      "      0.95       0.0993283         0.1            81   0.0729555\n",
      "      0.9        0.0993283         0.1            63   0.0982185\n",
      "      0.85       0.0993283         0.1            51   0.102279\n",
      "Time in seconds : 0.669811\n",
      "--------------------------\n",
      "Size of dataset : 10.4K\n",
      "  Variance    Training acc    Test acc    Components    Time (s)\n",
      "----------  --------------  ----------  ------------  ----------\n",
      "      1           0.103465    0.106068           119    0.112533\n",
      "      0.99        0.103465    0.106068           103    0.106634\n",
      "      0.95        0.103465    0.106068            82    0.109182\n",
      "      0.9         0.103465    0.106068            65    0.103212\n",
      "      0.85        0.103465    0.106068            53    0.10807\n",
      "Time in seconds : 0.771337\n",
      "--------------------------\n",
      "Size of dataset : 12.4K\n",
      "  Variance    Training acc    Test acc    Components    Time (s)\n",
      "----------  --------------  ----------  ------------  ----------\n",
      "      1           0.109027    0.101484           119    0.142877\n",
      "      0.99        0.109027    0.101484           100    0.149198\n",
      "      0.95        0.109027    0.101484            80    0.139996\n",
      "      0.9         0.109027    0.101484            63    0.124732\n",
      "      0.85        0.109027    0.101484            50    0.126585\n",
      "Time in seconds : 0.972329\n",
      "--------------------------\n",
      "Size of dataset : 14.3K\n",
      "  Variance    Training acc    Test acc    Components    Time (s)\n",
      "----------  --------------  ----------  ------------  ----------\n",
      "      1           0.112167    0.112661           119    0.16985\n",
      "      0.99        0.112167    0.112661           104    0.178951\n",
      "      0.95        0.112167    0.112661            84    0.165162\n",
      "      0.9         0.112167    0.112661            66    0.163885\n",
      "      0.85        0.112167    0.112661            54    0.168276\n",
      "Time in seconds : 1.130095\n",
      "--------------------------\n",
      "Size of dataset : 16K\n",
      "  Variance    Training acc    Test acc    Components    Time (s)\n",
      "----------  --------------  ----------  ------------  ----------\n",
      "      1           0.111865     0.11409           119    0.201677\n",
      "      0.99        0.111865     0.11409           102    0.2358\n",
      "      0.95        0.111865     0.11409            82    0.280308\n",
      "      0.9         0.111865     0.11409            64    0.372424\n",
      "      0.85        0.111865     0.11409            52    0.353623\n",
      "Time in seconds : 1.785719\n",
      "--------------------------\n"
     ]
    }
   ],
   "source": [
    "path = \"../../dumps/various_sizes/\"\n",
    "datasets = [\"2K.csv\",\"3.7K.csv\",\"5.7K.csv\",\"7.2K.csv\",\"8.7K.csv\",\"10.4K.csv\",\"12.4K.csv\",\"14.3K.csv\",\"16K.csv\"]\n",
    "for i in datasets:\n",
    "    print(\"Size of dataset : %s\" % i.replace('.csv',''))\n",
    "    start = time.time()\n",
    "    PCA_reduction(path+i,'svm')\n",
    "    end = time.time() - start\n",
    "    print(\"Time in seconds : %f\" % end)\n",
    "    print(\"--------------------------\")"
   ]
  },
  {
   "cell_type": "markdown",
   "metadata": {},
   "source": [
    "REALLY BAD PERFORMANCES !!!\n",
    "Since SVM is already a process of gathering features in clusters, doesn't really make sense to do a PCA for SVM."
   ]
  },
  {
   "cell_type": "code",
   "execution_count": null,
   "metadata": {},
   "outputs": [],
   "source": []
  }
 ],
 "metadata": {
  "kernelspec": {
   "display_name": "Python 3",
   "language": "python",
   "name": "python3"
  },
  "language_info": {
   "codemirror_mode": {
    "name": "ipython",
    "version": 3
   },
   "file_extension": ".py",
   "mimetype": "text/x-python",
   "name": "python",
   "nbconvert_exporter": "python",
   "pygments_lexer": "ipython3",
   "version": "3.6.9"
  }
 },
 "nbformat": 4,
 "nbformat_minor": 4
}
