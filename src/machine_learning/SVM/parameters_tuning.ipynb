{
 "cells": [
  {
   "cell_type": "markdown",
   "metadata": {},
   "source": [
    "# Parameters tuning"
   ]
  },
  {
   "cell_type": "markdown",
   "metadata": {},
   "source": [
    "Kernel parameters selects the type of hyperplane used to separate the data. Using ‘linear’ will use a linear hyperplane (a line in the case of 2D data). ‘rbf’ and ‘poly’ uses a non linear hyper-plane. We'll focus on the two last ones in this section.\n",
    "\n",
    "Let's now carry on with a bigger dataset and try with different values of the parameters and try normalization.\n"
   ]
  },
  {
   "cell_type": "code",
   "execution_count": 2,
   "metadata": {},
   "outputs": [],
   "source": [
    "# Imports\n",
    "import pandas as pd\n",
    "import matplotlib.pyplot as plt\n",
    "from sklearn.model_selection import train_test_split\n",
    "from sklearn.svm import SVC\n",
    "from sklearn.preprocessing import  Normalizer\n",
    "\n",
    "gt = pd.read_csv('../../dumps/references/2020.02.10-12.14.csv')\n",
    "cols = [col for col in gt.columns if col not in ['label']]\n",
    "data = gt[cols]\n",
    "target = gt['label']\n",
    "\n",
    "data_train, data_test, target_train, target_test = train_test_split(data,target, test_size = 0.20, random_state = 0)\n",
    "scaler = Normalizer()\n",
    "scaler.fit(data_train)\n",
    "data_train = scaler.transform(data_train)\n",
    "data_test = scaler.transform(data_test)"
   ]
  },
  {
   "cell_type": "markdown",
   "metadata": {},
   "source": [
    "## Gamma"
   ]
  },
  {
   "cell_type": "markdown",
   "metadata": {},
   "source": [
    "The *gamma* parameter controls the width of the Gaussian kernel. It determines the scale of what it means for points to be close together. The higher the gamma value it tries to exactly fit the training data set."
   ]
  },
  {
   "cell_type": "code",
   "execution_count": 3,
   "metadata": {},
   "outputs": [
    {
     "name": "stdout",
     "output_type": "stream",
     "text": [
      "min_samples_split set to 0.1\n",
      "Accuracy on training set: 0.895\n",
      "Accuracy on test set: 0.900\n",
      "min_samples_split set to 1\n",
      "Accuracy on training set: 0.895\n",
      "Accuracy on test set: 0.900\n",
      "min_samples_split set to 10\n",
      "Accuracy on training set: 0.933\n",
      "Accuracy on test set: 0.904\n",
      "min_samples_split set to 100\n",
      "Accuracy on training set: 0.971\n",
      "Accuracy on test set: 0.913\n"
     ]
    }
   ],
   "source": [
    "gammas = [0.1, 1, 10, 100]\n",
    "for i in gammas:\n",
    "    print(\"min_samples_split set to %s\" % i)\n",
    "    svc = SVC(kernel='rbf', gamma=i)\n",
    "    svc.fit(data_train, target_train)\n",
    "    print(\"Accuracy on training set: {:.3f}\".format(svc.score(data_train, target_train))) \n",
    "    print(\"Accuracy on test set: {:.3f}\".format(svc.score(data_test, target_test)))"
   ]
  },
  {
   "cell_type": "markdown",
   "metadata": {},
   "source": [
    "Looks like we get better results with a gamma value of 100."
   ]
  },
  {
   "cell_type": "code",
   "execution_count": 4,
   "metadata": {},
   "outputs": [
    {
     "data": {
      "text/plain": [
       "<matplotlib.legend.Legend at 0x7feee52a1320>"
      ]
     },
     "execution_count": 4,
     "metadata": {},
     "output_type": "execute_result"
    },
    {
     "data": {
      "image/png": "[encoded data removed]",
      "text/plain": [
       "<Figure size 432x288 with 1 Axes>"
      ]
     },
     "metadata": {
      "needs_background": "light"
     },
     "output_type": "display_data"
    }
   ],
   "source": [
    "training_accuracy = [] \n",
    "test_accuracy = []\n",
    "gammas = [0.1, 1]\n",
    "for v in gammas:\n",
    "    clf = SVC(kernel='rbf', gamma=v) \n",
    "    clf.fit(data_train, target_train)\n",
    "    training_accuracy.append(clf.score(data_train, target_train))\n",
    "    test_accuracy.append(clf.score(data_test, target_test))\n",
    "plt.plot(gammas, training_accuracy, label=\"training accuracy\") \n",
    "plt.plot(gammas, test_accuracy, label=\"test accuracy\") \n",
    "plt.ylabel(\"Accuracy\")\n",
    "plt.xlabel(\"gamma\")\n",
    "plt.legend()"
   ]
  },
  {
   "cell_type": "markdown",
   "metadata": {},
   "source": [
    "## C"
   ]
  },
  {
   "cell_type": "markdown",
   "metadata": {},
   "source": [
    "The *C* parameter is a regularization parameter, similar to that used in the linear models. It limits the importance of each point."
   ]
  },
  {
   "cell_type": "code",
   "execution_count": 5,
   "metadata": {},
   "outputs": [
    {
     "name": "stdout",
     "output_type": "stream",
     "text": [
      "min_samples_split set to 0.1\n",
      "Accuracy on training set: 0.895\n",
      "Accuracy on test set: 0.900\n",
      "min_samples_split set to 1\n",
      "Accuracy on training set: 0.895\n",
      "Accuracy on test set: 0.900\n",
      "min_samples_split set to 10\n",
      "Accuracy on training set: 0.943\n",
      "Accuracy on test set: 0.892\n",
      "min_samples_split set to 100\n",
      "Accuracy on training set: 0.962\n",
      "Accuracy on test set: 0.868\n",
      "min_samples_split set to 1000\n",
      "Accuracy on training set: 0.973\n",
      "Accuracy on test set: 0.852\n"
     ]
    }
   ],
   "source": [
    "c_values = [0.1, 1, 10, 100, 1000]\n",
    "for i in c_values:\n",
    "    print(\"min_samples_split set to %s\" % i)\n",
    "    svc = SVC(kernel='rbf', C=i)\n",
    "    svc.fit(data_train, target_train)\n",
    "    print(\"Accuracy on training set: {:.3f}\".format(svc.score(data_train, target_train))) \n",
    "    print(\"Accuracy on test set: {:.3f}\".format(svc.score(data_test, target_test)))"
   ]
  },
  {
   "cell_type": "markdown",
   "metadata": {},
   "source": [
    "Better results are acquired with smaller C values for the test set."
   ]
  },
  {
   "cell_type": "code",
   "execution_count": 6,
   "metadata": {},
   "outputs": [
    {
     "data": {
      "text/plain": [
       "<matplotlib.legend.Legend at 0x7feee51d8240>"
      ]
     },
     "execution_count": 6,
     "metadata": {},
     "output_type": "execute_result"
    },
    {
     "data": {
      "image/png": "[encoded data removed]",
      "text/plain": [
       "<Figure size 432x288 with 1 Axes>"
      ]
     },
     "metadata": {
      "needs_background": "light"
     },
     "output_type": "display_data"
    }
   ],
   "source": [
    "training_accuracy = [] \n",
    "test_accuracy = []\n",
    "c_values = [0.1, 1]\n",
    "for v in c_values:\n",
    "    clf = SVC(kernel='rbf', C=v) \n",
    "    clf.fit(data_train, target_train)\n",
    "    training_accuracy.append(clf.score(data_train, target_train))\n",
    "    test_accuracy.append(clf.score(data_test, target_test))\n",
    "plt.plot(c_values, training_accuracy, label=\"training accuracy\") \n",
    "plt.plot(c_values, test_accuracy, label=\"test accuracy\") \n",
    "plt.ylabel(\"Accuracy\")\n",
    "plt.xlabel(\"C\")\n",
    "plt.legend()"
   ]
  },
  {
   "cell_type": "markdown",
   "metadata": {},
   "source": [
    "## Degree"
   ]
  },
  {
   "cell_type": "markdown",
   "metadata": {},
   "source": [
    "*degree* is a parameter used when kernel is set to ‘poly’. It’s basically the degree of the polynomial used to find the hyperplane to split the data."
   ]
  },
  {
   "cell_type": "code",
   "execution_count": 7,
   "metadata": {},
   "outputs": [
    {
     "data": {
      "text/plain": [
       "<matplotlib.legend.Legend at 0x7feee256f160>"
      ]
     },
     "execution_count": 7,
     "metadata": {},
     "output_type": "execute_result"
    },
    {
     "data": {
      "image/png": "[encoded data removed]",
      "text/plain": [
       "<Figure size 432x288 with 1 Axes>"
      ]
     },
     "metadata": {
      "needs_background": "light"
     },
     "output_type": "display_data"
    }
   ],
   "source": [
    "training_accuracy = [] \n",
    "test_accuracy = []\n",
    "degrees = [0, 1, 2, 3, 4, 5, 10,15,20]\n",
    "for v in degrees:\n",
    "    clf = SVC(kernel='poly', degree=v) \n",
    "    clf.fit(data_train, target_train)\n",
    "    training_accuracy.append(clf.score(data_train, target_train))\n",
    "    test_accuracy.append(clf.score(data_test, target_test))\n",
    "plt.plot(degrees, training_accuracy, label=\"training accuracy\") \n",
    "plt.plot(degrees, test_accuracy, label=\"test accuracy\") \n",
    "plt.ylabel(\"Accuracy\")\n",
    "plt.xlabel(\"degree\")\n",
    "plt.legend()"
   ]
  },
  {
   "cell_type": "markdown",
   "metadata": {},
   "source": [
    "As we can see, the more we increase the degree the more we get a better training set accuracy while the test one stays linear. We might be overfitting at some point and therefore keep a reasonable value around *degree=10* max. One also has to know that higher degree means higher computing times."
   ]
  },
  {
   "cell_type": "code",
   "execution_count": null,
   "metadata": {},
   "outputs": [],
   "source": []
  }
 ],
 "metadata": {
  "kernelspec": {
   "display_name": "Python 3",
   "language": "python",
   "name": "python3"
  },
  "language_info": {
   "codemirror_mode": {
    "name": "ipython",
    "version": 3
   },
   "file_extension": ".py",
   "mimetype": "text/x-python",
   "name": "python",
   "nbconvert_exporter": "python",
   "pygments_lexer": "ipython3",
   "version": "3.7.7"
  }
 },
 "nbformat": 4,
 "nbformat_minor": 4
}
