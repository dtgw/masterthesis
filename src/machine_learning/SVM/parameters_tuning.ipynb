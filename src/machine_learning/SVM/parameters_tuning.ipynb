{
 "cells": [
  {
   "cell_type": "markdown",
   "metadata": {},
   "source": [
    "# Parameters tuning"
   ]
  },
  {
   "cell_type": "markdown",
   "metadata": {},
   "source": [
    "Kernel parameters selects the type of hyperplane used to separate the data. Using ‘linear’ will use a linear hyperplane (a line in the case of 2D data). ‘rbf’ and ‘poly’ uses a non linear hyper-plane. We'll focus on the two last ones in this section.\n",
    "\n",
    "Let's now carry on with a bigger dataset and try with different values of the parameters and try normalization.\n"
   ]
  },
  {
   "cell_type": "code",
   "execution_count": 10,
   "metadata": {},
   "outputs": [],
   "source": [
    "# Imports\n",
    "import pandas as pd\n",
    "import numpy as np\n",
    "import matplotlib.pyplot as plt\n",
    "from sklearn.model_selection import train_test_split\n",
    "from sklearn.svm import SVC\n",
    "from sklearn.preprocessing import StandardScaler, Normalizer\n",
    "\n",
    "gt = pd.read_csv('../../dumps/various_sizes/8K.csv')\n",
    "cols = [col for col in gt.columns if col not in ['label']]\n",
    "data = gt[cols]\n",
    "target = gt['label']\n",
    "\n",
    "data_train, data_test, target_train, target_test = train_test_split(data,target, test_size = 0.20, random_state = 0)\n",
    "scaler = StandardScaler()\n",
    "scaler.fit(data_train)\n",
    "data_train = scaler.transform(data_train)\n",
    "data_test = scaler.transform(data_test)"
   ]
  },
  {
   "cell_type": "markdown",
   "metadata": {},
   "source": [
    "### Kernel"
   ]
  },
  {
   "cell_type": "code",
   "execution_count": 11,
   "metadata": {},
   "outputs": [
    {
     "name": "stdout",
     "output_type": "stream",
     "text": [
      "Accuracy on training set: 0.998\n",
      "Accuracy on test set: 0.992\n",
      "Accuracy on training set: 0.998\n",
      "Accuracy on test set: 0.994\n",
      "Accuracy on training set: 0.998\n",
      "Accuracy on test set: 0.996\n",
      "Accuracy on training set: 0.949\n",
      "Accuracy on test set: 0.941\n"
     ]
    }
   ],
   "source": [
    "kernel = ['linear', 'poly', 'rbf', 'sigmoid']\n",
    "for i in kernel:\n",
    "    svc = SVC(kernel=i)\n",
    "    svc.fit(data_train, target_train)\n",
    "    print(\"Accuracy on training set: {:.3f}\".format(svc.score(data_train, target_train))) \n",
    "    print(\"Accuracy on test set: {:.3f}\".format(svc.score(data_test, target_test)))"
   ]
  },
  {
   "cell_type": "code",
   "execution_count": 16,
   "metadata": {},
   "outputs": [
    {
     "data": {
      "image/png": "[encoded data removed]",
      "text/plain": [
       "<Figure size 432x288 with 1 Axes>"
      ]
     },
     "metadata": {
      "needs_background": "light"
     },
     "output_type": "display_data"
    }
   ],
   "source": [
    "training_accuracy = [] \n",
    "test_accuracy = []\n",
    "kernel = ['linear', 'poly', 'rbf']\n",
    "for i in kernel:\n",
    "    svc = SVC(kernel=i)\n",
    "    svc.fit(data_train, target_train)\n",
    "    training_accuracy.append(svc.score(data_train, target_train))\n",
    "    test_accuracy.append(svc.score(data_test, target_test))\n",
    "    \n",
    "labels = ['G1', 'G2', 'G3', 'G4', 'G5']\n",
    "men_means = [20, 34, 30, 35, 27]\n",
    "women_means = [25, 32, 34, 20, 25]\n",
    "\n",
    "x = np.arange(len(kernel))  # the label locations\n",
    "width = 0.35  # the width of the bars\n",
    "\n",
    "fig, ax = plt.subplots()\n",
    "rects1 = ax.bar(x - width/2, training_accuracy, width, label='Training accuracy')\n",
    "rects2 = ax.bar(x + width/2, test_accuracy, width, label='Test accuracy')\n",
    "\n",
    "# Add some text for labels, title and custom x-axis tick labels, etc.\n",
    "ax.set_ylabel('Accuracy')\n",
    "ax.set_xticks(x)\n",
    "ax.set_xticklabels(kernel)\n",
    "ax.legend()\n",
    "\n",
    "\n",
    "bottom, top = plt.ylim()\n",
    "plt.ylim(bottom=0.99)\n",
    "plt.ylim(top=1)\n",
    "\n",
    "fig.tight_layout()\n",
    "\n",
    "plt.show()"
   ]
  },
  {
   "cell_type": "markdown",
   "metadata": {},
   "source": [
    "## Gamma"
   ]
  },
  {
   "cell_type": "markdown",
   "metadata": {},
   "source": [
    "The *gamma* parameter controls the width of the Gaussian kernel. It determines the scale of what it means for points to be close together. The higher the gamma value it tries to exactly fit the training data set."
   ]
  },
  {
   "cell_type": "code",
   "execution_count": 3,
   "metadata": {},
   "outputs": [
    {
     "name": "stdout",
     "output_type": "stream",
     "text": [
      "min_samples_split set to 0.1\n",
      "Accuracy on training set: 0.999\n",
      "Accuracy on test set: 0.985\n",
      "min_samples_split set to 1\n",
      "Accuracy on training set: 0.999\n",
      "Accuracy on test set: 0.977\n",
      "min_samples_split set to 10\n",
      "Accuracy on training set: 0.999\n",
      "Accuracy on test set: 0.970\n",
      "min_samples_split set to 100\n",
      "Accuracy on training set: 0.999\n",
      "Accuracy on test set: 0.968\n"
     ]
    }
   ],
   "source": [
    "gammas = [0.1, 1, 10, 100]\n",
    "for i in gammas:\n",
    "    print(\"min_samples_split set to %s\" % i)\n",
    "    svc = SVC(kernel='rbf', gamma=i)\n",
    "    svc.fit(data_train, target_train)\n",
    "    print(\"Accuracy on training set: {:.3f}\".format(svc.score(data_train, target_train))) \n",
    "    print(\"Accuracy on test set: {:.3f}\".format(svc.score(data_test, target_test)))"
   ]
  },
  {
   "cell_type": "markdown",
   "metadata": {},
   "source": [
    "Looks like we get better results with a gamma value of 100."
   ]
  },
  {
   "cell_type": "code",
   "execution_count": 4,
   "metadata": {},
   "outputs": [
    {
     "data": {
      "text/plain": [
       "<matplotlib.legend.Legend at 0x10a06e250>"
      ]
     },
     "execution_count": 4,
     "metadata": {},
     "output_type": "execute_result"
    },
    {
     "data": {
      "image/png": "[encoded data removed]",
      "text/plain": [
       "<Figure size 432x288 with 1 Axes>"
      ]
     },
     "metadata": {
      "needs_background": "light"
     },
     "output_type": "display_data"
    }
   ],
   "source": [
    "training_accuracy = [] \n",
    "test_accuracy = []\n",
    "gammas = [0.1, 1]\n",
    "for v in gammas:\n",
    "    clf = SVC(kernel='rbf', gamma=v) \n",
    "    clf.fit(data_train, target_train)\n",
    "    training_accuracy.append(clf.score(data_train, target_train))\n",
    "    test_accuracy.append(clf.score(data_test, target_test))\n",
    "plt.plot(gammas, training_accuracy, label=\"training accuracy\") \n",
    "plt.plot(gammas, test_accuracy, label=\"test accuracy\") \n",
    "plt.ylabel(\"Accuracy\")\n",
    "plt.xlabel(\"gamma\")\n",
    "plt.legend()"
   ]
  },
  {
   "cell_type": "code",
   "execution_count": 8,
   "metadata": {},
   "outputs": [
    {
     "name": "stdout",
     "output_type": "stream",
     "text": [
      "min_samples_split set to scale\n",
      "Accuracy on training set: 0.998\n",
      "Accuracy on test set: 0.996\n",
      "min_samples_split set to auto\n",
      "Accuracy on training set: 0.998\n",
      "Accuracy on test set: 0.996\n"
     ]
    }
   ],
   "source": [
    "gammas = ['scale','auto']\n",
    "for i in gammas:\n",
    "    print(\"min_samples_split set to %s\" % i)\n",
    "    svc = SVC(kernel='rbf', gamma=i)\n",
    "    svc.fit(data_train, target_train)\n",
    "    print(\"Accuracy on training set: {:.3f}\".format(svc.score(data_train, target_train))) \n",
    "    print(\"Accuracy on test set: {:.3f}\".format(svc.score(data_test, target_test)))"
   ]
  },
  {
   "cell_type": "markdown",
   "metadata": {},
   "source": [
    "## C"
   ]
  },
  {
   "cell_type": "markdown",
   "metadata": {},
   "source": [
    "The *C* parameter is a regularization parameter, similar to that used in the linear models. It limits the importance of each point."
   ]
  },
  {
   "cell_type": "code",
   "execution_count": 5,
   "metadata": {},
   "outputs": [
    {
     "name": "stdout",
     "output_type": "stream",
     "text": [
      "min_samples_split set to 0.1\n",
      "Accuracy on training set: 0.986\n",
      "Accuracy on test set: 0.988\n",
      "min_samples_split set to 1\n",
      "Accuracy on training set: 0.998\n",
      "Accuracy on test set: 0.996\n",
      "min_samples_split set to 10\n",
      "Accuracy on training set: 0.999\n",
      "Accuracy on test set: 0.996\n",
      "min_samples_split set to 100\n",
      "Accuracy on training set: 0.999\n",
      "Accuracy on test set: 0.996\n",
      "min_samples_split set to 1000\n",
      "Accuracy on training set: 0.999\n",
      "Accuracy on test set: 0.996\n"
     ]
    }
   ],
   "source": [
    "c_values = [0.1, 1, 10, 100, 1000]\n",
    "for i in c_values:\n",
    "    print(\"min_samples_split set to %s\" % i)\n",
    "    svc = SVC(kernel='rbf', C=i)\n",
    "    svc.fit(data_train, target_train)\n",
    "    print(\"Accuracy on training set: {:.3f}\".format(svc.score(data_train, target_train))) \n",
    "    print(\"Accuracy on test set: {:.3f}\".format(svc.score(data_test, target_test)))"
   ]
  },
  {
   "cell_type": "markdown",
   "metadata": {},
   "source": [
    "Better results are acquired with higher C values for both sets."
   ]
  },
  {
   "cell_type": "code",
   "execution_count": 6,
   "metadata": {},
   "outputs": [
    {
     "data": {
      "text/plain": [
       "<matplotlib.legend.Legend at 0x11dbd7250>"
      ]
     },
     "execution_count": 6,
     "metadata": {},
     "output_type": "execute_result"
    },
    {
     "data": {
      "image/png": "[encoded data removed]",
      "text/plain": [
       "<Figure size 432x288 with 1 Axes>"
      ]
     },
     "metadata": {
      "needs_background": "light"
     },
     "output_type": "display_data"
    }
   ],
   "source": [
    "training_accuracy = [] \n",
    "test_accuracy = []\n",
    "c_values = [0.1, 1]\n",
    "for v in c_values:\n",
    "    clf = SVC(kernel='rbf', C=v) \n",
    "    clf.fit(data_train, target_train)\n",
    "    training_accuracy.append(clf.score(data_train, target_train))\n",
    "    test_accuracy.append(clf.score(data_test, target_test))\n",
    "plt.plot(c_values, training_accuracy, label=\"training accuracy\") \n",
    "plt.plot(c_values, test_accuracy, label=\"test accuracy\") \n",
    "plt.ylabel(\"Accuracy\")\n",
    "plt.xlabel(\"C\")\n",
    "plt.legend()"
   ]
  },
  {
   "cell_type": "markdown",
   "metadata": {},
   "source": [
    "## Degree"
   ]
  },
  {
   "cell_type": "markdown",
   "metadata": {},
   "source": [
    "*degree* is a parameter used when kernel is set to ‘poly’. It’s basically the degree of the polynomial used to find the hyperplane to split the data."
   ]
  },
  {
   "cell_type": "code",
   "execution_count": 7,
   "metadata": {},
   "outputs": [
    {
     "data": {
      "text/plain": [
       "<matplotlib.legend.Legend at 0x11df8f910>"
      ]
     },
     "execution_count": 7,
     "metadata": {},
     "output_type": "execute_result"
    },
    {
     "data": {
      "image/png": "[encoded data removed]",
      "text/plain": [
       "<Figure size 432x288 with 1 Axes>"
      ]
     },
     "metadata": {
      "needs_background": "light"
     },
     "output_type": "display_data"
    }
   ],
   "source": [
    "training_accuracy = [] \n",
    "test_accuracy = []\n",
    "degrees = [0, 1, 2, 3, 4, 5, 10, 15, 20]\n",
    "for v in degrees:\n",
    "    clf = SVC(kernel='poly', degree=v) \n",
    "    clf.fit(data_train, target_train)\n",
    "    training_accuracy.append(clf.score(data_train, target_train))\n",
    "    test_accuracy.append(clf.score(data_test, target_test))\n",
    "plt.plot(degrees, training_accuracy, label=\"training accuracy\") \n",
    "plt.plot(degrees, test_accuracy, label=\"test accuracy\") \n",
    "plt.ylabel(\"Accuracy\")\n",
    "plt.xlabel(\"degree\")\n",
    "plt.legend()"
   ]
  },
  {
   "cell_type": "markdown",
   "metadata": {},
   "source": [
    "As we can see, the more we increase the degree the more we get a better training set accuracy. We might be overfitting at some point and therefore keep a reasonable value around *degree=15* max. One also has to know that higher degree means higher computing times."
   ]
  },
  {
   "cell_type": "markdown",
   "metadata": {},
   "source": [
    "### Final choice"
   ]
  },
  {
   "cell_type": "code",
   "execution_count": 15,
   "metadata": {},
   "outputs": [
    {
     "name": "stdout",
     "output_type": "stream",
     "text": [
      "Accuracy on training set: 0.998\n",
      "Accuracy on test set: 0.996\n"
     ]
    }
   ],
   "source": [
    "clf = SVC(random_state=0)\n",
    "clf.fit(data_train, target_train)\n",
    "print(\"Accuracy on training set: {:.3f}\".format(clf.score(data_train, target_train))) \n",
    "print(\"Accuracy on test set: {:.3f}\".format(clf.score(data_test, target_test)))"
   ]
  },
  {
   "cell_type": "code",
   "execution_count": 13,
   "metadata": {},
   "outputs": [
    {
     "name": "stdout",
     "output_type": "stream",
     "text": [
      "Accuracy on training set: 0.998\n",
      "Accuracy on test set: 0.996\n"
     ]
    }
   ],
   "source": [
    "clf = SVC()\n",
    "clf.fit(data_train, target_train)\n",
    "print(\"Accuracy on training set: {:.3f}\".format(clf.score(data_train, target_train))) \n",
    "print(\"Accuracy on test set: {:.3f}\".format(clf.score(data_test, target_test)))"
   ]
  },
  {
   "cell_type": "code",
   "execution_count": null,
   "metadata": {},
   "outputs": [],
   "source": []
  }
 ],
 "metadata": {
  "kernelspec": {
   "display_name": "Python 3",
   "language": "python",
   "name": "python3"
  },
  "language_info": {
   "codemirror_mode": {
    "name": "ipython",
    "version": 3
   },
   "file_extension": ".py",
   "mimetype": "text/x-python",
   "name": "python",
   "nbconvert_exporter": "python",
   "pygments_lexer": "ipython3",
   "version": "3.7.7"
  }
 },
 "nbformat": 4,
 "nbformat_minor": 4
}
