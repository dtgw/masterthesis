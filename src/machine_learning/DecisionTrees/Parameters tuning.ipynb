{
 "cells": [
  {
   "cell_type": "code",
   "execution_count": 1,
   "metadata": {},
   "outputs": [],
   "source": [
    "%load_ext autoreload\n",
    "%autoreload\n",
    "\n",
    "import sys\n",
    "import time\n",
    "\n",
    "import pandas as pd\n",
    "import numpy as np\n",
    "import matplotlib.pyplot as plt\n",
    "\n",
    "from tabulate import tabulate\n",
    "from joblib import dump, load\n",
    "from sklearn import preprocessing\n",
    "from sklearn.model_selection import train_test_split\n",
    "from sklearn.tree import DecisionTreeClassifier\n",
    "from sklearn.model_selection import GridSearchCV, RandomizedSearchCV\n",
    "from sklearn.feature_selection import SelectFromModel\n",
    "from sklearn.preprocessing import StandardScaler, Normalizer\n",
    "from sklearn.decomposition import PCA\n",
    "from sklearn.metrics import roc_curve, auc\n",
    "\n",
    "sys.path.append('../')\n",
    "from utils import feature_selection, thomas_parser, PCA_reduction, perf, time_comparison\n",
    "from toBoolean import convert"
   ]
  },
  {
   "cell_type": "code",
   "execution_count": 3,
   "metadata": {},
   "outputs": [],
   "source": [
    "gt = pd.read_csv('../../dumps/2020.02.10-12.14.csv')\n",
    "cols = [col for col in gt.columns if col not in ['label']]\n",
    "data = gt[cols]\n",
    "target = gt['label']\n",
    "\n",
    "data_train, data_test, target_train, target_test = train_test_split(data,target, test_size = 0.20, random_state = 0)"
   ]
  },
  {
   "cell_type": "markdown",
   "metadata": {},
   "source": [
    "### Criterion"
   ]
  },
  {
   "cell_type": "markdown",
   "metadata": {},
   "source": [
    "Measures the quality of a split. Two techniques are available : \"*gini*\" for the Gini impurty (default) and \"*entropy*\" for information gain."
   ]
  },
  {
   "cell_type": "code",
   "execution_count": 4,
   "metadata": {},
   "outputs": [
    {
     "name": "stdout",
     "output_type": "stream",
     "text": [
      "Criterion : gini\n",
      "Accuracy on training set: 1.000\n",
      "Accuracy on test set: 0.869\n",
      "Criterion : entropy\n",
      "Accuracy on training set: 1.000\n",
      "Accuracy on test set: 0.872\n"
     ]
    }
   ],
   "source": [
    "for i in [\"gini\",\"entropy\"]:\n",
    "    print(\"Criterion : %s\" % i)\n",
    "    tree = DecisionTreeClassifier(criterion=i, random_state=0) \n",
    "    tree.fit(data_train, target_train)\n",
    "    print(\"Accuracy on training set: {:.3f}\".format(tree.score(data_train, target_train))) \n",
    "    print(\"Accuracy on test set: {:.3f}\".format(tree.score(data_test, target_test)))"
   ]
  },
  {
   "cell_type": "markdown",
   "metadata": {},
   "source": [
    "We're clearly overfitting, nevertheless the *entropy* criteria seems to give slightly better results. Overfitting can be solved by limiting the depth of the tree (explained more deeply in a following section)."
   ]
  },
  {
   "cell_type": "code",
   "execution_count": 5,
   "metadata": {},
   "outputs": [
    {
     "name": "stdout",
     "output_type": "stream",
     "text": [
      "Criterion : gini\n",
      "Accuracy on training set: 0.924\n",
      "Accuracy on test set: 0.923\n",
      "Criterion : entropy\n",
      "Accuracy on training set: 0.917\n",
      "Accuracy on test set: 0.922\n"
     ]
    }
   ],
   "source": [
    "for i in [\"gini\",\"entropy\"]:\n",
    "    print(\"Criterion : %s\" % i)\n",
    "    tree = DecisionTreeClassifier(max_depth=4,criterion=i, random_state=0) \n",
    "    tree.fit(data_train, target_train)\n",
    "    print(\"Accuracy on training set: {:.3f}\".format(tree.score(data_train, target_train))) \n",
    "    print(\"Accuracy on test set: {:.3f}\".format(tree.score(data_test, target_test)))"
   ]
  },
  {
   "cell_type": "markdown",
   "metadata": {},
   "source": [
    "In this case, the default configuration gives better results."
   ]
  },
  {
   "cell_type": "markdown",
   "metadata": {},
   "source": [
    "#### Splitter"
   ]
  },
  {
   "cell_type": "markdown",
   "metadata": {},
   "source": [
    "The strategy used to choose the split at each node. Supported strategies are “*best*” to choose the best split (default) and “*random*” to choose the best random split. (N.B: we also apply depth limitation to avoid overfitting)"
   ]
  },
  {
   "cell_type": "code",
   "execution_count": 6,
   "metadata": {},
   "outputs": [
    {
     "name": "stdout",
     "output_type": "stream",
     "text": [
      "Split strategy : best\n",
      "Accuracy on training set: 0.924\n",
      "Accuracy on test set: 0.923\n",
      "Split strategy : random\n",
      "Accuracy on training set: 0.895\n",
      "Accuracy on test set: 0.900\n"
     ]
    }
   ],
   "source": [
    "for i in [\"best\",\"random\"]:\n",
    "    print(\"Split strategy : %s\" % i)\n",
    "    tree = DecisionTreeClassifier(max_depth=4,splitter=i, random_state=0) \n",
    "    tree.fit(data_train, target_train)\n",
    "    print(\"Accuracy on training set: {:.3f}\".format(tree.score(data_train, target_train))) \n",
    "    print(\"Accuracy on test set: {:.3f}\".format(tree.score(data_test, target_test)))"
   ]
  },
  {
   "cell_type": "markdown",
   "metadata": {},
   "source": [
    "Looks like keeping the default splitter is also better in the case of this dataset."
   ]
  },
  {
   "cell_type": "markdown",
   "metadata": {},
   "source": [
    "#### Depth"
   ]
  },
  {
   "cell_type": "markdown",
   "metadata": {},
   "source": [
    "Limiting the depth of the tree decreases overfitting. This leads to a lower accuracy on the training set, but an improvement on the test set:"
   ]
  },
  {
   "cell_type": "code",
   "execution_count": 7,
   "metadata": {},
   "outputs": [
    {
     "name": "stdout",
     "output_type": "stream",
     "text": [
      "Depth set to 1\n",
      "Accuracy on training set: 0.895\n",
      "Accuracy on test set: 0.900\n",
      "Depth set to 2\n",
      "Accuracy on training set: 0.912\n",
      "Accuracy on test set: 0.915\n",
      "Depth set to 3\n",
      "Accuracy on training set: 0.918\n",
      "Accuracy on test set: 0.915\n",
      "Depth set to 4\n",
      "Accuracy on training set: 0.924\n",
      "Accuracy on test set: 0.923\n",
      "Depth set to 5\n",
      "Accuracy on training set: 0.930\n",
      "Accuracy on test set: 0.919\n",
      "Depth set to 6\n",
      "Accuracy on training set: 0.935\n",
      "Accuracy on test set: 0.917\n",
      "Depth set to 7\n",
      "Accuracy on training set: 0.941\n",
      "Accuracy on test set: 0.911\n",
      "Depth set to 8\n",
      "Accuracy on training set: 0.945\n",
      "Accuracy on test set: 0.911\n",
      "Depth set to 9\n",
      "Accuracy on training set: 0.951\n",
      "Accuracy on test set: 0.908\n"
     ]
    }
   ],
   "source": [
    "for i in range(1,10):\n",
    "    print(\"Depth set to %s\" % i)\n",
    "    tree = DecisionTreeClassifier(max_depth=i, random_state=0) \n",
    "    tree.fit(data_train, target_train)\n",
    "    print(\"Accuracy on training set: {:.3f}\".format(tree.score(data_train, target_train))) \n",
    "    print(\"Accuracy on test set: {:.3f}\".format(tree.score(data_test, target_test)))"
   ]
  },
  {
   "cell_type": "code",
   "execution_count": 8,
   "metadata": {},
   "outputs": [
    {
     "data": {
      "text/plain": [
       "<matplotlib.legend.Legend at 0x10bff82d0>"
      ]
     },
     "execution_count": 8,
     "metadata": {},
     "output_type": "execute_result"
    },
    {
     "data": {
      "image/png": "[encoded data removed]",
      "text/plain": [
       "<Figure size 432x288 with 1 Axes>"
      ]
     },
     "metadata": {
      "needs_background": "light"
     },
     "output_type": "display_data"
    }
   ],
   "source": [
    "training_accuracy = [] \n",
    "test_accuracy = []\n",
    "settings = range(1, 10)\n",
    "for v in settings:\n",
    "    clf = DecisionTreeClassifier(max_depth=v, random_state=0) \n",
    "    clf.fit(data_train, target_train)\n",
    "    training_accuracy.append(clf.score(data_train, target_train))\n",
    "    test_accuracy.append(clf.score(data_test, target_test))\n",
    "plt.plot(settings, training_accuracy, label=\"training accuracy\") \n",
    "plt.plot(settings, test_accuracy, label=\"test accuracy\") \n",
    "plt.ylabel(\"Accuracy\")\n",
    "plt.xlabel(\"depth\")\n",
    "plt.legend()"
   ]
  },
  {
   "cell_type": "markdown",
   "metadata": {},
   "source": [
    "As we can see, increasing the depth value improves the accuracy of the training set but not necessarily of the test set. The best result we get is at depth 4, which offers a good compromise between the two accuracies."
   ]
  },
  {
   "cell_type": "code",
   "execution_count": 9,
   "metadata": {},
   "outputs": [],
   "source": [
    "#### Minimum number of samples (split)"
   ]
  },
  {
   "cell_type": "markdown",
   "metadata": {},
   "source": [
    "*min_samples_split* represents the minimum number of samples required to split an internal node. This can vary between considering at least one sample at each node to considering all of the samples at each node. When we increase this parameter, the tree becomes more constrained as it has to consider more samples at each node."
   ]
  },
  {
   "cell_type": "code",
   "execution_count": 10,
   "metadata": {},
   "outputs": [
    {
     "name": "stdout",
     "output_type": "stream",
     "text": [
      "min_samples_split set to 0.1\n",
      "Accuracy on training set: 0.915\n",
      "Accuracy on test set: 0.898\n",
      "min_samples_split set to 0.2\n",
      "Accuracy on training set: 0.896\n",
      "Accuracy on test set: 0.886\n",
      "min_samples_split set to 0.3\n",
      "Accuracy on training set: 0.895\n",
      "Accuracy on test set: 0.898\n",
      "min_samples_split set to 0.4\n",
      "Accuracy on training set: 0.895\n",
      "Accuracy on test set: 0.900\n",
      "min_samples_split set to 0.5\n",
      "Accuracy on training set: 0.895\n",
      "Accuracy on test set: 0.900\n",
      "min_samples_split set to 0.6\n",
      "Accuracy on training set: 0.895\n",
      "Accuracy on test set: 0.900\n",
      "min_samples_split set to 0.7\n",
      "Accuracy on training set: 0.895\n",
      "Accuracy on test set: 0.900\n",
      "min_samples_split set to 0.8\n",
      "Accuracy on training set: 0.895\n",
      "Accuracy on test set: 0.900\n",
      "min_samples_split set to 0.9\n",
      "Accuracy on training set: 0.895\n",
      "Accuracy on test set: 0.900\n",
      "min_samples_split set to 1.0\n",
      "Accuracy on training set: 0.895\n",
      "Accuracy on test set: 0.900\n"
     ]
    }
   ],
   "source": [
    "for i in range(1,11):\n",
    "    n_samples = i/10\n",
    "    print(\"min_samples_split set to %s\" % n_samples)\n",
    "    tree = DecisionTreeClassifier(min_samples_split=n_samples, random_state=0) \n",
    "    tree.fit(data_train, target_train)\n",
    "    print(\"Accuracy on training set: {:.3f}\".format(tree.score(data_train, target_train))) \n",
    "    print(\"Accuracy on test set: {:.3f}\".format(tree.score(data_test, target_test)))"
   ]
  },
  {
   "cell_type": "code",
   "execution_count": 11,
   "metadata": {},
   "outputs": [
    {
     "data": {
      "image/png": "[encoded data removed]",
      "text/plain": [
       "<Figure size 432x288 with 1 Axes>"
      ]
     },
     "metadata": {
      "needs_background": "light"
     },
     "output_type": "display_data"
    }
   ],
   "source": [
    "min_samples_splits = range(2,41)\n",
    "train_results = []\n",
    "test_results = []\n",
    "for min_samples_split in min_samples_splits:\n",
    "   dt = DecisionTreeClassifier(min_samples_split=min_samples_split, random_state=0)\n",
    "   dt.fit(data_train, target_train)\n",
    "   train_pred = dt.predict(data_train)\n",
    "   false_positive_rate, true_positive_rate, thresholds = roc_curve(target_train, train_pred)\n",
    "   roc_auc = auc(false_positive_rate, true_positive_rate)\n",
    "   train_results.append(roc_auc)\n",
    "   y_pred = dt.predict(data_test)\n",
    "   false_positive_rate, true_positive_rate, thresholds = roc_curve(target_test, y_pred)\n",
    "   roc_auc = auc(false_positive_rate, true_positive_rate)\n",
    "   test_results.append(roc_auc)\n",
    "from matplotlib.legend_handler import HandlerLine2D\n",
    "line1, = plt.plot(min_samples_splits, train_results, 'b', label=\"Train AUC\")\n",
    "line2, = plt.plot(min_samples_splits, test_results, 'r', label=\"Test AUC\")\n",
    "plt.legend(handler_map={line1: HandlerLine2D(numpoints=2)})\n",
    "plt.ylabel('AUC score')\n",
    "plt.xlabel('min samples split')\n",
    "plt.show()"
   ]
  },
  {
   "cell_type": "code",
   "execution_count": 12,
   "metadata": {},
   "outputs": [
    {
     "name": "stdout",
     "output_type": "stream",
     "text": [
      "min_samples_split set to 2\n",
      "Accuracy on training set: 1.000\n",
      "Accuracy on test set: 0.869\n",
      "min_samples_split set to 3\n",
      "Accuracy on training set: 0.999\n",
      "Accuracy on test set: 0.870\n",
      "min_samples_split set to 4\n",
      "Accuracy on training set: 0.997\n",
      "Accuracy on test set: 0.879\n",
      "min_samples_split set to 5\n",
      "Accuracy on training set: 0.995\n",
      "Accuracy on test set: 0.872\n",
      "min_samples_split set to 6\n",
      "Accuracy on training set: 0.991\n",
      "Accuracy on test set: 0.878\n",
      "min_samples_split set to 7\n",
      "Accuracy on training set: 0.988\n",
      "Accuracy on test set: 0.879\n",
      "min_samples_split set to 8\n",
      "Accuracy on training set: 0.984\n",
      "Accuracy on test set: 0.872\n",
      "min_samples_split set to 9\n",
      "Accuracy on training set: 0.982\n",
      "Accuracy on test set: 0.883\n",
      "min_samples_split set to 10\n",
      "Accuracy on training set: 0.981\n",
      "Accuracy on test set: 0.880\n"
     ]
    }
   ],
   "source": [
    "for i in range(2,11):\n",
    "    print(\"min_samples_split set to %s\" % i)\n",
    "    tree = DecisionTreeClassifier(min_samples_split=i, random_state=0) \n",
    "    tree.fit(data_train, target_train)\n",
    "    print(\"Accuracy on training set: {:.3f}\".format(tree.score(data_train, target_train))) \n",
    "    print(\"Accuracy on test set: {:.3f}\".format(tree.score(data_test, target_test)))"
   ]
  },
  {
   "cell_type": "markdown",
   "metadata": {},
   "source": [
    "#### Minimum number of samples (leaf)"
   ]
  },
  {
   "cell_type": "markdown",
   "metadata": {},
   "source": [
    "*min_samples_leaf* is the minimum number of samples required to be at a leaf node. This parameter is similar to min_samples_splits, however, this describe the minimum number of samples at the leafs, the base of the tree."
   ]
  },
  {
   "cell_type": "code",
   "execution_count": 13,
   "metadata": {},
   "outputs": [
    {
     "name": "stdout",
     "output_type": "stream",
     "text": [
      "min_samples_split set to 2\n",
      "Accuracy on training set: 0.986\n",
      "Accuracy on test set: 0.885\n",
      "min_samples_split set to 3\n",
      "Accuracy on training set: 0.978\n",
      "Accuracy on test set: 0.876\n",
      "min_samples_split set to 4\n",
      "Accuracy on training set: 0.971\n",
      "Accuracy on test set: 0.881\n",
      "min_samples_split set to 5\n",
      "Accuracy on training set: 0.966\n",
      "Accuracy on test set: 0.885\n",
      "min_samples_split set to 6\n",
      "Accuracy on training set: 0.962\n",
      "Accuracy on test set: 0.885\n",
      "min_samples_split set to 7\n",
      "Accuracy on training set: 0.953\n",
      "Accuracy on test set: 0.887\n",
      "min_samples_split set to 8\n",
      "Accuracy on training set: 0.948\n",
      "Accuracy on test set: 0.887\n",
      "min_samples_split set to 9\n",
      "Accuracy on training set: 0.945\n",
      "Accuracy on test set: 0.883\n",
      "min_samples_split set to 10\n",
      "Accuracy on training set: 0.941\n",
      "Accuracy on test set: 0.899\n"
     ]
    }
   ],
   "source": [
    "for i in range(2,11):\n",
    "    print(\"min_samples_split set to %s\" % i)\n",
    "    tree = DecisionTreeClassifier(min_samples_leaf=i, random_state=0) \n",
    "    tree.fit(data_train, target_train)\n",
    "    print(\"Accuracy on training set: {:.3f}\".format(tree.score(data_train, target_train))) \n",
    "    print(\"Accuracy on test set: {:.3f}\".format(tree.score(data_test, target_test)))"
   ]
  },
  {
   "cell_type": "code",
   "execution_count": 14,
   "metadata": {},
   "outputs": [
    {
     "data": {
      "image/png": "[encoded data removed]",
      "text/plain": [
       "<Figure size 432x288 with 1 Axes>"
      ]
     },
     "metadata": {
      "needs_background": "light"
     },
     "output_type": "display_data"
    }
   ],
   "source": [
    "settings = range(2,11)\n",
    "train_results = []\n",
    "test_results = []\n",
    "for v in settings:\n",
    "   dt = DecisionTreeClassifier(min_samples_leaf=v, random_state=0)\n",
    "   dt.fit(data_train, target_train)\n",
    "   train_pred = dt.predict(data_train)\n",
    "   false_positive_rate, true_positive_rate, thresholds = roc_curve(target_train, train_pred)\n",
    "   roc_auc = auc(false_positive_rate, true_positive_rate)\n",
    "   train_results.append(roc_auc)\n",
    "   y_pred = dt.predict(data_test)\n",
    "   false_positive_rate, true_positive_rate, thresholds = roc_curve(target_test, y_pred)\n",
    "   roc_auc = auc(false_positive_rate, true_positive_rate)\n",
    "   test_results.append(roc_auc)\n",
    "from matplotlib.legend_handler import HandlerLine2D\n",
    "line1, = plt.plot(settings, train_results, 'b', label=\"Train AUC\")\n",
    "line2, = plt.plot(settings, test_results, 'r', label=\"Test AUC\")\n",
    "plt.legend(handler_map={line1: HandlerLine2D(numpoints=2)})\n",
    "plt.ylabel('AUC score')\n",
    "plt.xlabel('min samples leaf')\n",
    "plt.show()"
   ]
  },
  {
   "cell_type": "markdown",
   "metadata": {},
   "source": [
    "#### Number of features"
   ]
  },
  {
   "cell_type": "markdown",
   "metadata": {},
   "source": [
    "*max_features* represents the number of features to consider when looking for the best split. Since we're working with 119 different features, let's try all the values and see how relevant they are."
   ]
  },
  {
   "cell_type": "code",
   "execution_count": 15,
   "metadata": {},
   "outputs": [
    {
     "data": {
      "text/plain": [
       "<matplotlib.legend.Legend at 0x120759490>"
      ]
     },
     "execution_count": 15,
     "metadata": {},
     "output_type": "execute_result"
    },
    {
     "data": {
      "image/png": "[encoded data removed]",
      "text/plain": [
       "<Figure size 432x288 with 1 Axes>"
      ]
     },
     "metadata": {
      "needs_background": "light"
     },
     "output_type": "display_data"
    }
   ],
   "source": [
    "training_accuracy = [] \n",
    "test_accuracy = []\n",
    "settings = range(1, 120)\n",
    "for f in settings:\n",
    "    clf = DecisionTreeClassifier(max_features=f, random_state=0) #n_jobs means that we use all processors\n",
    "    clf.fit(data_train, target_train)\n",
    "    training_accuracy.append(clf.score(data_train, target_train))\n",
    "    test_accuracy.append(clf.score(data_test, target_test))\n",
    "plt.plot(settings, training_accuracy, label=\"training accuracy\") \n",
    "plt.plot(settings, test_accuracy, label=\"test accuracy\") \n",
    "plt.ylabel(\"Accuracy\")\n",
    "plt.xlabel(\"n_features\")\n",
    "plt.legend()"
   ]
  },
  {
   "cell_type": "markdown",
   "metadata": {},
   "source": [
    "As we can see from the graph, not all features are important in making the classification. Further selection on relevant features will be made."
   ]
  },
  {
   "cell_type": "markdown",
   "metadata": {},
   "source": [
    "### Final choice"
   ]
  },
  {
   "cell_type": "code",
   "execution_count": 16,
   "metadata": {},
   "outputs": [
    {
     "name": "stdout",
     "output_type": "stream",
     "text": [
      "Accuracy on training set: 0.913\n",
      "Accuracy on test set: 0.910\n"
     ]
    }
   ],
   "source": [
    "tree = DecisionTreeClassifier(max_depth=4,min_samples_split=0.1,min_samples_leaf=10,random_state=0)\n",
    "tree.fit(data_train, target_train)\n",
    "print(\"Accuracy on training set: {:.3f}\".format(tree.score(data_train, target_train))) \n",
    "print(\"Accuracy on test set: {:.3f}\".format(tree.score(data_test, target_test)))"
   ]
  },
  {
   "cell_type": "code",
   "execution_count": null,
   "metadata": {},
   "outputs": [],
   "source": []
  }
 ],
 "metadata": {
  "kernelspec": {
   "display_name": "Python 3",
   "language": "python",
   "name": "python3"
  },
  "language_info": {
   "codemirror_mode": {
    "name": "ipython",
    "version": 3
   },
   "file_extension": ".py",
   "mimetype": "text/x-python",
   "name": "python",
   "nbconvert_exporter": "python",
   "pygments_lexer": "ipython3",
   "version": "3.7.7"
  }
 },
 "nbformat": 4,
 "nbformat_minor": 2
}
