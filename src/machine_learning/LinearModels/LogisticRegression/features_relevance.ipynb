{
 "cells": [
  {
   "cell_type": "code",
   "execution_count": 10,
   "metadata": {},
   "outputs": [
    {
     "name": "stdout",
     "output_type": "stream",
     "text": [
      "The autoreload extension is already loaded. To reload it, use:\n",
      "  %reload_ext autoreload\n"
     ]
    }
   ],
   "source": [
    "%load_ext autoreload\n",
    "%autoreload\n",
    "\n",
    "import sys\n",
    "\n",
    "import pandas as pd\n",
    "import numpy as np\n",
    "import matplotlib.pyplot as plt\n",
    "\n",
    "from sklearn.model_selection import train_test_split\n",
    "from sklearn.linear_model import LogisticRegression\n",
    "from sklearn.metrics import roc_curve, auc\n",
    "\n",
    "sys.path.append('../')\n",
    "from LinearModels import display_plot_logreg, display_plot_svc\n",
    "sys.path.append('../../utils')\n",
    "from utils import feature_selection, fs_driver, feature_snapshot"
   ]
  },
  {
   "cell_type": "markdown",
   "metadata": {},
   "source": [
    "### Features relevance"
   ]
  },
  {
   "cell_type": "code",
   "execution_count": 2,
   "metadata": {},
   "outputs": [
    {
     "data": {
      "text/plain": [
       "LogisticRegression(C=10, class_weight=None, dual=False, fit_intercept=True,\n",
       "                   intercept_scaling=1, l1_ratio=None, max_iter=1000,\n",
       "                   multi_class='auto', n_jobs=None, penalty='l2',\n",
       "                   random_state=0, solver='lbfgs', tol=0.0001, verbose=0,\n",
       "                   warm_start=False)"
      ]
     },
     "execution_count": 2,
     "metadata": {},
     "output_type": "execute_result"
    }
   ],
   "source": [
    "gt = pd.read_csv('../../../dumps/various_sizes/8K.csv')\n",
    "cols = [col for col in gt.columns if col not in ['label']]\n",
    "data = gt[cols]\n",
    "target = gt['label']\n",
    "\n",
    "data_train, data_test, target_train, target_test = train_test_split(data,target, test_size = 0.20, random_state = 0)\n",
    "\n",
    "clf = LogisticRegression(C=10, max_iter=1000,random_state=0)\n",
    "clf.fit(data_train, target_train)"
   ]
  },
  {
   "cell_type": "code",
   "execution_count": 3,
   "metadata": {},
   "outputs": [
    {
     "data": {
      "text/plain": [
       "Text(0, 0.5, 'Feature')"
      ]
     },
     "execution_count": 3,
     "metadata": {},
     "output_type": "execute_result"
    },
    {
     "data": {
      "image/png": "[encoded data removed]",
      "text/plain": [
       "<Figure size 720x720 with 1 Axes>"
      ]
     },
     "metadata": {
      "needs_background": "light"
     },
     "output_type": "display_data"
    }
   ],
   "source": [
    "n_features = data.shape[1]\n",
    "plt.rcParams[\"figure.figsize\"] = (10,10)\n",
    "plt.barh(range(n_features), clf.coef_[0], align='center') \n",
    "plt.yticks(np.arange(n_features), np.arange(1,120)) \n",
    "plt.xlabel(\"Feature importance\")\n",
    "plt.ylabel(\"Feature\")"
   ]
  },
  {
   "cell_type": "markdown",
   "metadata": {},
   "source": [
    "Here below we will follow an iterative process in order to select the most relevant features of our model. The way it works is as follow : first we start a small training set, measure the accuracy and select the most relevant features using *SelectFromModel*. Then we apply the same reasoning on a slightly larger training set. Between two iterations, the set of features that is kept is the intersection between the current best features and the previous ones. This process is called \"iterative process\" in the below array. The second row describes the case were we simply keep the K best features and the first one are the default accuracies without tuning."
   ]
  },
  {
   "cell_type": "code",
   "execution_count": 2,
   "metadata": {},
   "outputs": [
    {
     "name": "stdout",
     "output_type": "stream",
     "text": [
      "Execution            # features  Features selected        Training set acc    Test acc    Time (s)    Fixed cost (s)\n",
      "-----------------  ------------  ---------------------  ------------------  ----------  ----------  ----------------\n",
      "Classic                     119  ['f1',...,'f119']                0.908003    0.913674    0.286792          0\n",
      "K best features              76  ['f8','f9','f10',                0.902804    0.907372    0.186121          0.2296\n",
      "                                 'f13','f14','f15',\n",
      "                                 'f16','f17','f18',\n",
      "                                 'f19','f20','f39',\n",
      "                                 'f48','f49','f50',\n",
      "                                 'f51','f52','f53',\n",
      "                                 'f54','f55','f56',\n",
      "                                 'f57','f59','f60',\n",
      "                                 'f61','f62','f63',\n",
      "                                 'f64','f65','f66',\n",
      "                                 'f67','f68','f69',\n",
      "                                 'f70','f71','f72',\n",
      "                                 'f73','f74','f75',\n",
      "                                 'f76','f77','f78',\n",
      "                                 'f79','f80','f81',\n",
      "                                 'f83','f84','f85',\n",
      "                                 'f86','f87','f88',\n",
      "                                 'f89','f90','f91',\n",
      "                                 'f92','f93','f94',\n",
      "                                 'f95','f96','f97',\n",
      "                                 'f98','f99','f100',\n",
      "                                 'f101','f102','f103',\n",
      "                                 'f104','f105','f107',\n",
      "                                 'f108','f109','f110',\n",
      "                                 'f111','f113','f116',\n",
      "                                 'f118']\n",
      "Iterative process            19  ['f8','f9','f10',                0.902804    0.907372    0.143117          0.530584\n",
      "                                 'f13','f14','f15',\n",
      "                                 'f16','f17','f18',\n",
      "                                 'f19','f20','f53',\n",
      "                                 'f56','f57','f60',\n",
      "                                 'f64','f65','f111',\n",
      "                                 'f113']\n"
     ]
    }
   ],
   "source": [
    "feature_selection('../../../dumps/various_sizes/8K.csv', 'log')"
   ]
  },
  {
   "cell_type": "markdown",
   "metadata": {},
   "source": [
    "As we can conclude from the above graph and these new results, the model is definitely dependent from many different features (some of them might still have more impact than others) since going from 119 to 76 features decreases the precision by 1.2%. On the other side, although the iterative process is way more slower, the difference between 76 and 19 features is null."
   ]
  },
  {
   "cell_type": "markdown",
   "metadata": {},
   "source": [
    "Let's, once more, try the feature extraction on a dataset of 16K samples and see how the performances are impacted."
   ]
  },
  {
   "cell_type": "code",
   "execution_count": 3,
   "metadata": {},
   "outputs": [
    {
     "name": "stdout",
     "output_type": "stream",
     "text": [
      "Execution            # features  Features selected        Training set acc    Test acc    Time (s)    Fixed cost (s)\n",
      "-----------------  ------------  ---------------------  ------------------  ----------  ----------  ----------------\n",
      "Classic                     119  ['f1',...,'f119']                0.898425    0.899002    0.445137          0\n",
      "K best features              76  ['f8','f9','f10',                0.898036    0.898691    0.41527           0.447554\n",
      "                                 'f13','f14','f15',\n",
      "                                 'f16','f17','f18',\n",
      "                                 'f19','f20','f39',\n",
      "                                 'f49','f50','f51',\n",
      "                                 'f52','f53','f54',\n",
      "                                 'f55','f56','f57',\n",
      "                                 'f58','f59','f60',\n",
      "                                 'f61','f62','f63',\n",
      "                                 'f64','f65','f66',\n",
      "                                 'f67','f69','f70',\n",
      "                                 'f71','f72','f73',\n",
      "                                 'f74','f75','f76',\n",
      "                                 'f77','f78','f79',\n",
      "                                 'f80','f81','f82',\n",
      "                                 'f83','f84','f85',\n",
      "                                 'f86','f87','f88',\n",
      "                                 'f89','f90','f91',\n",
      "                                 'f92','f93','f94',\n",
      "                                 'f95','f96','f97',\n",
      "                                 'f98','f99','f100',\n",
      "                                 'f101','f102','f103',\n",
      "                                 'f104','f105','f107',\n",
      "                                 'f108','f109','f110',\n",
      "                                 'f111','f113','f116',\n",
      "                                 'f118']\n",
      "Iterative process            53  ['f8','f9','f10',                0.898036    0.898691    0.325371          1.08275\n",
      "                                 'f13','f14','f15',\n",
      "                                 'f16','f17','f18',\n",
      "                                 'f19','f20','f39',\n",
      "                                 'f50','f51','f52',\n",
      "                                 'f53','f55','f56',\n",
      "                                 'f57','f59','f60',\n",
      "                                 'f61','f62','f64',\n",
      "                                 'f65','f67','f69',\n",
      "                                 'f70','f72','f73',\n",
      "                                 'f75','f76','f78',\n",
      "                                 'f83','f85','f87',\n",
      "                                 'f88','f89','f90',\n",
      "                                 'f91','f92','f97',\n",
      "                                 'f99','f101','f102',\n",
      "                                 'f103','f107','f108',\n",
      "                                 'f109','f110','f111',\n",
      "                                 'f113','f118']\n"
     ]
    }
   ],
   "source": [
    "feature_selection('../../../dumps/various_sizes/16K.csv', 'log')"
   ]
  },
  {
   "cell_type": "markdown",
   "metadata": {},
   "source": [
    "Same observation as before except that now feature selection both decreases slightly the precision but does also increase computation time (it might be because of dataset reconstruction)."
   ]
  },
  {
   "cell_type": "markdown",
   "metadata": {},
   "source": [
    "### Feature threshold variation"
   ]
  },
  {
   "cell_type": "code",
   "execution_count": 6,
   "metadata": {
    "scrolled": false
   },
   "outputs": [
    {
     "name": "stdout",
     "output_type": "stream",
     "text": [
      "Threshold : 0.010000\n",
      "Execution            # features  Features selected        Training set acc    Test acc    Time (s)    Fixed cost (s)\n",
      "-----------------  ------------  ---------------------  ------------------  ----------  ----------  ----------------\n",
      "Classic                     119  ['f1',...,'f119']                0.898425    0.899002    0.509813          0\n",
      "K best features              75  ['f8','f9','f10',                0.898036    0.898691    0.384465          0.417656\n",
      "                                 'f13','f14','f15',\n",
      "                                 'f16','f17','f18',\n",
      "                                 'f19','f20','f39',\n",
      "                                 'f49','f50','f51',\n",
      "                                 'f52','f53','f54',\n",
      "                                 'f55','f56','f57',\n",
      "                                 'f58','f59','f60',\n",
      "                                 'f61','f62','f63',\n",
      "                                 'f64','f65','f66',\n",
      "                                 'f67','f69','f70',\n",
      "                                 'f71','f72','f73',\n",
      "                                 'f74','f75','f76',\n",
      "                                 'f77','f78','f79',\n",
      "                                 'f80','f81','f83',\n",
      "                                 'f84','f85','f86',\n",
      "                                 'f87','f88','f89',\n",
      "                                 'f90','f91','f92',\n",
      "                                 'f93','f94','f95',\n",
      "                                 'f96','f97','f98',\n",
      "                                 'f99','f100','f101',\n",
      "                                 'f102','f103','f104',\n",
      "                                 'f105','f107','f108',\n",
      "                                 'f109','f110','f111',\n",
      "                                 'f113','f116','f118']\n",
      "Iterative process            35  ['f8','f9','f10',                0.898036    0.898691    0.318318          1.07175\n",
      "                                 'f13','f14','f15',\n",
      "                                 'f16','f17','f18',\n",
      "                                 'f19','f20','f50',\n",
      "                                 'f52','f53','f55',\n",
      "                                 'f56','f57','f59',\n",
      "                                 'f60','f64','f65',\n",
      "                                 'f69','f73','f75',\n",
      "                                 'f76','f88','f90',\n",
      "                                 'f91','f97','f99',\n",
      "                                 'f101','f103','f108',\n",
      "                                 'f111','f113']\n",
      "\n",
      "\n",
      "Threshold : 0.100000\n",
      "Execution            # features  Features selected      Training set acc    Test acc    Time (s)    Fixed cost (s)\n",
      "-----------------  ------------  -------------------  ------------------  ----------  ----------  ----------------\n",
      "Classic                     119  ['f1',...,'f119']              0.898425    0.899002    0.405621          0\n",
      "K best features              14  ['f8','f9','f10',              0.898036    0.898691    0.280768          0.409297\n",
      "                                 'f13','f14','f15',\n",
      "                                 'f16','f17','f18',\n",
      "                                 'f19','f20','f53',\n",
      "                                 'f97','f113']\n",
      "Iterative process             9  ['f8','f9','f10',              0.897958    0.898691    0.272502          1.06126\n",
      "                                 'f13','f14','f16',\n",
      "                                 'f17','f18','f19']\n",
      "\n",
      "\n",
      "Threshold : 0.200000\n",
      "Execution            # features  Features selected      Training set acc    Test acc    Time (s)    Fixed cost (s)\n",
      "-----------------  ------------  -------------------  ------------------  ----------  ----------  ----------------\n",
      "Classic                     119  ['f1',...,'f119']              0.898425    0.899002    0.541853          0\n",
      "K best features              11  ['f8','f9','f10',              0.898036    0.898691    0.312481          0.553448\n",
      "                                 'f13','f14','f15',\n",
      "                                 'f16','f17','f18',\n",
      "                                 'f19','f20']\n",
      "Iterative process             9  ['f8','f9','f10',              0.897958    0.898691    0.269512          1.05125\n",
      "                                 'f13','f14','f16',\n",
      "                                 'f17','f18','f19']\n",
      "\n",
      "\n",
      "Threshold : 0.400000\n",
      "Execution            # features  Features selected      Training set acc    Test acc    Time (s)    Fixed cost (s)\n",
      "-----------------  ------------  -------------------  ------------------  ----------  ----------  ----------------\n",
      "Classic                     119  ['f1',...,'f119']              0.898425    0.899002    0.498094          0\n",
      "K best features              10  ['f8','f9','f10',              0.897958    0.898691    0.268231          0.441187\n",
      "                                 'f13','f14','f16',\n",
      "                                 'f17','f18','f19',\n",
      "                                 'f20']\n",
      "Iterative process             9  ['f8','f9','f10',              0.897958    0.898691    0.2971            1.10907\n",
      "                                 'f13','f14','f16',\n",
      "                                 'f17','f18','f19']\n",
      "\n",
      "\n",
      "Threshold : 0.800000\n",
      "Execution            # features  Features selected      Training set acc    Test acc    Time (s)    Fixed cost (s)\n",
      "-----------------  ------------  -------------------  ------------------  ----------  ----------  ----------------\n",
      "Classic                     119  ['f1',...,'f119']              0.898425    0.899002    0.486386          0\n",
      "K best features               9  ['f8','f9','f10',              0.897958    0.898691    0.26215           0.407221\n",
      "                                 'f13','f14','f16',\n",
      "                                 'f17','f18','f19']\n",
      "Iterative process             8  ['f8','f9','f10',              0.893514    0.892145    0.259673          1.03788\n",
      "                                 'f13','f14','f16',\n",
      "                                 'f17','f18']\n",
      "\n",
      "\n",
      "['K best features', array(['f8', 'f9', 'f10', 'f13', 'f14', 'f15', 'f16', 'f17', 'f18', 'f19',\n",
      "       'f20'], dtype=object), 975.7300436381387]\n",
      "['Iterative process', ['f8', 'f9', 'f10', 'f13', 'f14', 'f16', 'f17', 'f18', 'f19'], 965.4297684911984]\n"
     ]
    }
   ],
   "source": [
    "fs_driver('../../../dumps/various_sizes/16K.csv','log',[0.01,0.10,0.20,0.40,0.80])"
   ]
  },
  {
   "cell_type": "markdown",
   "metadata": {},
   "source": [
    "Quite unintuitve to see that around 8-10 features eventually describes most of the model when we look at features dispersion."
   ]
  },
  {
   "cell_type": "code",
   "execution_count": null,
   "metadata": {},
   "outputs": [],
   "source": [
    "feature_snapshot('../../../dumps/various_sizes/16K.csv','log')"
   ]
  },
  {
   "cell_type": "code",
   "execution_count": null,
   "metadata": {},
   "outputs": [],
   "source": []
  }
 ],
 "metadata": {
  "kernelspec": {
   "display_name": "Python 3",
   "language": "python",
   "name": "python3"
  },
  "language_info": {
   "codemirror_mode": {
    "name": "ipython",
    "version": 3
   },
   "file_extension": ".py",
   "mimetype": "text/x-python",
   "name": "python",
   "nbconvert_exporter": "python",
   "pygments_lexer": "ipython3",
   "version": "3.7.7"
  }
 },
 "nbformat": 4,
 "nbformat_minor": 2
}
