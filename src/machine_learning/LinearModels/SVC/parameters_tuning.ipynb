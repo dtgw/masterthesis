{
 "cells": [
  {
   "cell_type": "markdown",
   "metadata": {},
   "source": [
    "# Parameters tuning"
   ]
  },
  {
   "cell_type": "code",
   "execution_count": 1,
   "metadata": {},
   "outputs": [],
   "source": [
    "%load_ext autoreload\n",
    "%autoreload\n",
    "\n",
    "#Imports\n",
    "import sys\n",
    "import pandas as pd\n",
    "from sklearn.svm import LinearSVC\n",
    "from sklearn.model_selection import train_test_split\n",
    "from sklearn.model_selection import GridSearchCV, RandomizedSearchCV\n",
    "from sklearn.preprocessing import Normalizer, StandardScaler\n",
    "from time import perf_counter\n",
    "\n",
    "sys.path.append('../')\n",
    "from LinearModels import display_plot_svc"
   ]
  },
  {
   "cell_type": "code",
   "execution_count": 9,
   "metadata": {},
   "outputs": [
    {
     "name": "stderr",
     "output_type": "stream",
     "text": [
      "/usr/local/lib/python3.7/site-packages/sklearn/svm/_base.py:947: ConvergenceWarning: Liblinear failed to converge, increase the number of iterations.\n",
      "  \"the number of iterations.\", ConvergenceWarning)\n",
      "/usr/local/lib/python3.7/site-packages/sklearn/svm/_base.py:947: ConvergenceWarning: Liblinear failed to converge, increase the number of iterations.\n",
      "  \"the number of iterations.\", ConvergenceWarning)\n"
     ]
    },
    {
     "data": {
      "image/png": "[encoded data removed]",
      "text/plain": [
       "<Figure size 432x288 with 1 Axes>"
      ]
     },
     "metadata": {
      "needs_background": "light"
     },
     "output_type": "display_data"
    }
   ],
   "source": [
    "display_plot_svc('../../../dumps/various_sizes/8K.csv',0.20,0.01,100)"
   ]
  },
  {
   "cell_type": "code",
   "execution_count": 2,
   "metadata": {},
   "outputs": [],
   "source": [
    "gt = pd.read_csv('../../../dumps/various_sizes/8K.csv')\n",
    "cols = [col for col in gt.columns if col not in ['label']]\n",
    "data = gt[cols]\n",
    "target = gt['label']\n",
    "\n",
    "data_train, data_test, target_train, target_test = train_test_split(data,target, test_size = 0.20, random_state = 0)\n",
    "scaler = StandardScaler()\n",
    "scaler.fit(data_train)\n",
    "data_train = scaler.transform(data_train)\n",
    "data_test = scaler.transform(data_test)"
   ]
  },
  {
   "cell_type": "code",
   "execution_count": 17,
   "metadata": {},
   "outputs": [
    {
     "name": "stdout",
     "output_type": "stream",
     "text": [
      "Loss function : hinge\n"
     ]
    },
    {
     "name": "stderr",
     "output_type": "stream",
     "text": [
      "/usr/local/lib/python3.7/site-packages/sklearn/svm/_base.py:947: ConvergenceWarning: Liblinear failed to converge, increase the number of iterations.\n",
      "  \"the number of iterations.\", ConvergenceWarning)\n"
     ]
    },
    {
     "name": "stdout",
     "output_type": "stream",
     "text": [
      "Accuracy on training set: 0.997\n",
      "Accuracy on test set: 0.990\n",
      "Loss function : squared_hinge\n",
      "Accuracy on training set: 0.997\n",
      "Accuracy on test set: 0.992\n"
     ]
    }
   ],
   "source": [
    "for i in [\"hinge\",\"squared_hinge\"]:\n",
    "    print(\"Loss function : %s\" % i)\n",
    "    tree = LinearSVC(loss=i, max_iter=100000, random_state=0) \n",
    "    tree.fit(data_train, target_train)\n",
    "    print(\"Accuracy on training set: {:.3f}\".format(tree.score(data_train, target_train))) \n",
    "    print(\"Accuracy on test set: {:.3f}\".format(tree.score(data_test, target_test)))"
   ]
  },
  {
   "cell_type": "code",
   "execution_count": 23,
   "metadata": {},
   "outputs": [],
   "source": [
    "gt = pd.read_csv('../../../dumps/various_sizes/8K.csv')\n",
    "cols = [col for col in gt.columns if col not in ['label']]\n",
    "data = gt[cols]\n",
    "target = gt['label']\n",
    "data_train, data_test, target_train, target_test = train_test_split(data,target, test_size = 0.20, random_state = 0)\n",
    "scaler = StandardScaler()\n",
    "scaler.fit(data_train)\n",
    "data_train = scaler.transform(data_train)\n",
    "data_test = scaler.transform(data_test)"
   ]
  },
  {
   "cell_type": "code",
   "execution_count": 19,
   "metadata": {},
   "outputs": [
    {
     "name": "stdout",
     "output_type": "stream",
     "text": [
      "0.995274102079395\n",
      "{'C': 1, 'max_iter': 100}\n",
      "0.9930686830497795\n",
      "{'C': 1, 'max_iter': 100}\n"
     ]
    },
    {
     "name": "stderr",
     "output_type": "stream",
     "text": [
      "/usr/local/lib/python3.7/site-packages/sklearn/svm/_base.py:947: ConvergenceWarning: Liblinear failed to converge, increase the number of iterations.\n",
      "  \"the number of iterations.\", ConvergenceWarning)\n"
     ]
    }
   ],
   "source": [
    "parameters = {'C': [0.01,0.1, 1, 10, 100], 'max_iter':[100,1000,10000]}\n",
    "clf = GridSearchCV(LinearSVC(), parameters, n_jobs=-1)\n",
    "clf.fit(data_train, target_train)\n",
    "print(clf.score(data_train, target_train))\n",
    "print(clf.best_params_)\n",
    "print(clf.score(data_test, target_test))\n",
    "print(clf.best_params_)"
   ]
  },
  {
   "cell_type": "code",
   "execution_count": 20,
   "metadata": {},
   "outputs": [
    {
     "name": "stdout",
     "output_type": "stream",
     "text": [
      "0.997164461247637\n",
      "{'max_iter': 10000, 'C': 1}\n",
      "0.9924385633270322\n",
      "{'max_iter': 10000, 'C': 1}\n"
     ]
    },
    {
     "name": "stderr",
     "output_type": "stream",
     "text": [
      "/usr/local/lib/python3.7/site-packages/sklearn/svm/_base.py:947: ConvergenceWarning: Liblinear failed to converge, increase the number of iterations.\n",
      "  \"the number of iterations.\", ConvergenceWarning)\n"
     ]
    }
   ],
   "source": [
    "parameters = {'C': [0.01,0.1, 1, 10, 100], 'max_iter':[100,1000,10000]}\n",
    "clf = RandomizedSearchCV(LinearSVC(), parameters, n_jobs=-1)\n",
    "clf.fit(data_train, target_train)\n",
    "print(clf.score(data_train, target_train))\n",
    "print(clf.best_params_)\n",
    "print(clf.score(data_test, target_test))\n",
    "print(clf.best_params_)"
   ]
  },
  {
   "cell_type": "code",
   "execution_count": 24,
   "metadata": {},
   "outputs": [
    {
     "name": "stdout",
     "output_type": "stream",
     "text": [
      "Training set score: 0.994\n",
      "Test set score: 0.994\n",
      "0.39628189499990185\n"
     ]
    },
    {
     "name": "stderr",
     "output_type": "stream",
     "text": [
      "/usr/local/lib/python3.7/site-packages/sklearn/svm/_base.py:947: ConvergenceWarning: Liblinear failed to converge, increase the number of iterations.\n",
      "  \"the number of iterations.\", ConvergenceWarning)\n"
     ]
    }
   ],
   "source": [
    "svc = LinearSVC(C=0.1, random_state=0)\n",
    "start = perf_counter()\n",
    "svc.fit(data_train, target_train)\n",
    "end = perf_counter()\n",
    "print(\"Training set score: {:.3f}\".format(svc.score(data_train, target_train))) \n",
    "print(\"Test set score: {:.3f}\".format(svc.score(data_test, target_test)))\n",
    "print(end-start)"
   ]
  },
  {
   "cell_type": "code",
   "execution_count": 25,
   "metadata": {},
   "outputs": [
    {
     "name": "stdout",
     "output_type": "stream",
     "text": [
      "Training set score: 0.994\n",
      "Test set score: 0.994\n",
      "1.189869001000261\n"
     ]
    }
   ],
   "source": [
    "svc = LinearSVC(C=0.1, max_iter=10000, random_state=0)\n",
    "start = perf_counter()\n",
    "svc.fit(data_train, target_train)\n",
    "end = perf_counter()\n",
    "print(\"Training set score: {:.3f}\".format(svc.score(data_train, target_train))) \n",
    "print(\"Test set score: {:.3f}\".format(svc.score(data_test, target_test)))\n",
    "print(end-start)"
   ]
  },
  {
   "cell_type": "code",
   "execution_count": null,
   "metadata": {},
   "outputs": [],
   "source": []
  }
 ],
 "metadata": {
  "kernelspec": {
   "display_name": "Python 3",
   "language": "python",
   "name": "python3"
  },
  "language_info": {
   "codemirror_mode": {
    "name": "ipython",
    "version": 3
   },
   "file_extension": ".py",
   "mimetype": "text/x-python",
   "name": "python",
   "nbconvert_exporter": "python",
   "pygments_lexer": "ipython3",
   "version": "3.7.7"
  }
 },
 "nbformat": 4,
 "nbformat_minor": 4
}
