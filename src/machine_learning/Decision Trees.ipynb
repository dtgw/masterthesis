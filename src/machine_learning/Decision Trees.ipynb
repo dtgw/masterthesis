{
 "cells": [
  {
   "cell_type": "markdown",
   "metadata": {},
   "source": [
    "# Decision trees"
   ]
  },
  {
   "cell_type": "markdown",
   "metadata": {},
   "source": [
    "Principle : Imagine you want to distinguish between the following four animals: bears, hawks, penguins, and dolphins. Your goal is to get to the right answer by asking as few if/else questions as possible. You might start off by asking whether the animal has feathers, a question that narrows down your possible animals to just two. If the answer is “yes,” you can ask another question that could help you distinguish between hawks and penguins. For example, you could ask whether the animal can fly. If the animal doesn’t have feathers, your possible animal choices are dolphins and bears, and you will need to ask a question to distinguish between these two animals—for example, asking whether the animal has fins."
   ]
  },
  {
   "cell_type": "code",
   "execution_count": 1,
   "metadata": {},
   "outputs": [],
   "source": [
    "import pandas as pd\n",
    "import numpy as np\n",
    "import matplotlib.pyplot as plt\n",
    "from sklearn.model_selection import train_test_split\n",
    "from sklearn.tree import DecisionTreeClassifier\n",
    "from sklearn.metrics import roc_curve, auc\n",
    "from sklearn.model_selection import GridSearchCV, RandomizedSearchCV"
   ]
  },
  {
   "cell_type": "markdown",
   "metadata": {},
   "source": [
    "### First test"
   ]
  },
  {
   "cell_type": "code",
   "execution_count": 4,
   "metadata": {},
   "outputs": [
    {
     "name": "stdout",
     "output_type": "stream",
     "text": [
      "Accuracy on training set: 1.000\n",
      "Accuracy on test set: 0.759\n"
     ]
    }
   ],
   "source": [
    "gt = pd.read_csv('../dumps/2020.01.13-14.25.csv')\n",
    "cols = [col for col in gt.columns if col not in ['label']]\n",
    "data = gt[cols]\n",
    "target = gt['label']\n",
    "\n",
    "data_train, data_test, target_train, target_test = train_test_split(data,target, test_size = 0.20, random_state = 0)\n",
    "\n",
    "tree = DecisionTreeClassifier(random_state=0)\n",
    "tree.fit(data_train, target_train)\n",
    "print(\"Accuracy on training set: {:.3f}\".format(tree.score(data_train, target_train))) \n",
    "print(\"Accuracy on test set: {:.3f}\".format(tree.score(data_test, target_test)))"
   ]
  },
  {
   "cell_type": "markdown",
   "metadata": {},
   "source": [
    "The presence of pure leaves mean that a tree is 100% accurate on the training set; each data point in the training set is in a leaf that has the correct majority class. This is exactly what we can see from this result. We clearly fall into the trap of overfitting, meaning that this case is quite bad at generalization. This might be avoided by using two different strategies : *pre-pruning*, which will stop the creation of the tree before reaching the pure leaves, or *post-pruning*, which consists in collapsing or removing nodes with small information after the complete creation. For the first one, it can be done by limiting the depth, the number of leaves or either fixing a minimum number of nodes."
   ]
  },
  {
   "cell_type": "markdown",
   "metadata": {},
   "source": [
    "### Further tests"
   ]
  },
  {
   "cell_type": "markdown",
   "metadata": {},
   "source": [
    "Let's now carry on with a bigger dataset and try with different values of the parameters."
   ]
  },
  {
   "cell_type": "code",
   "execution_count": 2,
   "metadata": {},
   "outputs": [],
   "source": [
    "gt = pd.read_csv('../dumps/2020.02.10-12.14.csv')\n",
    "cols = [col for col in gt.columns if col not in ['label']]\n",
    "data = gt[cols]\n",
    "target = gt['label']\n",
    "\n",
    "data_train, data_test, target_train, target_test = train_test_split(data,target, test_size = 0.20, random_state = 0)"
   ]
  },
  {
   "cell_type": "markdown",
   "metadata": {},
   "source": [
    "#### Depth"
   ]
  },
  {
   "cell_type": "markdown",
   "metadata": {},
   "source": [
    "Limiting the depth of the tree decreases overfitting. This leads to a lower accuracy on the training set, but an improvement on the test set:"
   ]
  },
  {
   "cell_type": "code",
   "execution_count": 3,
   "metadata": {},
   "outputs": [
    {
     "name": "stdout",
     "output_type": "stream",
     "text": [
      "Depth set to 1\n",
      "Accuracy on training set: 0.895\n",
      "Accuracy on test set: 0.900\n",
      "Depth set to 2\n",
      "Accuracy on training set: 0.912\n",
      "Accuracy on test set: 0.915\n",
      "Depth set to 3\n",
      "Accuracy on training set: 0.918\n",
      "Accuracy on test set: 0.915\n",
      "Depth set to 4\n",
      "Accuracy on training set: 0.924\n",
      "Accuracy on test set: 0.923\n",
      "Depth set to 5\n",
      "Accuracy on training set: 0.930\n",
      "Accuracy on test set: 0.919\n",
      "Depth set to 6\n",
      "Accuracy on training set: 0.935\n",
      "Accuracy on test set: 0.917\n",
      "Depth set to 7\n",
      "Accuracy on training set: 0.941\n",
      "Accuracy on test set: 0.911\n",
      "Depth set to 8\n",
      "Accuracy on training set: 0.945\n",
      "Accuracy on test set: 0.911\n",
      "Depth set to 9\n",
      "Accuracy on training set: 0.951\n",
      "Accuracy on test set: 0.908\n"
     ]
    }
   ],
   "source": [
    "for i in range(1,10):\n",
    "    print(\"Depth set to %s\" % i)\n",
    "    tree = DecisionTreeClassifier(max_depth=i, random_state=0) \n",
    "    tree.fit(data_train, target_train)\n",
    "    print(\"Accuracy on training set: {:.3f}\".format(tree.score(data_train, target_train))) \n",
    "    print(\"Accuracy on test set: {:.3f}\".format(tree.score(data_test, target_test)))"
   ]
  },
  {
   "cell_type": "code",
   "execution_count": 5,
   "metadata": {},
   "outputs": [
    {
     "data": {
      "text/plain": [
       "<matplotlib.legend.Legend at 0x116a6b990>"
      ]
     },
     "execution_count": 5,
     "metadata": {},
     "output_type": "execute_result"
    },
    {
     "data": {
      "image/png": "[encoded data removed]",
      "text/plain": [
       "<Figure size 432x288 with 1 Axes>"
      ]
     },
     "metadata": {
      "needs_background": "light"
     },
     "output_type": "display_data"
    }
   ],
   "source": [
    "training_accuracy = [] \n",
    "test_accuracy = []\n",
    "settings = range(1, 10)\n",
    "for v in settings:\n",
    "    clf = DecisionTreeClassifier(max_depth=v, random_state=0) \n",
    "    clf.fit(data_train, target_train)\n",
    "    training_accuracy.append(clf.score(data_train, target_train))\n",
    "    test_accuracy.append(clf.score(data_test, target_test))\n",
    "plt.plot(settings, training_accuracy, label=\"training accuracy\") \n",
    "plt.plot(settings, test_accuracy, label=\"test accuracy\") \n",
    "plt.ylabel(\"Accuracy\")\n",
    "plt.xlabel(\"depth\")\n",
    "plt.legend()"
   ]
  },
  {
   "cell_type": "markdown",
   "metadata": {},
   "source": [
    "As we can see, increasing the depth value improves the accuracy of the training set but not necessarily of the test set. The best result we get at depth 4, which offers a good compromise between the two accuracies."
   ]
  },
  {
   "cell_type": "markdown",
   "metadata": {},
   "source": [
    "#### Minimum number of samples (split)"
   ]
  },
  {
   "cell_type": "markdown",
   "metadata": {},
   "source": [
    "*min_samples_split* represents the minimum number of samples required to split an internal node. This can vary between considering at least one sample at each node to considering all of the samples at each node. When we increase this parameter, the tree becomes more constrained as it has to consider more samples at each node."
   ]
  },
  {
   "cell_type": "code",
   "execution_count": 7,
   "metadata": {},
   "outputs": [
    {
     "name": "stdout",
     "output_type": "stream",
     "text": [
      "Depth set to 0.1\n",
      "Accuracy on training set: 0.915\n",
      "Accuracy on test set: 0.898\n",
      "Depth set to 0.2\n",
      "Accuracy on training set: 0.896\n",
      "Accuracy on test set: 0.886\n",
      "Depth set to 0.3\n",
      "Accuracy on training set: 0.895\n",
      "Accuracy on test set: 0.898\n",
      "Depth set to 0.4\n",
      "Accuracy on training set: 0.895\n",
      "Accuracy on test set: 0.900\n",
      "Depth set to 0.5\n",
      "Accuracy on training set: 0.895\n",
      "Accuracy on test set: 0.900\n",
      "Depth set to 0.6\n",
      "Accuracy on training set: 0.895\n",
      "Accuracy on test set: 0.900\n",
      "Depth set to 0.7\n",
      "Accuracy on training set: 0.895\n",
      "Accuracy on test set: 0.900\n",
      "Depth set to 0.8\n",
      "Accuracy on training set: 0.895\n",
      "Accuracy on test set: 0.900\n",
      "Depth set to 0.9\n",
      "Accuracy on training set: 0.895\n",
      "Accuracy on test set: 0.900\n",
      "Depth set to 1.0\n",
      "Accuracy on training set: 0.895\n",
      "Accuracy on test set: 0.900\n"
     ]
    }
   ],
   "source": [
    "for i in range(1,11):\n",
    "    n_samples = i/10\n",
    "    print(\"min_samples_split set to %s\" % n_samples)\n",
    "    tree = DecisionTreeClassifier(min_samples_split=n_samples, random_state=0) \n",
    "    tree.fit(data_train, target_train)\n",
    "    print(\"Accuracy on training set: {:.3f}\".format(tree.score(data_train, target_train))) \n",
    "    print(\"Accuracy on test set: {:.3f}\".format(tree.score(data_test, target_test)))"
   ]
  },
  {
   "cell_type": "code",
   "execution_count": 22,
   "metadata": {},
   "outputs": [
    {
     "data": {
      "image/png": "[encoded data removed]",
      "text/plain": [
       "<Figure size 432x288 with 1 Axes>"
      ]
     },
     "metadata": {
      "needs_background": "light"
     },
     "output_type": "display_data"
    }
   ],
   "source": [
    "min_samples_splits = range(2,41)\n",
    "train_results = []\n",
    "test_results = []\n",
    "for min_samples_split in min_samples_splits:\n",
    "   dt = DecisionTreeClassifier(min_samples_split=min_samples_split, random_state=0)\n",
    "   dt.fit(data_train, target_train)\n",
    "   train_pred = dt.predict(data_train)\n",
    "   false_positive_rate, true_positive_rate, thresholds = roc_curve(target_train, train_pred)\n",
    "   roc_auc = auc(false_positive_rate, true_positive_rate)\n",
    "   train_results.append(roc_auc)\n",
    "   y_pred = dt.predict(data_test)\n",
    "   false_positive_rate, true_positive_rate, thresholds = roc_curve(target_test, y_pred)\n",
    "   roc_auc = auc(false_positive_rate, true_positive_rate)\n",
    "   test_results.append(roc_auc)\n",
    "from matplotlib.legend_handler import HandlerLine2D\n",
    "line1, = plt.plot(min_samples_splits, train_results, 'b', label=\"Train AUC\")\n",
    "line2, = plt.plot(min_samples_splits, test_results, 'r', label=\"Test AUC\")\n",
    "plt.legend(handler_map={line1: HandlerLine2D(numpoints=2)})\n",
    "plt.ylabel('AUC score')\n",
    "plt.xlabel('min samples split')\n",
    "plt.show()"
   ]
  },
  {
   "cell_type": "code",
   "execution_count": 21,
   "metadata": {},
   "outputs": [
    {
     "name": "stdout",
     "output_type": "stream",
     "text": [
      "min_samples_split set to 2\n",
      "Accuracy on training set: 1.000\n",
      "Accuracy on test set: 0.869\n",
      "min_samples_split set to 3\n",
      "Accuracy on training set: 0.999\n",
      "Accuracy on test set: 0.870\n",
      "min_samples_split set to 4\n",
      "Accuracy on training set: 0.997\n",
      "Accuracy on test set: 0.879\n",
      "min_samples_split set to 5\n",
      "Accuracy on training set: 0.995\n",
      "Accuracy on test set: 0.872\n",
      "min_samples_split set to 6\n",
      "Accuracy on training set: 0.991\n",
      "Accuracy on test set: 0.878\n",
      "min_samples_split set to 7\n",
      "Accuracy on training set: 0.988\n",
      "Accuracy on test set: 0.879\n",
      "min_samples_split set to 8\n",
      "Accuracy on training set: 0.984\n",
      "Accuracy on test set: 0.872\n",
      "min_samples_split set to 9\n",
      "Accuracy on training set: 0.982\n",
      "Accuracy on test set: 0.883\n",
      "min_samples_split set to 10\n",
      "Accuracy on training set: 0.981\n",
      "Accuracy on test set: 0.880\n"
     ]
    }
   ],
   "source": [
    "for i in range(2,11):\n",
    "    print(\"min_samples_split set to %s\" % i)\n",
    "    tree = DecisionTreeClassifier(min_samples_split=i, random_state=0) \n",
    "    tree.fit(data_train, target_train)\n",
    "    print(\"Accuracy on training set: {:.3f}\".format(tree.score(data_train, target_train))) \n",
    "    print(\"Accuracy on test set: {:.3f}\".format(tree.score(data_test, target_test)))"
   ]
  },
  {
   "cell_type": "markdown",
   "metadata": {},
   "source": [
    "#### Minimum number of samples (leaf)"
   ]
  },
  {
   "cell_type": "markdown",
   "metadata": {},
   "source": [
    "*min_samples_leaf* is the minimum number of samples required to be at a leaf node. This parameter is similar to min_samples_splits, however, this describe the minimum number of samples at the leafs, the base of the tree."
   ]
  },
  {
   "cell_type": "code",
   "execution_count": 31,
   "metadata": {},
   "outputs": [
    {
     "name": "stdout",
     "output_type": "stream",
     "text": [
      "min_samples_split set to 2\n",
      "Accuracy on training set: 0.986\n",
      "Accuracy on test set: 0.885\n",
      "min_samples_split set to 3\n",
      "Accuracy on training set: 0.978\n",
      "Accuracy on test set: 0.876\n",
      "min_samples_split set to 4\n",
      "Accuracy on training set: 0.971\n",
      "Accuracy on test set: 0.881\n",
      "min_samples_split set to 5\n",
      "Accuracy on training set: 0.966\n",
      "Accuracy on test set: 0.885\n",
      "min_samples_split set to 6\n",
      "Accuracy on training set: 0.962\n",
      "Accuracy on test set: 0.885\n",
      "min_samples_split set to 7\n",
      "Accuracy on training set: 0.953\n",
      "Accuracy on test set: 0.887\n",
      "min_samples_split set to 8\n",
      "Accuracy on training set: 0.948\n",
      "Accuracy on test set: 0.887\n",
      "min_samples_split set to 9\n",
      "Accuracy on training set: 0.945\n",
      "Accuracy on test set: 0.883\n",
      "min_samples_split set to 10\n",
      "Accuracy on training set: 0.941\n",
      "Accuracy on test set: 0.899\n"
     ]
    }
   ],
   "source": [
    "for i in range(2,11):\n",
    "    print(\"min_samples_split set to %s\" % i)\n",
    "    tree = DecisionTreeClassifier(min_samples_leaf=i, random_state=0) \n",
    "    tree.fit(data_train, target_train)\n",
    "    print(\"Accuracy on training set: {:.3f}\".format(tree.score(data_train, target_train))) \n",
    "    print(\"Accuracy on test set: {:.3f}\".format(tree.score(data_test, target_test)))"
   ]
  },
  {
   "cell_type": "code",
   "execution_count": 6,
   "metadata": {},
   "outputs": [
    {
     "data": {
      "image/png": "[encoded data removed]",
      "text/plain": [
       "<Figure size 432x288 with 1 Axes>"
      ]
     },
     "metadata": {
      "needs_background": "light"
     },
     "output_type": "display_data"
    }
   ],
   "source": [
    "settings = range(2,11)\n",
    "train_results = []\n",
    "test_results = []\n",
    "for v in settings:\n",
    "   dt = DecisionTreeClassifier(min_samples_leaf=v, random_state=0)\n",
    "   dt.fit(data_train, target_train)\n",
    "   train_pred = dt.predict(data_train)\n",
    "   false_positive_rate, true_positive_rate, thresholds = roc_curve(target_train, train_pred)\n",
    "   roc_auc = auc(false_positive_rate, true_positive_rate)\n",
    "   train_results.append(roc_auc)\n",
    "   y_pred = dt.predict(data_test)\n",
    "   false_positive_rate, true_positive_rate, thresholds = roc_curve(target_test, y_pred)\n",
    "   roc_auc = auc(false_positive_rate, true_positive_rate)\n",
    "   test_results.append(roc_auc)\n",
    "from matplotlib.legend_handler import HandlerLine2D\n",
    "line1, = plt.plot(settings, train_results, 'b', label=\"Train AUC\")\n",
    "line2, = plt.plot(settings, test_results, 'r', label=\"Test AUC\")\n",
    "plt.legend(handler_map={line1: HandlerLine2D(numpoints=2)})\n",
    "plt.ylabel('AUC score')\n",
    "plt.xlabel('min samples leaf')\n",
    "plt.show()"
   ]
  },
  {
   "cell_type": "markdown",
   "metadata": {},
   "source": [
    "#### Number of features"
   ]
  },
  {
   "cell_type": "markdown",
   "metadata": {},
   "source": [
    "*max_features* represents the number of features to consider when looking for the best split. Since we're working with 119 different features, let's try all the values and see how relevant they are."
   ]
  },
  {
   "cell_type": "code",
   "execution_count": 30,
   "metadata": {},
   "outputs": [
    {
     "data": {
      "text/plain": [
       "<matplotlib.legend.Legend at 0x118db48d0>"
      ]
     },
     "execution_count": 30,
     "metadata": {},
     "output_type": "execute_result"
    },
    {
     "data": {
      "image/png": "[encoded data removed]",
      "text/plain": [
       "<Figure size 432x288 with 1 Axes>"
      ]
     },
     "metadata": {
      "needs_background": "light"
     },
     "output_type": "display_data"
    }
   ],
   "source": [
    "training_accuracy = [] \n",
    "test_accuracy = []\n",
    "settings = range(1, 120)\n",
    "for f in settings:\n",
    "    clf = DecisionTreeClassifier(max_features=f, random_state=0) #n_jobs means that we use all processors\n",
    "    clf.fit(data_train, target_train)\n",
    "    training_accuracy.append(clf.score(data_train, target_train))\n",
    "    test_accuracy.append(clf.score(data_test, target_test))\n",
    "plt.plot(settings, training_accuracy, label=\"training accuracy\") \n",
    "plt.plot(settings, test_accuracy, label=\"test accuracy\") \n",
    "plt.ylabel(\"Accuracy\")\n",
    "plt.xlabel(\"n_features\")\n",
    "plt.legend()"
   ]
  },
  {
   "cell_type": "markdown",
   "metadata": {},
   "source": [
    "As we can see from the graph, not all features are important in making the classification. Further selection on relevant features will be made."
   ]
  },
  {
   "cell_type": "markdown",
   "metadata": {},
   "source": [
    "### Best match"
   ]
  },
  {
   "cell_type": "code",
   "execution_count": 3,
   "metadata": {},
   "outputs": [],
   "source": [
    "gt = pd.read_csv('../dumps/2020.02.10-12.14.csv')\n",
    "cols = [col for col in gt.columns if col not in ['label']]\n",
    "data = gt[cols]\n",
    "target = gt['label']\n",
    "data_train, data_test, target_train, target_test = train_test_split(data,target, test_size = 0.20, random_state = 0)"
   ]
  },
  {
   "cell_type": "code",
   "execution_count": null,
   "metadata": {},
   "outputs": [],
   "source": [
    "parameters = {'max_depth': np.arange(1,11), 'min_samples_split': np.arange(1,21), 'min_samples_leaf': np.arange(1,11), 'max_features': np.arange(1,120)}\n",
    "clf = GridSearchCV(DecisionTreeClassifier(), parameters, n_jobs=-1)\n",
    "clf.fit(data_train, target_train)\n",
    "print(clf.score(data_train, target_train))\n",
    "print(clf.best_params_)\n",
    "print(clf.score(data_test, target_test))\n",
    "print(clf.best_params_)"
   ]
  },
  {
   "cell_type": "code",
   "execution_count": null,
   "metadata": {},
   "outputs": [],
   "source": [
    "parameters = {'max_depth': np.arange(1,11), 'min_samples_split': np.arange(1,21), 'min_samples_leaf': np.arange(1,11), 'max_features': np.arange(1,120)}\n",
    "clf = RandomizedSearchCV(DecisionTreeClassifier(), parameters, n_jobs=-1)\n",
    "clf.fit(data_train, target_train)\n",
    "print(clf.score(data_train, target_train))\n",
    "print(clf.best_params_)\n",
    "print(clf.score(data_test, target_test))\n",
    "print(clf.best_params_)"
   ]
  }
 ],
 "metadata": {
  "kernelspec": {
   "display_name": "Python 3",
   "language": "python",
   "name": "python3"
  },
  "language_info": {
   "codemirror_mode": {
    "name": "ipython",
    "version": 3
   },
   "file_extension": ".py",
   "mimetype": "text/x-python",
   "name": "python",
   "nbconvert_exporter": "python",
   "pygments_lexer": "ipython3",
   "version": "3.7.4"
  }
 },
 "nbformat": 4,
 "nbformat_minor": 2
}
