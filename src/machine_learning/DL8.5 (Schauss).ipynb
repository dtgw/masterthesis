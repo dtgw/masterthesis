{
 "cells": [
  {
   "cell_type": "code",
   "execution_count": 45,
   "metadata": {
    "scrolled": true
   },
   "outputs": [],
   "source": [
    "%matplotlib inline\n",
    "import pandas as pd\n",
    "import numpy as np\n",
    "import matplotlib.pyplot as plt\n",
    "from sklearn.model_selection import train_test_split\n",
    "from dl85 import DL85Classifier"
   ]
  },
  {
   "cell_type": "markdown",
   "metadata": {},
   "source": [
    "For the ground truth, we only use the binary features which are f0, f1, f2, f3, f4, f5 , f6, f7, f30, f31, f32, f33, f34, f35, f41, f117"
   ]
  },
  {
   "cell_type": "code",
   "execution_count": 28,
   "metadata": {},
   "outputs": [],
   "source": [
    "gt = pd.read_csv('../dumps/2020.03.11-17.39.csv')\n",
    "data = gt[['f0','f1','f2','f3','f4','f5','f6','f7',\n",
    "           'f30','f31','f32','f33','f34','f35','f41','f117']]\n",
    "target = gt['label']"
   ]
  },
  {
   "cell_type": "code",
   "execution_count": null,
   "metadata": {},
   "outputs": [
    {
     "name": "stdout",
     "output_type": "stream",
     "text": [
      "DL8.5 fitting: Solution found\n",
      "DL8.5 fitting: Solution found\n",
      "DL8.5 fitting: Solution found\n",
      "DL8.5 fitting: Solution found\n",
      "DL8.5 fitting: Solution found\n",
      "DL8.5 fitting: Solution found\n"
     ]
    }
   ],
   "source": [
    "data_train, data_test, target_train, target_test = train_test_split(data,target, test_size = 0.20, random_state = 0)\n",
    "x = []\n",
    "y_training =[]\n",
    "y_test = []\n",
    "for i in range(1,10):\n",
    "    clf = DL85Classifier(max_depth=i, min_sup=2)\n",
    "    clf.fit(data_train, target_train)\n",
    "    x.append(i)\n",
    "    y_training.append(clf.score(data_train, target_train))\n",
    "    y_test.append(clf.score(data_test, target_test))\n",
    "plt.plot(x,y_training, label=\"Training\")  \n",
    "plt.plot(x,y_test, label=\"Test\")\n",
    "plt.xlabel('max_depth')\n",
    "plt.ylabel('% of accuracy')\n",
    "plt.legend()\n",
    "plt.show"
   ]
  },
  {
   "cell_type": "code",
   "execution_count": null,
   "metadata": {},
   "outputs": [],
   "source": []
  }
 ],
 "metadata": {
  "kernelspec": {
   "display_name": "Python 3",
   "language": "python",
   "name": "python3"
  },
  "language_info": {
   "codemirror_mode": {
    "name": "ipython",
    "version": 3
   },
   "file_extension": ".py",
   "mimetype": "text/x-python",
   "name": "python",
   "nbconvert_exporter": "python",
   "pygments_lexer": "ipython3",
   "version": "3.7.6"
  }
 },
 "nbformat": 4,
 "nbformat_minor": 4
}
