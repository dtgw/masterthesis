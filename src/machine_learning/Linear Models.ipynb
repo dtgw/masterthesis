{
 "cells": [
  {
   "cell_type": "markdown",
   "metadata": {},
   "source": [
    "# Linear Models"
   ]
  },
  {
   "cell_type": "markdown",
   "metadata": {},
   "source": [
    "Principle : Linear models make a prediction using a linear function of the input features. Each feature is assigned a weight learned by the algorithm.\n",
    "There are many different linear models for classification. The difference between these models lies in how the model parameters w and b are learned from the training data, and how model complexity can be controlled. The two most common algorithms are *logistic regression* (despites its name) and *linear support vector machines*.\n",
    "For both of them, the regularization parameter C can be adjusted to get better results. The higher the value, the most the algorithm is gonna give importance to every points for the dataset trying to fit as most as possible to the training set. Using low values means the algorithm is gonna try to adjust to the \"majority\" of the points."
   ]
  },
  {
   "cell_type": "markdown",
   "metadata": {},
   "source": [
    "### Set up"
   ]
  },
  {
   "cell_type": "markdown",
   "metadata": {},
   "source": [
    "First import all necessary packages in order not to worry about them when testing new parameters/algorithms:"
   ]
  },
  {
   "cell_type": "code",
   "execution_count": 1,
   "metadata": {},
   "outputs": [],
   "source": [
    "%load_ext autoreload\n",
    "%autoreload\n",
    "from LinearModels import display_plot_logreg, display_plot_svc\n",
    "from utils import feature_selection, thomas_parser, PCA_reduction, perf, time_comparison\n",
    "\n",
    "import pandas as pd\n",
    "import numpy as np\n",
    "import matplotlib.pyplot as plt\n",
    "from sklearn import preprocessing\n",
    "from sklearn.model_selection import train_test_split\n",
    "from sklearn.linear_model import LogisticRegression\n",
    "from sklearn.svm import LinearSVC\n",
    "from sklearn.model_selection import GridSearchCV, RandomizedSearchCV\n",
    "from sklearn.feature_selection import SelectFromModel\n",
    "from joblib import dump, load\n",
    "from sklearn.preprocessing import StandardScaler, Normalizer\n",
    "from sklearn.decomposition import PCA\n",
    "from tabulate import tabulate\n",
    "import time"
   ]
  },
  {
   "cell_type": "markdown",
   "metadata": {},
   "source": [
    "## Logistic Regression"
   ]
  },
  {
   "cell_type": "markdown",
   "metadata": {},
   "source": [
    "### First test"
   ]
  },
  {
   "cell_type": "markdown",
   "metadata": {},
   "source": [
    "Let's try the logistic regression first with C set to the default value 1, then C=100 and eventually C=0.01."
   ]
  },
  {
   "cell_type": "code",
   "execution_count": 23,
   "metadata": {},
   "outputs": [
    {
     "name": "stdout",
     "output_type": "stream",
     "text": [
      "Training set score: 0.815\n",
      "Test set score: 0.809\n"
     ]
    }
   ],
   "source": [
    "gt = pd.read_csv('../dumps/2020.01.13-14.25.csv')\n",
    "cols = [col for col in gt.columns if col not in ['label']]\n",
    "data = gt[cols]\n",
    "target = gt['label']\n",
    "\n",
    "data_train, data_test, target_train, target_test = train_test_split(data,target, test_size = 0.20, random_state = 0)\n",
    "scaler = Normalizer()\n",
    "scaler.fit(data_train)\n",
    "data_train = scaler.transform(data_train)\n",
    "data_test = scaler.transform(data_test)\n",
    "\n",
    "logreg = LogisticRegression(max_iter=100000).fit(data_train, target_train)\n",
    "print(\"Training set score: {:.3f}\".format(logreg.score(data_train, target_train))) \n",
    "print(\"Test set score: {:.3f}\".format(logreg.score(data_test, target_test)))"
   ]
  },
  {
   "cell_type": "code",
   "execution_count": 24,
   "metadata": {},
   "outputs": [
    {
     "name": "stdout",
     "output_type": "stream",
     "text": [
      "Training set score: 0.842\n",
      "Test set score: 0.784\n"
     ]
    }
   ],
   "source": [
    "logreg100 = LogisticRegression(C=100,max_iter=100000).fit(data_train, target_train)\n",
    "print(\"Training set score: {:.3f}\".format(logreg100.score(data_train, target_train))) \n",
    "print(\"Test set score: {:.3f}\".format(logreg100.score(data_test, target_test)))"
   ]
  },
  {
   "cell_type": "code",
   "execution_count": 25,
   "metadata": {},
   "outputs": [
    {
     "name": "stdout",
     "output_type": "stream",
     "text": [
      "Training set score: 0.815\n",
      "Test set score: 0.809\n"
     ]
    }
   ],
   "source": [
    "logreg001 = LogisticRegression(C=0.01,max_iter=100000).fit(data_train, target_train)\n",
    "print(\"Training set score: {:.3f}\".format(logreg001.score(data_train, target_train))) \n",
    "print(\"Test set score: {:.3f}\".format(logreg001.score(data_test, target_test)))"
   ]
  },
  {
   "cell_type": "markdown",
   "metadata": {},
   "source": [
    "Accuracies are quite bad on the test set even with standardization. We might be underfitting and should try to tune other parameters or use bigger datasets."
   ]
  },
  {
   "cell_type": "markdown",
   "metadata": {},
   "source": [
    "### Further tests"
   ]
  },
  {
   "cell_type": "markdown",
   "metadata": {},
   "source": [
    "#### Regularization parameter"
   ]
  },
  {
   "cell_type": "code",
   "execution_count": 32,
   "metadata": {},
   "outputs": [
    {
     "data": {
      "image/png": "[encoded data removed]",
      "text/plain": [
       "<Figure size 432x288 with 1 Axes>"
      ]
     },
     "metadata": {
      "needs_background": "light"
     },
     "output_type": "display_data"
    }
   ],
   "source": [
    "display_plot_logreg('../dumps/2020.02.10-12.14.csv',0.20,0.01,100)"
   ]
  },
  {
   "cell_type": "markdown",
   "metadata": {},
   "source": [
    "The curves we get are nearly perfectly linear. Increase the C value does reduce a little bit the training accucary while the test one stays the same all the time (and is always better, which is quite unintuitive). We may therefore favor the smallest C value."
   ]
  },
  {
   "cell_type": "markdown",
   "metadata": {},
   "source": [
    "### Best match"
   ]
  },
  {
   "cell_type": "code",
   "execution_count": 5,
   "metadata": {},
   "outputs": [],
   "source": [
    "gt = pd.read_csv('../dumps/2020.02.10-12.14.csv')\n",
    "cols = [col for col in gt.columns if col not in ['label']]\n",
    "data = gt[cols]\n",
    "target = gt['label']\n",
    "data_train, data_test, target_train, target_test = train_test_split(data,target, test_size = 0.20, random_state = 0)\n",
    "scaler = Normalizer()\n",
    "scaler.fit(data_train)\n",
    "data_train = scaler.transform(data_train)\n",
    "data_test = scaler.transform(data_test)"
   ]
  },
  {
   "cell_type": "code",
   "execution_count": 6,
   "metadata": {},
   "outputs": [
    {
     "name": "stdout",
     "output_type": "stream",
     "text": [
      "0.8948440683278484\n",
      "{'C': 0.01, 'max_iter': 100}\n",
      "0.900375939849624\n",
      "{'C': 0.01, 'max_iter': 100}\n"
     ]
    }
   ],
   "source": [
    "parameters = {'C': [0.01,0.1, 1, 10, 100], 'max_iter':[100,1000,10000]}\n",
    "clf = GridSearchCV(LogisticRegression(), parameters, n_jobs=-1)\n",
    "clf.fit(data_train, target_train)\n",
    "print(clf.score(data_train, target_train))\n",
    "print(clf.best_params_)\n",
    "print(clf.score(data_test, target_test))\n",
    "print(clf.best_params_)"
   ]
  },
  {
   "cell_type": "code",
   "execution_count": 7,
   "metadata": {},
   "outputs": [
    {
     "name": "stdout",
     "output_type": "stream",
     "text": [
      "0.8948440683278484\n",
      "{'max_iter': 1000, 'C': 0.01}\n",
      "0.900375939849624\n",
      "{'max_iter': 1000, 'C': 0.01}\n"
     ]
    }
   ],
   "source": [
    "parameters = {'C': [0.01,0.1, 1, 10, 100], 'max_iter':[100,1000,10000]}\n",
    "clf = RandomizedSearchCV(LogisticRegression(), parameters, n_jobs=-1)\n",
    "clf.fit(data_train, target_train)\n",
    "print(clf.score(data_train, target_train))\n",
    "print(clf.best_params_)\n",
    "print(clf.score(data_test, target_test))\n",
    "print(clf.best_params_)"
   ]
  },
  {
   "cell_type": "code",
   "execution_count": 9,
   "metadata": {},
   "outputs": [
    {
     "name": "stdout",
     "output_type": "stream",
     "text": [
      "Training set score: 0.895\n",
      "Test set score: 0.900\n"
     ]
    }
   ],
   "source": [
    "logreg = LogisticRegression(C=0.01, max_iter=100,random_state=0)\n",
    "logreg.fit(data_train, target_train)\n",
    "print(\"Training set score: {:.3f}\".format(logreg.score(data_train, target_train))) \n",
    "print(\"Test set score: {:.3f}\".format(logreg.score(data_test, target_test)))"
   ]
  },
  {
   "cell_type": "markdown",
   "metadata": {},
   "source": [
    "### Comparison between different kind of datasets"
   ]
  },
  {
   "cell_type": "code",
   "execution_count": 2,
   "metadata": {},
   "outputs": [
    {
     "name": "stdout",
     "output_type": "stream",
     "text": [
      "Accuracy on training set: 0.900\n",
      "Accuracy on test set: 0.897\n"
     ]
    }
   ],
   "source": [
    "perf('../dumps/control_8000_false_3.csv','log',False)"
   ]
  },
  {
   "cell_type": "markdown",
   "metadata": {},
   "source": [
    "#### Different thresholds"
   ]
  },
  {
   "cell_type": "code",
   "execution_count": 5,
   "metadata": {},
   "outputs": [
    {
     "name": "stdout",
     "output_type": "stream",
     "text": [
      "Accuracy on training set: 0.783\n",
      "Accuracy on test set: 0.771\n"
     ]
    }
   ],
   "source": [
    "perf('../dumps/default_1.csv','log',False)"
   ]
  },
  {
   "cell_type": "code",
   "execution_count": 6,
   "metadata": {},
   "outputs": [
    {
     "name": "stdout",
     "output_type": "stream",
     "text": [
      "Accuracy on training set: 0.854\n",
      "Accuracy on test set: 0.843\n"
     ]
    }
   ],
   "source": [
    "perf('../dumps/default_2.csv','log',False)"
   ]
  },
  {
   "cell_type": "code",
   "execution_count": 7,
   "metadata": {},
   "outputs": [
    {
     "name": "stdout",
     "output_type": "stream",
     "text": [
      "Accuracy on training set: 0.943\n",
      "Accuracy on test set: 0.948\n"
     ]
    }
   ],
   "source": [
    "perf('../dumps/default_4.csv','log',False)"
   ]
  },
  {
   "cell_type": "code",
   "execution_count": 8,
   "metadata": {},
   "outputs": [
    {
     "name": "stdout",
     "output_type": "stream",
     "text": [
      "Accuracy on training set: 0.943\n",
      "Accuracy on test set: 0.948\n"
     ]
    }
   ],
   "source": [
    "perf('../dumps/default_5.csv','log',False)"
   ]
  },
  {
   "cell_type": "markdown",
   "metadata": {},
   "source": [
    "#### Errors considered as positive result from detector"
   ]
  },
  {
   "cell_type": "code",
   "execution_count": 9,
   "metadata": {},
   "outputs": [
    {
     "name": "stdout",
     "output_type": "stream",
     "text": [
      "Accuracy on training set: 0.853\n",
      "Accuracy on test set: 0.843\n"
     ]
    }
   ],
   "source": [
    "perf('../dumps/error_as_packed.csv','log',False)"
   ]
  },
  {
   "cell_type": "markdown",
   "metadata": {},
   "source": [
    "#### Check influence of each detector"
   ]
  },
  {
   "cell_type": "code",
   "execution_count": 10,
   "metadata": {},
   "outputs": [
    {
     "name": "stdout",
     "output_type": "stream",
     "text": [
      "Accuracy on training set: 0.928\n",
      "Accuracy on test set: 0.929\n"
     ]
    }
   ],
   "source": [
    "perf('../dumps/not_die.csv','log',False)"
   ]
  },
  {
   "cell_type": "code",
   "execution_count": 11,
   "metadata": {},
   "outputs": [
    {
     "name": "stdout",
     "output_type": "stream",
     "text": [
      "Accuracy on training set: 0.918\n",
      "Accuracy on test set: 0.918\n"
     ]
    }
   ],
   "source": [
    "perf('../dumps/not_cisco.csv','log',False)"
   ]
  },
  {
   "cell_type": "code",
   "execution_count": 12,
   "metadata": {},
   "outputs": [
    {
     "name": "stdout",
     "output_type": "stream",
     "text": [
      "Accuracy on training set: 0.941\n",
      "Accuracy on test set: 0.946\n"
     ]
    }
   ],
   "source": [
    "perf('../dumps/not_manalyze.csv','log',False)"
   ]
  },
  {
   "cell_type": "code",
   "execution_count": 13,
   "metadata": {},
   "outputs": [
    {
     "name": "stdout",
     "output_type": "stream",
     "text": [
      "Accuracy on training set: 0.943\n",
      "Accuracy on test set: 0.948\n"
     ]
    }
   ],
   "source": [
    "perf('../dumps/not_peid.csv','log',False)"
   ]
  },
  {
   "cell_type": "code",
   "execution_count": 14,
   "metadata": {},
   "outputs": [
    {
     "name": "stdout",
     "output_type": "stream",
     "text": [
      "Accuracy on training set: 0.943\n",
      "Accuracy on test set: 0.947\n"
     ]
    }
   ],
   "source": [
    "perf('../dumps/not_peframe.csv','log',False)"
   ]
  },
  {
   "cell_type": "markdown",
   "metadata": {},
   "source": [
    "#### Only boolean values"
   ]
  },
  {
   "cell_type": "code",
   "execution_count": 2,
   "metadata": {},
   "outputs": [
    {
     "name": "stdout",
     "output_type": "stream",
     "text": [
      "Most important : \n",
      "\n",
      "Accuracy on training set: 0.900\n",
      "Accuracy on test set: 0.897\n",
      "---------------\n",
      "\n",
      "All features : \n",
      "\n",
      "Accuracy on training set: 0.900\n",
      "Accuracy on test set: 0.897\n"
     ]
    }
   ],
   "source": [
    "perf('../dumps/control_8000_false_3.csv','log',True)"
   ]
  },
  {
   "cell_type": "markdown",
   "metadata": {},
   "source": [
    "### Features relevance"
   ]
  },
  {
   "cell_type": "markdown",
   "metadata": {},
   "source": [
    "Here below we will follow an iterative process in order to select the most relevant features of our model. The way it works is as follow : first we start a small training set, measure the accuracy and select the most relevant features using *SelectFromModel*. Then we apply the same reasoning on a slightly larger training set. Between two iterations, the set of features that is kept is the intersection between the current best features and the previous ones."
   ]
  },
  {
   "cell_type": "code",
   "execution_count": 3,
   "metadata": {},
   "outputs": [],
   "source": [
    "gt = pd.read_csv('../dumps/2020.02.10-12.14.csv')\n",
    "cols = [col for col in gt.columns if col not in ['label']]\n",
    "raw_data = gt[cols]\n",
    "raw_target = gt['label']"
   ]
  },
  {
   "cell_type": "markdown",
   "metadata": {},
   "source": [
    "First step, we start with a training set of 20% of the whole dataset."
   ]
  },
  {
   "cell_type": "code",
   "execution_count": 4,
   "metadata": {},
   "outputs": [
    {
     "name": "stdout",
     "output_type": "stream",
     "text": [
      "(1196, 119)\n",
      "Training set score: 0.889\n",
      "Test set score: 0.897\n",
      "(1196, 42)\n",
      "Training set score: 0.889\n",
      "Test set score: 0.897\n"
     ]
    }
   ],
   "source": [
    "#Computing initial accuracies without tuning\n",
    "data_train, data_test, target_train, target_test = train_test_split(raw_data, raw_target, test_size = 0.85, random_state = 0)\n",
    "scaler = Normalizer()\n",
    "scaler.fit(data_train)\n",
    "data_train = scaler.transform(data_train)\n",
    "data_test = scaler.transform(data_test)\n",
    "data_train = pd.DataFrame(data=data_train[0:,0:],\n",
    "                    index=[i for i in range(data_train.shape[0])],\n",
    "                    columns=['f'+str(i) for i in range(data_train.shape[1])])\n",
    "data_test = pd.DataFrame(data=data_test[0:,0:],\n",
    "                    index=[i for i in range(data_test.shape[0])],\n",
    "                    columns=['f'+str(i) for i in range(data_test.shape[1])])\n",
    "print(data_train.shape)\n",
    "logreg = LogisticRegression(C=0.01, max_iter=100)\n",
    "logreg.fit(data_train, target_train)\n",
    "print(\"Training set score: {:.3f}\".format(logreg.score(data_train, target_train))) \n",
    "print(\"Test set score: {:.3f}\".format(logreg.score(data_test, target_test)))\n",
    "\n",
    "#Select best features\n",
    "model = SelectFromModel(logreg, prefit=True)\n",
    "train_new = model.transform(data_train)\n",
    "print(train_new.shape)\n",
    "mask = model.get_support()\n",
    "A_set = data_train.columns[mask]\n",
    "\n",
    "#Creating new dataset with only wanted features and computing new accuracies\n",
    "gt = pd.read_csv('../dumps/2020.02.10-12.14.csv')\n",
    "data = gt[A_set]\n",
    "target = gt['label']\n",
    "data_train, data_test, target_train, target_test = train_test_split(data,target, test_size = 0.85, random_state = 0)\n",
    "scaler = Normalizer()\n",
    "scaler.fit(data_train)\n",
    "data_train = scaler.transform(data_train)\n",
    "data_test = scaler.transform(data_test)\n",
    "data_train = pd.DataFrame(data=data_train[0:,0:],\n",
    "                    index=[i for i in range(data_train.shape[0])],\n",
    "                    columns=['f'+str(i) for i in range(data_train.shape[1])])\n",
    "data_test = pd.DataFrame(data=data_test[0:,0:],\n",
    "                    index=[i for i in range(data_test.shape[0])],\n",
    "                    columns=['f'+str(i) for i in range(data_test.shape[1])])\n",
    "logreg.fit(data_train, target_train)\n",
    "print(\"Training set score: {:.3f}\".format(logreg.score(data_train, target_train))) \n",
    "print(\"Test set score: {:.3f}\".format(logreg.score(data_test, target_test)))"
   ]
  },
  {
   "cell_type": "markdown",
   "metadata": {},
   "source": [
    "We now increase the size of the training set."
   ]
  },
  {
   "cell_type": "code",
   "execution_count": 6,
   "metadata": {},
   "outputs": [
    {
     "name": "stdout",
     "output_type": "stream",
     "text": [
      "(2393, 119)\n",
      "Training set score: 0.901\n",
      "Test set score: 0.894\n",
      "(2393, 43)\n",
      "Training set score: 0.901\n",
      "Test set score: 0.894\n",
      "(2393, 42)\n",
      "Training set score: 0.901\n",
      "Test set score: 0.894\n"
     ]
    }
   ],
   "source": [
    "#Computing initial accuracies without tuning\n",
    "data_train, data_test, target_train, target_test = train_test_split(raw_data, raw_target, test_size = 0.70, random_state = 0)\n",
    "scaler = Normalizer()\n",
    "scaler.fit(data_train)\n",
    "data_train = scaler.transform(data_train)\n",
    "data_test = scaler.transform(data_test)\n",
    "data_train = pd.DataFrame(data=data_train[0:,0:],\n",
    "                    index=[i for i in range(data_train.shape[0])],\n",
    "                    columns=['f'+str(i) for i in range(data_train.shape[1])])\n",
    "data_test = pd.DataFrame(data=data_test[0:,0:],\n",
    "                    index=[i for i in range(data_test.shape[0])],\n",
    "                    columns=['f'+str(i) for i in range(data_test.shape[1])])\n",
    "print(data_train.shape)\n",
    "logreg = LogisticRegression(C=0.01, max_iter=100)\n",
    "logreg.fit(data_train, target_train)\n",
    "print(\"Training set score: {:.3f}\".format(logreg.score(data_train, target_train))) \n",
    "print(\"Test set score: {:.3f}\".format(logreg.score(data_test, target_test)))\n",
    "\n",
    "#Select best features\n",
    "model = SelectFromModel(logreg, prefit=True)\n",
    "train_new = model.transform(data_train)\n",
    "print(train_new.shape)\n",
    "mask = model.get_support()\n",
    "B_set = data_train.columns[mask]\n",
    "\n",
    "#Creating new dataset with only wanted features and computing new accuracies\n",
    "gt = pd.read_csv('../dumps/2020.02.10-12.14.csv')\n",
    "data = gt[B_set]\n",
    "target = gt['label']\n",
    "data_train, data_test, target_train, target_test = train_test_split(data,target, test_size = 0.70, random_state = 0)\n",
    "scaler = Normalizer()\n",
    "scaler.fit(data_train)\n",
    "data_train = scaler.transform(data_train)\n",
    "data_test = scaler.transform(data_test)\n",
    "data_train = pd.DataFrame(data=data_train[0:,0:],\n",
    "                    index=[i for i in range(data_train.shape[0])],\n",
    "                    columns=['f'+str(i) for i in range(data_train.shape[1])])\n",
    "data_test = pd.DataFrame(data=data_test[0:,0:],\n",
    "                    index=[i for i in range(data_test.shape[0])],\n",
    "                    columns=['f'+str(i) for i in range(data_test.shape[1])])\n",
    "logreg.fit(data_train, target_train)\n",
    "print(\"Training set score: {:.3f}\".format(logreg.score(data_train, target_train))) \n",
    "print(\"Test set score: {:.3f}\".format(logreg.score(data_test, target_test)))\n",
    "\n",
    "#Creating new dataset with A's best features and computing new accuracies\n",
    "gt = pd.read_csv('../dumps/2020.02.10-12.14.csv')\n",
    "data = gt[A_set]\n",
    "target = gt['label']\n",
    "data_train, data_test, target_train, target_test = train_test_split(data,target, test_size = 0.70, random_state = 0)\n",
    "scaler = Normalizer()\n",
    "scaler.fit(data_train)\n",
    "data_train = scaler.transform(data_train)\n",
    "data_test = scaler.transform(data_test)\n",
    "data_train = pd.DataFrame(data=data_train[0:,0:],\n",
    "                    index=[i for i in range(data_train.shape[0])],\n",
    "                    columns=['f'+str(i) for i in range(data_train.shape[1])])\n",
    "data_test = pd.DataFrame(data=data_test[0:,0:],\n",
    "                    index=[i for i in range(data_test.shape[0])],\n",
    "                    columns=['f'+str(i) for i in range(data_test.shape[1])])\n",
    "print(data_train.shape)\n",
    "logreg.fit(data_train, target_train)\n",
    "print(\"Training set score: {:.3f}\".format(logreg.score(data_train, target_train))) \n",
    "print(\"Test set score: {:.3f}\".format(logreg.score(data_test, target_test)))\n",
    "\n",
    "#Intersection of two subsets with the best features\n",
    "C_set = [value for value in B_set if value in A_set]"
   ]
  },
  {
   "cell_type": "markdown",
   "metadata": {},
   "source": [
    "We now carry on repeating the same process : increasing the training set, finding the best features and the intersection with the previous set until convergence."
   ]
  },
  {
   "cell_type": "code",
   "execution_count": 13,
   "metadata": {
    "scrolled": false
   },
   "outputs": [
    {
     "name": "stdout",
     "output_type": "stream",
     "text": [
      "0.15\n",
      "(1196, 119)\n",
      "(1196, 42)\n",
      "0.3\n",
      "(2393, 119)\n",
      "(2393, 43)\n",
      "30\n",
      "0.44999999999999996\n",
      "(3589, 119)\n",
      "(3589, 39)\n",
      "21\n",
      "0.6\n",
      "(4786, 119)\n",
      "(4786, 38)\n",
      "16\n",
      "0.75\n",
      "(5982, 119)\n",
      "(5982, 38)\n",
      "13\n",
      "0.9\n",
      "(7179, 119)\n",
      "(7179, 34)\n",
      "10\n"
     ]
    },
    {
     "data": {
      "image/png": "[encoded data removed]",
      "text/plain": [
       "<Figure size 432x288 with 1 Axes>"
      ]
     },
     "metadata": {
      "needs_background": "light"
     },
     "output_type": "display_data"
    },
    {
     "name": "stdout",
     "output_type": "stream",
     "text": [
      "Training max value : 0.9013790221479314\n",
      "Test max value : 0.9197994987468672\n"
     ]
    },
    {
     "data": {
      "image/png": "[encoded data removed]",
      "text/plain": [
       "<Figure size 432x288 with 1 Axes>"
      ]
     },
     "metadata": {
      "needs_background": "light"
     },
     "output_type": "display_data"
    },
    {
     "name": "stdout",
     "output_type": "stream",
     "text": [
      "Training max value : 0.9013790221479314\n",
      "Test max value : 0.9197994987468672\n"
     ]
    },
    {
     "data": {
      "image/png": "[encoded data removed]",
      "text/plain": [
       "<Figure size 432x288 with 1 Axes>"
      ]
     },
     "metadata": {
      "needs_background": "light"
     },
     "output_type": "display_data"
    },
    {
     "name": "stdout",
     "output_type": "stream",
     "text": [
      "Training max value : 0.9013790221479314\n",
      "Test max value : 0.9197994987468672\n"
     ]
    }
   ],
   "source": [
    "feature_selection('../dumps/2020.02.10-12.14.csv', 0.15, \"log\")"
   ]
  },
  {
   "cell_type": "markdown",
   "metadata": {},
   "source": [
    "All results are the same, which means that the model can definitely be reduced to a few number of features."
   ]
  },
  {
   "cell_type": "markdown",
   "metadata": {},
   "source": [
    "Let's, once more, try the feature extraction on a dataset of 14K samples and see how the performances are impacted."
   ]
  },
  {
   "cell_type": "code",
   "execution_count": 14,
   "metadata": {},
   "outputs": [
    {
     "name": "stdout",
     "output_type": "stream",
     "text": [
      "0.15\n",
      "(2205, 119)\n",
      "(2205, 8)\n",
      "0.3\n",
      "(4410, 119)\n",
      "(4410, 9)\n",
      "8\n",
      "0.44999999999999996\n",
      "(6616, 119)\n",
      "(6616, 9)\n",
      "8\n",
      "0.6\n",
      "(8821, 119)\n",
      "(8821, 9)\n",
      "8\n",
      "0.75\n",
      "(11027, 119)\n",
      "(11027, 9)\n",
      "8\n",
      "0.9\n",
      "(13232, 119)\n",
      "(13232, 9)\n",
      "8\n"
     ]
    },
    {
     "data": {
      "image/png": "[encoded data removed]",
      "text/plain": [
       "<Figure size 432x288 with 1 Axes>"
      ]
     },
     "metadata": {
      "needs_background": "light"
     },
     "output_type": "display_data"
    },
    {
     "name": "stdout",
     "output_type": "stream",
     "text": [
      "Training max value : 0.8657596371882086\n",
      "Test max value : 0.8796736913664174\n"
     ]
    },
    {
     "data": {
      "image/png": "[encoded data removed]",
      "text/plain": [
       "<Figure size 432x288 with 1 Axes>"
      ]
     },
     "metadata": {
      "needs_background": "light"
     },
     "output_type": "display_data"
    },
    {
     "name": "stdout",
     "output_type": "stream",
     "text": [
      "Training max value : 0.8657596371882086\n",
      "Test max value : 0.8796736913664174\n"
     ]
    },
    {
     "data": {
      "image/png": "[encoded data removed]",
      "text/plain": [
       "<Figure size 432x288 with 1 Axes>"
      ]
     },
     "metadata": {
      "needs_background": "light"
     },
     "output_type": "display_data"
    },
    {
     "name": "stdout",
     "output_type": "stream",
     "text": [
      "Training max value : 0.8657596371882086\n",
      "Test max value : 0.8796736913664174\n"
     ]
    }
   ],
   "source": [
    "feature_selection('../dumps/2020.03.11-17.39.csv',0.15,\"log\")"
   ]
  },
  {
   "cell_type": "markdown",
   "metadata": {},
   "source": [
    "We can observe that after the first iteration and until the end, the 8 same features are always selected for the last case. Once again, since all values are the same, we can conclude than our model doesn't need more than 8 features in order to be efficient."
   ]
  },
  {
   "cell_type": "markdown",
   "metadata": {},
   "source": [
    "## Linear SVC"
   ]
  },
  {
   "cell_type": "markdown",
   "metadata": {},
   "source": [
    "### First test"
   ]
  },
  {
   "cell_type": "markdown",
   "metadata": {},
   "source": [
    "Same procedure as done before with logistic regression where a first test is made with C value set to 1, 100 and 0.01."
   ]
  },
  {
   "cell_type": "code",
   "execution_count": 52,
   "metadata": {},
   "outputs": [],
   "source": [
    "gt = pd.read_csv('../dumps/2020.01.13-14.25.csv')\n",
    "cols = [col for col in gt.columns if col not in ['label']]\n",
    "data = gt[cols]\n",
    "target = gt['label']\n",
    "\n",
    "data_train, data_test, target_train, target_test = train_test_split(data,target, test_size = 0.20, random_state = 0)\n",
    "scaler = Normalizer()\n",
    "scaler.fit(data_train)\n",
    "data_train = scaler.transform(data_train)\n",
    "data_test = scaler.transform(data_test)"
   ]
  },
  {
   "cell_type": "code",
   "execution_count": 53,
   "metadata": {},
   "outputs": [
    {
     "name": "stdout",
     "output_type": "stream",
     "text": [
      "Training set score: 0.829\n",
      "Test set score: 0.794\n"
     ]
    }
   ],
   "source": [
    "linsvc = LinearSVC(max_iter=100000).fit(data_train, target_train)\n",
    "print(\"Training set score: {:.3f}\".format(linsvc.score(data_train, target_train))) \n",
    "print(\"Test set score: {:.3f}\".format(linsvc.score(data_test, target_test)))"
   ]
  },
  {
   "cell_type": "code",
   "execution_count": 54,
   "metadata": {},
   "outputs": [
    {
     "name": "stdout",
     "output_type": "stream",
     "text": [
      "Training set score: 0.840\n",
      "Test set score: 0.774\n"
     ]
    }
   ],
   "source": [
    "linsvc100 = LinearSVC(C=100,max_iter=100000).fit(data_train, target_train)\n",
    "print(\"Training set score: {:.3f}\".format(linsvc100.score(data_train, target_train))) \n",
    "print(\"Test set score: {:.3f}\".format(linsvc100.score(data_test, target_test)))"
   ]
  },
  {
   "cell_type": "code",
   "execution_count": 55,
   "metadata": {},
   "outputs": [
    {
     "name": "stdout",
     "output_type": "stream",
     "text": [
      "Training set score: 0.815\n",
      "Test set score: 0.809\n"
     ]
    }
   ],
   "source": [
    "linsvc001 = LinearSVC(C=0.01,max_iter=100000).fit(data_train, target_train)\n",
    "print(\"Training set score: {:.3f}\".format(linsvc001.score(data_train, target_train))) \n",
    "print(\"Test set score: {:.3f}\".format(linsvc001.score(data_test, target_test)))"
   ]
  },
  {
   "cell_type": "markdown",
   "metadata": {},
   "source": [
    "Results are quite similar to the ones we got with Logistic Regression, maybe even worse regarding the test set."
   ]
  },
  {
   "cell_type": "markdown",
   "metadata": {},
   "source": [
    "### Further tests"
   ]
  },
  {
   "cell_type": "markdown",
   "metadata": {},
   "source": [
    "### Regularization parameter"
   ]
  },
  {
   "cell_type": "code",
   "execution_count": 56,
   "metadata": {},
   "outputs": [
    {
     "data": {
      "image/png": "[encoded data removed]",
      "text/plain": [
       "<Figure size 432x288 with 1 Axes>"
      ]
     },
     "metadata": {
      "needs_background": "light"
     },
     "output_type": "display_data"
    }
   ],
   "source": [
    "display_plot_svc('../dumps/2020.02.10-12.14.csv',0.20,1,100)"
   ]
  },
  {
   "cell_type": "markdown",
   "metadata": {},
   "source": [
    "Same conclusion as with the previous Linear Regression."
   ]
  },
  {
   "cell_type": "markdown",
   "metadata": {},
   "source": [
    "### Best match"
   ]
  },
  {
   "cell_type": "code",
   "execution_count": 10,
   "metadata": {},
   "outputs": [],
   "source": [
    "gt = pd.read_csv('../dumps/2020.02.10-12.14.csv')\n",
    "cols = [col for col in gt.columns if col not in ['label']]\n",
    "data = gt[cols]\n",
    "target = gt['label']\n",
    "data_train, data_test, target_train, target_test = train_test_split(data,target, test_size = 0.20, random_state = 0)\n",
    "scaler = Normalizer()\n",
    "scaler.fit(data_train)\n",
    "data_train = scaler.transform(data_train)\n",
    "data_test = scaler.transform(data_test)"
   ]
  },
  {
   "cell_type": "code",
   "execution_count": 11,
   "metadata": {},
   "outputs": [
    {
     "name": "stdout",
     "output_type": "stream",
     "text": [
      "0.8948440683278484\n",
      "{'C': 0.01, 'max_iter': 100}\n",
      "0.900375939849624\n",
      "{'C': 0.01, 'max_iter': 100}\n"
     ]
    }
   ],
   "source": [
    "parameters = {'C': [0.01,0.1, 1, 10, 100], 'max_iter':[100,1000,10000]}\n",
    "clf = GridSearchCV(LinearSVC(), parameters, n_jobs=-1)\n",
    "clf.fit(data_train, target_train)\n",
    "print(clf.score(data_train, target_train))\n",
    "print(clf.best_params_)\n",
    "print(clf.score(data_test, target_test))\n",
    "print(clf.best_params_)"
   ]
  },
  {
   "cell_type": "code",
   "execution_count": 12,
   "metadata": {},
   "outputs": [
    {
     "name": "stdout",
     "output_type": "stream",
     "text": [
      "0.8948440683278484\n",
      "{'max_iter': 10000, 'C': 100}\n",
      "0.900375939849624\n",
      "{'max_iter': 10000, 'C': 100}\n"
     ]
    }
   ],
   "source": [
    "parameters = {'C': [0.01,0.1, 1, 10, 100], 'max_iter':[100,1000,10000]}\n",
    "clf = RandomizedSearchCV(LinearSVC(), parameters, n_jobs=-1)\n",
    "clf.fit(data_train, target_train)\n",
    "print(clf.score(data_train, target_train))\n",
    "print(clf.best_params_)\n",
    "print(clf.score(data_test, target_test))\n",
    "print(clf.best_params_)"
   ]
  },
  {
   "cell_type": "code",
   "execution_count": 14,
   "metadata": {},
   "outputs": [
    {
     "name": "stdout",
     "output_type": "stream",
     "text": [
      "Training set score: 0.895\n",
      "Test set score: 0.900\n"
     ]
    }
   ],
   "source": [
    "svc = LinearSVC(C=0.01, max_iter=10000,random_state=0)\n",
    "svc.fit(data_train, target_train)\n",
    "print(\"Training set score: {:.3f}\".format(svc.score(data_train, target_train))) \n",
    "print(\"Test set score: {:.3f}\".format(svc.score(data_test, target_test)))"
   ]
  },
  {
   "cell_type": "markdown",
   "metadata": {},
   "source": [
    "### Comparison between different kind of datasets"
   ]
  },
  {
   "cell_type": "code",
   "execution_count": 15,
   "metadata": {},
   "outputs": [
    {
     "name": "stdout",
     "output_type": "stream",
     "text": [
      "Accuracy on training set: 0.901\n",
      "Accuracy on test set: 0.897\n"
     ]
    }
   ],
   "source": [
    "perf('../dumps/control_8000_false_3.csv','svc',False)"
   ]
  },
  {
   "cell_type": "markdown",
   "metadata": {},
   "source": [
    "#### Different thresholds"
   ]
  },
  {
   "cell_type": "code",
   "execution_count": 16,
   "metadata": {},
   "outputs": [
    {
     "name": "stdout",
     "output_type": "stream",
     "text": [
      "Accuracy on training set: 0.785\n",
      "Accuracy on test set: 0.773\n"
     ]
    }
   ],
   "source": [
    "perf('../dumps/default_1.csv','svc',False)"
   ]
  },
  {
   "cell_type": "code",
   "execution_count": 17,
   "metadata": {},
   "outputs": [
    {
     "name": "stdout",
     "output_type": "stream",
     "text": [
      "Accuracy on training set: 0.854\n",
      "Accuracy on test set: 0.843\n"
     ]
    }
   ],
   "source": [
    "perf('../dumps/default_2.csv','svc',False)"
   ]
  },
  {
   "cell_type": "code",
   "execution_count": 18,
   "metadata": {},
   "outputs": [
    {
     "name": "stdout",
     "output_type": "stream",
     "text": [
      "Accuracy on training set: 0.943\n",
      "Accuracy on test set: 0.948\n"
     ]
    }
   ],
   "source": [
    "perf('../dumps/default_4.csv','svc',False)"
   ]
  },
  {
   "cell_type": "code",
   "execution_count": 19,
   "metadata": {},
   "outputs": [
    {
     "name": "stdout",
     "output_type": "stream",
     "text": [
      "Accuracy on training set: 0.943\n",
      "Accuracy on test set: 0.948\n"
     ]
    }
   ],
   "source": [
    "perf('../dumps/default_5.csv','svc',False)"
   ]
  },
  {
   "cell_type": "markdown",
   "metadata": {},
   "source": [
    "#### Errors considered as positive result from detector"
   ]
  },
  {
   "cell_type": "code",
   "execution_count": 20,
   "metadata": {},
   "outputs": [
    {
     "name": "stdout",
     "output_type": "stream",
     "text": [
      "Accuracy on training set: 0.989\n",
      "Accuracy on test set: 0.981\n"
     ]
    }
   ],
   "source": [
    "perf('../dumps/error_as_packed.csv','gradient',False)"
   ]
  },
  {
   "cell_type": "markdown",
   "metadata": {},
   "source": [
    "#### Check influence of each detector"
   ]
  },
  {
   "cell_type": "code",
   "execution_count": 22,
   "metadata": {},
   "outputs": [
    {
     "name": "stdout",
     "output_type": "stream",
     "text": [
      "Accuracy on training set: 0.928\n",
      "Accuracy on test set: 0.929\n"
     ]
    }
   ],
   "source": [
    "perf('../dumps/not_die.csv','svc',False)"
   ]
  },
  {
   "cell_type": "code",
   "execution_count": 23,
   "metadata": {},
   "outputs": [
    {
     "name": "stdout",
     "output_type": "stream",
     "text": [
      "Accuracy on training set: 0.918\n",
      "Accuracy on test set: 0.918\n"
     ]
    }
   ],
   "source": [
    "perf('../dumps/not_cisco.csv','svc',False)"
   ]
  },
  {
   "cell_type": "code",
   "execution_count": 24,
   "metadata": {},
   "outputs": [
    {
     "name": "stdout",
     "output_type": "stream",
     "text": [
      "Accuracy on training set: 0.941\n",
      "Accuracy on test set: 0.946\n"
     ]
    }
   ],
   "source": [
    "perf('../dumps/not_manalyze.csv','svc',False)"
   ]
  },
  {
   "cell_type": "code",
   "execution_count": 25,
   "metadata": {},
   "outputs": [
    {
     "name": "stdout",
     "output_type": "stream",
     "text": [
      "Accuracy on training set: 0.943\n",
      "Accuracy on test set: 0.948\n"
     ]
    }
   ],
   "source": [
    "perf('../dumps/not_peid.csv','svc',False)"
   ]
  },
  {
   "cell_type": "code",
   "execution_count": 26,
   "metadata": {},
   "outputs": [
    {
     "name": "stdout",
     "output_type": "stream",
     "text": [
      "Accuracy on training set: 0.943\n",
      "Accuracy on test set: 0.947\n"
     ]
    }
   ],
   "source": [
    "perf('../dumps/not_peframe.csv','svc',False)"
   ]
  },
  {
   "cell_type": "markdown",
   "metadata": {},
   "source": [
    "#### Only boolean values"
   ]
  },
  {
   "cell_type": "code",
   "execution_count": 3,
   "metadata": {},
   "outputs": [
    {
     "name": "stdout",
     "output_type": "stream",
     "text": [
      "Most important : \n",
      "\n",
      "Accuracy on training set: 0.966\n",
      "Accuracy on test set: 0.964\n",
      "---------------\n",
      "\n",
      "All features : \n",
      "\n",
      "Accuracy on training set: 0.971\n",
      "Accuracy on test set: 0.973\n"
     ]
    }
   ],
   "source": [
    "perf('../dumps/control_8000_false_3.csv','svc',True)"
   ]
  },
  {
   "cell_type": "markdown",
   "metadata": {},
   "source": [
    "### Features relevance"
   ]
  },
  {
   "cell_type": "markdown",
   "metadata": {},
   "source": [
    "See LinearRegression in order to understand which processus we follow to generate the values."
   ]
  },
  {
   "cell_type": "code",
   "execution_count": 27,
   "metadata": {
    "scrolled": false
   },
   "outputs": [
    {
     "name": "stdout",
     "output_type": "stream",
     "text": [
      "0.15\n",
      "(1196, 119)\n",
      "(1196, 47)\n",
      "0.3\n",
      "(2393, 119)\n",
      "(2393, 51)\n",
      "34\n",
      "0.44999999999999996\n",
      "(3589, 119)\n",
      "(3589, 51)\n",
      "23\n",
      "0.6\n",
      "(4786, 119)\n",
      "(4786, 47)\n",
      "18\n",
      "0.75\n",
      "(5982, 119)\n",
      "(5982, 53)\n",
      "14\n",
      "0.9\n",
      "(7179, 119)\n",
      "(7179, 41)\n",
      "10\n"
     ]
    },
    {
     "data": {
      "image/png": "[encoded data removed]",
      "text/plain": [
       "<Figure size 432x288 with 1 Axes>"
      ]
     },
     "metadata": {
      "needs_background": "light"
     },
     "output_type": "display_data"
    },
    {
     "name": "stdout",
     "output_type": "stream",
     "text": [
      "Training max value : 0.9013790221479314\n",
      "Test max value : 0.9197994987468672\n"
     ]
    },
    {
     "data": {
      "image/png": "[encoded data removed]",
      "text/plain": [
       "<Figure size 432x288 with 1 Axes>"
      ]
     },
     "metadata": {
      "needs_background": "light"
     },
     "output_type": "display_data"
    },
    {
     "name": "stdout",
     "output_type": "stream",
     "text": [
      "Training max value : 0.9013790221479314\n",
      "Test max value : 0.9197994987468672\n"
     ]
    },
    {
     "data": {
      "image/png": "[encoded data removed]",
      "text/plain": [
       "<Figure size 432x288 with 1 Axes>"
      ]
     },
     "metadata": {
      "needs_background": "light"
     },
     "output_type": "display_data"
    },
    {
     "name": "stdout",
     "output_type": "stream",
     "text": [
      "Training max value : 0.9013790221479314\n",
      "Test max value : 0.9197994987468672\n"
     ]
    }
   ],
   "source": [
    "feature_selection('../dumps/2020.02.10-12.14.csv', 0.15, \"svc\")"
   ]
  },
  {
   "cell_type": "markdown",
   "metadata": {},
   "source": [
    "The results here are different that the other linear algorithm. We have multiple drops at different intervals and the best value we get is when considering the intersection of all the best features."
   ]
  },
  {
   "cell_type": "markdown",
   "metadata": {},
   "source": [
    "Let's also test with the bigger dataset of 14k samples."
   ]
  },
  {
   "cell_type": "code",
   "execution_count": 28,
   "metadata": {
    "scrolled": false
   },
   "outputs": [
    {
     "name": "stdout",
     "output_type": "stream",
     "text": [
      "0.15\n",
      "(2205, 119)\n",
      "(2205, 8)\n",
      "0.3\n",
      "(4410, 119)\n",
      "(4410, 9)\n",
      "8\n",
      "0.44999999999999996\n",
      "(6616, 119)\n",
      "(6616, 9)\n",
      "8\n",
      "0.6\n",
      "(8821, 119)\n",
      "(8821, 9)\n",
      "8\n",
      "0.75\n",
      "(11027, 119)\n",
      "(11027, 9)\n",
      "8\n",
      "0.9\n",
      "(13232, 119)\n",
      "(13232, 7)\n",
      "6\n"
     ]
    },
    {
     "data": {
      "image/png": "[encoded data removed]",
      "text/plain": [
       "<Figure size 432x288 with 1 Axes>"
      ]
     },
     "metadata": {
      "needs_background": "light"
     },
     "output_type": "display_data"
    },
    {
     "name": "stdout",
     "output_type": "stream",
     "text": [
      "Training max value : 0.8657596371882086\n",
      "Test max value : 0.8810333106730116\n"
     ]
    },
    {
     "data": {
      "image/png": "[encoded data removed]",
      "text/plain": [
       "<Figure size 432x288 with 1 Axes>"
      ]
     },
     "metadata": {
      "needs_background": "light"
     },
     "output_type": "display_data"
    },
    {
     "name": "stdout",
     "output_type": "stream",
     "text": [
      "Training max value : 0.8657596371882086\n",
      "Test max value : 0.8810333106730116\n"
     ]
    },
    {
     "data": {
      "image/png": "[encoded data removed]",
      "text/plain": [
       "<Figure size 432x288 with 1 Axes>"
      ]
     },
     "metadata": {
      "needs_background": "light"
     },
     "output_type": "display_data"
    },
    {
     "name": "stdout",
     "output_type": "stream",
     "text": [
      "Training max value : 0.8657596371882086\n",
      "Test max value : 0.8810333106730116\n"
     ]
    }
   ],
   "source": [
    "feature_selection('../dumps/2020.03.11-17.39.csv',0.15,\"svc\")"
   ]
  },
  {
   "cell_type": "markdown",
   "metadata": {},
   "source": [
    "The conclusions are the same as the ones we infered from the previous regression except that here we reduced the number of features to 10 instead of 8."
   ]
  },
  {
   "cell_type": "markdown",
   "metadata": {},
   "source": [
    "### Test on Thomas datasets"
   ]
  },
  {
   "cell_type": "code",
   "execution_count": 31,
   "metadata": {},
   "outputs": [
    {
     "name": "stdout",
     "output_type": "stream",
     "text": [
      "Accuracy on training set: 0.785\n",
      "Accuracy on test set: 0.779\n"
     ]
    }
   ],
   "source": [
    "gt = pd.read_csv(\"../dumps/2019-08.Merged_thomas.csv\")\n",
    "cols = [col for col in gt.columns if col not in ['label']]\n",
    "data = gt[cols]\n",
    "target = gt['label']\n",
    "\n",
    "data_train, data_test, target_train, target_test = train_test_split(data,target, test_size = 0.20, random_state = 0)\n",
    "scaler = Normalizer()\n",
    "scaler.fit(data_train)\n",
    "data_train = scaler.transform(data_train)\n",
    "data_test = scaler.transform(data_test)\n",
    "\n",
    "tree = LogisticRegression(C=1, max_iter=10000,random_state=0)\n",
    "tree.fit(data_train, target_train)\n",
    "print(\"Accuracy on training set: {:.3f}\".format(tree.score(data_train, target_train))) \n",
    "print(\"Accuracy on test set: {:.3f}\".format(tree.score(data_test, target_test)))"
   ]
  },
  {
   "cell_type": "code",
   "execution_count": 32,
   "metadata": {},
   "outputs": [
    {
     "name": "stdout",
     "output_type": "stream",
     "text": [
      "Accuracy on training set: 0.800\n",
      "Accuracy on test set: 0.804\n"
     ]
    }
   ],
   "source": [
    "gt = pd.read_csv(\"../dumps/2019-09.Merged_thomas.csv\")\n",
    "cols = [col for col in gt.columns if col not in ['label']]\n",
    "data = gt[cols]\n",
    "target = gt['label']\n",
    "\n",
    "data_train, data_test, target_train, target_test = train_test_split(data,target, test_size = 0.20, random_state = 0)\n",
    "scaler = Normalizer()\n",
    "scaler.fit(data_train)\n",
    "data_train = scaler.transform(data_train)\n",
    "data_test = scaler.transform(data_test)\n",
    "\n",
    "tree = LogisticRegression(C=1, max_iter=10000,random_state=0)\n",
    "tree.fit(data_train, target_train)\n",
    "print(\"Accuracy on training set: {:.3f}\".format(tree.score(data_train, target_train))) \n",
    "print(\"Accuracy on test set: {:.3f}\".format(tree.score(data_test, target_test)))"
   ]
  },
  {
   "cell_type": "code",
   "execution_count": 36,
   "metadata": {},
   "outputs": [
    {
     "name": "stdout",
     "output_type": "stream",
     "text": [
      "Accuracy on training set: 0.783\n",
      "Accuracy on test set: 0.776\n"
     ]
    }
   ],
   "source": [
    "gt = pd.read_csv(\"../dumps/2019-08.Merged_thomas.csv\")\n",
    "cols = [col for col in gt.columns if col not in ['label']]\n",
    "data = gt[cols]\n",
    "target = gt['label']\n",
    "\n",
    "data_train, data_test, target_train, target_test = train_test_split(data,target, test_size = 0.20, random_state = 0)\n",
    "scaler = Normalizer()\n",
    "scaler.fit(data_train)\n",
    "data_train = scaler.transform(data_train)\n",
    "data_test = scaler.transform(data_test)\n",
    "\n",
    "tree = LinearSVC(C=0.1, max_iter=10000,random_state=0)\n",
    "tree.fit(data_train, target_train)\n",
    "print(\"Accuracy on training set: {:.3f}\".format(tree.score(data_train, target_train))) \n",
    "print(\"Accuracy on test set: {:.3f}\".format(tree.score(data_test, target_test)))"
   ]
  },
  {
   "cell_type": "code",
   "execution_count": 35,
   "metadata": {},
   "outputs": [
    {
     "name": "stdout",
     "output_type": "stream",
     "text": [
      "Accuracy on training set: 0.795\n",
      "Accuracy on test set: 0.800\n"
     ]
    }
   ],
   "source": [
    "gt = pd.read_csv(\"../dumps/2019-09.Merged_thomas.csv\")\n",
    "cols = [col for col in gt.columns if col not in ['label']]\n",
    "data = gt[cols]\n",
    "target = gt['label']\n",
    "\n",
    "data_train, data_test, target_train, target_test = train_test_split(data,target, test_size = 0.20, random_state = 0)\n",
    "scaler = Normalizer()\n",
    "scaler.fit(data_train)\n",
    "data_train = scaler.transform(data_train)\n",
    "data_test = scaler.transform(data_test)\n",
    "\n",
    "tree = LinearSVC(C=0.1, max_iter=10000,random_state=0)\n",
    "tree.fit(data_train, target_train)\n",
    "print(\"Accuracy on training set: {:.3f}\".format(tree.score(data_train, target_train))) \n",
    "print(\"Accuracy on test set: {:.3f}\".format(tree.score(data_test, target_test)))"
   ]
  },
  {
   "cell_type": "markdown",
   "metadata": {},
   "source": [
    "### PCA"
   ]
  },
  {
   "cell_type": "markdown",
   "metadata": {},
   "source": [
    "Let's see if we can make some clustering with the features in order to save time while slightly decreasing the accuracies for the two linear models."
   ]
  },
  {
   "cell_type": "code",
   "execution_count": 45,
   "metadata": {},
   "outputs": [
    {
     "name": "stdout",
     "output_type": "stream",
     "text": [
      "  Variance    Training acc    Test acc    Components    Time (s)\n",
      "----------  --------------  ----------  ------------  ----------\n",
      "      1           0.982316    0.977219           119    0.209617\n",
      "      0.99        0.981721    0.977219            98    0.207728\n",
      "      0.95        0.980956    0.974498            77    0.187958\n",
      "      0.9         0.978065    0.973138            60    0.178824\n",
      "      0.85        0.976024    0.970078            47    0.171602\n"
     ]
    }
   ],
   "source": [
    "PCA_reduction('../dumps/2020.03.11-17.39.csv','log')"
   ]
  },
  {
   "cell_type": "code",
   "execution_count": 49,
   "metadata": {},
   "outputs": [
    {
     "name": "stdout",
     "output_type": "stream",
     "text": [
      "  Variance    Training acc    Test acc    Components    Time (s)\n",
      "----------  --------------  ----------  ------------  ----------\n",
      "      1           0.982656    0.977899           119    1.24748\n",
      "      0.99        0.981211    0.975859            98    0.955132\n",
      "      0.95        0.981296    0.973478            77    1.25268\n",
      "      0.9         0.977895    0.973478            60    1.28197\n",
      "      0.85        0.976195    0.972458            47    2.32675\n"
     ]
    }
   ],
   "source": [
    "PCA_reduction('../dumps/2020.03.11-17.39.csv','svc')"
   ]
  },
  {
   "cell_type": "markdown",
   "metadata": {},
   "source": [
    "Interesting to notice that in the case of the LogReg, accuracies are reduced but we save time while for the LinearSVC gathering features decreases the performances and is more time consuming."
   ]
  },
  {
   "cell_type": "markdown",
   "metadata": {},
   "source": [
    "### Time fiability"
   ]
  },
  {
   "cell_type": "markdown",
   "metadata": {},
   "source": [
    "#### Logistic Regression"
   ]
  },
  {
   "cell_type": "code",
   "execution_count": 5,
   "metadata": {},
   "outputs": [
    {
     "data": {
      "text/plain": [
       "['snapshots/logreg_default_20190615_6000.joblib']"
      ]
     },
     "execution_count": 5,
     "metadata": {},
     "output_type": "execute_result"
    }
   ],
   "source": [
    "gt = pd.read_csv(\"../dumps/default_20190615_6000.csv\")\n",
    "cols = [col for col in gt.columns if col not in ['label']]\n",
    "data_train = gt[cols]\n",
    "target_train = gt['label']\n",
    "\n",
    "scaler = Normalizer()\n",
    "scaler.fit(data_train)\n",
    "data_train = scaler.transform(data_train)\n",
    "\n",
    "tree = LogisticRegression(C=0.01, max_iter=100,random_state=0)\n",
    "tree.fit(data_train, target_train)\n",
    "dump(tree,\"snapshots/logreg_default_20190615_6000.joblib\")"
   ]
  },
  {
   "cell_type": "code",
   "execution_count": 6,
   "metadata": {},
   "outputs": [
    {
     "name": "stdout",
     "output_type": "stream",
     "text": [
      "Accuracy on training set: 0.905\n",
      "Accuracy on test set: 0.896\n"
     ]
    }
   ],
   "source": [
    "tree = load(\"snapshots/logreg_default_20190615_6000.joblib\")\n",
    "\n",
    "gt = pd.read_csv(\"../dumps/default_20190808_1000.csv\")\n",
    "cols = [col for col in gt.columns if col not in ['label']]\n",
    "data_test = gt[cols]\n",
    "target_test = gt['label']\n",
    "\n",
    "data_test = scaler.transform(data_test)\n",
    "\n",
    "print(\"Accuracy on training set: {:.3f}\".format(tree.score(data_train, target_train))) \n",
    "print(\"Accuracy on test set: {:.3f}\".format(tree.score(data_test, target_test)))"
   ]
  },
  {
   "cell_type": "markdown",
   "metadata": {},
   "source": [
    "#### Linear SVC"
   ]
  },
  {
   "cell_type": "code",
   "execution_count": 3,
   "metadata": {},
   "outputs": [
    {
     "data": {
      "text/plain": [
       "['snapshots/svc_default_20190615_6000.joblib']"
      ]
     },
     "execution_count": 3,
     "metadata": {},
     "output_type": "execute_result"
    }
   ],
   "source": [
    "gt = pd.read_csv(\"../dumps/default_20190615_6000.csv\")\n",
    "cols = [col for col in gt.columns if col not in ['label']]\n",
    "data_train = gt[cols]\n",
    "target_train = gt['label']\n",
    "\n",
    "scaler = Normalizer()\n",
    "scaler.fit(data_train)\n",
    "data_train = scaler.transform(data_train)\n",
    "\n",
    "tree = LinearSVC(C=0.01, max_iter=10000,random_state=0)\n",
    "tree.fit(data_train, target_train)\n",
    "dump(tree,\"snapshots/svc_default_20190615_6000.joblib\")"
   ]
  },
  {
   "cell_type": "code",
   "execution_count": 4,
   "metadata": {},
   "outputs": [
    {
     "name": "stdout",
     "output_type": "stream",
     "text": [
      "Accuracy on training set: 0.906\n",
      "Accuracy on test set: 0.896\n"
     ]
    }
   ],
   "source": [
    "tree = load(\"snapshots/svc_default_20190615_6000.joblib\")\n",
    "\n",
    "gt = pd.read_csv(\"../dumps/default_20190808_1000.csv\")\n",
    "cols = [col for col in gt.columns if col not in ['label']]\n",
    "data_test = gt[cols]\n",
    "target_test = gt['label']\n",
    "\n",
    "data_test = scaler.transform(data_test)\n",
    "\n",
    "print(\"Accuracy on training set: {:.3f}\".format(tree.score(data_train, target_train))) \n",
    "print(\"Accuracy on test set: {:.3f}\".format(tree.score(data_test, target_test)))"
   ]
  },
  {
   "cell_type": "markdown",
   "metadata": {},
   "source": [
    "Conclusion (for both classifiers) : time does clearly impact on the learning of these two classifiers. We observe a drop of performance of around 10% which is quite significant."
   ]
  },
  {
   "cell_type": "markdown",
   "metadata": {},
   "source": [
    "#### Long run"
   ]
  },
  {
   "cell_type": "code",
   "execution_count": 2,
   "metadata": {},
   "outputs": [
    {
     "name": "stdout",
     "output_type": "stream",
     "text": [
      "Acceptation threshold : 1/5 \n",
      "\n",
      "  # malwares in training set    Approx. period in weeks    Training acc    Test acc\n",
      "----------------------------  -------------------------  --------------  ----------\n",
      "                        6000                   0.857143        0.7965         0.691\n",
      "                       14000                   2               0.782857       0.691\n",
      "                       21000                   3               0.754286       0.691\n",
      "                       31000                   4.42857         0.690194       0.695\n",
      "Acceptation threshold : 2/5 \n",
      "\n",
      "  # malwares in training set    Approx. period in weeks    Training acc    Test acc\n",
      "----------------------------  -------------------------  --------------  ----------\n",
      "                        6000                   0.857143        0.868833       0.855\n",
      "                       14000                   2               0.856286       0.855\n",
      "                       21000                   3               0.827905       0.855\n",
      "                       31000                   4.42857         0.760935       0.855\n",
      "Acceptation threshold : default/5 \n",
      "\n",
      "  # malwares in training set    Approx. period in weeks    Training acc    Test acc\n",
      "----------------------------  -------------------------  --------------  ----------\n",
      "                        6000                   0.857143        0.905333       0.896\n",
      "                       14000                   2               0.902714       0.896\n",
      "                       21000                   3               0.889619       0.896\n",
      "                       31000                   4.42857         0.882935       0.896\n",
      "Acceptation threshold : 4/5 \n",
      "\n",
      "  # malwares in training set    Approx. period in weeks    Training acc    Test acc\n",
      "----------------------------  -------------------------  --------------  ----------\n",
      "                        6000                   0.857143        0.953167        0.94\n",
      "                       14000                   2               0.947786        0.94\n",
      "                       21000                   3               0.938952        0.94\n",
      "                       31000                   4.42857         0.938935        0.94\n",
      "Acceptation threshold : 5/5 \n",
      "\n",
      "  # malwares in training set    Approx. period in weeks    Training acc    Test acc\n",
      "----------------------------  -------------------------  --------------  ----------\n",
      "                        6000                   0.857143        0.953167        0.94\n",
      "                       14000                   2               0.947786        0.94\n",
      "                       21000                   3               0.938952        0.94\n",
      "                       31000                   4.42857         0.938935        0.94\n"
     ]
    }
   ],
   "source": [
    "time_comparison('log')"
   ]
  },
  {
   "cell_type": "code",
   "execution_count": 3,
   "metadata": {},
   "outputs": [
    {
     "name": "stdout",
     "output_type": "stream",
     "text": [
      "Acceptation threshold : 1/5 \n",
      "\n",
      "  # malwares in training set    Approx. period in weeks    Training acc    Test acc\n",
      "----------------------------  -------------------------  --------------  ----------\n",
      "                        6000                   0.857143        0.797667       0.695\n",
      "                       14000                   2               0.784643       0.697\n",
      "                       21000                   3               0.761238       0.701\n",
      "                       31000                   4.42857         0.717935       0.711\n",
      "Acceptation threshold : 2/5 \n",
      "\n",
      "  # malwares in training set    Approx. period in weeks    Training acc    Test acc\n",
      "----------------------------  -------------------------  --------------  ----------\n",
      "                        6000                   0.857143        0.869167       0.855\n",
      "                       14000                   2               0.857286       0.853\n",
      "                       21000                   3               0.829905       0.855\n",
      "                       31000                   4.42857         0.776742       0.87\n",
      "Acceptation threshold : default/5 \n",
      "\n",
      "  # malwares in training set    Approx. period in weeks    Training acc    Test acc\n",
      "----------------------------  -------------------------  --------------  ----------\n",
      "                        6000                   0.857143        0.905667       0.896\n",
      "                       14000                   2               0.903643       0.892\n",
      "                       21000                   3               0.890857       0.892\n",
      "                       31000                   4.42857         0.88371        0.893\n",
      "Acceptation threshold : 4/5 \n",
      "\n",
      "  # malwares in training set    Approx. period in weeks    Training acc    Test acc\n",
      "----------------------------  -------------------------  --------------  ----------\n",
      "                        6000                   0.857143        0.953167        0.94\n",
      "                       14000                   2               0.947786        0.94\n",
      "                       21000                   3               0.938952        0.94\n",
      "                       31000                   4.42857         0.938935        0.94\n",
      "Acceptation threshold : 5/5 \n",
      "\n",
      "  # malwares in training set    Approx. period in weeks    Training acc    Test acc\n",
      "----------------------------  -------------------------  --------------  ----------\n",
      "                        6000                   0.857143        0.953167        0.94\n",
      "                       14000                   2               0.947786        0.94\n",
      "                       21000                   3               0.938952        0.94\n",
      "                       31000                   4.42857         0.938935        0.94\n"
     ]
    }
   ],
   "source": [
    "time_comparison('svc')"
   ]
  },
  {
   "cell_type": "markdown",
   "metadata": {},
   "source": [
    "Increase the size of the training set doesn't improve the accuracies, it either stagnates or even decreases a bit. It's probably because the classifiers learn more informations that are spread around a lot of different values and therefore have more trouble to come out with good weights."
   ]
  },
  {
   "cell_type": "code",
   "execution_count": null,
   "metadata": {},
   "outputs": [],
   "source": []
  }
 ],
 "metadata": {
  "kernelspec": {
   "display_name": "Python 3",
   "language": "python",
   "name": "python3"
  },
  "language_info": {
   "codemirror_mode": {
    "name": "ipython",
    "version": 3
   },
   "file_extension": ".py",
   "mimetype": "text/x-python",
   "name": "python",
   "nbconvert_exporter": "python",
   "pygments_lexer": "ipython3",
   "version": "3.7.7"
  }
 },
 "nbformat": 4,
 "nbformat_minor": 2
}
