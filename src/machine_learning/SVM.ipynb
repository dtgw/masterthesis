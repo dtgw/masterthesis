{
 "cells": [
  {
   "cell_type": "markdown",
   "metadata": {},
   "source": [
    "# Kernelized Support Vector Machines"
   ]
  },
  {
   "cell_type": "markdown",
   "metadata": {},
   "source": [
    "Principle : Kernelized support vector machines (often just referred to as SVMs) are an extension that allows for more complex mod‐ els that are not defined simply by hyperplanes in the input space. One way to make a linear model more flexible is by adding more features—for example, by adding interactions or polynomials of the input features.\n",
    "However, often we don’t know which features to add, and adding many features might make computation very expensive. *Kernel trick* : works by directly computing the distance (i.e. the scalar products) of the data points for the expanded feature representation, without ever actually computing the expansion.\n",
    "There are two ways to map your data into a higher-dimensional space that are com‐ monly used with support vector machines: the polynomial kernel, which computes all possible polynomials up to a certain degree of the original features (like feature1 ** 2 * feature2 ** 5); and the radial basis function (RBF) kernel, also known as the Gaussian kernel."
   ]
  },
  {
   "cell_type": "code",
   "execution_count": 2,
   "metadata": {},
   "outputs": [
    {
     "name": "stderr",
     "output_type": "stream",
     "text": [
      "/usr/local/lib/python3.7/site-packages/sklearn/externals/six.py:31: FutureWarning: The module is deprecated in version 0.21 and will be removed in version 0.23 since we've dropped support for Python 2.7. Please rely on the official version of six (https://pypi.org/project/six/).\n",
      "  \"(https://pypi.org/project/six/).\", FutureWarning)\n",
      "/usr/local/lib/python3.7/site-packages/sklearn/externals/joblib/__init__.py:15: FutureWarning: sklearn.externals.joblib is deprecated in 0.21 and will be removed in 0.23. Please import this functionality directly from joblib, which can be installed with: pip install joblib. If this warning is raised when loading pickled models, you may need to re-serialize those models with scikit-learn 0.21+.\n",
      "  warnings.warn(msg, category=FutureWarning)\n"
     ]
    }
   ],
   "source": [
    "import mglearn\n",
    "\n",
    "import pandas as pd\n",
    "import numpy as np\n",
    "import matplotlib.pyplot as plt\n",
    "from sklearn.model_selection import train_test_split\n",
    "from sklearn.svm import SVC\n",
    "from sklearn.metrics import roc_curve, auc"
   ]
  },
  {
   "cell_type": "markdown",
   "metadata": {},
   "source": [
    "### First test"
   ]
  },
  {
   "cell_type": "code",
   "execution_count": 26,
   "metadata": {},
   "outputs": [
    {
     "name": "stdout",
     "output_type": "stream",
     "text": [
      "Accuracy on training set: 0.816\n",
      "Accuracy on test set: 0.809\n"
     ]
    }
   ],
   "source": [
    "gt = pd.read_csv('../dumps/2020.01.13-14.25.csv')\n",
    "cols = [col for col in gt.columns if col not in ['label']]\n",
    "data = gt[cols]\n",
    "target = gt['label']\n",
    "\n",
    "data_train, data_test, target_train, target_test = train_test_split(data,target, test_size = 0.20, random_state = 0)\n",
    "\n",
    "svc = SVC()\n",
    "svc.fit(data_train, target_train)\n",
    "print(\"Accuracy on training set: {:.3f}\".format(svc.score(data_train, target_train))) \n",
    "print(\"Accuracy on test set: {:.3f}\".format(svc.score(data_test, target_test)))"
   ]
  },
  {
   "cell_type": "markdown",
   "metadata": {},
   "source": [
    "### Further tests"
   ]
  },
  {
   "cell_type": "markdown",
   "metadata": {},
   "source": [
    "Kernel parameters selects the type of hyperplane used to separate the data. Using ‘linear’ will use a linear hyperplane (a line in the case of 2D data). ‘rbf’ and ‘poly’ uses a non linear hyper-plane. We'll focus on the two last ones in this section."
   ]
  },
  {
   "cell_type": "markdown",
   "metadata": {},
   "source": [
    "Let's now carry on with a bigger dataset and try with different values of the parameters."
   ]
  },
  {
   "cell_type": "code",
   "execution_count": 3,
   "metadata": {},
   "outputs": [],
   "source": [
    "gt = pd.read_csv('../dumps/2020.02.10-12.14.csv')\n",
    "cols = [col for col in gt.columns if col not in ['label']]\n",
    "data = gt[cols]\n",
    "target = gt['label']\n",
    "\n",
    "data_train, data_test, target_train, target_test = train_test_split(data,target, test_size = 0.20, random_state = 0)"
   ]
  },
  {
   "cell_type": "markdown",
   "metadata": {},
   "source": [
    "#### Gamma"
   ]
  },
  {
   "cell_type": "markdown",
   "metadata": {},
   "source": [
    "The *gamma* parameter controls the width of the Gaussian kernel. It determines the scale of what it means for points to be close together. The higher the gamma value it tries to exactly fit the training data set."
   ]
  },
  {
   "cell_type": "code",
   "execution_count": 30,
   "metadata": {},
   "outputs": [
    {
     "name": "stdout",
     "output_type": "stream",
     "text": [
      "min_samples_split set to 0.1\n",
      "Accuracy on training set: 1.000\n",
      "Accuracy on test set: 0.824\n",
      "min_samples_split set to 1\n",
      "Accuracy on training set: 1.000\n",
      "Accuracy on test set: 0.824\n",
      "min_samples_split set to 10\n",
      "Accuracy on training set: 1.000\n",
      "Accuracy on test set: 0.824\n",
      "min_samples_split set to 100\n",
      "Accuracy on training set: 1.000\n",
      "Accuracy on test set: 0.824\n"
     ]
    }
   ],
   "source": [
    "gammas = [0.1, 1, 10, 100]\n",
    "for i in gammas:\n",
    "    print(\"min_samples_split set to %s\" % i)\n",
    "    svc = SVC(kernel='rbf', gamma=i)\n",
    "    svc.fit(data_train, target_train)\n",
    "    print(\"Accuracy on training set: {:.3f}\".format(svc.score(data_train, target_train))) \n",
    "    print(\"Accuracy on test set: {:.3f}\".format(svc.score(data_test, target_test)))"
   ]
  },
  {
   "cell_type": "code",
   "execution_count": 5,
   "metadata": {},
   "outputs": [
    {
     "data": {
      "text/plain": [
       "<matplotlib.legend.Legend at 0x10e294310>"
      ]
     },
     "execution_count": 5,
     "metadata": {},
     "output_type": "execute_result"
    },
    {
     "data": {
      "image/png": "[encoded data removed]",
      "text/plain": [
       "<Figure size 432x288 with 1 Axes>"
      ]
     },
     "metadata": {
      "needs_background": "light"
     },
     "output_type": "display_data"
    }
   ],
   "source": [
    "training_accuracy = [] \n",
    "test_accuracy = []\n",
    "gammas = [0.1, 1]\n",
    "for v in gammas:\n",
    "    clf = SVC(kernel='rbf', gamma=v) \n",
    "    clf.fit(data_train, target_train)\n",
    "    training_accuracy.append(clf.score(data_train, target_train))\n",
    "    test_accuracy.append(clf.score(data_test, target_test))\n",
    "plt.plot(gammas, training_accuracy, label=\"training accuracy\") \n",
    "plt.plot(gammas, test_accuracy, label=\"test accuracy\") \n",
    "plt.ylabel(\"Accuracy\")\n",
    "plt.xlabel(\"gamma\")\n",
    "plt.legend()"
   ]
  },
  {
   "cell_type": "markdown",
   "metadata": {},
   "source": [
    "#### C"
   ]
  },
  {
   "cell_type": "markdown",
   "metadata": {},
   "source": [
    "The *C* parameter is a regularization parameter, similar to that used in the linear models. It limits the importance of each point."
   ]
  },
  {
   "cell_type": "code",
   "execution_count": 33,
   "metadata": {},
   "outputs": [
    {
     "name": "stdout",
     "output_type": "stream",
     "text": [
      "min_samples_split set to 0.1\n",
      "Accuracy on training set: 0.815\n",
      "Accuracy on test set: 0.809\n",
      "min_samples_split set to 1\n",
      "Accuracy on training set: 0.816\n",
      "Accuracy on test set: 0.809\n",
      "min_samples_split set to 10\n",
      "Accuracy on training set: 0.816\n",
      "Accuracy on test set: 0.809\n",
      "min_samples_split set to 100\n",
      "Accuracy on training set: 0.816\n",
      "Accuracy on test set: 0.809\n",
      "min_samples_split set to 1000\n",
      "Accuracy on training set: 0.818\n",
      "Accuracy on test set: 0.809\n"
     ]
    }
   ],
   "source": [
    "c_values = [0.1, 1, 10, 100, 1000]\n",
    "for i in c_values:\n",
    "    print(\"min_samples_split set to %s\" % i)\n",
    "    svc = SVC(kernel='rbf', C=i)\n",
    "    svc.fit(data_train, target_train)\n",
    "    print(\"Accuracy on training set: {:.3f}\".format(svc.score(data_train, target_train))) \n",
    "    print(\"Accuracy on test set: {:.3f}\".format(svc.score(data_test, target_test)))"
   ]
  },
  {
   "cell_type": "code",
   "execution_count": 6,
   "metadata": {},
   "outputs": [
    {
     "data": {
      "text/plain": [
       "<matplotlib.legend.Legend at 0x11b4f2090>"
      ]
     },
     "execution_count": 6,
     "metadata": {},
     "output_type": "execute_result"
    },
    {
     "data": {
      "image/png": "[encoded data removed]",
      "text/plain": [
       "<Figure size 432x288 with 1 Axes>"
      ]
     },
     "metadata": {
      "needs_background": "light"
     },
     "output_type": "display_data"
    }
   ],
   "source": [
    "training_accuracy = [] \n",
    "test_accuracy = []\n",
    "c_values = [0.1, 1]\n",
    "for v in c_values:\n",
    "    clf = SVC(kernel='rbf', C=v) \n",
    "    clf.fit(data_train, target_train)\n",
    "    training_accuracy.append(clf.score(data_train, target_train))\n",
    "    test_accuracy.append(clf.score(data_test, target_test))\n",
    "plt.plot(c_values, training_accuracy, label=\"training accuracy\") \n",
    "plt.plot(c_values, test_accuracy, label=\"test accuracy\") \n",
    "plt.ylabel(\"Accuracy\")\n",
    "plt.xlabel(\"C\")\n",
    "plt.legend()"
   ]
  },
  {
   "cell_type": "markdown",
   "metadata": {},
   "source": [
    "#### Degree"
   ]
  },
  {
   "cell_type": "markdown",
   "metadata": {},
   "source": [
    "*degree* is a parameter used when kernel is set to ‘poly’. It’s basically the degree of the polynomial used to find the hyperplane to split the data."
   ]
  },
  {
   "cell_type": "code",
   "execution_count": 35,
   "metadata": {},
   "outputs": [
    {
     "name": "stdout",
     "output_type": "stream",
     "text": [
      "min_samples_split set to 0\n",
      "Accuracy on training set: 0.815\n",
      "Accuracy on test set: 0.809\n",
      "min_samples_split set to 1\n",
      "Accuracy on training set: 0.816\n",
      "Accuracy on test set: 0.809\n",
      "min_samples_split set to 2\n",
      "Accuracy on training set: 0.816\n",
      "Accuracy on test set: 0.809\n",
      "min_samples_split set to 3\n",
      "Accuracy on training set: 0.816\n",
      "Accuracy on test set: 0.809\n",
      "min_samples_split set to 4\n",
      "Accuracy on training set: 0.816\n",
      "Accuracy on test set: 0.809\n",
      "min_samples_split set to 5\n",
      "Accuracy on training set: 0.816\n",
      "Accuracy on test set: 0.809\n",
      "min_samples_split set to 6\n",
      "Accuracy on training set: 0.816\n",
      "Accuracy on test set: 0.809\n"
     ]
    }
   ],
   "source": [
    "degrees = [0, 1, 2, 3, 4, 5, 6]\n",
    "for i in degrees:\n",
    "    print(\"min_samples_split set to %s\" % i)\n",
    "    svc = SVC(kernel='poly', degree=i)\n",
    "    svc.fit(data_train, target_train)\n",
    "    print(\"Accuracy on training set: {:.3f}\".format(svc.score(data_train, target_train))) \n",
    "    print(\"Accuracy on test set: {:.3f}\".format(svc.score(data_test, target_test)))"
   ]
  },
  {
   "cell_type": "code",
   "execution_count": 8,
   "metadata": {},
   "outputs": [
    {
     "data": {
      "text/plain": [
       "<matplotlib.legend.Legend at 0x11b52ba10>"
      ]
     },
     "execution_count": 8,
     "metadata": {},
     "output_type": "execute_result"
    },
    {
     "data": {
      "image/png": "[encoded data removed]",
      "text/plain": [
       "<Figure size 432x288 with 1 Axes>"
      ]
     },
     "metadata": {
      "needs_background": "light"
     },
     "output_type": "display_data"
    }
   ],
   "source": [
    "training_accuracy = [] \n",
    "test_accuracy = []\n",
    "degrees = [0, 1, 2, 3, 4, 5, 6]\n",
    "for v in degrees:\n",
    "    clf = SVC(kernel='rbf', degree=v) \n",
    "    clf.fit(data_train, target_train)\n",
    "    training_accuracy.append(clf.score(data_train, target_train))\n",
    "    test_accuracy.append(clf.score(data_test, target_test))\n",
    "plt.plot(degrees, training_accuracy, label=\"training accuracy\") \n",
    "plt.plot(degrees, test_accuracy, label=\"test accuracy\") \n",
    "plt.ylabel(\"Accuracy\")\n",
    "plt.xlabel(\"degree\")\n",
    "plt.legend()"
   ]
  },
  {
   "cell_type": "markdown",
   "metadata": {},
   "source": [
    "### Best match"
   ]
  },
  {
   "cell_type": "code",
   "execution_count": 9,
   "metadata": {},
   "outputs": [],
   "source": [
    "gt = pd.read_csv('../dumps/2020.02.10-12.14.csv')\n",
    "cols = [col for col in gt.columns if col not in ['label']]\n",
    "data = gt[cols]\n",
    "target = gt['label']\n",
    "data_train, data_test, target_train, target_test = train_test_split(data,target, test_size = 0.20, random_state = 0)"
   ]
  },
  {
   "cell_type": "code",
   "execution_count": null,
   "metadata": {},
   "outputs": [],
   "source": [
    "parameters = {'kernel': ['rbf','poly'], 'gamma' : [0.1,1,10,100,1000], 'C': [0.1,1,10,100,1000]}\n",
    "clf = GridSearchCV(SVC(), parameters, n_jobs=-1)\n",
    "clf.fit(data_train, target_train)\n",
    "print(clf.score(data_train, target_train))\n",
    "print(clf.best_params_)\n",
    "print(clf.score(data_test, target_test))\n",
    "print(clf.best_params_)"
   ]
  },
  {
   "cell_type": "code",
   "execution_count": null,
   "metadata": {},
   "outputs": [],
   "source": [
    "parameters = {'kernel': ['rbf','poly'], 'gamma' : [0.1,1,10,100,1000], 'C': [0.1,1,10,100,1000]}\n",
    "clf = RandomizedSearchCV(SVC(), parameters, n_jobs=-1)\n",
    "clf.fit(data_train, target_train)\n",
    "print(clf.score(data_train, target_train))\n",
    "print(clf.best_params_)\n",
    "print(clf.score(data_test, target_test))\n",
    "print(clf.best_params_)"
   ]
  }
 ],
 "metadata": {
  "kernelspec": {
   "display_name": "Python 3",
   "language": "python",
   "name": "python3"
  },
  "language_info": {
   "codemirror_mode": {
    "name": "ipython",
    "version": 3
   },
   "file_extension": ".py",
   "mimetype": "text/x-python",
   "name": "python",
   "nbconvert_exporter": "python",
   "pygments_lexer": "ipython3",
   "version": "3.7.4"
  }
 },
 "nbformat": 4,
 "nbformat_minor": 2
}
